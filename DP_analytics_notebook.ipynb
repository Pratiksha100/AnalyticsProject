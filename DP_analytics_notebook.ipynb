{
  "nbformat": 4,
  "nbformat_minor": 0,
  "metadata": {
    "colab": {
      "provenance": []
    },
    "kernelspec": {
      "name": "python3",
      "display_name": "Python 3"
    },
    "language_info": {
      "name": "python"
    }
  },
  "cells": [
    {
      "cell_type": "code",
      "execution_count": 2,
      "metadata": {
        "colab": {
          "base_uri": "https://localhost:8080/",
          "height": 34
        },
        "id": "nyHKzUQrMna8",
        "outputId": "3ac31b6c-8910-4f48-de4f-3e78119c3013"
      },
      "outputs": [
        {
          "output_type": "display_data",
          "data": {
            "application/javascript": [
              "IPython.notebook.set_autosave_interval(0)"
            ]
          },
          "metadata": {}
        },
        {
          "output_type": "stream",
          "name": "stdout",
          "text": [
            "Autosave disabled\n"
          ]
        }
      ],
      "source": [
        "%autosave 0"
      ]
    },
    {
      "cell_type": "code",
      "source": [
        "import os\n",
        "import pandas as pd\n",
        "import numpy as np\n",
        "import re\n",
        "import collections\n",
        "import pickle\n",
        "from ast import literal_eval\n",
        "import random\n",
        "import scipy"
      ],
      "metadata": {
        "id": "E2gL7R7bM4pI"
      },
      "execution_count": 106,
      "outputs": []
    },
    {
      "cell_type": "markdown",
      "source": [
        "#Define Path of Files"
      ],
      "metadata": {
        "id": "SzLJPAWXNBAk"
      }
    },
    {
      "cell_type": "code",
      "source": [
        "from google.colab import drive\n",
        "drive.mount('/content/drive')"
      ],
      "metadata": {
        "colab": {
          "base_uri": "https://localhost:8080/"
        },
        "id": "0wqyxY9VNAIY",
        "outputId": "eb3c2748-3294-4c03-df53-dff91c9f3b8a"
      },
      "execution_count": 4,
      "outputs": [
        {
          "output_type": "stream",
          "name": "stdout",
          "text": [
            "Mounted at /content/drive\n"
          ]
        }
      ]
    },
    {
      "cell_type": "code",
      "source": [
        "# path for the 'Data' folder provided by DP\n",
        "dir_loc = '/content/drive/Shareddrives/Private Unlimited Drive #1/DDS/Analytics Project/AOP_DP_Analytics/Data'"
      ],
      "metadata": {
        "id": "GsxWHxfONkS3"
      },
      "execution_count": 5,
      "outputs": []
    },
    {
      "cell_type": "markdown",
      "source": [
        "#Functions"
      ],
      "metadata": {
        "id": "H9uWX3zENEFM"
      }
    },
    {
      "cell_type": "markdown",
      "source": [
        "## Volume Matrix Manipulation and Poisson Instances Generation\n"
      ],
      "metadata": {
        "id": "ELYPdyqomj94"
      }
    },
    {
      "cell_type": "code",
      "source": [
        "# create dataframes for a region everyday\n",
        "\n",
        "def generate_region_volume(region_name):\n",
        "  # path of folder\n",
        "  dir_region_instances = dir_loc + '/Instances/' + region_name\n",
        "  dir_region_volume = dir_loc + '/Volumes/'\n",
        "  # dir_region_districts = dir_region_instances + '/Districts'\n",
        "\n",
        "  # load post_object-to-route_pos_id and post_point-to-post_object files \n",
        "  po_file = pd.read_csv(dir_region_instances + '/post_order_id_mapping.dat', sep='\\t', names=('PostObjectId', 'RoutePosID'))\n",
        "  pp_file = pd.read_csv(dir_region_instances + '/post_point_information.dat', sep='\\t', names=('PostPointId', 'PostObjectId'))\n",
        "\n",
        "  # pp_file adjustment by splitting list of post object ids\n",
        "  pp_file['PostObjectId'] = pp_file['PostObjectId'].apply(literal_eval)\n",
        "  pp_file = pp_file.explode('PostObjectId', ignore_index=True)\n",
        "\n",
        "  # list of volume file paths\n",
        "  day_names = []\n",
        "  vol_path_list = []\n",
        "  vol_day_map = {}\n",
        "  day_map = {'mo' : 'Monday',\n",
        "             'di' : 'Tuesday',\n",
        "             'mi' : 'Wednesday',\n",
        "             'do' : 'Thursday',\n",
        "             'fr' : 'Friday',\n",
        "             'sa' : 'Saturday'}\n",
        "\n",
        "  for filename in os.listdir(dir_region_volume):\n",
        "    vol_path_list.append(dir_region_volume + filename)\n",
        "    day = filename[-6:-4]\n",
        "    vol_day_map[filename] = day_map[day]\n",
        "\n",
        "  # store dataframes of a region, map with post object id\n",
        "  region_vol_day_dict = {}\n",
        "  for vol_path in vol_path_list:\n",
        "    vol_df = pd.read_csv(vol_path, sep = ';')\n",
        "    vol_df.rename(columns = {'BRIEFE' : 'LETTERS',\n",
        "                             'PAKETE' : 'PACKAGES',\n",
        "                             'SONSTIGE' : 'OTHERS',\n",
        "                             'ROUTEPOS_ID' : 'RoutePosID'},\n",
        "                  inplace = True)\n",
        "    \n",
        "    # combining files to a complete table for a region\n",
        "    vol_po_df = pd.merge(po_file, vol_df, on = 'RoutePosID', how = 'left')\n",
        "    vol_po_df = pd.merge(pp_file, vol_po_df, on='PostObjectId', how='right')\n",
        "\n",
        "    # store dataframes in dict\n",
        "    day_key = vol_day_map[vol_path[-18:]]\n",
        "    region_vol_day_dict[day_key] = vol_po_df\n",
        "    \n",
        "  return region_vol_day_dict"
      ],
      "metadata": {
        "id": "w1T35gCrNFcg"
      },
      "execution_count": 96,
      "outputs": []
    },
    {
      "cell_type": "code",
      "source": [
        "# generate instances\n",
        "\n",
        "def generate_instances(region_vol_day, scenario_type, scenario_method, scenario_number):\n",
        "  df = region_vol_day.copy() #.copy() used to avoid recopying on the original dataframe\n",
        "\n",
        "  sce_letters = 'scenario_' + str(scenario_number) + '_letter'\n",
        "  sce_packages = 'scenario_' + str(scenario_number) + '_package'\n",
        "  sce_others = 'scenario_' + str(scenario_number) + '_others'\n",
        "\n",
        "  df[sce_letters] = df['LETTERS'].apply(lambda x :scenario_type(pos_delivery = x, method = scenario_method))\n",
        "  df[sce_packages] = df['PACKAGES'].apply(lambda x :scenario_type(pos_delivery = x, method = scenario_method))\n",
        "  df[sce_others] = df['OTHERS'].apply(lambda x :scenario_type(pos_delivery = x, method = scenario_method))\n",
        "\n",
        "  sce_all = 'scenario_' + str(scenario_number) + '_all'\n",
        "  df[sce_all] = df[sce_letters] + df[sce_packages] + df[sce_others]\n",
        "\n",
        "  return df"
      ],
      "metadata": {
        "id": "jW71hKhefpav"
      },
      "execution_count": 100,
      "outputs": []
    },
    {
      "cell_type": "code",
      "source": [
        "# generate real instances based on poisson\n",
        "\n",
        "def random_poisson_instances(pos_delivery, method):\n",
        "  rng = np.random.default_rng()\n",
        "  poisson_dist = rng.poisson(lam = pos_delivery, size = 52)\n",
        "\n",
        "  if method == 'random':\n",
        "    return random.choice(poisson_dist)\n",
        "  if method == 'mode':\n",
        "    return scipy.stats.mode(poisson_dist, keepdims = True)[0][0]\n",
        "  else:\n",
        "    return 'only options : [random, mode]'"
      ],
      "metadata": {
        "id": "_LIgyNeDeF7Q"
      },
      "execution_count": 101,
      "outputs": []
    },
    {
      "cell_type": "markdown",
      "source": [
        "#Process Examples (Using Functions)"
      ],
      "metadata": {
        "id": "0uYHWNjBNHQ_"
      }
    },
    {
      "cell_type": "code",
      "source": [
        "%%time\n",
        "region_vol_day_dict = generate_region_volume(region_name = \"Warmsen\")"
      ],
      "metadata": {
        "colab": {
          "base_uri": "https://localhost:8080/"
        },
        "id": "qQYN6IdWWsU7",
        "outputId": "716cace7-5881-4735-d28c-bd55fd1abeb2"
      },
      "execution_count": 88,
      "outputs": [
        {
          "output_type": "stream",
          "name": "stdout",
          "text": [
            "CPU times: user 10.6 s, sys: 427 ms, total: 11 s\n",
            "Wall time: 11.9 s\n"
          ]
        }
      ]
    },
    {
      "cell_type": "code",
      "source": [
        "%%time\n",
        "#Creating the complete dictionary of volumes for a region\n",
        "warmsen_instances = {}\n",
        "\n",
        "# create instances for one region\n",
        "for key in region_vol_day_dict.keys():\n",
        "  # create instances per day\n",
        "  dummy = generate_instances(region_vol_day = region_vol_day_dict[key],\n",
        "                           scenario_type = random_poisson_instances,\n",
        "                           scenario_method = 'mode',\n",
        "                           scenario_number = 1)\n",
        "  warmsen_instances[key] = dummy"
      ],
      "metadata": {
        "colab": {
          "base_uri": "https://localhost:8080/"
        },
        "id": "Z_xVTGSpNI4P",
        "outputId": "494316e4-4a59-462f-f3d1-5202a0560c46"
      },
      "execution_count": 107,
      "outputs": [
        {
          "output_type": "stream",
          "name": "stdout",
          "text": [
            "CPU times: user 16.8 s, sys: 395 ms, total: 17.2 s\n",
            "Wall time: 17.5 s\n"
          ]
        }
      ]
    },
    {
      "cell_type": "code",
      "source": [
        "warmsen_instances['Tuesday']"
      ],
      "metadata": {
        "colab": {
          "base_uri": "https://localhost:8080/",
          "height": 487
        },
        "id": "KhjNhV12nP17",
        "outputId": "76f1ff91-e12d-4187-9d0d-ed3853154c3f"
      },
      "execution_count": 108,
      "outputs": [
        {
          "output_type": "execute_result",
          "data": {
            "text/plain": [
              "      PostPointId PostObjectId                        RoutePosID   LETTERS  \\\n",
              "0              16           16  AD14E08623FF9F5AD2293E7DEDB4F4B1  5.796667   \n",
              "1              17           17  F48CB0CAB0BC117AE030007F0100574C  5.796667   \n",
              "2              16           18  F48CB0CAB0C7117AE030007F0100574C  5.796667   \n",
              "3              18           19  F48CB0CAB0C8117AE030007F0100574C  0.000000   \n",
              "4              19           20  069AE286923C1800E040400A09131416  0.000000   \n",
              "...           ...          ...                               ...       ...   \n",
              "5534         5221         5550  F48CB0CADA37117AE030007F0100574C  0.770000   \n",
              "5535         5222         5551  F48CB0CADA38117AE030007F0100574C  1.540000   \n",
              "5536         5223         5552  F48CB0CADA3A117AE030007F0100574C  0.770000   \n",
              "5537         5224         5553  F48CB0CADA3B117AE030007F0100574C  0.770000   \n",
              "5538         5225         5554  F48CB0CADA3C117AE030007F0100574C  1.540000   \n",
              "\n",
              "      PACKAGES    OTHERS  scenario_1_letter  scenario_1_package  \\\n",
              "0     0.690000  0.273333                  7                   0   \n",
              "1     0.690000  0.273333                  5                   0   \n",
              "2     0.690000  0.273333                  7                   0   \n",
              "3     0.000000  0.000000                  0                   0   \n",
              "4     0.000000  0.000000                  0                   0   \n",
              "...        ...       ...                ...                 ...   \n",
              "5534  0.112143  0.334286                  0                   0   \n",
              "5535  0.224286  0.668571                  1                   0   \n",
              "5536  0.112143  0.334286                  0                   0   \n",
              "5537  0.112143  0.334286                  1                   0   \n",
              "5538  0.224286  0.668571                  2                   0   \n",
              "\n",
              "      scenario_1_others  scenario_1_all  \n",
              "0                     0               7  \n",
              "1                     0               5  \n",
              "2                     0               7  \n",
              "3                     0               0  \n",
              "4                     0               0  \n",
              "...                 ...             ...  \n",
              "5534                  0               0  \n",
              "5535                  0               1  \n",
              "5536                  0               0  \n",
              "5537                  0               1  \n",
              "5538                  0               2  \n",
              "\n",
              "[5539 rows x 10 columns]"
            ],
            "text/html": [
              "\n",
              "  <div id=\"df-71107e2d-bf8c-4499-8626-c257a179eeaa\">\n",
              "    <div class=\"colab-df-container\">\n",
              "      <div>\n",
              "<style scoped>\n",
              "    .dataframe tbody tr th:only-of-type {\n",
              "        vertical-align: middle;\n",
              "    }\n",
              "\n",
              "    .dataframe tbody tr th {\n",
              "        vertical-align: top;\n",
              "    }\n",
              "\n",
              "    .dataframe thead th {\n",
              "        text-align: right;\n",
              "    }\n",
              "</style>\n",
              "<table border=\"1\" class=\"dataframe\">\n",
              "  <thead>\n",
              "    <tr style=\"text-align: right;\">\n",
              "      <th></th>\n",
              "      <th>PostPointId</th>\n",
              "      <th>PostObjectId</th>\n",
              "      <th>RoutePosID</th>\n",
              "      <th>LETTERS</th>\n",
              "      <th>PACKAGES</th>\n",
              "      <th>OTHERS</th>\n",
              "      <th>scenario_1_letter</th>\n",
              "      <th>scenario_1_package</th>\n",
              "      <th>scenario_1_others</th>\n",
              "      <th>scenario_1_all</th>\n",
              "    </tr>\n",
              "  </thead>\n",
              "  <tbody>\n",
              "    <tr>\n",
              "      <th>0</th>\n",
              "      <td>16</td>\n",
              "      <td>16</td>\n",
              "      <td>AD14E08623FF9F5AD2293E7DEDB4F4B1</td>\n",
              "      <td>5.796667</td>\n",
              "      <td>0.690000</td>\n",
              "      <td>0.273333</td>\n",
              "      <td>7</td>\n",
              "      <td>0</td>\n",
              "      <td>0</td>\n",
              "      <td>7</td>\n",
              "    </tr>\n",
              "    <tr>\n",
              "      <th>1</th>\n",
              "      <td>17</td>\n",
              "      <td>17</td>\n",
              "      <td>F48CB0CAB0BC117AE030007F0100574C</td>\n",
              "      <td>5.796667</td>\n",
              "      <td>0.690000</td>\n",
              "      <td>0.273333</td>\n",
              "      <td>5</td>\n",
              "      <td>0</td>\n",
              "      <td>0</td>\n",
              "      <td>5</td>\n",
              "    </tr>\n",
              "    <tr>\n",
              "      <th>2</th>\n",
              "      <td>16</td>\n",
              "      <td>18</td>\n",
              "      <td>F48CB0CAB0C7117AE030007F0100574C</td>\n",
              "      <td>5.796667</td>\n",
              "      <td>0.690000</td>\n",
              "      <td>0.273333</td>\n",
              "      <td>7</td>\n",
              "      <td>0</td>\n",
              "      <td>0</td>\n",
              "      <td>7</td>\n",
              "    </tr>\n",
              "    <tr>\n",
              "      <th>3</th>\n",
              "      <td>18</td>\n",
              "      <td>19</td>\n",
              "      <td>F48CB0CAB0C8117AE030007F0100574C</td>\n",
              "      <td>0.000000</td>\n",
              "      <td>0.000000</td>\n",
              "      <td>0.000000</td>\n",
              "      <td>0</td>\n",
              "      <td>0</td>\n",
              "      <td>0</td>\n",
              "      <td>0</td>\n",
              "    </tr>\n",
              "    <tr>\n",
              "      <th>4</th>\n",
              "      <td>19</td>\n",
              "      <td>20</td>\n",
              "      <td>069AE286923C1800E040400A09131416</td>\n",
              "      <td>0.000000</td>\n",
              "      <td>0.000000</td>\n",
              "      <td>0.000000</td>\n",
              "      <td>0</td>\n",
              "      <td>0</td>\n",
              "      <td>0</td>\n",
              "      <td>0</td>\n",
              "    </tr>\n",
              "    <tr>\n",
              "      <th>...</th>\n",
              "      <td>...</td>\n",
              "      <td>...</td>\n",
              "      <td>...</td>\n",
              "      <td>...</td>\n",
              "      <td>...</td>\n",
              "      <td>...</td>\n",
              "      <td>...</td>\n",
              "      <td>...</td>\n",
              "      <td>...</td>\n",
              "      <td>...</td>\n",
              "    </tr>\n",
              "    <tr>\n",
              "      <th>5534</th>\n",
              "      <td>5221</td>\n",
              "      <td>5550</td>\n",
              "      <td>F48CB0CADA37117AE030007F0100574C</td>\n",
              "      <td>0.770000</td>\n",
              "      <td>0.112143</td>\n",
              "      <td>0.334286</td>\n",
              "      <td>0</td>\n",
              "      <td>0</td>\n",
              "      <td>0</td>\n",
              "      <td>0</td>\n",
              "    </tr>\n",
              "    <tr>\n",
              "      <th>5535</th>\n",
              "      <td>5222</td>\n",
              "      <td>5551</td>\n",
              "      <td>F48CB0CADA38117AE030007F0100574C</td>\n",
              "      <td>1.540000</td>\n",
              "      <td>0.224286</td>\n",
              "      <td>0.668571</td>\n",
              "      <td>1</td>\n",
              "      <td>0</td>\n",
              "      <td>0</td>\n",
              "      <td>1</td>\n",
              "    </tr>\n",
              "    <tr>\n",
              "      <th>5536</th>\n",
              "      <td>5223</td>\n",
              "      <td>5552</td>\n",
              "      <td>F48CB0CADA3A117AE030007F0100574C</td>\n",
              "      <td>0.770000</td>\n",
              "      <td>0.112143</td>\n",
              "      <td>0.334286</td>\n",
              "      <td>0</td>\n",
              "      <td>0</td>\n",
              "      <td>0</td>\n",
              "      <td>0</td>\n",
              "    </tr>\n",
              "    <tr>\n",
              "      <th>5537</th>\n",
              "      <td>5224</td>\n",
              "      <td>5553</td>\n",
              "      <td>F48CB0CADA3B117AE030007F0100574C</td>\n",
              "      <td>0.770000</td>\n",
              "      <td>0.112143</td>\n",
              "      <td>0.334286</td>\n",
              "      <td>1</td>\n",
              "      <td>0</td>\n",
              "      <td>0</td>\n",
              "      <td>1</td>\n",
              "    </tr>\n",
              "    <tr>\n",
              "      <th>5538</th>\n",
              "      <td>5225</td>\n",
              "      <td>5554</td>\n",
              "      <td>F48CB0CADA3C117AE030007F0100574C</td>\n",
              "      <td>1.540000</td>\n",
              "      <td>0.224286</td>\n",
              "      <td>0.668571</td>\n",
              "      <td>2</td>\n",
              "      <td>0</td>\n",
              "      <td>0</td>\n",
              "      <td>2</td>\n",
              "    </tr>\n",
              "  </tbody>\n",
              "</table>\n",
              "<p>5539 rows × 10 columns</p>\n",
              "</div>\n",
              "      <button class=\"colab-df-convert\" onclick=\"convertToInteractive('df-71107e2d-bf8c-4499-8626-c257a179eeaa')\"\n",
              "              title=\"Convert this dataframe to an interactive table.\"\n",
              "              style=\"display:none;\">\n",
              "        \n",
              "  <svg xmlns=\"http://www.w3.org/2000/svg\" height=\"24px\"viewBox=\"0 0 24 24\"\n",
              "       width=\"24px\">\n",
              "    <path d=\"M0 0h24v24H0V0z\" fill=\"none\"/>\n",
              "    <path d=\"M18.56 5.44l.94 2.06.94-2.06 2.06-.94-2.06-.94-.94-2.06-.94 2.06-2.06.94zm-11 1L8.5 8.5l.94-2.06 2.06-.94-2.06-.94L8.5 2.5l-.94 2.06-2.06.94zm10 10l.94 2.06.94-2.06 2.06-.94-2.06-.94-.94-2.06-.94 2.06-2.06.94z\"/><path d=\"M17.41 7.96l-1.37-1.37c-.4-.4-.92-.59-1.43-.59-.52 0-1.04.2-1.43.59L10.3 9.45l-7.72 7.72c-.78.78-.78 2.05 0 2.83L4 21.41c.39.39.9.59 1.41.59.51 0 1.02-.2 1.41-.59l7.78-7.78 2.81-2.81c.8-.78.8-2.07 0-2.86zM5.41 20L4 18.59l7.72-7.72 1.47 1.35L5.41 20z\"/>\n",
              "  </svg>\n",
              "      </button>\n",
              "      \n",
              "  <style>\n",
              "    .colab-df-container {\n",
              "      display:flex;\n",
              "      flex-wrap:wrap;\n",
              "      gap: 12px;\n",
              "    }\n",
              "\n",
              "    .colab-df-convert {\n",
              "      background-color: #E8F0FE;\n",
              "      border: none;\n",
              "      border-radius: 50%;\n",
              "      cursor: pointer;\n",
              "      display: none;\n",
              "      fill: #1967D2;\n",
              "      height: 32px;\n",
              "      padding: 0 0 0 0;\n",
              "      width: 32px;\n",
              "    }\n",
              "\n",
              "    .colab-df-convert:hover {\n",
              "      background-color: #E2EBFA;\n",
              "      box-shadow: 0px 1px 2px rgba(60, 64, 67, 0.3), 0px 1px 3px 1px rgba(60, 64, 67, 0.15);\n",
              "      fill: #174EA6;\n",
              "    }\n",
              "\n",
              "    [theme=dark] .colab-df-convert {\n",
              "      background-color: #3B4455;\n",
              "      fill: #D2E3FC;\n",
              "    }\n",
              "\n",
              "    [theme=dark] .colab-df-convert:hover {\n",
              "      background-color: #434B5C;\n",
              "      box-shadow: 0px 1px 3px 1px rgba(0, 0, 0, 0.15);\n",
              "      filter: drop-shadow(0px 1px 2px rgba(0, 0, 0, 0.3));\n",
              "      fill: #FFFFFF;\n",
              "    }\n",
              "  </style>\n",
              "\n",
              "      <script>\n",
              "        const buttonEl =\n",
              "          document.querySelector('#df-71107e2d-bf8c-4499-8626-c257a179eeaa button.colab-df-convert');\n",
              "        buttonEl.style.display =\n",
              "          google.colab.kernel.accessAllowed ? 'block' : 'none';\n",
              "\n",
              "        async function convertToInteractive(key) {\n",
              "          const element = document.querySelector('#df-71107e2d-bf8c-4499-8626-c257a179eeaa');\n",
              "          const dataTable =\n",
              "            await google.colab.kernel.invokeFunction('convertToInteractive',\n",
              "                                                     [key], {});\n",
              "          if (!dataTable) return;\n",
              "\n",
              "          const docLinkHtml = 'Like what you see? Visit the ' +\n",
              "            '<a target=\"_blank\" href=https://colab.research.google.com/notebooks/data_table.ipynb>data table notebook</a>'\n",
              "            + ' to learn more about interactive tables.';\n",
              "          element.innerHTML = '';\n",
              "          dataTable['output_type'] = 'display_data';\n",
              "          await google.colab.output.renderOutput(dataTable, element);\n",
              "          const docLink = document.createElement('div');\n",
              "          docLink.innerHTML = docLinkHtml;\n",
              "          element.appendChild(docLink);\n",
              "        }\n",
              "      </script>\n",
              "    </div>\n",
              "  </div>\n",
              "  "
            ]
          },
          "metadata": {},
          "execution_count": 108
        }
      ]
    }
  ]
}