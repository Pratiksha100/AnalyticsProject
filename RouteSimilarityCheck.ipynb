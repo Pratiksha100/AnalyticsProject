{
 "cells": [
  {
   "cell_type": "code",
   "execution_count": 1,
   "metadata": {},
   "outputs": [
    {
     "name": "stdout",
     "output_type": "stream",
     "text": [
      "17\n",
      "Number of nodes whose predecessor has changed: 7\n",
      "Percentage similarity: 56.25\n"
     ]
    }
   ],
   "source": [
    "# Tour1 = ['a', 'b', 'c', 'e', 'f', 'd', 'a']\n",
    "# Tour2 = ['a', 'f', 'b', 'c', 'e', 'd', 'a']\n",
    "Tour1 = [1,12,14,3,11,13,10,2,17,8,9,5,4,16,6,15,7]\n",
    "Tour2 = [1,12,8,14,3,11,13,10,5,17,9,2,4,16,6,15,7]\n",
    "print(len(Tour1))\n",
    "def find_similarity_route(Tour1, Tour2):\n",
    "    predecessors1 = {Tour1[i]: Tour1[i-1] for i in range(1, len(Tour1))}\n",
    "    predecessors2 = {Tour2[i]: Tour2[i-1] for i in range(1, len(Tour2))}\n",
    "    num_changed_predecessors = 0\n",
    "\n",
    "    for node, pred2 in predecessors2.items():\n",
    "        pred1 = predecessors1[node]\n",
    "        if pred1 != pred2:\n",
    "            num_changed_predecessors += 1\n",
    "    return num_changed_predecessors\n",
    "\n",
    "num_changed_predecessors = find_similarity_route(Tour1, Tour2)\n",
    "print(\"Number of nodes whose predecessor has changed:\", num_changed_predecessors)\n",
    "percent_change = num_changed_predecessors / (len(Tour1)-1) * 100\n",
    "print(\"Percentage similarity:\", 100 - percent_change)"
   ]
  }
 ],
 "metadata": {
  "kernelspec": {
   "display_name": "Python 3",
   "language": "python",
   "name": "python3"
  },
  "language_info": {
   "codemirror_mode": {
    "name": "ipython",
    "version": 3
   },
   "file_extension": ".py",
   "mimetype": "text/x-python",
   "name": "python",
   "nbconvert_exporter": "python",
   "pygments_lexer": "ipython3",
   "version": "3.10.11"
  },
  "orig_nbformat": 4
 },
 "nbformat": 4,
 "nbformat_minor": 2
}
