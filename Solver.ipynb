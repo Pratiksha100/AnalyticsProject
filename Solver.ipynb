{
 "cells": [
  {
   "cell_type": "code",
   "execution_count": 401,
   "metadata": {},
   "outputs": [],
   "source": [
    "import pandas as pd\n",
    "import numpy as np\n",
    "\n",
    "import lk_util\n",
    "from lk_heuristic.utils.solver_funcs import solve"
   ]
  },
  {
   "cell_type": "code",
   "execution_count": 402,
   "metadata": {},
   "outputs": [],
   "source": [
    "# import pandas as pd\n",
    "# import os\n",
    "# import numpy as np\n",
    "\n",
    "\n",
    "# def create_dist_mat_from_atsp(path_of_file):\n",
    "#     # specify the path to the .atsp file\n",
    "#     file_path = path_of_file\n",
    "#     print(file_path)\n",
    "\n",
    "\n",
    "#     # initialize variables\n",
    "#     n_nodes = None\n",
    "#     dist_matrix = []\n",
    "\n",
    "#     # open and read the file\n",
    "#     with open(file_path) as f:\n",
    "#         for line in f:\n",
    "#             # extract the number of nodes\n",
    "#             if \"DIMENSION\" in line:\n",
    "#                 n_nodes = int(line.split(\":\")[1].strip())\n",
    "#             # extract the distance matrix\n",
    "#             elif \"EDGE_WEIGHT_SECTION\" in line:\n",
    "#                 while True:\n",
    "#                     line = f.readline()\n",
    "#                     if \"EOF\" in line:\n",
    "#                         break\n",
    "#                     dist_matrix.append(list(map(int, line.split())))\n",
    "#             # continue reading until end of file\n",
    "#             elif \"EOF\" in line:\n",
    "#                 break\n",
    "\n",
    "\n",
    "#     #resizing the distance matrix to a square matrix\n",
    "#     list_of_lists = dist_matrix\n",
    "\n",
    "#     flat_list = []\n",
    "#     for sublist in list_of_lists:\n",
    "#         for item in sublist:\n",
    "#             flat_list.append(item)\n",
    "\n",
    "\n",
    "#     # Example 1D list\n",
    "#     lst = flat_list\n",
    "\n",
    "#     # Calculate the size of the square matrix\n",
    "#     n = len(lst)\n",
    "#     size = int(np.sqrt(n))\n",
    "\n",
    "#     # Reshape the 1D list into a 2D numpy array with the desired shape\n",
    "#     arr = np.reshape(lst, (size, size))\n",
    "\n",
    "#     # Print the resulting array\n",
    "#     dist_mat = np.array(arr)\n",
    "\n",
    "#     print(\"No of cities : \"  , n_nodes)\n",
    "#     print(dist_mat.shape)\n",
    "#     return dist_mat"
   ]
  },
  {
   "cell_type": "code",
   "execution_count": 403,
   "metadata": {},
   "outputs": [],
   "source": [
    "# instances_path = os.path.join(os.getcwd() , \"ALL_atsp\")\n",
    "# instances_files = os.listdir(instances_path)\n",
    "# instances_files2 = [os.path.join(instances_path , i) for i in instances_files if i.endswith(\".atsp\")]\n",
    "\n",
    "# dir = instances_files2[len(instances_files2)-2]\n",
    "# br17_mat = create_dist_mat_from_atsp(dir)\n",
    "# br17_mat"
   ]
  },
  {
   "cell_type": "code",
   "execution_count": 404,
   "metadata": {},
   "outputs": [
    {
     "data": {
      "text/plain": [
       "[[0, 58, 114, 51, 90, 104],\n",
       " [58, 0, 82, 45, 78, 106],\n",
       " [114, 82, 0, 63, 36, 61],\n",
       " [51, 45, 63, 0, 41, 64],\n",
       " [90, 78, 36, 41, 0, 32],\n",
       " [104, 106, 61, 64, 32, 0]]"
      ]
     },
     "execution_count": 404,
     "metadata": {},
     "output_type": "execute_result"
    }
   ],
   "source": [
    "# tsp_filename = \"./tsp_input_files/test.tsp\"\n",
    "tsp_filename = \"test.tsp\"\n",
    "# output_filename = \"./solutions/solution_test.tsp\"\n",
    "output_filename = \"solution_test.tsp\"\n",
    "#distances = [[0,5,2],[4,0,1],[8,3,0]]\n",
    "# distances = np.load('Warmsen_01_distance.npy')\n",
    "distances = [[0,58,114,51,90,104],\n",
    "             [58,0,82,45,78,106] ,\n",
    "             [114,82,0,63,36,61],\n",
    "             [51,45,63,0,41,64],\n",
    "             [90,78,36,41,0,32],\n",
    "             [104,106,61,64,32,0]]\n",
    "distances"
   ]
  },
  {
   "cell_type": "code",
   "execution_count": 405,
   "metadata": {},
   "outputs": [
    {
     "name": "stderr",
     "output_type": "stream",
     "text": [
      "2023-04-28 12:50:35,378 [INFO] lk_heuristic.utils.solver_funcs: Importing .tsp file 'test.tsp'\n",
      "2023-04-28 12:50:35,381 [INFO] lk_heuristic.utils.solver_funcs: Using 'normal_tsp' for edge type 'EXPLICIT'\n",
      "2023-04-28 12:50:35,383 [INFO] lk_heuristic.utils.solver_funcs: Creating TSP instance\n",
      "2023-04-28 12:50:35,384 [INFO] lk_heuristic.utils.solver_funcs: Starting improve loop\n",
      "2023-04-28 12:50:35,385 [DEBUG] lk_heuristic.models.tsp: Starting tour cost: 2000395.000\n",
      "2023-04-28 12:50:35,385 [DEBUG] lk_heuristic.models.tsp: Current tour '1' cost: 514.000\n",
      "2023-04-28 12:50:35,386 [DEBUG] lk_heuristic.models.tsp: Current tour '2' cost: -999512.000\n",
      "2023-04-28 12:50:35,386 [DEBUG] lk_heuristic.models.tsp: Current tour '3' cost: -1999583.000\n",
      "2023-04-28 12:50:35,387 [DEBUG] lk_heuristic.models.tsp: Current tour '4' cost: -2999745.000\n",
      "2023-04-28 12:50:35,389 [DEBUG] lk_heuristic.models.tsp: Current tour '5' cost: -3999808.000\n",
      "2023-04-28 12:50:35,389 [DEBUG] lk_heuristic.models.tsp: Current tour '6' cost: -5999675.000\n",
      "2023-04-28 12:50:35,391 [DEBUG] lk_heuristic.models.tsp: Current tour '7' cost: -5999675.000\n",
      "2023-04-28 12:50:35,391 [INFO] lk_heuristic.utils.solver_funcs: [Run:1] --> Cost: -5999675.000 / Best: -5999675.000 / Mean: -5999675.000 (0.006s)\n",
      "2023-04-28 12:50:35,392 [DEBUG] lk_heuristic.models.tsp: Starting tour cost: 2000443.000\n",
      "2023-04-28 12:50:35,393 [DEBUG] lk_heuristic.models.tsp: Current tour '1' cost: 2000437.000\n",
      "2023-04-28 12:50:35,393 [DEBUG] lk_heuristic.models.tsp: Current tour '2' cost: 602.000\n",
      "2023-04-28 12:50:35,394 [DEBUG] lk_heuristic.models.tsp: Current tour '3' cost: -999512.000\n",
      "2023-04-28 12:50:35,395 [DEBUG] lk_heuristic.models.tsp: Current tour '4' cost: -1999622.000\n",
      "2023-04-28 12:50:35,395 [DEBUG] lk_heuristic.models.tsp: Current tour '5' cost: -4999590.000\n",
      "2023-04-28 12:50:35,396 [DEBUG] lk_heuristic.models.tsp: Current tour '6' cost: -5999616.000\n",
      "2023-04-28 12:50:35,398 [DEBUG] lk_heuristic.models.tsp: Current tour '7' cost: -5999616.000\n",
      "2023-04-28 12:50:35,399 [INFO] lk_heuristic.utils.solver_funcs: [Run:2] --> Cost: -5999616.000 / Best: -5999675.000 / Mean: -5999645.500 (0.007s)\n",
      "2023-04-28 12:50:35,399 [INFO] lk_heuristic.utils.solver_funcs: Exporting 'solution_test.tsp' file to solutions folder\n"
     ]
    },
    {
     "name": "stdout",
     "output_type": "stream",
     "text": [
      "[[1000000, 1000000, 1000000, 1000000, 1000000, 1000000, -1000000, 58, 114, 51, 90, 104], [1000000, 1000000, 1000000, 1000000, 1000000, 1000000, 58, -1000000, 82, 45, 78, 106], [1000000, 1000000, 1000000, 1000000, 1000000, 1000000, 114, 82, -1000000, 63, 36, 61], [1000000, 1000000, 1000000, 1000000, 1000000, 1000000, 51, 45, 63, -1000000, 41, 64], [1000000, 1000000, 1000000, 1000000, 1000000, 1000000, 90, 78, 36, 41, -1000000, 32], [1000000, 1000000, 1000000, 1000000, 1000000, 1000000, 104, 106, 61, 64, 32, -1000000], [-1000000, 58, 114, 51, 90, 104, 1000000, 1000000, 1000000, 1000000, 1000000, 1000000], [58, -1000000, 82, 45, 78, 106, 1000000, 1000000, 1000000, 1000000, 1000000, 1000000], [114, 82, -1000000, 63, 36, 61, 1000000, 1000000, 1000000, 1000000, 1000000, 1000000], [51, 45, 63, -1000000, 41, 64, 1000000, 1000000, 1000000, 1000000, 1000000, 1000000], [90, 78, 36, 41, -1000000, 32, 1000000, 1000000, 1000000, 1000000, 1000000, 1000000], [104, 106, 61, 64, 32, -1000000, 1000000, 1000000, 1000000, 1000000, 1000000, 1000000]]\n",
      "Length =  6\n"
     ]
    }
   ],
   "source": [
    "distances_converted = lk_util.make_symmetric(distances)\n",
    "print(distances_converted)\n",
    "lk_util.distances_to_tsplib_file(distances_converted, tsp_filename)\n",
    "solve(tsp_file=tsp_filename, solution_method=\"lk2_improve\", runs=2, file_name=output_filename)\n",
    "# backtracking = (5,5), reduction_level = 4, reduction_cycle = 4, tour_type = \"cycle\",\n",
    "# file_name = \"C:/temp/test_solution.tsp\", logging_level = 20)\n",
    "\n",
    "# get solution sequence\n",
    "solutionSequence = []\n",
    "# read in file\n",
    "with open(output_filename, \"r+\") as f:\n",
    "\n",
    "    # read all tsp file lines\n",
    "    tsp_lines = f.readlines()\n",
    "\n",
    "    # loop through each tsp line\n",
    "    for line in tsp_lines:\n",
    "        # check if line is not last end-of-file line\n",
    "        if line.strip() != \"EOF\":\n",
    "            # split the line using space separator\n",
    "            stop = line.replace(\"\\n\", \"\").split()\n",
    "            if len(stop) == 1 and stop[0].strip() != 'NODE_COORD_SECTION':\n",
    "                solutionSequence.append(int(stop[0]))\n",
    "\n",
    "n = len(distances)\n",
    "print('Length = ' ,n)\n",
    "\n",
    "if solutionSequence[0] == solutionSequence[1] - n:\n",
    "    tour = solutionSequence\n",
    "else:\n",
    "    tour = [solutionSequence[0]]\n",
    "    print(tour)\n",
    "    cnt = 2*n - 1\n",
    "    while cnt != 0:\n",
    "        tour.append(solutionSequence[cnt])\n",
    "        cnt -= 1\n",
    "\n",
    "final_tour = []\n",
    "for i in tour[::2]:\n",
    "    final_tour.append(i)\n",
    "\n",
    "\n",
    "#final_tour = [x for x in tour if x < n ]"
   ]
  },
  {
   "cell_type": "code",
   "execution_count": 406,
   "metadata": {},
   "outputs": [
    {
     "name": "stdout",
     "output_type": "stream",
     "text": [
      "[0, 6, 1, 7, 2, 8, 5, 11, 4, 10, 3, 9]\n",
      "[0, 6, 1, 7, 2, 8, 5, 11, 4, 10, 3, 9]\n",
      "[0, 1, 2, 5, 4, 3]\n"
     ]
    }
   ],
   "source": [
    "print(solutionSequence)\n",
    "print(tour)\n",
    "print(final_tour)"
   ]
  },
  {
   "cell_type": "code",
   "execution_count": 407,
   "metadata": {},
   "outputs": [
    {
     "name": "stdout",
     "output_type": "stream",
     "text": [
      "6 5\n",
      "[0, 1, 2, 5, 4, 3]\n"
     ]
    }
   ],
   "source": [
    "final_tour_s = [x for x in solutionSequence if x < n ]\n",
    "print(len(final_tour_s), max(final_tour_s))\n",
    "print(final_tour_s)\n"
   ]
  },
  {
   "cell_type": "code",
   "execution_count": 408,
   "metadata": {},
   "outputs": [],
   "source": [
    "# # final_tour[1]\n",
    "# # print(distances[final_tour[0],final_tour[1]])\n",
    "# # print(distances[final_tour[1], final_tour[2]])\n",
    "# # tour_length = distances[final_tour[0],final_tour[1]]+distances[final_tour[1], final_tour[2]]\n",
    "# # tour_length\n",
    "# len(solutionSequence)\n",
    "# print(distances[final_tour[0]][final_tour[1]])\n",
    "# print(distances[0][420])\n",
    "# print(len(tour))"
   ]
  },
  {
   "cell_type": "code",
   "execution_count": 409,
   "metadata": {},
   "outputs": [
    {
     "data": {
      "text/plain": [
       "274.0"
      ]
     },
     "execution_count": 409,
     "metadata": {},
     "output_type": "execute_result"
    }
   ],
   "source": [
    "tour_length = 0.0\n",
    "for i in range(len(final_tour)-1):\n",
    "        tour_length += distances[final_tour[i]][final_tour[i+1]]\n",
    "\n",
    "tour_length"
   ]
  }
 ],
 "metadata": {
  "kernelspec": {
   "display_name": "Python 3",
   "language": "python",
   "name": "python3"
  },
  "language_info": {
   "codemirror_mode": {
    "name": "ipython",
    "version": 3
   },
   "file_extension": ".py",
   "mimetype": "text/x-python",
   "name": "python",
   "nbconvert_exporter": "python",
   "pygments_lexer": "ipython3",
   "version": "3.10.11"
  },
  "orig_nbformat": 4
 },
 "nbformat": 4,
 "nbformat_minor": 2
}
