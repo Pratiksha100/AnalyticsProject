{
  "nbformat": 4,
  "nbformat_minor": 0,
  "metadata": {
    "colab": {
      "provenance": [],
      "mount_file_id": "1iDn0oHV_CTLR9CFkN2d6sCxNe346vxtr",
      "authorship_tag": "ABX9TyNTP8N3s4qVMEd784oPnyky",
      "include_colab_link": true
    },
    "kernelspec": {
      "name": "python3",
      "display_name": "Python 3"
    },
    "language_info": {
      "name": "python"
    }
  },
  "cells": [
    {
      "cell_type": "markdown",
      "metadata": {
        "id": "view-in-github",
        "colab_type": "text"
      },
      "source": [
        "<a href=\"https://colab.research.google.com/github/Pratiksha100/AnalyticsProject/blob/cheewan/pyconcorde_upgrade.ipynb\" target=\"_parent\"><img src=\"https://colab.research.google.com/assets/colab-badge.svg\" alt=\"Open In Colab\"/></a>"
      ]
    },
    {
      "cell_type": "code",
      "source": [
        "%%capture\n",
        "%pip install git+https://github.com/jvkersch/pyconcorde"
      ],
      "metadata": {
        "id": "xPW28-1tlSKR"
      },
      "execution_count": 11,
      "outputs": []
    },
    {
      "cell_type": "code",
      "source": [
        "# install tweak file\n",
        "%cp '/content/drive/MyDrive/Analytics Project/Concorde/concorde_class.py' '/content'\n",
        "%cp '/content/drive/MyDrive/Analytics Project/Concorde/test.py' '/content'\n",
        "%cp '/content/drive/MyDrive/Analytics Project/Concorde/concorde_to_replace/tsp.py' '/usr/local/lib/python3.10/dist-packages/concorde'\n",
        "%cp '/content/drive/MyDrive/Analytics Project/Concorde/concorde_to_replace/util.py' '/usr/local/lib/python3.10/dist-packages/concorde'"
      ],
      "metadata": {
        "id": "N6PSC60izeaS"
      },
      "execution_count": 12,
      "outputs": []
    },
    {
      "cell_type": "code",
      "source": [
        "'''\n",
        "%%capture\n",
        "!cp \"/content/drive/MyDrive/Analytics Project/Concorde.zip\" \"/content\"\n",
        "!unzip Concorde.zip\n",
        "!bash /content/Concorde/install_concorde.sh\n",
        "'''"
      ],
      "metadata": {
        "id": "7Gd6YcBOXevY"
      },
      "execution_count": null,
      "outputs": []
    },
    {
      "cell_type": "code",
      "source": [
        "import numpy as np\n",
        "import pandas as pd\n",
        "import math"
      ],
      "metadata": {
        "id": "r-his7OyoLfA"
      },
      "execution_count": 13,
      "outputs": []
    },
    {
      "cell_type": "code",
      "source": [
        "Warmsen_01_distance = pd.read_csv('/content/drive/MyDrive/Analytics Project/AOP_DP_Analytics/Data/Instances/Warmsen/distances/distances_31600-01.dat' ,\n",
        "                                  names=['col1', 'col2', 'col3']\n",
        "                                  )\n",
        "# distance_index = Warmsen_01_distance['col1'].value_counts().index\n",
        "check = Warmsen_01_distance.set_index(['col1', 'col2'])['col3'].unstack().values"
      ],
      "metadata": {
        "id": "m7dTuXPfoKQQ"
      },
      "execution_count": null,
      "outputs": []
    },
    {
      "cell_type": "code",
      "source": [
        "import pandas as pd\n",
        "import os\n",
        "import numpy as np\n",
        "\n",
        "\n",
        "def create_dist_mat_from_atsp(path_of_file): #input : path of the .atsp file\n",
        "    # specify the path to the .atsp file\n",
        "    file_path = path_of_file\n",
        "    print(file_path)\n",
        "\n",
        "\n",
        "    # initialize variables\n",
        "    n_nodes = None\n",
        "    dist_matrix = []\n",
        "\n",
        "    # open and read the file\n",
        "    with open(file_path) as f:\n",
        "        for line in f:\n",
        "            # extract the number of nodes\n",
        "            if \"DIMENSION\" in line:\n",
        "                n_nodes = int(line.split(\":\")[1].strip())\n",
        "            # extract the distance matrix\n",
        "            elif \"EDGE_WEIGHT_SECTION\" in line:\n",
        "                while True:\n",
        "                    line = f.readline()\n",
        "                    if \"EOF\" in line:\n",
        "                        break\n",
        "                    dist_matrix.append(list(map(int, line.split())))\n",
        "            # continue reading until end of file\n",
        "            elif \"EOF\" in line:\n",
        "                break\n",
        "\n",
        "\n",
        "    #resizing the distance matrix to a square matrix\n",
        "    list_of_lists = dist_matrix\n",
        "\n",
        "    flat_list = []\n",
        "    for sublist in list_of_lists:\n",
        "        for item in sublist:\n",
        "            flat_list.append(item)\n",
        "\n",
        "\n",
        "    # Example 1D list\n",
        "    lst = flat_list\n",
        "\n",
        "    # Calculate the size of the square matrix\n",
        "    n = len(lst)\n",
        "    size = int(np.sqrt(n))\n",
        "\n",
        "    # Reshape the 1D list into a 2D numpy array with the desired shape\n",
        "    arr = np.reshape(lst, (size, size))\n",
        "\n",
        "    # Print the resulting array\n",
        "    dist_mat = np.array(arr)\n",
        "\n",
        "    print(\"No of cities : \"  , n_nodes)\n",
        "    print(dist_mat.shape)\n",
        "    return dist_mat #returns the distance matrix"
      ],
      "metadata": {
        "id": "oWkVSXwuy1eQ"
      },
      "execution_count": 1,
      "outputs": []
    },
    {
      "cell_type": "code",
      "source": [
        "%%time\n",
        "from concorde_class import Concorde\n",
        "\n",
        "distances = create_dist_mat_from_atsp('/content/drive/MyDrive/Analytics Project/TSPLIB_ATSP/rbg443.atsp')\n",
        "\n",
        "concorde = Concorde()\n",
        "\n",
        "concorde_sol = concorde.run_ProbATSP(distances)\n",
        "print('-------------------------------------------------------------------------')\n",
        "print(concorde.route)\n",
        "print('-------------------------------------------------------------------------')\n",
        "print(concorde.optimal_value)"
      ],
      "metadata": {
        "colab": {
          "base_uri": "https://localhost:8080/"
        },
        "id": "m7r2tusaQAfb",
        "outputId": "23442ae4-ccfe-48ad-a9a0-0ff5e469b12f"
      },
      "execution_count": 2,
      "outputs": [
        {
          "output_type": "stream",
          "name": "stdout",
          "text": [
            "/content/drive/MyDrive/Analytics Project/TSPLIB_ATSP/rbg443.atsp\n",
            "No of cities :  443\n",
            "(443, 443)\n",
            "-------------------------------------------------------------------------\n",
            "[0, 413, 431, 207, 327, 212, 235, 31, 70, 252, 350, 337, 125, 126, 179, 405, 204, 113, 369, 156, 153, 303, 304, 440, 408, 234, 297, 139, 128, 19, 276, 294, 217, 141, 129, 34, 198, 177, 215, 224, 436, 263, 326, 27, 59, 183, 249, 32, 1, 284, 135, 178, 273, 360, 49, 200, 218, 109, 438, 421, 36, 110, 112, 434, 144, 400, 236, 248, 305, 40, 230, 435, 53, 149, 9, 130, 299, 338, 223, 246, 136, 286, 76, 150, 426, 389, 406, 51, 380, 401, 107, 173, 361, 225, 394, 292, 387, 316, 278, 341, 148, 176, 202, 233, 293, 266, 75, 390, 417, 222, 370, 11, 255, 264, 347, 90, 21, 58, 33, 30, 302, 105, 93, 241, 291, 355, 397, 88, 2, 13, 22, 23, 157, 56, 312, 335, 328, 319, 377, 91, 43, 412, 368, 374, 106, 282, 187, 424, 425, 429, 116, 216, 26, 81, 147, 42, 133, 256, 265, 442, 239, 124, 164, 340, 122, 97, 142, 64, 66, 52, 372, 38, 25, 65, 6, 271, 318, 346, 101, 196, 237, 186, 188, 14, 174, 168, 296, 245, 310, 253, 83, 8, 407, 232, 244, 343, 277, 325, 320, 399, 352, 240, 214, 315, 94, 162, 379, 193, 416, 123, 321, 118, 334, 221, 152, 45, 362, 140, 197, 371, 138, 161, 228, 414, 170, 16, 61, 167, 143, 47, 311, 404, 44, 180, 39, 74, 92, 73, 322, 359, 308, 96, 158, 323, 279, 163, 28, 392, 427, 169, 262, 437, 441, 383, 410, 159, 388, 411, 5, 267, 67, 99, 194, 114, 54, 127, 261, 268, 15, 120, 121, 259, 231, 242, 301, 396, 78, 137, 182, 430, 358, 418, 195, 402, 317, 344, 439, 375, 115, 55, 84, 160, 415, 108, 155, 95, 209, 409, 432, 219, 132, 243, 210, 272, 250, 298, 395, 86, 189, 238, 48, 211, 10, 363, 103, 283, 342, 269, 281, 366, 227, 300, 71, 314, 330, 270, 185, 220, 3, 166, 385, 50, 68, 364, 398, 7, 79, 203, 134, 201, 191, 82, 351, 422, 384, 331, 332, 349, 175, 87, 17, 18, 72, 46, 104, 190, 378, 254, 184, 98, 280, 60, 336, 41, 12, 89, 386, 206, 324, 35, 63, 257, 382, 365, 403, 333, 354, 367, 117, 329, 111, 420, 131, 171, 172, 181, 373, 274, 275, 348, 226, 288, 260, 290, 102, 258, 357, 419, 165, 24, 208, 29, 146, 287, 57, 285, 62, 345, 247, 4, 154, 306, 85, 151, 381, 428, 433, 69, 423, 339, 145, 192, 309, 353, 229, 119, 100, 356, 20, 307, 289, 37, 80, 295, 77, 213, 391, 393, 313, 376, 251, 199, 205]\n",
            "-------------------------------------------------------------------------\n",
            "2720.0\n",
            "CPU times: user 5.5 s, sys: 109 ms, total: 5.6 s\n",
            "Wall time: 5.68 s\n"
          ]
        }
      ]
    }
  ]
}