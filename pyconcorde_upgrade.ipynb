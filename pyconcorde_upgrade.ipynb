{
  "cells": [
    {
      "cell_type": "markdown",
      "metadata": {
        "id": "view-in-github",
        "colab_type": "text"
      },
      "source": [
        "<a href=\"https://colab.research.google.com/github/Pratiksha100/AnalyticsProject/blob/main/pyconcorde_upgrade.ipynb\" target=\"_parent\"><img src=\"https://colab.research.google.com/assets/colab-badge.svg\" alt=\"Open In Colab\"/></a>"
      ]
    },
    {
      "cell_type": "code",
      "execution_count": 5,
      "metadata": {
        "id": "xPW28-1tlSKR"
      },
      "outputs": [],
      "source": [
        "%%capture\n",
        "%pip install git+https://github.com/jvkersch/pyconcorde"
      ]
    },
    {
      "cell_type": "code",
      "execution_count": 6,
      "metadata": {
        "id": "N6PSC60izeaS"
      },
      "outputs": [],
      "source": [
        "# install tweak file\n",
        "%cp '/content/drive/MyDrive/Analytics Project/Concorde/concorde_class.py' '/content'\n",
        "%cp '/content/drive/MyDrive/Analytics Project/Concorde/test.py' '/content'\n",
        "%cp '/content/drive/MyDrive/Analytics Project/Concorde/concorde_to_replace/tsp.py' '/usr/local/lib/python3.10/dist-packages/concorde'\n",
        "%cp '/content/drive/MyDrive/Analytics Project/Concorde/concorde_to_replace/util.py' '/usr/local/lib/python3.10/dist-packages/concorde'"
      ]
    },
    {
      "cell_type": "code",
      "execution_count": null,
      "metadata": {
        "colab": {
          "base_uri": "https://localhost:8080/",
          "height": 52
        },
        "id": "7Gd6YcBOXevY",
        "outputId": "4cd7b433-cbb9-4e11-8c3d-51332a0323ea"
      },
      "outputs": [
        {
          "data": {
            "application/vnd.google.colaboratory.intrinsic+json": {
              "type": "string"
            },
            "text/plain": [
              "'\\n%%capture\\n!cp \"/content/drive/MyDrive/Analytics Project/Concorde.zip\" \"/content\"\\n!unzip Concorde.zip\\n!bash /content/Concorde/install_concorde.sh\\n'"
            ]
          },
          "execution_count": 3,
          "metadata": {},
          "output_type": "execute_result"
        }
      ],
      "source": [
        "'''\n",
        "%%capture\n",
        "!cp \"/content/drive/MyDrive/Analytics Project/Concorde.zip\" \"/content\"\n",
        "!unzip Concorde.zip\n",
        "!bash /content/Concorde/install_concorde.sh\n",
        "'''"
      ]
    },
    {
      "cell_type": "code",
      "execution_count": 1,
      "metadata": {
        "id": "r-his7OyoLfA"
      },
      "outputs": [],
      "source": [
        "import numpy as np\n",
        "import pandas as pd\n",
        "import math\n",
        "import os"
      ]
    },
    {
      "cell_type": "code",
      "execution_count": 2,
      "metadata": {
        "id": "oWkVSXwuy1eQ"
      },
      "outputs": [],
      "source": [
        "def create_dist_mat_from_atsp(path_of_file): #input : path of the .atsp file\n",
        "    # specify the path to the .atsp file\n",
        "    file_path = path_of_file\n",
        "    print(file_path)\n",
        "\n",
        "\n",
        "    # initialize variables\n",
        "    n_nodes = None\n",
        "    dist_matrix = []\n",
        "\n",
        "    # open and read the file\n",
        "    with open(file_path) as f:\n",
        "        for line in f:\n",
        "            # extract the number of nodes\n",
        "            if \"DIMENSION\" in line:\n",
        "                n_nodes = int(line.split(\":\")[1].strip())\n",
        "            # extract the distance matrix\n",
        "            elif \"EDGE_WEIGHT_SECTION\" in line:\n",
        "                while True:\n",
        "                    line = f.readline()\n",
        "                    if \"EOF\" in line:\n",
        "                        break\n",
        "                    dist_matrix.append(list(map(int, line.split())))\n",
        "            # continue reading until end of file\n",
        "            elif \"EOF\" in line:\n",
        "                break\n",
        "\n",
        "\n",
        "    #resizing the distance matrix to a square matrix\n",
        "    list_of_lists = dist_matrix\n",
        "\n",
        "    flat_list = []\n",
        "    for sublist in list_of_lists:\n",
        "        for item in sublist:\n",
        "            flat_list.append(item)\n",
        "\n",
        "\n",
        "    # Example 1D list\n",
        "    lst = flat_list\n",
        "\n",
        "    # Calculate the size of the square matrix\n",
        "    n = len(lst)\n",
        "    size = int(np.sqrt(n))\n",
        "\n",
        "    # Reshape the 1D list into a 2D numpy array with the desired shape\n",
        "    arr = np.reshape(lst, (size, size))\n",
        "\n",
        "    # Print the resulting array\n",
        "    dist_mat = np.array(arr)\n",
        "\n",
        "    print(\"No of cities : \"  , n_nodes)\n",
        "    print(dist_mat.shape)\n",
        "    return dist_mat #returns the distance matrix\n",
        "\n",
        "import pickle\n",
        "\n",
        "def round_up( lst):\n",
        "        '''\n",
        "        input : list of lists having non integral values\n",
        "        output : list of lists having integral values.\n",
        "        Function to round up numbers and return as integers\n",
        "        '''\n",
        "        rounded_lst = []\n",
        "        for inner_lst in lst:\n",
        "            rounded_inner_lst = []\n",
        "            for num in inner_lst:\n",
        "                rounded_num = int(round(num))\n",
        "                rounded_inner_lst.append(rounded_num)\n",
        "            rounded_lst.append(rounded_inner_lst)\n",
        "        return rounded_lst\n",
        "\n",
        "def read_pickle(pickle_path):\n",
        "    # open the pickle file in read-binary mode\n",
        "    with open(pickle_path, 'rb') as f:\n",
        "        pic_obj = pickle.load(f)\n",
        "    pic_obj = round_up(pic_obj)\n",
        "\n",
        "    return pic_obj"
      ]
    },
    {
      "cell_type": "code",
      "execution_count": null,
      "metadata": {
        "id": "YUnWd6ESsjT_"
      },
      "outputs": [],
      "source": [
        "filelist = ['dm_Warmsen_Friday_31600-01_scenario_high_all.p',\n",
        "'dm_Warmsen_Friday_31600-01_scenario_high_letter.p',\n",
        "'dm_Warmsen_Friday_31600-01_scenario_high_others.p',\n",
        "'dm_Warmsen_Friday_31600-01_scenario_high_package.p',\n",
        "'dm_Warmsen_Friday_31600-01_scenario_low_all.p',\n",
        "'dm_Warmsen_Friday_31600-01_scenario_low_letter.p',\n",
        "'dm_Warmsen_Friday_31600-01_scenario_low_others.p',\n",
        "'dm_Warmsen_Friday_31600-01_scenario_low_package.p',\n",
        "'dm_Warmsen_Friday_31600-01_scenario_medium_all.p',\n",
        "'dm_Warmsen_Friday_31600-01_scenario_medium_letter.p',]"
      ]
    },
    {
      "cell_type": "code",
      "execution_count": null,
      "metadata": {
        "id": "a3fZJRdDOXjY"
      },
      "outputs": [],
      "source": [
        "distances = read_pickle('/content/drive/MyDrive/Analytics Project/Warsem /Warmsen_data/dm_Warmsen_Friday_31600-01_scenario_high_all.p')\n",
        "# print(distances)"
      ]
    },
    {
      "cell_type": "code",
      "execution_count": null,
      "metadata": {
        "id": "m7r2tusaQAfb"
      },
      "outputs": [],
      "source": [
        "%%time\n",
        "import time\n",
        "\n",
        "from concorde_class import Concorde\n",
        "\n",
        "# distances = create_dist_mat_from_atsp('/content/drive/MyDrive/Analytics Project/TSPLIB_ATSP/rbg443.atsp')\n",
        "# distances = [[0,50,80],[5,0,1],[7,10,0]]\n",
        "# distances = read_pickle('/content/warmze_31606-12_dienstag_briefe1_distmatrix.p')\n",
        "\n",
        "path = '/content/drive/MyDrive/Analytics Project/Coding/All_orig_files'\n",
        "\n",
        "file_dict = dict()\n",
        "for i in sorted(i for i in os.listdir(path) if i.startswith('dm_Warmsen_31600-03')):\n",
        "    distances = np.array(read_pickle(os.path.join(path,i)))\n",
        "    start = time.time()\n",
        "    concorde = Concorde()\n",
        "\n",
        "    concorde.run_ProbATSP(distances)\n",
        "\n",
        "    end = time.time()\n",
        "    file_dict[i] = {}\n",
        "    file_dict[i]['obj'] = concorde.optimal_value\n",
        "    file_dict[i]['time'] = end - start\n",
        "    file_dict[i]['route'] = concorde.route\n",
        "    print('-------------------------------------------------------------------------')\n",
        "    print(f'route: {concorde.route}')\n",
        "    print(f'value: {concorde.optimal_value} ,file:{i} ,time: {end-start}')"
      ]
    },
    {
      "cell_type": "code",
      "execution_count": null,
      "metadata": {
        "id": "CvcwpwK3r6BT"
      },
      "outputs": [],
      "source": [
        "file_dict"
      ]
    },
    {
      "cell_type": "code",
      "execution_count": 1,
      "metadata": {
        "colab": {
          "base_uri": "https://localhost:8080/"
        },
        "id": "xhxO82BNnELH",
        "outputId": "1f177332-7e32-4d79-cca3-5530d088c52e"
      },
      "outputs": [
        {
          "output_type": "stream",
          "name": "stdout",
          "text": [
            "processor\t: 0\n",
            "vendor_id\t: GenuineIntel\n",
            "cpu family\t: 6\n",
            "model\t\t: 79\n",
            "model name\t: Intel(R) Xeon(R) CPU @ 2.20GHz\n",
            "stepping\t: 0\n",
            "microcode\t: 0xffffffff\n",
            "cpu MHz\t\t: 2199.998\n",
            "cache size\t: 56320 KB\n",
            "physical id\t: 0\n",
            "siblings\t: 2\n",
            "core id\t\t: 0\n",
            "cpu cores\t: 1\n",
            "apicid\t\t: 0\n",
            "initial apicid\t: 0\n",
            "fpu\t\t: yes\n",
            "fpu_exception\t: yes\n",
            "cpuid level\t: 13\n",
            "wp\t\t: yes\n",
            "flags\t\t: fpu vme de pse tsc msr pae mce cx8 apic sep mtrr pge mca cmov pat pse36 clflush mmx fxsr sse sse2 ss ht syscall nx pdpe1gb rdtscp lm constant_tsc rep_good nopl xtopology nonstop_tsc cpuid tsc_known_freq pni pclmulqdq ssse3 fma cx16 pcid sse4_1 sse4_2 x2apic movbe popcnt aes xsave avx f16c rdrand hypervisor lahf_lm abm 3dnowprefetch invpcid_single ssbd ibrs ibpb stibp fsgsbase tsc_adjust bmi1 hle avx2 smep bmi2 erms invpcid rtm rdseed adx smap xsaveopt arat md_clear arch_capabilities\n",
            "bugs\t\t: cpu_meltdown spectre_v1 spectre_v2 spec_store_bypass l1tf mds swapgs taa mmio_stale_data retbleed\n",
            "bogomips\t: 4399.99\n",
            "clflush size\t: 64\n",
            "cache_alignment\t: 64\n",
            "address sizes\t: 46 bits physical, 48 bits virtual\n",
            "power management:\n",
            "\n",
            "processor\t: 1\n",
            "vendor_id\t: GenuineIntel\n",
            "cpu family\t: 6\n",
            "model\t\t: 79\n",
            "model name\t: Intel(R) Xeon(R) CPU @ 2.20GHz\n",
            "stepping\t: 0\n",
            "microcode\t: 0xffffffff\n",
            "cpu MHz\t\t: 2199.998\n",
            "cache size\t: 56320 KB\n",
            "physical id\t: 0\n",
            "siblings\t: 2\n",
            "core id\t\t: 0\n",
            "cpu cores\t: 1\n",
            "apicid\t\t: 1\n",
            "initial apicid\t: 1\n",
            "fpu\t\t: yes\n",
            "fpu_exception\t: yes\n",
            "cpuid level\t: 13\n",
            "wp\t\t: yes\n",
            "flags\t\t: fpu vme de pse tsc msr pae mce cx8 apic sep mtrr pge mca cmov pat pse36 clflush mmx fxsr sse sse2 ss ht syscall nx pdpe1gb rdtscp lm constant_tsc rep_good nopl xtopology nonstop_tsc cpuid tsc_known_freq pni pclmulqdq ssse3 fma cx16 pcid sse4_1 sse4_2 x2apic movbe popcnt aes xsave avx f16c rdrand hypervisor lahf_lm abm 3dnowprefetch invpcid_single ssbd ibrs ibpb stibp fsgsbase tsc_adjust bmi1 hle avx2 smep bmi2 erms invpcid rtm rdseed adx smap xsaveopt arat md_clear arch_capabilities\n",
            "bugs\t\t: cpu_meltdown spectre_v1 spectre_v2 spec_store_bypass l1tf mds swapgs taa mmio_stale_data retbleed\n",
            "bogomips\t: 4399.99\n",
            "clflush size\t: 64\n",
            "cache_alignment\t: 64\n",
            "address sizes\t: 46 bits physical, 48 bits virtual\n",
            "power management:\n",
            "\n"
          ]
        }
      ],
      "source": [
        "!cat /proc/cpuinfo"
      ]
    }
  ],
  "metadata": {
    "colab": {
      "provenance": [],
      "mount_file_id": "1iDn0oHV_CTLR9CFkN2d6sCxNe346vxtr",
      "authorship_tag": "ABX9TyNtNJs83aimE4T5LShgaVk/",
      "include_colab_link": true
    },
    "kernelspec": {
      "display_name": "Python 3",
      "name": "python3"
    },
    "language_info": {
      "name": "python"
    }
  },
  "nbformat": 4,
  "nbformat_minor": 0
}