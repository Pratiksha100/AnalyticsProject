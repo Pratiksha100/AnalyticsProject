{
  "nbformat": 4,
  "nbformat_minor": 0,
  "metadata": {
    "colab": {
      "provenance": []
    },
    "kernelspec": {
      "name": "python3",
      "display_name": "Python 3"
    },
    "language_info": {
      "name": "python"
    }
  },
  "cells": [
    {
      "cell_type": "code",
      "execution_count": 1,
      "metadata": {
        "colab": {
          "base_uri": "https://localhost:8080/",
          "height": 34
        },
        "id": "nyHKzUQrMna8",
        "outputId": "875ecbc4-cdc4-4d89-f037-043de4c8c372"
      },
      "outputs": [
        {
          "output_type": "display_data",
          "data": {
            "application/javascript": [
              "IPython.notebook.set_autosave_interval(0)"
            ]
          },
          "metadata": {}
        },
        {
          "output_type": "stream",
          "name": "stdout",
          "text": [
            "Autosave disabled\n"
          ]
        }
      ],
      "source": [
        "%autosave 0"
      ]
    },
    {
      "cell_type": "code",
      "source": [
        "\n",
        "import os\n",
        "import pandas as pd\n",
        "import numpy as np\n",
        "import re\n",
        "import collections\n",
        "import pickle\n",
        "from ast import literal_eval\n",
        "import random\n",
        "import scipy"
      ],
      "metadata": {
        "id": "E2gL7R7bM4pI"
      },
      "execution_count": 2,
      "outputs": []
    },
    {
      "cell_type": "markdown",
      "source": [
        "#Define Path of Files"
      ],
      "metadata": {
        "id": "SzLJPAWXNBAk"
      }
    },
    {
      "cell_type": "code",
      "source": [
        "from google.colab import drive\n",
        "drive.mount('/content/drive')"
      ],
      "metadata": {
        "colab": {
          "base_uri": "https://localhost:8080/"
        },
        "id": "0wqyxY9VNAIY",
        "outputId": "41b60e61-e896-4e75-eb01-a28b43c35914"
      },
      "execution_count": 3,
      "outputs": [
        {
          "output_type": "stream",
          "name": "stdout",
          "text": [
            "Mounted at /content/drive\n"
          ]
        }
      ]
    },
    {
      "cell_type": "code",
      "source": [
        "# path for the 'Data' folder provided by DP\n",
        "dir_loc = '/content/drive/Shareddrives/Private Unlimited Drive #1/DDS/Analytics Project/AOP_DP_Analytics/Data'"
      ],
      "metadata": {
        "id": "GsxWHxfONkS3"
      },
      "execution_count": 4,
      "outputs": []
    },
    {
      "cell_type": "markdown",
      "source": [
        "#Functions"
      ],
      "metadata": {
        "id": "H9uWX3zENEFM"
      }
    },
    {
      "cell_type": "code",
      "source": [
        "# generate workflow for file storage /  instance creation"
      ],
      "metadata": {
        "id": "0m2lwD_Q5yu3"
      },
      "execution_count": null,
      "outputs": []
    },
    {
      "cell_type": "markdown",
      "source": [
        "## Volume Matrix Manipulation and Poisson Instances Generation\n"
      ],
      "metadata": {
        "id": "ELYPdyqomj94"
      }
    },
    {
      "cell_type": "code",
      "source": [
        "# create dataframes for a region everyday\n",
        "\n",
        "def generate_region_volume(region_name):\n",
        "  # path of folder\n",
        "  dir_region_instances = dir_loc + '/Instances/' + region_name\n",
        "  dir_region_volume = dir_loc + '/Volumes/'\n",
        "  # dir_region_districts = dir_region_instances + '/Districts'\n",
        "\n",
        "  # load post_object-to-route_pos_id and post_point-to-post_object files \n",
        "  po_file = pd.read_csv(dir_region_instances + '/post_order_id_mapping.dat', sep='\\t', names=('PostObjectId', 'RoutePosID'))\n",
        "  pp_file = pd.read_csv(dir_region_instances + '/post_point_information.dat', sep='\\t', names=('PostPointId', 'PostObjectId'))\n",
        "\n",
        "  # pp_file adjustment by splitting list of post object ids\n",
        "  pp_file['PostObjectId'] = pp_file['PostObjectId'].apply(literal_eval)\n",
        "  pp_file = pp_file.explode('PostObjectId', ignore_index=True)\n",
        "\n",
        "  # complete  post object list-district mapping\n",
        "  region_district_df = generate_region_district(region_name = region_name)\n",
        "  region_district_df.rename(columns = {'PostObjectID' : 'PostObjectId'}, inplace = True)\n",
        "\n",
        "  # list of volume file paths\n",
        "  day_names = []\n",
        "  vol_path_list = []\n",
        "  vol_day_map = {}\n",
        "  day_map = {'mo' : 'Monday',\n",
        "             'di' : 'Tuesday',\n",
        "             'mi' : 'Wednesday',\n",
        "             'do' : 'Thursday',\n",
        "             'fr' : 'Friday',\n",
        "             'sa' : 'Saturday'}\n",
        "\n",
        "  for filename in os.listdir(dir_region_volume):\n",
        "    vol_path_list.append(dir_region_volume + filename)\n",
        "    day = filename[-6:-4]\n",
        "    vol_day_map[filename] = day_map[day]\n",
        "\n",
        "  # store dataframes of a region, map with post object id\n",
        "  region_vol_day_dict = {}\n",
        "  for vol_path in vol_path_list:\n",
        "    vol_df = pd.read_csv(vol_path, sep = ';')\n",
        "    vol_df.rename(columns = {'BRIEFE' : 'LETTERS',\n",
        "                             'PAKETE' : 'PACKAGES',\n",
        "                             'SONSTIGE' : 'OTHERS',\n",
        "                             'ROUTEPOS_ID' : 'RoutePosID'},\n",
        "                  inplace = True)\n",
        "    \n",
        "    # combining files to a complete table for a region\n",
        "    vol_po_df = pd.merge(po_file, vol_df, on = 'RoutePosID', how = 'left')\n",
        "    vol_po_df = pd.merge(pp_file, vol_po_df, on='PostObjectId', how='right')\n",
        "    vol_po_df = pd.merge(region_district_df, vol_po_df, on='PostObjectId', how='right')\n",
        "\n",
        "    # store dataframes in dict\n",
        "    day_key = vol_day_map[vol_path[-18:]]\n",
        "    region_vol_day_dict[day_key] = vol_po_df\n",
        "    \n",
        "  return region_vol_day_dict"
      ],
      "metadata": {
        "id": "w1T35gCrNFcg"
      },
      "execution_count": 59,
      "outputs": []
    },
    {
      "cell_type": "code",
      "source": [
        "def generate_region_district(region_name):\n",
        "  district_path = dir_region_instances = dir_loc + '/Instances/' + region_name + '/Districts'\n",
        "  region_districts_list = []\n",
        "\n",
        "  for filename in os.listdir(district_path):\n",
        "    file_var = re.sub('.dat', '', filename)\n",
        "    file_district = pd.read_csv(district_path + '/' + filename, sep='\\t', skiprows = [0,1],\n",
        "                                names=('PostObjectID', 'dum_1', 'dum_2', 'dum_3', 'dum_4', 'dum_5')\n",
        "                                # usecols = [0]\n",
        "                                )\n",
        "    file_district['district'] = file_var\n",
        "    region_districts_list.append(file_district)\n",
        "\n",
        "  region_districts_df = pd.concat(region_districts_list, ignore_index = True)\n",
        "  region_districts_df.drop(['dum_1', 'dum_2', 'dum_3', 'dum_4', 'dum_5'], axis = 1, inplace = True)\n",
        "  \n",
        "  return region_districts_df"
      ],
      "metadata": {
        "id": "9Dge0ZeWON6f"
      },
      "execution_count": 47,
      "outputs": []
    },
    {
      "cell_type": "code",
      "source": [
        "# generate instances\n",
        "\n",
        "def generate_instances(region_vol_day, scenario_type, scenario_method, scenario_number, growth_factor):\n",
        "  # df = region_vol_day.copy() #.copy() used to avoid recopying on the original dataframe\n",
        "  df = region_vol_day\n",
        "\n",
        "  sce_letters = 'scenario_' + str(scenario_number) + '_letter'\n",
        "  sce_packages = 'scenario_' + str(scenario_number) + '_package'\n",
        "  sce_others = 'scenario_' + str(scenario_number) + '_others'\n",
        "\n",
        "  df[sce_letters] = df['LETTERS'].apply(lambda x :scenario_type(pos_delivery = x, method = scenario_method, rate = growth_factor ))\n",
        "  df[sce_packages] = df['PACKAGES'].apply(lambda x :scenario_type(pos_delivery = x, method = scenario_method, rate = growth_factor))\n",
        "  df[sce_others] = df['OTHERS'].apply(lambda x :scenario_type(pos_delivery = x, method = scenario_method, rate = growth_factor))\n",
        "\n",
        "  sce_all = 'scenario_' + str(scenario_number) + '_all'\n",
        "  df[sce_all] = df[sce_letters] + df[sce_packages] + df[sce_others]\n",
        "\n",
        "  return df"
      ],
      "metadata": {
        "id": "jW71hKhefpav"
      },
      "execution_count": 29,
      "outputs": []
    },
    {
      "cell_type": "code",
      "source": [
        "# # generate instances\n",
        "# VERSION 2\n",
        "\n",
        "# def generate_instances_v2(region_vol_day, scenario_method, growth_factor):\n",
        "#   # df = region_vol_day.copy() #.copy() used to avoid recopying on the original dataframe\n",
        "#   df = region_vol_day\n",
        "\n",
        "#   scenario_type = random_poisson_instances_v2(method = scenario_method, rate = growth_factor) --> 7, 9, 10\n",
        "\n",
        "\n",
        "#   df['sce_letters_low'], df['sce_letters_medium'], df['sce_letters_high'] = zip(*df['LETTERS'].map(scenario_type))\n",
        "\n",
        "\n",
        "#   # sce_all = 'scenario_' + str(scenario_number) + '_all'\n",
        "#   # df[sce_all] = df[sce_letters] + df[sce_packages] + df[sce_others]\n",
        "\n",
        "#   return df"
      ],
      "metadata": {
        "id": "pHGiWmWQDVFf"
      },
      "execution_count": 38,
      "outputs": []
    },
    {
      "cell_type": "code",
      "source": [
        "# generate real instances based on poisson\n",
        "\n",
        "def random_poisson_instances(pos_delivery, method, rate):\n",
        "  rng = np.random.default_rng()\n",
        "  poisson_dist = rng.poisson(lam = pos_delivery * (1 + rate), size = 52)\n",
        "\n",
        "  if method == 'random':\n",
        "    return random.choice(poisson_dist)\n",
        "  if method == 'mode':\n",
        "    return scipy.stats.mode(poisson_dist, keepdims = True)[0][0]\n",
        "  else:\n",
        "    return 'only options : [random, mode]'"
      ],
      "metadata": {
        "id": "_LIgyNeDeF7Q"
      },
      "execution_count": 30,
      "outputs": []
    },
    {
      "cell_type": "code",
      "source": [
        "# # generate real instances based on poisson\n",
        "# VERSION 2\n",
        "\n",
        "# def random_poisson_instances_v2(pos_delivery, method, rate):\n",
        "#   rng = np.random.default_rng()\n",
        "#   poisson_dist_low = rng.poisson(lam = pos_delivery * (1 - rate), size = 52)\n",
        "#   poisson_dist_med = rng.poisson(lam = pos_delivery, size = 52)\n",
        "#   poisson_dist_high = rng.poisson(lam = pos_delivery * (1 + rate), size = 52)\n",
        "\n",
        "#   if method == 'random':\n",
        "#     return random.choice(poisson_dist_low), random.choice(poisson_dist_med), random.choice(poisson_dist_high)\n",
        "#   if method == 'mode':\n",
        "#     return scipy.stats.mode(poisson_dist, keepdims = True)[0][0]\n",
        "#   else:\n",
        "#     return 'only options : [random, mode]'"
      ],
      "metadata": {
        "id": "dYcto8vbDnIm"
      },
      "execution_count": 34,
      "outputs": []
    },
    {
      "cell_type": "code",
      "source": [],
      "metadata": {
        "id": "2aW1QJNODnPM"
      },
      "execution_count": null,
      "outputs": []
    },
    {
      "cell_type": "markdown",
      "source": [
        "#Process Examples (Using Functions)"
      ],
      "metadata": {
        "id": "0uYHWNjBNHQ_"
      }
    },
    {
      "cell_type": "code",
      "source": [
        "%%time\n",
        "# ['Warmsen', 'Uerze', 'Hannover 92']\n",
        "\n",
        "region_vol_day_dict = generate_region_volume(region_name = \"Warmsen\")"
      ],
      "metadata": {
        "colab": {
          "base_uri": "https://localhost:8080/"
        },
        "id": "qQYN6IdWWsU7",
        "outputId": "e2a08cc5-d726-4103-d2e3-2f715af2a487"
      },
      "execution_count": 60,
      "outputs": [
        {
          "output_type": "stream",
          "name": "stdout",
          "text": [
            "CPU times: user 12.9 s, sys: 1.16 s, total: 14 s\n",
            "Wall time: 15.3 s\n"
          ]
        }
      ]
    },
    {
      "cell_type": "code",
      "source": [
        "region_vol_day_dict['Monday'].head()"
      ],
      "metadata": {
        "colab": {
          "base_uri": "https://localhost:8080/",
          "height": 206
        },
        "id": "hqmXzHLPR1lA",
        "outputId": "800a3011-60b5-4df3-bfc9-bb599a5b8ae7"
      },
      "execution_count": 62,
      "outputs": [
        {
          "output_type": "execute_result",
          "data": {
            "text/plain": [
              "  PostObjectId  district  PostPointId                        RoutePosID  \\\n",
              "0           16  31606-14           16  AD14E08623FF9F5AD2293E7DEDB4F4B1   \n",
              "1           17  31606-14           17  F48CB0CAB0BC117AE030007F0100574C   \n",
              "2           18  31606-14           16  F48CB0CAB0C7117AE030007F0100574C   \n",
              "3           19  31606-14           18  F48CB0CAB0C8117AE030007F0100574C   \n",
              "4           20  31606-14           19  069AE286923C1800E040400A09131416   \n",
              "\n",
              "   LETTERS  PACKAGES  OTHERS  \n",
              "0     0.45  0.293333     0.0  \n",
              "1     0.45  0.293333     0.0  \n",
              "2     0.45  0.293333     0.0  \n",
              "3     0.00  0.000000     0.0  \n",
              "4     0.00  0.000000     0.0  "
            ],
            "text/html": [
              "\n",
              "  <div id=\"df-9d00c837-676d-4d53-ae28-61b9d628705a\">\n",
              "    <div class=\"colab-df-container\">\n",
              "      <div>\n",
              "<style scoped>\n",
              "    .dataframe tbody tr th:only-of-type {\n",
              "        vertical-align: middle;\n",
              "    }\n",
              "\n",
              "    .dataframe tbody tr th {\n",
              "        vertical-align: top;\n",
              "    }\n",
              "\n",
              "    .dataframe thead th {\n",
              "        text-align: right;\n",
              "    }\n",
              "</style>\n",
              "<table border=\"1\" class=\"dataframe\">\n",
              "  <thead>\n",
              "    <tr style=\"text-align: right;\">\n",
              "      <th></th>\n",
              "      <th>PostObjectId</th>\n",
              "      <th>district</th>\n",
              "      <th>PostPointId</th>\n",
              "      <th>RoutePosID</th>\n",
              "      <th>LETTERS</th>\n",
              "      <th>PACKAGES</th>\n",
              "      <th>OTHERS</th>\n",
              "    </tr>\n",
              "  </thead>\n",
              "  <tbody>\n",
              "    <tr>\n",
              "      <th>0</th>\n",
              "      <td>16</td>\n",
              "      <td>31606-14</td>\n",
              "      <td>16</td>\n",
              "      <td>AD14E08623FF9F5AD2293E7DEDB4F4B1</td>\n",
              "      <td>0.45</td>\n",
              "      <td>0.293333</td>\n",
              "      <td>0.0</td>\n",
              "    </tr>\n",
              "    <tr>\n",
              "      <th>1</th>\n",
              "      <td>17</td>\n",
              "      <td>31606-14</td>\n",
              "      <td>17</td>\n",
              "      <td>F48CB0CAB0BC117AE030007F0100574C</td>\n",
              "      <td>0.45</td>\n",
              "      <td>0.293333</td>\n",
              "      <td>0.0</td>\n",
              "    </tr>\n",
              "    <tr>\n",
              "      <th>2</th>\n",
              "      <td>18</td>\n",
              "      <td>31606-14</td>\n",
              "      <td>16</td>\n",
              "      <td>F48CB0CAB0C7117AE030007F0100574C</td>\n",
              "      <td>0.45</td>\n",
              "      <td>0.293333</td>\n",
              "      <td>0.0</td>\n",
              "    </tr>\n",
              "    <tr>\n",
              "      <th>3</th>\n",
              "      <td>19</td>\n",
              "      <td>31606-14</td>\n",
              "      <td>18</td>\n",
              "      <td>F48CB0CAB0C8117AE030007F0100574C</td>\n",
              "      <td>0.00</td>\n",
              "      <td>0.000000</td>\n",
              "      <td>0.0</td>\n",
              "    </tr>\n",
              "    <tr>\n",
              "      <th>4</th>\n",
              "      <td>20</td>\n",
              "      <td>31606-14</td>\n",
              "      <td>19</td>\n",
              "      <td>069AE286923C1800E040400A09131416</td>\n",
              "      <td>0.00</td>\n",
              "      <td>0.000000</td>\n",
              "      <td>0.0</td>\n",
              "    </tr>\n",
              "  </tbody>\n",
              "</table>\n",
              "</div>\n",
              "      <button class=\"colab-df-convert\" onclick=\"convertToInteractive('df-9d00c837-676d-4d53-ae28-61b9d628705a')\"\n",
              "              title=\"Convert this dataframe to an interactive table.\"\n",
              "              style=\"display:none;\">\n",
              "        \n",
              "  <svg xmlns=\"http://www.w3.org/2000/svg\" height=\"24px\"viewBox=\"0 0 24 24\"\n",
              "       width=\"24px\">\n",
              "    <path d=\"M0 0h24v24H0V0z\" fill=\"none\"/>\n",
              "    <path d=\"M18.56 5.44l.94 2.06.94-2.06 2.06-.94-2.06-.94-.94-2.06-.94 2.06-2.06.94zm-11 1L8.5 8.5l.94-2.06 2.06-.94-2.06-.94L8.5 2.5l-.94 2.06-2.06.94zm10 10l.94 2.06.94-2.06 2.06-.94-2.06-.94-.94-2.06-.94 2.06-2.06.94z\"/><path d=\"M17.41 7.96l-1.37-1.37c-.4-.4-.92-.59-1.43-.59-.52 0-1.04.2-1.43.59L10.3 9.45l-7.72 7.72c-.78.78-.78 2.05 0 2.83L4 21.41c.39.39.9.59 1.41.59.51 0 1.02-.2 1.41-.59l7.78-7.78 2.81-2.81c.8-.78.8-2.07 0-2.86zM5.41 20L4 18.59l7.72-7.72 1.47 1.35L5.41 20z\"/>\n",
              "  </svg>\n",
              "      </button>\n",
              "      \n",
              "  <style>\n",
              "    .colab-df-container {\n",
              "      display:flex;\n",
              "      flex-wrap:wrap;\n",
              "      gap: 12px;\n",
              "    }\n",
              "\n",
              "    .colab-df-convert {\n",
              "      background-color: #E8F0FE;\n",
              "      border: none;\n",
              "      border-radius: 50%;\n",
              "      cursor: pointer;\n",
              "      display: none;\n",
              "      fill: #1967D2;\n",
              "      height: 32px;\n",
              "      padding: 0 0 0 0;\n",
              "      width: 32px;\n",
              "    }\n",
              "\n",
              "    .colab-df-convert:hover {\n",
              "      background-color: #E2EBFA;\n",
              "      box-shadow: 0px 1px 2px rgba(60, 64, 67, 0.3), 0px 1px 3px 1px rgba(60, 64, 67, 0.15);\n",
              "      fill: #174EA6;\n",
              "    }\n",
              "\n",
              "    [theme=dark] .colab-df-convert {\n",
              "      background-color: #3B4455;\n",
              "      fill: #D2E3FC;\n",
              "    }\n",
              "\n",
              "    [theme=dark] .colab-df-convert:hover {\n",
              "      background-color: #434B5C;\n",
              "      box-shadow: 0px 1px 3px 1px rgba(0, 0, 0, 0.15);\n",
              "      filter: drop-shadow(0px 1px 2px rgba(0, 0, 0, 0.3));\n",
              "      fill: #FFFFFF;\n",
              "    }\n",
              "  </style>\n",
              "\n",
              "      <script>\n",
              "        const buttonEl =\n",
              "          document.querySelector('#df-9d00c837-676d-4d53-ae28-61b9d628705a button.colab-df-convert');\n",
              "        buttonEl.style.display =\n",
              "          google.colab.kernel.accessAllowed ? 'block' : 'none';\n",
              "\n",
              "        async function convertToInteractive(key) {\n",
              "          const element = document.querySelector('#df-9d00c837-676d-4d53-ae28-61b9d628705a');\n",
              "          const dataTable =\n",
              "            await google.colab.kernel.invokeFunction('convertToInteractive',\n",
              "                                                     [key], {});\n",
              "          if (!dataTable) return;\n",
              "\n",
              "          const docLinkHtml = 'Like what you see? Visit the ' +\n",
              "            '<a target=\"_blank\" href=https://colab.research.google.com/notebooks/data_table.ipynb>data table notebook</a>'\n",
              "            + ' to learn more about interactive tables.';\n",
              "          element.innerHTML = '';\n",
              "          dataTable['output_type'] = 'display_data';\n",
              "          await google.colab.output.renderOutput(dataTable, element);\n",
              "          const docLink = document.createElement('div');\n",
              "          docLink.innerHTML = docLinkHtml;\n",
              "          element.appendChild(docLink);\n",
              "        }\n",
              "      </script>\n",
              "    </div>\n",
              "  </div>\n",
              "  "
            ]
          },
          "metadata": {},
          "execution_count": 62
        }
      ]
    },
    {
      "cell_type": "code",
      "source": [
        "%%time\n",
        "#Creating the complete dictionary of volumes for a region\n",
        "warmsen_instances = {}\n",
        "\n",
        "#INPUT Rate of mail change \n",
        "rate = 0.5\n",
        "rate_mapping = {'low' : -rate, 'medium' : 0, 'high' : rate}\n",
        "\n",
        "# create instances for one region\n",
        "for key in region_vol_day_dict.keys():\n",
        "  # create instances per day\n",
        "  for key_rate in rate_mapping:\n",
        "    dummy = generate_instances(region_vol_day = region_vol_day_dict[key],\n",
        "                               scenario_type = random_poisson_instances,\n",
        "                               scenario_method = 'random',\n",
        "                               scenario_number = key_rate,\n",
        "                               growth_factor = rate_mapping[key_rate])\n",
        "  warmsen_instances[key] = dummy"
      ],
      "metadata": {
        "colab": {
          "base_uri": "https://localhost:8080/"
        },
        "id": "Z_xVTGSpNI4P",
        "outputId": "6d97ae59-5419-4e04-c7b0-d576f69a7078"
      },
      "execution_count": 65,
      "outputs": [
        {
          "output_type": "stream",
          "name": "stdout",
          "text": [
            "CPU times: user 14.7 s, sys: 338 ms, total: 15 s\n",
            "Wall time: 15.2 s\n"
          ]
        }
      ]
    },
    {
      "cell_type": "code",
      "source": [
        "warmsen_instances['Tuesday'].head()"
      ],
      "metadata": {
        "colab": {
          "base_uri": "https://localhost:8080/",
          "height": 270
        },
        "id": "KhjNhV12nP17",
        "outputId": "45d5a059-db6c-4058-d06d-94bcbd498798"
      },
      "execution_count": 67,
      "outputs": [
        {
          "output_type": "execute_result",
          "data": {
            "text/plain": [
              "  PostObjectId  district  PostPointId                        RoutePosID  \\\n",
              "0           16  31606-14           16  AD14E08623FF9F5AD2293E7DEDB4F4B1   \n",
              "1           17  31606-14           17  F48CB0CAB0BC117AE030007F0100574C   \n",
              "2           18  31606-14           16  F48CB0CAB0C7117AE030007F0100574C   \n",
              "3           19  31606-14           18  F48CB0CAB0C8117AE030007F0100574C   \n",
              "4           20  31606-14           19  069AE286923C1800E040400A09131416   \n",
              "\n",
              "    LETTERS  PACKAGES    OTHERS  scenario_low_letter  scenario_low_package  \\\n",
              "0  5.796667      0.69  0.273333                    1                     0   \n",
              "1  5.796667      0.69  0.273333                    7                     0   \n",
              "2  5.796667      0.69  0.273333                    2                     0   \n",
              "3  0.000000      0.00  0.000000                    0                     0   \n",
              "4  0.000000      0.00  0.000000                    0                     0   \n",
              "\n",
              "   scenario_low_others  scenario_low_all  scenario_medium_letter  \\\n",
              "0                    0                 1                       9   \n",
              "1                    0                 7                       8   \n",
              "2                    0                 2                       5   \n",
              "3                    0                 0                       0   \n",
              "4                    0                 0                       0   \n",
              "\n",
              "   scenario_medium_package  scenario_medium_others  scenario_medium_all  \\\n",
              "0                        1                       0                   10   \n",
              "1                        1                       1                   10   \n",
              "2                        1                       0                    6   \n",
              "3                        0                       0                    0   \n",
              "4                        0                       0                    0   \n",
              "\n",
              "   scenario_high_letter  scenario_high_package  scenario_high_others  \\\n",
              "0                     9                      2                     0   \n",
              "1                    10                      0                     0   \n",
              "2                     9                      0                     1   \n",
              "3                     0                      0                     0   \n",
              "4                     0                      0                     0   \n",
              "\n",
              "   scenario_high_all  \n",
              "0                 11  \n",
              "1                 10  \n",
              "2                 10  \n",
              "3                  0  \n",
              "4                  0  "
            ],
            "text/html": [
              "\n",
              "  <div id=\"df-2a6babed-483c-4dbb-922b-3265c3d48513\">\n",
              "    <div class=\"colab-df-container\">\n",
              "      <div>\n",
              "<style scoped>\n",
              "    .dataframe tbody tr th:only-of-type {\n",
              "        vertical-align: middle;\n",
              "    }\n",
              "\n",
              "    .dataframe tbody tr th {\n",
              "        vertical-align: top;\n",
              "    }\n",
              "\n",
              "    .dataframe thead th {\n",
              "        text-align: right;\n",
              "    }\n",
              "</style>\n",
              "<table border=\"1\" class=\"dataframe\">\n",
              "  <thead>\n",
              "    <tr style=\"text-align: right;\">\n",
              "      <th></th>\n",
              "      <th>PostObjectId</th>\n",
              "      <th>district</th>\n",
              "      <th>PostPointId</th>\n",
              "      <th>RoutePosID</th>\n",
              "      <th>LETTERS</th>\n",
              "      <th>PACKAGES</th>\n",
              "      <th>OTHERS</th>\n",
              "      <th>scenario_low_letter</th>\n",
              "      <th>scenario_low_package</th>\n",
              "      <th>scenario_low_others</th>\n",
              "      <th>scenario_low_all</th>\n",
              "      <th>scenario_medium_letter</th>\n",
              "      <th>scenario_medium_package</th>\n",
              "      <th>scenario_medium_others</th>\n",
              "      <th>scenario_medium_all</th>\n",
              "      <th>scenario_high_letter</th>\n",
              "      <th>scenario_high_package</th>\n",
              "      <th>scenario_high_others</th>\n",
              "      <th>scenario_high_all</th>\n",
              "    </tr>\n",
              "  </thead>\n",
              "  <tbody>\n",
              "    <tr>\n",
              "      <th>0</th>\n",
              "      <td>16</td>\n",
              "      <td>31606-14</td>\n",
              "      <td>16</td>\n",
              "      <td>AD14E08623FF9F5AD2293E7DEDB4F4B1</td>\n",
              "      <td>5.796667</td>\n",
              "      <td>0.69</td>\n",
              "      <td>0.273333</td>\n",
              "      <td>1</td>\n",
              "      <td>0</td>\n",
              "      <td>0</td>\n",
              "      <td>1</td>\n",
              "      <td>9</td>\n",
              "      <td>1</td>\n",
              "      <td>0</td>\n",
              "      <td>10</td>\n",
              "      <td>9</td>\n",
              "      <td>2</td>\n",
              "      <td>0</td>\n",
              "      <td>11</td>\n",
              "    </tr>\n",
              "    <tr>\n",
              "      <th>1</th>\n",
              "      <td>17</td>\n",
              "      <td>31606-14</td>\n",
              "      <td>17</td>\n",
              "      <td>F48CB0CAB0BC117AE030007F0100574C</td>\n",
              "      <td>5.796667</td>\n",
              "      <td>0.69</td>\n",
              "      <td>0.273333</td>\n",
              "      <td>7</td>\n",
              "      <td>0</td>\n",
              "      <td>0</td>\n",
              "      <td>7</td>\n",
              "      <td>8</td>\n",
              "      <td>1</td>\n",
              "      <td>1</td>\n",
              "      <td>10</td>\n",
              "      <td>10</td>\n",
              "      <td>0</td>\n",
              "      <td>0</td>\n",
              "      <td>10</td>\n",
              "    </tr>\n",
              "    <tr>\n",
              "      <th>2</th>\n",
              "      <td>18</td>\n",
              "      <td>31606-14</td>\n",
              "      <td>16</td>\n",
              "      <td>F48CB0CAB0C7117AE030007F0100574C</td>\n",
              "      <td>5.796667</td>\n",
              "      <td>0.69</td>\n",
              "      <td>0.273333</td>\n",
              "      <td>2</td>\n",
              "      <td>0</td>\n",
              "      <td>0</td>\n",
              "      <td>2</td>\n",
              "      <td>5</td>\n",
              "      <td>1</td>\n",
              "      <td>0</td>\n",
              "      <td>6</td>\n",
              "      <td>9</td>\n",
              "      <td>0</td>\n",
              "      <td>1</td>\n",
              "      <td>10</td>\n",
              "    </tr>\n",
              "    <tr>\n",
              "      <th>3</th>\n",
              "      <td>19</td>\n",
              "      <td>31606-14</td>\n",
              "      <td>18</td>\n",
              "      <td>F48CB0CAB0C8117AE030007F0100574C</td>\n",
              "      <td>0.000000</td>\n",
              "      <td>0.00</td>\n",
              "      <td>0.000000</td>\n",
              "      <td>0</td>\n",
              "      <td>0</td>\n",
              "      <td>0</td>\n",
              "      <td>0</td>\n",
              "      <td>0</td>\n",
              "      <td>0</td>\n",
              "      <td>0</td>\n",
              "      <td>0</td>\n",
              "      <td>0</td>\n",
              "      <td>0</td>\n",
              "      <td>0</td>\n",
              "      <td>0</td>\n",
              "    </tr>\n",
              "    <tr>\n",
              "      <th>4</th>\n",
              "      <td>20</td>\n",
              "      <td>31606-14</td>\n",
              "      <td>19</td>\n",
              "      <td>069AE286923C1800E040400A09131416</td>\n",
              "      <td>0.000000</td>\n",
              "      <td>0.00</td>\n",
              "      <td>0.000000</td>\n",
              "      <td>0</td>\n",
              "      <td>0</td>\n",
              "      <td>0</td>\n",
              "      <td>0</td>\n",
              "      <td>0</td>\n",
              "      <td>0</td>\n",
              "      <td>0</td>\n",
              "      <td>0</td>\n",
              "      <td>0</td>\n",
              "      <td>0</td>\n",
              "      <td>0</td>\n",
              "      <td>0</td>\n",
              "    </tr>\n",
              "  </tbody>\n",
              "</table>\n",
              "</div>\n",
              "      <button class=\"colab-df-convert\" onclick=\"convertToInteractive('df-2a6babed-483c-4dbb-922b-3265c3d48513')\"\n",
              "              title=\"Convert this dataframe to an interactive table.\"\n",
              "              style=\"display:none;\">\n",
              "        \n",
              "  <svg xmlns=\"http://www.w3.org/2000/svg\" height=\"24px\"viewBox=\"0 0 24 24\"\n",
              "       width=\"24px\">\n",
              "    <path d=\"M0 0h24v24H0V0z\" fill=\"none\"/>\n",
              "    <path d=\"M18.56 5.44l.94 2.06.94-2.06 2.06-.94-2.06-.94-.94-2.06-.94 2.06-2.06.94zm-11 1L8.5 8.5l.94-2.06 2.06-.94-2.06-.94L8.5 2.5l-.94 2.06-2.06.94zm10 10l.94 2.06.94-2.06 2.06-.94-2.06-.94-.94-2.06-.94 2.06-2.06.94z\"/><path d=\"M17.41 7.96l-1.37-1.37c-.4-.4-.92-.59-1.43-.59-.52 0-1.04.2-1.43.59L10.3 9.45l-7.72 7.72c-.78.78-.78 2.05 0 2.83L4 21.41c.39.39.9.59 1.41.59.51 0 1.02-.2 1.41-.59l7.78-7.78 2.81-2.81c.8-.78.8-2.07 0-2.86zM5.41 20L4 18.59l7.72-7.72 1.47 1.35L5.41 20z\"/>\n",
              "  </svg>\n",
              "      </button>\n",
              "      \n",
              "  <style>\n",
              "    .colab-df-container {\n",
              "      display:flex;\n",
              "      flex-wrap:wrap;\n",
              "      gap: 12px;\n",
              "    }\n",
              "\n",
              "    .colab-df-convert {\n",
              "      background-color: #E8F0FE;\n",
              "      border: none;\n",
              "      border-radius: 50%;\n",
              "      cursor: pointer;\n",
              "      display: none;\n",
              "      fill: #1967D2;\n",
              "      height: 32px;\n",
              "      padding: 0 0 0 0;\n",
              "      width: 32px;\n",
              "    }\n",
              "\n",
              "    .colab-df-convert:hover {\n",
              "      background-color: #E2EBFA;\n",
              "      box-shadow: 0px 1px 2px rgba(60, 64, 67, 0.3), 0px 1px 3px 1px rgba(60, 64, 67, 0.15);\n",
              "      fill: #174EA6;\n",
              "    }\n",
              "\n",
              "    [theme=dark] .colab-df-convert {\n",
              "      background-color: #3B4455;\n",
              "      fill: #D2E3FC;\n",
              "    }\n",
              "\n",
              "    [theme=dark] .colab-df-convert:hover {\n",
              "      background-color: #434B5C;\n",
              "      box-shadow: 0px 1px 3px 1px rgba(0, 0, 0, 0.15);\n",
              "      filter: drop-shadow(0px 1px 2px rgba(0, 0, 0, 0.3));\n",
              "      fill: #FFFFFF;\n",
              "    }\n",
              "  </style>\n",
              "\n",
              "      <script>\n",
              "        const buttonEl =\n",
              "          document.querySelector('#df-2a6babed-483c-4dbb-922b-3265c3d48513 button.colab-df-convert');\n",
              "        buttonEl.style.display =\n",
              "          google.colab.kernel.accessAllowed ? 'block' : 'none';\n",
              "\n",
              "        async function convertToInteractive(key) {\n",
              "          const element = document.querySelector('#df-2a6babed-483c-4dbb-922b-3265c3d48513');\n",
              "          const dataTable =\n",
              "            await google.colab.kernel.invokeFunction('convertToInteractive',\n",
              "                                                     [key], {});\n",
              "          if (!dataTable) return;\n",
              "\n",
              "          const docLinkHtml = 'Like what you see? Visit the ' +\n",
              "            '<a target=\"_blank\" href=https://colab.research.google.com/notebooks/data_table.ipynb>data table notebook</a>'\n",
              "            + ' to learn more about interactive tables.';\n",
              "          element.innerHTML = '';\n",
              "          dataTable['output_type'] = 'display_data';\n",
              "          await google.colab.output.renderOutput(dataTable, element);\n",
              "          const docLink = document.createElement('div');\n",
              "          docLink.innerHTML = docLinkHtml;\n",
              "          element.appendChild(docLink);\n",
              "        }\n",
              "      </script>\n",
              "    </div>\n",
              "  </div>\n",
              "  "
            ]
          },
          "metadata": {},
          "execution_count": 67
        }
      ]
    },
    {
      "cell_type": "code",
      "source": [
        "print(warmsen_instances['Tuesday']['scenario_low_all'].sum())\n",
        "print(warmsen_instances['Tuesday']['scenario_medium_all'].sum())\n",
        "print(warmsen_instances['Tuesday']['scenario_high_all'].sum())"
      ],
      "metadata": {
        "colab": {
          "base_uri": "https://localhost:8080/"
        },
        "id": "Jnn7atdUI30N",
        "outputId": "d2969efb-34b5-4e42-8648-7ad4a7490d0b"
      },
      "execution_count": 68,
      "outputs": [
        {
          "output_type": "stream",
          "name": "stdout",
          "text": [
            "4522\n",
            "9014\n",
            "13672\n"
          ]
        }
      ]
    },
    {
      "cell_type": "code",
      "source": [
        "z = warmsen_instances['Tuesday']\n",
        "\n",
        "\n",
        "print(z[z['district'] == '31606-14']['scenario_low_all'].sum())\n",
        "print(z[z['district'] == '31606-14']['scenario_medium_all'].sum())\n",
        "print(z[z['district'] == '31606-14']['scenario_high_all'].sum())"
      ],
      "metadata": {
        "colab": {
          "base_uri": "https://localhost:8080/"
        },
        "id": "bzIcr0ZxSnvZ",
        "outputId": "c2353ecc-386b-432d-a814-b587ef016146"
      },
      "execution_count": 72,
      "outputs": [
        {
          "output_type": "stream",
          "name": "stdout",
          "text": [
            "274\n",
            "511\n",
            "836\n"
          ]
        }
      ]
    },
    {
      "cell_type": "code",
      "source": [],
      "metadata": {
        "id": "z99XGgHSlBoc"
      },
      "execution_count": null,
      "outputs": []
    },
    {
      "cell_type": "code",
      "source": [
        "region_name = 'Warmsen'\n",
        "\n",
        "for key in warmsen_instances.keys():\n",
        "  df_day = warmsen_instances[key]\n",
        "  for district in df_day['district'].value_counts().index.tolist():\n",
        "    print(district)\n",
        "    df_day_district = df_day[df_day['district'] == district]\n",
        "\n",
        "    district_path = dir_loc + '/Instances/' + region_name + '/Districts/' + district + '.dat'\n",
        "    rows_needed = [1]\n",
        "    file_district = pd.read_csv(district_path, sep='\\t', skiprows = lambda x : x not in rows_needed,\n",
        "                                names=('dum_0', 'start_point', 'end_point', 'dum_1', 'dum_2', 'dum_3', 'dum_4', 'dum_5', 'dum_6')\n",
        "                                )\n",
        "    start_point = file_district['start_point'][0]\n",
        "    end_point = file_district['end_point'][0]\n",
        "\n",
        "    points = [start_point, end_point]\n",
        "\n",
        "    scenario_list = df_day_district.columns.tolist()[7:]\n",
        "    for scenario in scenario_list:\n",
        "      col_use = ['PostPointId']\n",
        "      col_use.append(scenario)\n",
        "      df_day_district_scenario = df_day_district[col_use]\n",
        "      \n",
        "      df_day_district_scenario_filtered = df_day_district_scenario[df_day_district_scenario[scenario] != 0]\n",
        "      pp_id_day_district_scenario = df_day_district_scenario_filtered['PostPointId'].unique().tolist()\n",
        "      \n",
        "      for point in points:\n",
        "        if point not in pp_id_day_district_scenario:\n",
        "          pp_id_day_district_scenario.append(point)\n",
        "\n",
        "      distance_path = dir_loc + '/Instances/' + region_name + '/distances'\n",
        "      district_distance = pd.read_csv(distance_path + '/distances_' + district + '.dat',\n",
        "                                  names=['pp_1', 'pp_2', 'dist']\n",
        "                                  )\n",
        "      district_distance_filtered = district_distance[(district_distance['pp_1'].isin(pp_id_day_district_scenario)) & (district_distance['pp_2'].isin(pp_id_day_district_scenario))]\n",
        "      distance_matrix_df = district_distance_filtered.pivot(index = 'pp_1', columns = 'pp_2', values = 'dist')\n",
        "\n",
        "      # distance matrix\n",
        "      distance_matrix_array = distance_matrix_df.to_numpy()\n",
        "\n",
        "      # node mapping\n",
        "      map_val = list(range(0, len(distance_matrix_df)))\n",
        "      nodes = distance_matrix_df.index.values.tolist()\n",
        "      mapping = dict(zip(map_val, nodes))\n",
        "\n",
        "      \n"
      ],
      "metadata": {
        "colab": {
          "base_uri": "https://localhost:8080/"
        },
        "id": "suoUNpaobKhk",
        "outputId": "2ee0f008-86f6-47c2-f156-b194aa897696"
      },
      "execution_count": null,
      "outputs": [
        {
          "output_type": "stream",
          "name": "stdout",
          "text": [
            "31603-06\n",
            "31600-01\n",
            "31606-12\n",
            "31600-02\n",
            "31604-09\n",
            "31603-07\n",
            "31604-10\n",
            "31600-03\n",
            "31603-05\n",
            "31603-08\n",
            "31606-11\n",
            "31606-14\n",
            "31606-13\n",
            "31600-04\n",
            "31603-06\n",
            "31600-01\n",
            "31606-12\n",
            "31600-02\n",
            "31604-09\n",
            "31603-07\n",
            "31604-10\n",
            "31600-03\n",
            "31603-05\n",
            "31603-08\n",
            "31606-11\n",
            "31606-14\n",
            "31606-13\n",
            "31600-04\n",
            "31603-06\n",
            "31600-01\n"
          ]
        }
      ]
    }
  ]
}