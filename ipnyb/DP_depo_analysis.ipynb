{
  "nbformat": 4,
  "nbformat_minor": 0,
  "metadata": {
    "colab": {
      "provenance": []
    },
    "kernelspec": {
      "name": "python3",
      "display_name": "Python 3"
    },
    "language_info": {
      "name": "python"
    }
  },
  "cells": [
    {
      "cell_type": "code",
      "execution_count": 1,
      "metadata": {
        "colab": {
          "base_uri": "https://localhost:8080/",
          "height": 34
        },
        "id": "HeOsnZsXLvwB",
        "outputId": "62484df8-ec8a-449f-feee-028de5d32c54"
      },
      "outputs": [
        {
          "output_type": "display_data",
          "data": {
            "application/javascript": [
              "IPython.notebook.set_autosave_interval(0)"
            ]
          },
          "metadata": {}
        },
        {
          "output_type": "stream",
          "name": "stdout",
          "text": [
            "Autosave disabled\n"
          ]
        }
      ],
      "source": [
        "%autosave 0"
      ]
    },
    {
      "cell_type": "code",
      "source": [
        "from google.colab import drive\n",
        "drive.mount('/content/drive')"
      ],
      "metadata": {
        "colab": {
          "base_uri": "https://localhost:8080/"
        },
        "id": "JU7hgAu4L2Im",
        "outputId": "8fc41252-8277-46a1-ce74-a8e96b4291aa"
      },
      "execution_count": 2,
      "outputs": [
        {
          "output_type": "stream",
          "name": "stdout",
          "text": [
            "Mounted at /content/drive\n"
          ]
        }
      ]
    },
    {
      "cell_type": "code",
      "source": [
        "!pip install ortools"
      ],
      "metadata": {
        "colab": {
          "base_uri": "https://localhost:8080/"
        },
        "id": "fxOD6F9CO7C-",
        "outputId": "caf6a02d-97d7-4f11-9175-92ce6305dcad"
      },
      "execution_count": 3,
      "outputs": [
        {
          "output_type": "stream",
          "name": "stdout",
          "text": [
            "Looking in indexes: https://pypi.org/simple, https://us-python.pkg.dev/colab-wheels/public/simple/\n",
            "Collecting ortools\n",
            "  Downloading ortools-9.6.2534-cp310-cp310-manylinux_2_17_x86_64.manylinux2014_x86_64.whl (16.4 MB)\n",
            "\u001b[2K     \u001b[90m━━━━━━━━━━━━━━━━━━━━━━━━━━━━━━━━━━━━━━━━\u001b[0m \u001b[32m16.4/16.4 MB\u001b[0m \u001b[31m74.8 MB/s\u001b[0m eta \u001b[36m0:00:00\u001b[0m\n",
            "\u001b[?25hRequirement already satisfied: absl-py>=0.13 in /usr/local/lib/python3.10/dist-packages (from ortools) (1.4.0)\n",
            "Requirement already satisfied: numpy>=1.13.3 in /usr/local/lib/python3.10/dist-packages (from ortools) (1.22.4)\n",
            "Collecting protobuf>=4.21.12 (from ortools)\n",
            "  Downloading protobuf-4.23.2-cp37-abi3-manylinux2014_x86_64.whl (304 kB)\n",
            "\u001b[2K     \u001b[90m━━━━━━━━━━━━━━━━━━━━━━━━━━━━━━━━━━━━━━\u001b[0m \u001b[32m304.5/304.5 kB\u001b[0m \u001b[31m30.7 MB/s\u001b[0m eta \u001b[36m0:00:00\u001b[0m\n",
            "\u001b[?25hRequirement already satisfied: scipy>=1.10.0 in /usr/local/lib/python3.10/dist-packages (from ortools) (1.10.1)\n",
            "Installing collected packages: protobuf, ortools\n",
            "  Attempting uninstall: protobuf\n",
            "    Found existing installation: protobuf 3.20.3\n",
            "    Uninstalling protobuf-3.20.3:\n",
            "      Successfully uninstalled protobuf-3.20.3\n",
            "Successfully installed ortools-9.6.2534 protobuf-4.23.2\n"
          ]
        }
      ]
    },
    {
      "cell_type": "code",
      "source": [
        "import os\n",
        "import pandas as pd\n",
        "import numpy as np\n",
        "import re\n",
        "import collections\n",
        "import pickle\n",
        "from ast import literal_eval\n",
        "import random\n",
        "import scipy\n",
        "import math\n",
        "import datetime\n",
        "import subprocess\n",
        "\n",
        "from ortools.constraint_solver import pywrapcp\n",
        "from ortools.constraint_solver import routing_enums_pb2"
      ],
      "metadata": {
        "id": "0v8cBe5uPFge"
      },
      "execution_count": 1,
      "outputs": []
    },
    {
      "cell_type": "markdown",
      "source": [
        "#Functions"
      ],
      "metadata": {
        "id": "GNJibpZRPGng"
      }
    },
    {
      "cell_type": "code",
      "source": [
        "# arrange sequence of tour\n",
        "\n",
        "def arrange_tour(solver_tour, start_end_points):\n",
        "\n",
        "    #Get the start and end point of the specific district of the instance\n",
        "    start_PP, end_PP = start_end_points \n",
        "    arranged_tour = 0\n",
        "\n",
        "    #FUNCTION TO REARRANGE THE LIST WITH CASE OF SAME START AND END POSTPOINT\n",
        "    def rearrange_list(numbers, specific_value):\n",
        "        # Find the index of the specific value in the list\n",
        "        index = numbers.index(specific_value)\n",
        "        \n",
        "        # Check if the chosen element is repeated twice consecutively\n",
        "        if numbers[index] == numbers[index + 1]:\n",
        "            # Split the list into two parts based on the index\n",
        "            part1 = numbers[:index]\n",
        "            part2 = numbers[index + 1:]\n",
        "            \n",
        "            # Rearrange the list by concatenating the parts and adding the specific value at the beginning and end\n",
        "            rearranged_list = part2 + part1 + [specific_value]\n",
        "        else:\n",
        "            # Split the list into two parts based on the index\n",
        "            part1 = numbers[:index]\n",
        "            part2 = numbers[index:]\n",
        "            \n",
        "            # Rearrange the list by concatenating the parts in reverse order\n",
        "            rearranged_list = part2 + part1\n",
        "        \n",
        "        return rearranged_list\n",
        "    \n",
        "    \n",
        "    #FUNCTION TO REARRANGE THE LIST WITH CASE OF DIFFERENT START AND END POSTPOINT\n",
        "    def rearrange_circular_tour(tour, start_point, end_point):\n",
        "    # Find the index of the start point in the tour list\n",
        "        start_index = tour.index(start_point)\n",
        "            \n",
        "        # Find the index of the end point in the tour list\n",
        "        end_index = tour.index(end_point)\n",
        "                \n",
        "        # Check if the start and end points are already at the first and last positions\n",
        "        if start_index == 0 and end_index == len(tour) - 1:\n",
        "            return tour\n",
        "                \n",
        "        # Split the tour list into two parts based on the start and end indices\n",
        "        if start_index < end_index:\n",
        "            part1 = tour[0:start_index + 1]\n",
        "            part1.reverse()\n",
        "\n",
        "            part2 = tour[start_index + 1:]\n",
        "            part2.reverse()\n",
        "                \n",
        "        else:\n",
        "            part1 = tour[start_index:] + tour[:end_index+1]\n",
        "            part2 = tour[end_index+1:start_index]\n",
        "                \n",
        "        # Rearrange the tour list by concatenating the parts\n",
        "        rearranged_tour = part1 + part2\n",
        "        \n",
        "        return rearranged_tour\n",
        "    \n",
        "\n",
        "\n",
        "    #Case of start and end point equal\n",
        "    if start_PP == end_PP:\n",
        "        #If the start and end point are already in correct positions return list as it is                                                                              \n",
        "        if start_PP == solver_tour[0] and end_PP == solver_tour[len(solver_tour)-1]:                    \n",
        "            arranged_tour = solver_tour\n",
        "        else: \n",
        "            #Check if start or end point (doesn't matter they have the same value) appears less than two times on the list\n",
        "            if list.count(solver_tour, start_PP) < 2:\n",
        "                #If if is not repeated. Check if at least start_point is in first_position.                                                   \n",
        "                if start_PP == solver_tour[0]: \n",
        "                    #If start_point is in first position just append end point at the end of list.                                                         \n",
        "                    arranged_tour = solver_tour + [end_PP]\n",
        "                else: \n",
        "                    #Rearrange the tour first with start_PP at the beginning of the list before appending end_PP\n",
        "                    arranged_tour = rearrange_list(solver_tour, start_PP)\n",
        "                    arranged_tour = arranged_tour + [end_PP]               \n",
        "            else: \n",
        "                #Rearrange the tour in the correct order\n",
        "                arranged_tour = rearrange_list(solver_tour, start_PP)\n",
        "    #Case of start and end point different\n",
        "    else:\n",
        "       arranged_tour = rearrange_circular_tour(tour = solver_tour, start_point = start_PP, end_point = end_PP)\n",
        "    \n",
        "    return arranged_tour"
      ],
      "metadata": {
        "id": "Sbhh1zFyPBAl"
      },
      "execution_count": 2,
      "outputs": []
    },
    {
      "cell_type": "code",
      "source": [
        "#FUNCTION TO GET SUBSET OF A COMPLETE TOUR AND ITS LENGTH KEEPING SEQUENCE BASED ON INSTANCES VOLUMES\n",
        "\n",
        "#INPUTS:    Complete Tour (DP or Concord), Complete Tour info (DP or Concord), \n",
        "#           Distance Matrix for the instance (generated from instance generation function), Mapping of PostPoints Needed (Dictionary obtained from instance generation function)\n",
        "#OUTPUTS:   Tour Sequence Fixed, Tour Length, Difference between New Tour and Complete Tour\n",
        "\n",
        "\n",
        "\n",
        "def new_tour_sequence_fixed(complete_tour, dm_instance, mapping_pp_needed):\n",
        "    #get the list of only the Postpoint needed for the specific instance\n",
        "    list_pp_needed = list(mapping_pp_needed.values())\n",
        "\n",
        "    #Keep from complete_tour only the needed PostPoints according to the list of PostPoints needed mantaining sequence\n",
        "    tour_seq_fixed = [x for x in complete_tour if x in list_pp_needed]\n",
        "\n",
        "    #Generate a dataframe from the distance matrix with the correct row-column combination based on PostPoints required\n",
        "    df_dm_instance = pd.DataFrame(dm_instance)\n",
        "    df_dm_instance = (df_dm_instance.rename(columns= mapping_pp_needed)).rename(index = mapping_pp_needed)\n",
        "\n",
        "    #FUNCTION to compute length of new tour (Adapting using logic of function already created for default_route calculation: get_tour_length())\n",
        "    \n",
        "    def get_seq_tour_length(sequence_list, distance_df):\n",
        "        tour_length = 0 \n",
        "        for i in range(len(sequence_list)-1):\n",
        "            # Specify the specific values for row and column in the dataframe\n",
        "            PostPoint_predecesor = sequence_list[i]\n",
        "            PostPoint_succesor = sequence_list[i+1]\n",
        "\n",
        "            # Get the distance value needed based on the Post Point combination or raise error\n",
        "            try:\n",
        "                distance_value = distance_df[PostPoint_predecesor][PostPoint_succesor]\n",
        "            except: \n",
        "                print('ERROR: No distance for PostPoint combination')\n",
        "\n",
        "            # Aggreate sum value until end of loop to compute total tour length\n",
        "            tour_length += distance_value\n",
        "            \n",
        "        return round(tour_length,2)\n",
        "    \n",
        "    #Calculate tour length of new tour which skips PostPoints\n",
        "    tour_seq_fixed_length = get_seq_tour_length(tour_seq_fixed, df_dm_instance)\n",
        "    \n",
        "\n",
        "    return tour_seq_fixed, tour_seq_fixed_length"
      ],
      "metadata": {
        "id": "1YPg507jPI4-"
      },
      "execution_count": 3,
      "outputs": []
    },
    {
      "cell_type": "code",
      "source": [
        "# route similarity\n",
        "\n",
        "def find_similarity_route(Tour1, Tour2):\n",
        "    predecessors1 = {Tour1[i]: Tour1[i-1] for i in range(1, len(Tour1))}\n",
        "    predecessors2 = {Tour2[i]: Tour2[i-1] for i in range(1, len(Tour2))}\n",
        "    num_changed_predecessors = 0\n",
        "\n",
        "    for node, pred2 in predecessors2.items():\n",
        "        pred1 = predecessors1[node]\n",
        "        if pred1 != pred2:\n",
        "            num_changed_predecessors += 1\n",
        "    percent_change = num_changed_predecessors / (len(Tour1)-1) * 100\n",
        "    sim_pct = 100 - percent_change\n",
        "\n",
        "    return num_changed_predecessors, sim_pct"
      ],
      "metadata": {
        "id": "4DtV12DzPKhk"
      },
      "execution_count": 4,
      "outputs": []
    },
    {
      "cell_type": "code",
      "source": [
        "# heuristic google OR algo\n",
        "\n",
        "class TSP:\n",
        "    def __init__(self, distance_matrix):\n",
        "        #read distance matrix --> list\n",
        "        self.dist_mat = distance_matrix\n",
        "        self.dist_mat = self.round_up(self.dist_mat)\n",
        "        # Create data model\n",
        "        self.data = self.create_data_model()\n",
        "        # Create routing index manager\n",
        "        self.manager = pywrapcp.RoutingIndexManager(len(self.data['distance_matrix']),\n",
        "                                            self.data['num_vehicles'], self.data['depot'])\n",
        "        # Create Routing Model\n",
        "        self.routing = pywrapcp.RoutingModel(self.manager)\n",
        "        # Define cost of each arc\n",
        "        self.transit_callback_index = self.routing.RegisterTransitCallback(self.distance_callback)\n",
        "        self.routing.SetArcCostEvaluatorOfAllVehicles(self.transit_callback_index)\n",
        "    \n",
        "    def round_up(self , lst):\n",
        "        '''\n",
        "        input : list of lists having non integral values\n",
        "        output : list of lists having integral values.\n",
        "        Function to round up numbers and return as integers\n",
        "        '''\n",
        "        rounded_lst = []\n",
        "        for inner_lst in lst:\n",
        "            rounded_inner_lst = []\n",
        "            for num in inner_lst:\n",
        "                rounded_num = int(round(num))\n",
        "                rounded_inner_lst.append(rounded_num)\n",
        "            rounded_lst.append(rounded_inner_lst)\n",
        "        return rounded_lst        \n",
        "\n",
        "\n",
        "    def create_data_model(self):\n",
        "        # Stores the data for the problem\n",
        "        data = {}\n",
        "        data['distance_matrix'] = self.dist_mat \n",
        "        data['num_vehicles'] = 1\n",
        "        data['depot'] = 0\n",
        "        return data\n",
        "\n",
        "    def distance_callback(self, from_index, to_index):\n",
        "        # Returns the distance between the two nodes\n",
        "        from_node = self.manager.IndexToNode(from_index)\n",
        "        to_node = self.manager.IndexToNode(to_index)\n",
        "        return self.data['distance_matrix'][from_node][to_node]\n",
        "\n",
        "    def solve(self):\n",
        "        # Setting first solution heuristic\n",
        "        search_parameters = pywrapcp.DefaultRoutingSearchParameters()\n",
        "        search_parameters.first_solution_strategy = routing_enums_pb2.FirstSolutionStrategy.PATH_CHEAPEST_ARC\n",
        "        # Solve the problem\n",
        "        solution = self.routing.SolveWithParameters(search_parameters)\n",
        "        if solution:\n",
        "            # Get the route as an array\n",
        "            route = []\n",
        "            index = self.routing.Start(0)\n",
        "            while not self.routing.IsEnd(index):\n",
        "                node = self.manager.IndexToNode(index)\n",
        "                route.append(node)\n",
        "                index = solution.Value(self.routing.NextVar(index))\n",
        "            # Get the objective value\n",
        "            obj_value = solution.ObjectiveValue()\n",
        "            # route = self.map_nodes(route)\n",
        "            return route, obj_value"
      ],
      "metadata": {
        "id": "uGcBLTJXPL7s"
      },
      "execution_count": 5,
      "outputs": []
    },
    {
      "cell_type": "code",
      "source": [
        "def map_actual_route(route, mapping):\n",
        "  tour_mapped = [mapping[a] for a in route]\n",
        "  return tour_mapped"
      ],
      "metadata": {
        "id": "4s-0kHrJPNjh"
      },
      "execution_count": 6,
      "outputs": []
    },
    {
      "cell_type": "code",
      "source": [
        "# heuristic google OR algo\n",
        "# solver using global cheapest arc\n",
        "\n",
        "class TSP_v2:\n",
        "    def __init__(self, distance_matrix):\n",
        "        #read distance matrix --> list\n",
        "        self.dist_mat = distance_matrix\n",
        "        self.dist_mat = self.round_up(self.dist_mat)\n",
        "        # Create data model\n",
        "        self.data = self.create_data_model()\n",
        "        # Create routing index manager\n",
        "        self.manager = pywrapcp.RoutingIndexManager(len(self.data['distance_matrix']),\n",
        "                                            self.data['num_vehicles'], self.data['depot'])\n",
        "        # Create Routing Model\n",
        "        self.routing = pywrapcp.RoutingModel(self.manager)\n",
        "        # Define cost of each arc\n",
        "        self.transit_callback_index = self.routing.RegisterTransitCallback(self.distance_callback)\n",
        "        self.routing.SetArcCostEvaluatorOfAllVehicles(self.transit_callback_index)\n",
        "    \n",
        "    def round_up(self , lst):\n",
        "        '''\n",
        "        input : list of lists having non integral values\n",
        "        output : list of lists having integral values.\n",
        "        Function to round up numbers and return as integers\n",
        "        '''\n",
        "        rounded_lst = []\n",
        "        for inner_lst in lst:\n",
        "            rounded_inner_lst = []\n",
        "            for num in inner_lst:\n",
        "                rounded_num = int(round(num))\n",
        "                rounded_inner_lst.append(rounded_num)\n",
        "            rounded_lst.append(rounded_inner_lst)\n",
        "        return rounded_lst        \n",
        "\n",
        "\n",
        "    def create_data_model(self):\n",
        "        # Stores the data for the problem\n",
        "        data = {}\n",
        "        data['distance_matrix'] = self.dist_mat \n",
        "        data['num_vehicles'] = 1\n",
        "        data['depot'] = 0\n",
        "        return data\n",
        "\n",
        "    def distance_callback(self, from_index, to_index):\n",
        "        # Returns the distance between the two nodes\n",
        "        from_node = self.manager.IndexToNode(from_index)\n",
        "        to_node = self.manager.IndexToNode(to_index)\n",
        "        return self.data['distance_matrix'][from_node][to_node]\n",
        "\n",
        "    def solve(self):\n",
        "        # Setting first solution heuristic\n",
        "        search_parameters = pywrapcp.DefaultRoutingSearchParameters()\n",
        "        search_parameters.first_solution_strategy = routing_enums_pb2.FirstSolutionStrategy.GLOBAL_CHEAPEST_ARC\n",
        "        # Solve the problem\n",
        "        solution = self.routing.SolveWithParameters(search_parameters)\n",
        "        if solution:\n",
        "            # Get the route as an array\n",
        "            route = []\n",
        "            index = self.routing.Start(0)\n",
        "            while not self.routing.IsEnd(index):\n",
        "                node = self.manager.IndexToNode(index)\n",
        "                route.append(node)\n",
        "                index = solution.Value(self.routing.NextVar(index))\n",
        "            # Get the objective value\n",
        "            obj_value = solution.ObjectiveValue()\n",
        "            # route = self.map_nodes(route)\n",
        "            return route, obj_value"
      ],
      "metadata": {
        "id": "ZXzPKBI7mP2b"
      },
      "execution_count": 7,
      "outputs": []
    },
    {
      "cell_type": "markdown",
      "source": [
        "#Read necessary files"
      ],
      "metadata": {
        "id": "_hvdIZrqPV3-"
      }
    },
    {
      "cell_type": "code",
      "source": [
        "# upload files\n",
        "all_original = pickle.load(open(\"/content/drive/Shareddrives/Private Unlimited Drive #1/DDS/Analytics Project/Coding/Results/all_original_complete.p\", \"rb\"))\n",
        "warmsen_instances = pickle.load(open(\"/content/drive/Shareddrives/Private Unlimited Drive #1/DDS/Analytics Project/Coding/Results/warmsen_instances.p\", \"rb\"))\n",
        "all_default_tours = pickle.load(open(\"/content/drive/Shareddrives/Private Unlimited Drive #1/DDS/Analytics Project/Coding/Results/all_default_tours.p\", \"rb\"))"
      ],
      "metadata": {
        "id": "O1Lq8cp2PP9H"
      },
      "execution_count": 8,
      "outputs": []
    },
    {
      "cell_type": "code",
      "source": [
        "all_original['Warmsen']['31606-14'].keys()"
      ],
      "metadata": {
        "colab": {
          "base_uri": "https://localhost:8080/"
        },
        "id": "F_cojt08X8TO",
        "outputId": "243bd48c-a67a-4e21-ae44-eb75d9ee29ec"
      },
      "execution_count": 9,
      "outputs": [
        {
          "output_type": "execute_result",
          "data": {
            "text/plain": [
              "dict_keys(['start_end_points', 'dm', 'map'])"
            ]
          },
          "metadata": {},
          "execution_count": 9
        }
      ]
    },
    {
      "cell_type": "markdown",
      "source": [
        "#Depo Check"
      ],
      "metadata": {
        "id": "W265iwuUX-7z"
      }
    },
    {
      "cell_type": "code",
      "source": [
        "all_original['Warmsen']['31606-14']['start_end_points']"
      ],
      "metadata": {
        "colab": {
          "base_uri": "https://localhost:8080/"
        },
        "id": "yemN_yzsYL9E",
        "outputId": "19a61a32-1d20-4e40-81fb-a2d58d30e48a"
      },
      "execution_count": 10,
      "outputs": [
        {
          "output_type": "execute_result",
          "data": {
            "text/plain": [
              "[0, 4409]"
            ]
          },
          "metadata": {},
          "execution_count": 10
        }
      ]
    },
    {
      "cell_type": "code",
      "source": [
        "all_original['Warmsen']['31606-14']['start_end_points'][0] == all_original['Warmsen']['31606-14']['start_end_points'][1]"
      ],
      "metadata": {
        "colab": {
          "base_uri": "https://localhost:8080/"
        },
        "id": "4KPyyl53X9nm",
        "outputId": "9459aa40-7a17-4a82-f106-3f97eac7dddc"
      },
      "execution_count": 11,
      "outputs": [
        {
          "output_type": "execute_result",
          "data": {
            "text/plain": [
              "False"
            ]
          },
          "metadata": {},
          "execution_count": 11
        }
      ]
    },
    {
      "cell_type": "code",
      "source": [
        "diff_depo_all = {}\n",
        "\n",
        "# iterate through all regions\n",
        "for region in all_original.keys():\n",
        "  diff_depo_region = {}\n",
        "  # iterate through districts in region\n",
        "  for district in all_original[region].keys():\n",
        "    # check whether start and end point is the same\n",
        "    same_depo = all_original[region][district]['start_end_points'][0] == all_original[region][district]['start_end_points'][1]\n",
        "    print(region, ':', district, ': depos', all_original[region][district]['start_end_points'][0],\n",
        "          all_original[region][district]['start_end_points'][1],\n",
        "          'same depo -->', same_depo)\n",
        "    # store district data\n",
        "    if same_depo == False:\n",
        "      diff_depo_region[district] = all_original[region][district]\n",
        "  # store region data\n",
        "  diff_depo_all[region] = diff_depo_region"
      ],
      "metadata": {
        "colab": {
          "base_uri": "https://localhost:8080/"
        },
        "id": "XNRGSwygZMwR",
        "outputId": "147012f7-3503-4654-ce39-9fbe387fc20e"
      },
      "execution_count": 12,
      "outputs": [
        {
          "output_type": "stream",
          "name": "stdout",
          "text": [
            "Warmsen : 31606-13 : depos 4 4409 same depo --> False\n",
            "Warmsen : 31606-11 : depos 4 3 same depo --> False\n",
            "Warmsen : 31600-04 : depos 0 0 same depo --> True\n",
            "Warmsen : 31600-03 : depos 0 2 same depo --> False\n",
            "Warmsen : 31600-02 : depos 0 0 same depo --> True\n",
            "Warmsen : 31603-07 : depos 0 4194 same depo --> False\n",
            "Warmsen : 31603-08 : depos 4 4194 same depo --> False\n",
            "Warmsen : 31604-10 : depos 0 3 same depo --> False\n",
            "Warmsen : 31603-05 : depos 0 3 same depo --> False\n",
            "Warmsen : 31603-06 : depos 0 3 same depo --> False\n",
            "Warmsen : 31606-12 : depos 0 4194 same depo --> False\n",
            "Warmsen : 31606-14 : depos 0 4409 same depo --> False\n",
            "Warmsen : 31604-09 : depos 1159 3 same depo --> False\n",
            "Warmsen : 31600-01 : depos 0 0 same depo --> True\n",
            "Uerze : 31311-31 : depos 0 2 same depo --> False\n",
            "Uerze : 31311-07 : depos 0 1 same depo --> False\n",
            "Uerze : 31311-04 : depos 0 4 same depo --> False\n",
            "Uerze : 31311-01 : depos 0 4 same depo --> False\n",
            "Uerze : 31311-25 : depos 0 2 same depo --> False\n",
            "Uerze : 31311-22 : depos 0 2 same depo --> False\n",
            "Uerze : 31311-03 : depos 0 1 same depo --> False\n",
            "Uerze : 31311-02 : depos 0 4 same depo --> False\n",
            "Uerze : 31311-24 : depos 0 0 same depo --> True\n",
            "Uerze : 31311-42 : depos 0 4 same depo --> False\n",
            "Uerze : 31311-61 : depos 0 4 same depo --> False\n",
            "Uerze : 31311-51 : depos 0 1 same depo --> False\n",
            "Uerze : 31311-21 : depos 0 2 same depo --> False\n",
            "Uerze : 31311-05 : depos 0 4 same depo --> False\n",
            "Uerze : 31311-62 : depos 0 1 same depo --> False\n",
            "Uerze : 31311-08 : depos 0 1 same depo --> False\n",
            "Uerze : 31311-81 : depos 0 4 same depo --> False\n",
            "Hannover 92 : 30457-02 : depos 0 0 same depo --> True\n",
            "Hannover 92 : 30459-35 : depos 0 5267 same depo --> False\n",
            "Hannover 92 : 30459-36 : depos 0 0 same depo --> True\n",
            "Hannover 92 : 30459-32 : depos 0 0 same depo --> True\n",
            "Hannover 92 : 30459-33 : depos 0 0 same depo --> True\n",
            "Hannover 92 : 30457-15 : depos 0 0 same depo --> True\n",
            "Hannover 92 : 30457-01 : depos 0 0 same depo --> True\n",
            "Hannover 92 : 30457-16 : depos 0 0 same depo --> True\n",
            "Hannover 92 : 30457-12 : depos 0 0 same depo --> True\n",
            "Hannover 92 : 30457-11 : depos 0 0 same depo --> True\n",
            "Hannover 92 : 30459-25 : depos 0 0 same depo --> True\n",
            "Hannover 92 : 30457-14 : depos 0 0 same depo --> True\n",
            "Hannover 92 : 30459-24 : depos 0 0 same depo --> True\n",
            "Hannover 92 : 30459-31 : depos 0 0 same depo --> True\n",
            "Hannover 92 : 30459-37 : depos 0 0 same depo --> True\n"
          ]
        }
      ]
    },
    {
      "cell_type": "code",
      "source": [
        "diff_depo_all['Hannover 92'].keys()"
      ],
      "metadata": {
        "colab": {
          "base_uri": "https://localhost:8080/"
        },
        "id": "zO9d5H93laqA",
        "outputId": "df7a6ac9-f198-4037-d7a8-46d69f34ae0a"
      },
      "execution_count": 13,
      "outputs": [
        {
          "output_type": "execute_result",
          "data": {
            "text/plain": [
              "dict_keys(['30459-35'])"
            ]
          },
          "metadata": {},
          "execution_count": 13
        }
      ]
    },
    {
      "cell_type": "code",
      "source": [
        "diff_depo_all['Hannover 92']['30459-35'].keys()"
      ],
      "metadata": {
        "colab": {
          "base_uri": "https://localhost:8080/"
        },
        "id": "NZUe1KEZlkQr",
        "outputId": "92323ff6-88b7-4eab-be40-2be4489a958c"
      },
      "execution_count": 14,
      "outputs": [
        {
          "output_type": "execute_result",
          "data": {
            "text/plain": [
              "dict_keys(['start_end_points', 'dm', 'map'])"
            ]
          },
          "metadata": {},
          "execution_count": 14
        }
      ]
    },
    {
      "cell_type": "code",
      "source": [
        "diff_depo_all['Hannover 92']['30459-35']['start_end_points']"
      ],
      "metadata": {
        "colab": {
          "base_uri": "https://localhost:8080/"
        },
        "id": "pf-nfTbMlowB",
        "outputId": "dfd68c83-7cf3-4a75-db27-b8034288a541"
      },
      "execution_count": 15,
      "outputs": [
        {
          "output_type": "execute_result",
          "data": {
            "text/plain": [
              "[0, 5267]"
            ]
          },
          "metadata": {},
          "execution_count": 15
        }
      ]
    },
    {
      "cell_type": "markdown",
      "source": [
        "# Google OR --> Path_Cheapest_Arc"
      ],
      "metadata": {
        "id": "5PMmftxEonc3"
      }
    },
    {
      "cell_type": "code",
      "source": [
        "%%time\n",
        "\n",
        "# iterate through all regions\n",
        "for region in diff_depo_all.keys():\n",
        "  # iterate through all districts\n",
        "  for district in diff_depo_all[region].keys():\n",
        "    start = datetime.datetime.now()\n",
        "    # solve TSP\n",
        "    tsp = TSP(diff_depo_all[region][district]['dm'])\n",
        "    # store TSP results\n",
        "    solver_info = {}\n",
        "    solver_info['tour'], solver_info['cost'] = tsp.solve()\n",
        "    solver_info['tour'] = map_actual_route(solver_info['tour'], diff_depo_all[region][district]['map'])\n",
        "    diff_depo_all[region][district]['path_cheapest_arc'] = solver_info\n",
        "    # log to check whether start and end points are adjacent\n",
        "    print(region, ';', district, ';', 'depos -->', diff_depo_all[region][district]['start_end_points'],\n",
        "          '\\n; start and end segments after using solver -->', solver_info['tour'][0:5], solver_info['tour'][-5:],\n",
        "          ';time needed :', datetime.datetime.now() - start)\n"
      ],
      "metadata": {
        "colab": {
          "base_uri": "https://localhost:8080/"
        },
        "id": "X6xTZCiPosqT",
        "outputId": "b5adeacf-c751-42b3-f4aa-25e4b9d6dad4"
      },
      "execution_count": 16,
      "outputs": [
        {
          "output_type": "stream",
          "name": "stdout",
          "text": [
            "Warmsen ; 31606-13 ; depos --> [4, 4409] \n",
            "; start and end segments after using solver --> [4, 4409, 4197, 4195, 4269] [4270, 4179, 4407, 4408, 4200] ;time needed : 0:00:06.254171\n",
            "Warmsen ; 31606-11 ; depos --> [4, 3] \n",
            "; start and end segments after using solver --> [3, 4, 4490, 4491, 4493] [4610, 4609, 4608, 4607, 4489] ;time needed : 0:00:04.799789\n",
            "Warmsen ; 31600-03 ; depos --> [0, 2] \n",
            "; start and end segments after using solver --> [0, 2, 8, 767, 768] [906, 905, 904, 903, 902] ;time needed : 0:00:07.297881\n",
            "Warmsen ; 31603-07 ; depos --> [0, 4194] \n",
            "; start and end segments after using solver --> [0, 4194, 3003, 2999, 2998] [2841, 2844, 2845, 2847, 2849] ;time needed : 0:00:06.156818\n",
            "Warmsen ; 31603-08 ; depos --> [4, 4194] \n",
            "; start and end segments after using solver --> [4, 3145, 3148, 3149, 3146] [3278, 3266, 3265, 3267, 4194] ;time needed : 0:00:07.984165\n",
            "Warmsen ; 31604-10 ; depos --> [0, 3] \n",
            "; start and end segments after using solver --> [0, 3953, 3944, 3945, 3947] [4148, 4149, 4147, 3798, 3] ;time needed : 0:00:08.206639\n",
            "Warmsen ; 31603-05 ; depos --> [0, 3] \n",
            "; start and end segments after using solver --> [0, 1916, 1829, 1918, 1881] [1904, 2192, 1861, 1871, 3] ;time needed : 0:00:10.843937\n",
            "Warmsen ; 31603-06 ; depos --> [0, 3] \n",
            "; start and end segments after using solver --> [0, 3, 2224, 2228, 2225] [2409, 2410, 2414, 2232, 2233] ;time needed : 0:00:12.687463\n",
            "Warmsen ; 31606-12 ; depos --> [0, 4194] \n",
            "; start and end segments after using solver --> [0, 4194, 4825, 4824, 4826] [5120, 5019, 5022, 5023, 4912] ;time needed : 0:00:12.612101\n",
            "Warmsen ; 31606-14 ; depos --> [0, 4409] \n",
            "; start and end segments after using solver --> [0, 4409, 147, 105, 106] [231, 230, 104, 96, 95] ;time needed : 0:00:05.332088\n",
            "Warmsen ; 31604-09 ; depos --> [1159, 3] \n",
            "; start and end segments after using solver --> [3, 1159, 3418, 3425, 3421] [3632, 3630, 3627, 3628, 3629] ;time needed : 0:00:08.807230\n",
            "Uerze ; 31311-31 ; depos --> [0, 2] \n",
            "; start and end segments after using solver --> [0, 2, 4671, 4672, 4750] [4675, 4674, 4673, 4670, 4669] ;time needed : 0:00:08.345147\n",
            "Uerze ; 31311-07 ; depos --> [0, 1] \n",
            "; start and end segments after using solver --> [0, 1, 42, 43, 35] [176, 175, 172, 145, 144] ;time needed : 0:00:02.937089\n",
            "Uerze ; 31311-04 ; depos --> [0, 4] \n",
            "; start and end segments after using solver --> [0, 4, 2658, 2659, 2662] [2552, 2849, 2848, 2850, 2843] ;time needed : 0:00:09.838286\n",
            "Uerze ; 31311-01 ; depos --> [0, 4] \n",
            "; start and end segments after using solver --> [0, 1469, 1464, 1463, 1485] [1478, 1479, 1483, 1482, 4] ;time needed : 0:00:13.225002\n",
            "Uerze ; 31311-25 ; depos --> [0, 2] \n",
            "; start and end segments after using solver --> [0, 2, 4489, 4490, 4491] [4211, 4212, 4215, 4213, 4214] ;time needed : 0:00:11.500312\n",
            "Uerze ; 31311-22 ; depos --> [0, 2] \n",
            "; start and end segments after using solver --> [0, 2, 3561, 3562, 3563] [3511, 3388, 3389, 3387, 3386] ;time needed : 0:00:14.715265\n",
            "Uerze ; 31311-03 ; depos --> [0, 1] \n",
            "; start and end segments after using solver --> [0, 1, 2404, 2405, 2075] [2239, 2238, 2236, 2235, 2237] ;time needed : 0:00:14.546371\n",
            "Uerze ; 31311-02 ; depos --> [0, 4] \n",
            "; start and end segments after using solver --> [0, 603, 602, 601, 600] [543, 500, 501, 497, 4] ;time needed : 0:00:05.697104\n",
            "Uerze ; 31311-42 ; depos --> [0, 4] \n",
            "; start and end segments after using solver --> [0, 5037, 5030, 5031, 5435] [5431, 5430, 5428, 5427, 4] ;time needed : 0:00:15.556482\n",
            "Uerze ; 31311-61 ; depos --> [0, 4] \n",
            "; start and end segments after using solver --> [0, 6110, 6104, 6111, 6112] [5976, 5977, 5978, 5979, 4] ;time needed : 0:00:19.121905\n",
            "Uerze ; 31311-51 ; depos --> [0, 1] \n",
            "; start and end segments after using solver --> [0, 5456, 5457, 5462, 5463] [5455, 5459, 5454, 5453, 1] ;time needed : 0:00:08.863590\n",
            "Uerze ; 31311-21 ; depos --> [0, 2] \n",
            "; start and end segments after using solver --> [0, 2, 3016, 3011, 3013] [3112, 3111, 3110, 3109, 3108] ;time needed : 0:00:15.058617\n",
            "Uerze ; 31311-05 ; depos --> [0, 4] \n",
            "; start and end segments after using solver --> [0, 877, 878, 879, 908] [801, 800, 799, 1004, 4] ;time needed : 0:00:14.785707\n",
            "Uerze ; 31311-62 ; depos --> [0, 1] \n",
            "; start and end segments after using solver --> [0, 6417, 6420, 6430, 6421] [6533, 6536, 6537, 6535, 1] ;time needed : 0:00:13.548780\n",
            "Uerze ; 31311-08 ; depos --> [0, 1] \n",
            "; start and end segments after using solver --> [0, 1, 1675, 1580, 1655] [1668, 1862, 1860, 1647, 1648] ;time needed : 0:00:15.308763\n",
            "Uerze ; 31311-81 ; depos --> [0, 4] \n",
            "; start and end segments after using solver --> [0, 7126, 7127, 7129, 7128] [7311, 7387, 7116, 7121, 4] ;time needed : 0:00:14.760996\n",
            "Hannover 92 ; 30459-35 ; depos --> [0, 5267] \n",
            "; start and end segments after using solver --> [0, 5267, 5779, 5780, 5862] [5648, 5762, 5761, 5760, 5759] ;time needed : 0:00:01.388669\n",
            "CPU times: user 4min 47s, sys: 687 ms, total: 4min 47s\n",
            "Wall time: 4min 50s\n"
          ]
        }
      ]
    },
    {
      "cell_type": "markdown",
      "source": [
        "# Google OR --> Global_Cheapest_Arc"
      ],
      "metadata": {
        "id": "DdxK8kpfouOp"
      }
    },
    {
      "cell_type": "code",
      "source": [
        "%%time\n",
        "\n",
        "# iterate through all regions\n",
        "for region in diff_depo_all.keys():\n",
        "  # iterate through all districts\n",
        "  for district in diff_depo_all[region].keys():\n",
        "    start = datetime.datetime.now()\n",
        "    # solve TSP\n",
        "    tsp = TSP_v2(diff_depo_all[region][district]['dm'])\n",
        "    # store TSP results\n",
        "    solver_info = {}\n",
        "    solver_info['tour'], solver_info['cost'] = tsp.solve()\n",
        "    solver_info['tour'] = map_actual_route(solver_info['tour'], diff_depo_all[region][district]['map'])\n",
        "    diff_depo_all[region][district]['global_cheapest_arc'] = solver_info\n",
        "    # log to check whether start and end points are adjacent\n",
        "    print(region, ';', district, ';', 'depos -->', diff_depo_all[region][district]['start_end_points'],\n",
        "          '\\n; start and end segments after using solver -->', solver_info['tour'][0:5], solver_info['tour'][-5:],\n",
        "          ';time needed :', datetime.datetime.now() - start)\n"
      ],
      "metadata": {
        "colab": {
          "base_uri": "https://localhost:8080/"
        },
        "id": "WRB8SkUKovoI",
        "outputId": "6ebed12d-6296-4900-b087-3d2da798af2c"
      },
      "execution_count": 17,
      "outputs": [
        {
          "output_type": "stream",
          "name": "stdout",
          "text": [
            "Warmsen ; 31606-13 ; depos --> [4, 4409] \n",
            "; start and end segments after using solver --> [4, 4195, 4201, 4194, 4196] [4172, 4178, 4179, 4408, 4409] ;time needed : 0:00:04.233139\n",
            "Warmsen ; 31606-11 ; depos --> [4, 3] \n",
            "; start and end segments after using solver --> [3, 4, 4490, 4606, 4611] [4574, 4575, 4576, 4492, 4489] ;time needed : 0:00:07.676156\n",
            "Warmsen ; 31600-03 ; depos --> [0, 2] \n",
            "; start and end segments after using solver --> [0, 885, 877, 876, 901] [937, 936, 938, 839, 2] ;time needed : 0:00:09.836984\n",
            "Warmsen ; 31603-07 ; depos --> [0, 4194] \n",
            "; start and end segments after using solver --> [0, 4194, 3003, 2999, 2998] [2849, 2850, 2790, 2792, 2791] ;time needed : 0:00:10.837166\n",
            "Warmsen ; 31603-08 ; depos --> [4, 4194] \n",
            "; start and end segments after using solver --> [4, 4194, 3145, 3148, 3149] [3051, 3050, 3048, 3349, 3348] ;time needed : 0:00:09.540108\n",
            "Warmsen ; 31604-10 ; depos --> [0, 3] \n",
            "; start and end segments after using solver --> [0, 3842, 3829, 3828, 3841] [4152, 4146, 4151, 4150, 3] ;time needed : 0:00:09.051229\n",
            "Warmsen ; 31603-05 ; depos --> [0, 3] \n",
            "; start and end segments after using solver --> [0, 1870, 1879, 1876, 1873] [1893, 1892, 1891, 1871, 3] ;time needed : 0:00:11.412824\n",
            "Warmsen ; 31603-06 ; depos --> [0, 3] \n",
            "; start and end segments after using solver --> [0, 3, 2224, 2228, 2225] [2414, 2420, 2419, 2232, 2233] ;time needed : 0:00:13.900062\n",
            "Warmsen ; 31606-12 ; depos --> [0, 4194] \n",
            "; start and end segments after using solver --> [0, 4194, 4824, 4826, 4823] [5010, 5008, 5009, 5130, 4912] ;time needed : 0:00:12.654944\n",
            "Warmsen ; 31606-14 ; depos --> [0, 4409] \n",
            "; start and end segments after using solver --> [0, 4409, 28, 109, 108] [229, 231, 230, 96, 95] ;time needed : 0:00:06.145711\n",
            "Warmsen ; 31604-09 ; depos --> [1159, 3] \n",
            "; start and end segments after using solver --> [3, 1159, 3418, 3425, 3421] [3498, 3630, 3627, 3628, 3629] ;time needed : 0:00:10.964139\n",
            "Uerze ; 31311-31 ; depos --> [0, 2] \n",
            "; start and end segments after using solver --> [0, 2, 4732, 4735, 4734] [4673, 4671, 4672, 4669, 4670] ;time needed : 0:00:08.823552\n",
            "Uerze ; 31311-07 ; depos --> [0, 1] \n",
            "; start and end segments after using solver --> [0, 1, 41, 125, 118] [98, 174, 172, 145, 144] ;time needed : 0:00:03.938211\n",
            "Uerze ; 31311-04 ; depos --> [0, 4] \n",
            "; start and end segments after using solver --> [0, 2608, 2607, 2551, 2548] [2569, 2570, 2571, 2576, 4] ;time needed : 0:00:09.289550\n",
            "Uerze ; 31311-01 ; depos --> [0, 4] \n",
            "; start and end segments after using solver --> [0, 1469, 1464, 1340, 1339] [1337, 1336, 1341, 1463, 4] ;time needed : 0:00:11.843373\n",
            "Uerze ; 31311-25 ; depos --> [0, 2] \n",
            "; start and end segments after using solver --> [0, 2, 4531, 4530, 4532] [4311, 4310, 4314, 4239, 4238] ;time needed : 0:00:07.962693\n",
            "Uerze ; 31311-22 ; depos --> [0, 2] \n",
            "; start and end segments after using solver --> [0, 2, 3557, 3707, 3715] [3509, 3388, 3389, 3387, 3386] ;time needed : 0:00:09.743842\n",
            "Uerze ; 31311-03 ; depos --> [0, 1] \n",
            "; start and end segments after using solver --> [0, 1, 2307, 2303, 2304] [2178, 2177, 2186, 2405, 2404] ;time needed : 0:00:13.952368\n",
            "Uerze ; 31311-02 ; depos --> [0, 4] \n",
            "; start and end segments after using solver --> [0, 603, 602, 601, 600] [413, 416, 3, 497, 4] ;time needed : 0:00:10.876786\n",
            "Uerze ; 31311-42 ; depos --> [0, 4] \n",
            "; start and end segments after using solver --> [0, 5027, 5026, 5025, 5024] [5061, 5059, 5030, 5037, 4] ;time needed : 0:00:18.743988\n",
            "Uerze ; 31311-61 ; depos --> [0, 4] \n",
            "; start and end segments after using solver --> [0, 6104, 6111, 6115, 6116] [5976, 5977, 5978, 5979, 4] ;time needed : 0:00:15.435646\n",
            "Uerze ; 31311-51 ; depos --> [0, 1] \n",
            "; start and end segments after using solver --> [0, 5873, 5600, 5602, 5601] [5494, 5493, 5459, 5453, 1] ;time needed : 0:00:12.333555\n",
            "Uerze ; 31311-21 ; depos --> [0, 2] \n",
            "; start and end segments after using solver --> [0, 3108, 3109, 3110, 3111] [2909, 2907, 3001, 2967, 2] ;time needed : 0:00:17.062807\n",
            "Uerze ; 31311-05 ; depos --> [0, 4] \n",
            "; start and end segments after using solver --> [0, 1004, 877, 878, 879] [1038, 1028, 1029, 1037, 4] ;time needed : 0:00:13.904314\n",
            "Uerze ; 31311-62 ; depos --> [0, 1] \n",
            "; start and end segments after using solver --> [0, 6417, 6420, 6430, 6421] [6474, 6494, 6495, 6478, 1] ;time needed : 0:00:12.412332\n",
            "Uerze ; 31311-08 ; depos --> [0, 1] \n",
            "; start and end segments after using solver --> [0, 1675, 1671, 1578, 1579] [1839, 1835, 1838, 1834, 1] ;time needed : 0:00:11.276162\n",
            "Uerze ; 31311-81 ; depos --> [0, 4] \n",
            "; start and end segments after using solver --> [0, 7125, 7124, 6987, 7166] [7021, 7013, 7285, 7282, 4] ;time needed : 0:00:14.202953\n",
            "Hannover 92 ; 30459-35 ; depos --> [0, 5267] \n",
            "; start and end segments after using solver --> [0, 5267, 6043, 6042, 6041] [5700, 5701, 5707, 5708, 5709] ;time needed : 0:00:03.286763\n",
            "CPU times: user 4min 58s, sys: 572 ms, total: 4min 58s\n",
            "Wall time: 5min 1s\n"
          ]
        }
      ]
    },
    {
      "cell_type": "markdown",
      "source": [
        "#Comparison between the solution strategies"
      ],
      "metadata": {
        "id": "EJDJTYU1t_M5"
      }
    },
    {
      "cell_type": "code",
      "source": [
        "%%time\n",
        "\n",
        "# iterate through all regions\n",
        "for region in diff_depo_all.keys():\n",
        "  # iterate through all districts\n",
        "  for district in diff_depo_all[region].keys():\n",
        "    strategy_1 = diff_depo_all[region][district]['path_cheapest_arc']\n",
        "    strategy_2 = diff_depo_all[region][district]['global_cheapest_arc']\n",
        "    # calculate similarity of tours\n",
        "    tour_sim = round(find_similarity_route(strategy_1['tour'], strategy_2['tour'])[1], 2)\n",
        "    # calculate  ratio of using strategy 2 compared to strategy 1\n",
        "    strat_ratio = round(strategy_2['cost']/strategy_1['cost'], 2)\n",
        "    # log to check\n",
        "    print(region, ';', district, '; tour similarity', tour_sim, '%',\n",
        "          '; ratio using global_cheapest_arc vs path_cheapest_arc', strat_ratio)\n"
      ],
      "metadata": {
        "colab": {
          "base_uri": "https://localhost:8080/"
        },
        "id": "peVldBGauIKy",
        "outputId": "fc4e73a0-4cc6-4037-fca9-5c13590ee8c5"
      },
      "execution_count": 30,
      "outputs": [
        {
          "output_type": "stream",
          "name": "stdout",
          "text": [
            "Warmsen ; 31606-13 ; tour similarity 53.11 % ; ratio using global_cheapest_arc vs path_cheapest_arc 1.0\n",
            "Warmsen ; 31606-11 ; tour similarity 52.87 % ; ratio using global_cheapest_arc vs path_cheapest_arc 0.98\n",
            "Warmsen ; 31600-03 ; tour similarity 59.3 % ; ratio using global_cheapest_arc vs path_cheapest_arc 0.99\n",
            "Warmsen ; 31603-07 ; tour similarity 60.86 % ; ratio using global_cheapest_arc vs path_cheapest_arc 1.0\n",
            "Warmsen ; 31603-08 ; tour similarity 53.76 % ; ratio using global_cheapest_arc vs path_cheapest_arc 1.0\n",
            "Warmsen ; 31604-10 ; tour similarity 56.46 % ; ratio using global_cheapest_arc vs path_cheapest_arc 0.98\n",
            "Warmsen ; 31603-05 ; tour similarity 44.27 % ; ratio using global_cheapest_arc vs path_cheapest_arc 1.0\n",
            "Warmsen ; 31603-06 ; tour similarity 61.47 % ; ratio using global_cheapest_arc vs path_cheapest_arc 1.01\n",
            "Warmsen ; 31606-12 ; tour similarity 54.89 % ; ratio using global_cheapest_arc vs path_cheapest_arc 1.0\n",
            "Warmsen ; 31606-14 ; tour similarity 58.06 % ; ratio using global_cheapest_arc vs path_cheapest_arc 0.99\n",
            "Warmsen ; 31604-09 ; tour similarity 61.14 % ; ratio using global_cheapest_arc vs path_cheapest_arc 0.99\n",
            "Uerze ; 31311-31 ; tour similarity 40.11 % ; ratio using global_cheapest_arc vs path_cheapest_arc 0.98\n",
            "Uerze ; 31311-07 ; tour similarity 53.66 % ; ratio using global_cheapest_arc vs path_cheapest_arc 0.99\n",
            "Uerze ; 31311-04 ; tour similarity 57.07 % ; ratio using global_cheapest_arc vs path_cheapest_arc 0.97\n",
            "Uerze ; 31311-01 ; tour similarity 39.85 % ; ratio using global_cheapest_arc vs path_cheapest_arc 1.0\n",
            "Uerze ; 31311-25 ; tour similarity 55.92 % ; ratio using global_cheapest_arc vs path_cheapest_arc 1.02\n",
            "Uerze ; 31311-22 ; tour similarity 35.15 % ; ratio using global_cheapest_arc vs path_cheapest_arc 1.0\n",
            "Uerze ; 31311-03 ; tour similarity 42.07 % ; ratio using global_cheapest_arc vs path_cheapest_arc 1.0\n",
            "Uerze ; 31311-02 ; tour similarity 53.73 % ; ratio using global_cheapest_arc vs path_cheapest_arc 1.0\n",
            "Uerze ; 31311-42 ; tour similarity 48.65 % ; ratio using global_cheapest_arc vs path_cheapest_arc 0.98\n",
            "Uerze ; 31311-61 ; tour similarity 48.05 % ; ratio using global_cheapest_arc vs path_cheapest_arc 0.99\n",
            "Uerze ; 31311-51 ; tour similarity 50.11 % ; ratio using global_cheapest_arc vs path_cheapest_arc 0.99\n",
            "Uerze ; 31311-21 ; tour similarity 50.36 % ; ratio using global_cheapest_arc vs path_cheapest_arc 1.0\n",
            "Uerze ; 31311-05 ; tour similarity 55.24 % ; ratio using global_cheapest_arc vs path_cheapest_arc 1.01\n",
            "Uerze ; 31311-62 ; tour similarity 57.34 % ; ratio using global_cheapest_arc vs path_cheapest_arc 1.0\n",
            "Uerze ; 31311-08 ; tour similarity 50.89 % ; ratio using global_cheapest_arc vs path_cheapest_arc 1.0\n",
            "Uerze ; 31311-81 ; tour similarity 51.12 % ; ratio using global_cheapest_arc vs path_cheapest_arc 0.99\n",
            "Hannover 92 ; 30459-35 ; tour similarity 18.58 % ; ratio using global_cheapest_arc vs path_cheapest_arc 1.0\n",
            "CPU times: user 22.1 ms, sys: 2 µs, total: 22.1 ms\n",
            "Wall time: 23.4 ms\n"
          ]
        }
      ]
    }
  ]
}