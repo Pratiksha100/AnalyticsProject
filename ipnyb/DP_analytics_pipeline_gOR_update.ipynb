{
  "nbformat": 4,
  "nbformat_minor": 0,
  "metadata": {
    "colab": {
      "provenance": []
    },
    "kernelspec": {
      "name": "python3",
      "display_name": "Python 3"
    },
    "language_info": {
      "name": "python"
    }
  },
  "cells": [
    {
      "cell_type": "code",
      "execution_count": 1,
      "metadata": {
        "colab": {
          "base_uri": "https://localhost:8080/",
          "height": 34
        },
        "id": "HHSEk7OZM-lv",
        "outputId": "e970d4b6-d8b8-46c8-c84d-0b4ab5cdb960"
      },
      "outputs": [
        {
          "output_type": "display_data",
          "data": {
            "application/javascript": [
              "IPython.notebook.set_autosave_interval(0)"
            ]
          },
          "metadata": {}
        },
        {
          "output_type": "stream",
          "name": "stdout",
          "text": [
            "Autosave disabled\n"
          ]
        }
      ],
      "source": [
        "%autosave 0"
      ]
    },
    {
      "cell_type": "code",
      "source": [
        "from google.colab import drive\n",
        "drive.mount('/content/drive')"
      ],
      "metadata": {
        "colab": {
          "base_uri": "https://localhost:8080/"
        },
        "id": "CnqjlHadOr7L",
        "outputId": "fa120cd5-3f9a-4a0d-ff24-da45617ab729"
      },
      "execution_count": 2,
      "outputs": [
        {
          "output_type": "stream",
          "name": "stdout",
          "text": [
            "Mounted at /content/drive\n"
          ]
        }
      ]
    },
    {
      "cell_type": "code",
      "source": [
        "!pip install ortools"
      ],
      "metadata": {
        "colab": {
          "base_uri": "https://localhost:8080/"
        },
        "id": "i77YmhQ0s6EG",
        "outputId": "79809dbb-7ea6-4d04-d9de-f3b7df10ab0f"
      },
      "execution_count": 3,
      "outputs": [
        {
          "output_type": "stream",
          "name": "stdout",
          "text": [
            "Looking in indexes: https://pypi.org/simple, https://us-python.pkg.dev/colab-wheels/public/simple/\n",
            "Collecting ortools\n",
            "  Downloading ortools-9.6.2534-cp310-cp310-manylinux_2_17_x86_64.manylinux2014_x86_64.whl (16.4 MB)\n",
            "\u001b[2K     \u001b[90m━━━━━━━━━━━━━━━━━━━━━━━━━━━━━━━━━━━━━━━━\u001b[0m \u001b[32m16.4/16.4 MB\u001b[0m \u001b[31m69.9 MB/s\u001b[0m eta \u001b[36m0:00:00\u001b[0m\n",
            "\u001b[?25hRequirement already satisfied: absl-py>=0.13 in /usr/local/lib/python3.10/dist-packages (from ortools) (1.4.0)\n",
            "Requirement already satisfied: numpy>=1.13.3 in /usr/local/lib/python3.10/dist-packages (from ortools) (1.22.4)\n",
            "Collecting protobuf>=4.21.12 (from ortools)\n",
            "  Downloading protobuf-4.23.2-cp37-abi3-manylinux2014_x86_64.whl (304 kB)\n",
            "\u001b[2K     \u001b[90m━━━━━━━━━━━━━━━━━━━━━━━━━━━━━━━━━━━━━━\u001b[0m \u001b[32m304.5/304.5 kB\u001b[0m \u001b[31m18.5 MB/s\u001b[0m eta \u001b[36m0:00:00\u001b[0m\n",
            "\u001b[?25hRequirement already satisfied: scipy>=1.10.0 in /usr/local/lib/python3.10/dist-packages (from ortools) (1.10.1)\n",
            "Installing collected packages: protobuf, ortools\n",
            "  Attempting uninstall: protobuf\n",
            "    Found existing installation: protobuf 3.20.3\n",
            "    Uninstalling protobuf-3.20.3:\n",
            "      Successfully uninstalled protobuf-3.20.3\n",
            "Successfully installed ortools-9.6.2534 protobuf-4.23.2\n"
          ]
        }
      ]
    },
    {
      "cell_type": "code",
      "source": [
        "import os\n",
        "import pandas as pd\n",
        "import numpy as np\n",
        "import re\n",
        "import collections\n",
        "import pickle\n",
        "from ast import literal_eval\n",
        "import random\n",
        "import scipy\n",
        "import math\n",
        "import datetime\n",
        "import subprocess\n",
        "\n",
        "from ortools.constraint_solver import pywrapcp\n",
        "from ortools.constraint_solver import routing_enums_pb2"
      ],
      "metadata": {
        "id": "kPbHZs8VO5Cn"
      },
      "execution_count": 4,
      "outputs": []
    },
    {
      "cell_type": "markdown",
      "source": [
        "#Functions"
      ],
      "metadata": {
        "id": "3yZh3njlQJ26"
      }
    },
    {
      "cell_type": "code",
      "source": [
        "# arrange sequence of tour\n",
        "\n",
        "def arrange_tour(solver_tour, start_end_points):\n",
        "\n",
        "    #Get the start and end point of the specific district of the instance\n",
        "    start_PP, end_PP = start_end_points \n",
        "    arranged_tour = 0\n",
        "\n",
        "    #FUNCTION TO REARRANGE THE LIST WITH CASE OF SAME START AND END POSTPOINT\n",
        "    def rearrange_list(numbers, specific_value):\n",
        "        # Find the index of the specific value in the list\n",
        "        index = numbers.index(specific_value)\n",
        "        \n",
        "        # Check if the chosen element is repeated twice consecutively\n",
        "        if numbers[index] == numbers[index + 1]:\n",
        "            # Split the list into two parts based on the index\n",
        "            part1 = numbers[:index]\n",
        "            part2 = numbers[index + 1:]\n",
        "            \n",
        "            # Rearrange the list by concatenating the parts and adding the specific value at the beginning and end\n",
        "            rearranged_list = part2 + part1 + [specific_value]\n",
        "        else:\n",
        "            # Split the list into two parts based on the index\n",
        "            part1 = numbers[:index]\n",
        "            part2 = numbers[index:]\n",
        "            \n",
        "            # Rearrange the list by concatenating the parts in reverse order\n",
        "            rearranged_list = part2 + part1\n",
        "        \n",
        "        return rearranged_list\n",
        "    \n",
        "    \n",
        "    #FUNCTION TO REARRANGE THE LIST WITH CASE OF DIFFERENT START AND END POSTPOINT\n",
        "    def rearrange_circular_tour(tour, start_point, end_point):\n",
        "    # Find the index of the start point in the tour list\n",
        "        start_index = tour.index(start_point)\n",
        "            \n",
        "        # Find the index of the end point in the tour list\n",
        "        end_index = tour.index(end_point)\n",
        "                \n",
        "        # Check if the start and end points are already at the first and last positions\n",
        "        if start_index == 0 and end_index == len(tour) - 1:\n",
        "            return tour\n",
        "                \n",
        "        # Split the tour list into two parts based on the start and end indices\n",
        "        if start_index < end_index:\n",
        "            part1 = tour[0:start_index + 1]\n",
        "            part1.reverse()\n",
        "\n",
        "            part2 = tour[start_index + 1:]\n",
        "            part2.reverse()\n",
        "                \n",
        "        else:\n",
        "            part1 = tour[start_index:] + tour[:end_index+1]\n",
        "            part2 = tour[end_index+1:start_index]\n",
        "                \n",
        "        # Rearrange the tour list by concatenating the parts\n",
        "        rearranged_tour = part1 + part2\n",
        "        \n",
        "        return rearranged_tour\n",
        "    \n",
        "\n",
        "\n",
        "    #Case of start and end point equal\n",
        "    if start_PP == end_PP:\n",
        "        #If the start and end point are already in correct positions return list as it is                                                                              \n",
        "        if start_PP == solver_tour[0] and end_PP == solver_tour[len(solver_tour)-1]:                    \n",
        "            arranged_tour = solver_tour\n",
        "        else: \n",
        "            #Check if start or end point (doesn't matter they have the same value) appears less than two times on the list\n",
        "            if list.count(solver_tour, start_PP) < 2:\n",
        "                #If if is not repeated. Check if at least start_point is in first_position.                                                   \n",
        "                if start_PP == solver_tour[0]: \n",
        "                    #If start_point is in first position just append end point at the end of list.                                                         \n",
        "                    arranged_tour = solver_tour + [end_PP]\n",
        "                else: \n",
        "                    #Rearrange the tour first with start_PP at the beginning of the list before appending end_PP\n",
        "                    arranged_tour = rearrange_list(solver_tour, start_PP)\n",
        "                    arranged_tour = arranged_tour + [end_PP]               \n",
        "            else: \n",
        "                #Rearrange the tour in the correct order\n",
        "                arranged_tour = rearrange_list(solver_tour, start_PP)\n",
        "    #Case of start and end point different\n",
        "    else:\n",
        "       arranged_tour = rearrange_circular_tour(tour = solver_tour, start_point = start_PP, end_point = end_PP)\n",
        "    \n",
        "    return arranged_tour"
      ],
      "metadata": {
        "id": "9MJIYX4EsRCV"
      },
      "execution_count": 5,
      "outputs": []
    },
    {
      "cell_type": "code",
      "source": [
        "#FUNCTION TO GET SUBSET OF A COMPLETE TOUR AND ITS LENGTH KEEPING SEQUENCE BASED ON INSTANCES VOLUMES\n",
        "\n",
        "#INPUTS:    Complete Tour (DP or Concord), Complete Tour info (DP or Concord), \n",
        "#           Distance Matrix for the instance (generated from instance generation function), Mapping of PostPoints Needed (Dictionary obtained from instance generation function)\n",
        "#OUTPUTS:   Tour Sequence Fixed, Tour Length, Difference between New Tour and Complete Tour\n",
        "\n",
        "\n",
        "\n",
        "def new_tour_sequence_fixed(complete_tour, dm_instance, mapping_pp_needed):\n",
        "    #get the list of only the Postpoint needed for the specific instance\n",
        "    list_pp_needed = list(mapping_pp_needed.values())\n",
        "\n",
        "    #Keep from complete_tour only the needed PostPoints according to the list of PostPoints needed mantaining sequence\n",
        "    tour_seq_fixed = [x for x in complete_tour if x in list_pp_needed]\n",
        "\n",
        "    #Generate a dataframe from the distance matrix with the correct row-column combination based on PostPoints required\n",
        "    df_dm_instance = pd.DataFrame(dm_instance)\n",
        "    df_dm_instance = (df_dm_instance.rename(columns= mapping_pp_needed)).rename(index = mapping_pp_needed)\n",
        "\n",
        "    #FUNCTION to compute length of new tour (Adapting using logic of function already created for default_route calculation: get_tour_length())\n",
        "    \n",
        "    def get_seq_tour_length(sequence_list, distance_df):\n",
        "        tour_length = 0 \n",
        "        for i in range(len(sequence_list)-1):\n",
        "            # Specify the specific values for row and column in the dataframe\n",
        "            PostPoint_predecesor = sequence_list[i]\n",
        "            PostPoint_succesor = sequence_list[i+1]\n",
        "\n",
        "            # Get the distance value needed based on the Post Point combination or raise error\n",
        "            try:\n",
        "                distance_value = distance_df[PostPoint_predecesor][PostPoint_succesor]\n",
        "            except: \n",
        "                print('ERROR: No distance for PostPoint combination')\n",
        "\n",
        "            # Aggreate sum value until end of loop to compute total tour length\n",
        "            tour_length += distance_value\n",
        "            \n",
        "        return round(tour_length,2)\n",
        "    \n",
        "    #Calculate tour length of new tour which skips PostPoints\n",
        "    tour_seq_fixed_length = get_seq_tour_length(tour_seq_fixed, df_dm_instance)\n",
        "    \n",
        "\n",
        "    return tour_seq_fixed, tour_seq_fixed_length"
      ],
      "metadata": {
        "id": "XM849dZTt2ww"
      },
      "execution_count": 6,
      "outputs": []
    },
    {
      "cell_type": "code",
      "source": [
        "# route similarity\n",
        "\n",
        "def find_similarity_route(Tour1, Tour2):\n",
        "    predecessors1 = {Tour1[i]: Tour1[i-1] for i in range(1, len(Tour1))}\n",
        "    predecessors2 = {Tour2[i]: Tour2[i-1] for i in range(1, len(Tour2))}\n",
        "    num_changed_predecessors = 0\n",
        "\n",
        "    for node, pred2 in predecessors2.items():\n",
        "        pred1 = predecessors1[node]\n",
        "        if pred1 != pred2:\n",
        "            num_changed_predecessors += 1\n",
        "    percent_change = num_changed_predecessors / (len(Tour1)-1) * 100\n",
        "    sim_pct = 100 - percent_change\n",
        "\n",
        "    return num_changed_predecessors, sim_pct"
      ],
      "metadata": {
        "id": "sSnxs4QUri8y"
      },
      "execution_count": 7,
      "outputs": []
    },
    {
      "cell_type": "code",
      "source": [],
      "metadata": {
        "id": "IngFus7hHh18"
      },
      "execution_count": 7,
      "outputs": []
    },
    {
      "cell_type": "code",
      "source": [
        "# heuristic google OR algo\n",
        "\n",
        "class TSP:\n",
        "    def __init__(self, distance_matrix):\n",
        "        #read distance matrix --> list\n",
        "        self.dist_mat = distance_matrix\n",
        "        self.dist_mat = self.round_up(self.dist_mat)\n",
        "        # Create data model\n",
        "        self.data = self.create_data_model()\n",
        "        # Create routing index manager\n",
        "        self.manager = pywrapcp.RoutingIndexManager(len(self.data['distance_matrix']),\n",
        "                                            self.data['num_vehicles'], self.data['depot'])\n",
        "        # Create Routing Model\n",
        "        self.routing = pywrapcp.RoutingModel(self.manager)\n",
        "        # Define cost of each arc\n",
        "        self.transit_callback_index = self.routing.RegisterTransitCallback(self.distance_callback)\n",
        "        self.routing.SetArcCostEvaluatorOfAllVehicles(self.transit_callback_index)\n",
        "    \n",
        "    def round_up(self , lst):\n",
        "        '''\n",
        "        input : list of lists having non integral values\n",
        "        output : list of lists having integral values.\n",
        "        Function to round up numbers and return as integers\n",
        "        '''\n",
        "        rounded_lst = []\n",
        "        for inner_lst in lst:\n",
        "            rounded_inner_lst = []\n",
        "            for num in inner_lst:\n",
        "                rounded_num = int(round(num))\n",
        "                rounded_inner_lst.append(rounded_num)\n",
        "            rounded_lst.append(rounded_inner_lst)\n",
        "        return rounded_lst        \n",
        "\n",
        "\n",
        "    def create_data_model(self):\n",
        "        # Stores the data for the problem\n",
        "        data = {}\n",
        "        data['distance_matrix'] = self.dist_mat \n",
        "        data['num_vehicles'] = 1\n",
        "        data['depot'] = 0\n",
        "        return data\n",
        "\n",
        "    def distance_callback(self, from_index, to_index):\n",
        "        # Returns the distance between the two nodes\n",
        "        from_node = self.manager.IndexToNode(from_index)\n",
        "        to_node = self.manager.IndexToNode(to_index)\n",
        "        return self.data['distance_matrix'][from_node][to_node]\n",
        "\n",
        "    def solve(self):\n",
        "        # Setting first solution heuristic\n",
        "        search_parameters = pywrapcp.DefaultRoutingSearchParameters()\n",
        "        search_parameters.first_solution_strategy = routing_enums_pb2.FirstSolutionStrategy.PATH_CHEAPEST_ARC\n",
        "        # Solve the problem\n",
        "        solution = self.routing.SolveWithParameters(search_parameters)\n",
        "        if solution:\n",
        "            # Get the route as an array\n",
        "            route = []\n",
        "            index = self.routing.Start(0)\n",
        "            while not self.routing.IsEnd(index):\n",
        "                node = self.manager.IndexToNode(index)\n",
        "                route.append(node)\n",
        "                index = solution.Value(self.routing.NextVar(index))\n",
        "            # Get the objective value\n",
        "            obj_value = solution.ObjectiveValue()\n",
        "            # route = self.map_nodes(route)\n",
        "            return route, obj_value"
      ],
      "metadata": {
        "id": "zCPeRRmHPUuP"
      },
      "execution_count": 8,
      "outputs": []
    },
    {
      "cell_type": "code",
      "source": [
        "def map_actual_route(route, mapping):\n",
        "  tour_mapped = [mapping[a] for a in route]\n",
        "  return tour_mapped"
      ],
      "metadata": {
        "id": "DCd7JXVSrhj8"
      },
      "execution_count": 9,
      "outputs": []
    },
    {
      "cell_type": "markdown",
      "source": [
        "#Read necessary files"
      ],
      "metadata": {
        "id": "nm0Rj3BRQLuq"
      }
    },
    {
      "cell_type": "code",
      "source": [
        "# upload files\n",
        "all_original = pickle.load(open(\"/content/drive/Shareddrives/Private Unlimited Drive #1/DDS/Analytics Project/Coding/Results/all_original_complete.p\", \"rb\"))\n",
        "warmsen_instances = pickle.load(open(\"/content/drive/Shareddrives/Private Unlimited Drive #1/DDS/Analytics Project/Coding/Results/warmsen_instances.p\", \"rb\"))\n",
        "all_default_tours = pickle.load(open(\"/content/drive/Shareddrives/Private Unlimited Drive #1/DDS/Analytics Project/Coding/Results/all_default_tours.p\", \"rb\"))"
      ],
      "metadata": {
        "id": "pnGon5z3QMsI"
      },
      "execution_count": 11,
      "outputs": []
    },
    {
      "cell_type": "code",
      "source": [
        "all_original['Warmsen']['31606-14'].keys()"
      ],
      "metadata": {
        "colab": {
          "base_uri": "https://localhost:8080/"
        },
        "id": "SZs9IqgvRMtR",
        "outputId": "582e9448-abfa-46be-9a7f-f925b671ed96"
      },
      "execution_count": 12,
      "outputs": [
        {
          "output_type": "execute_result",
          "data": {
            "text/plain": [
              "dict_keys(['start_end_points', 'dm', 'map'])"
            ]
          },
          "metadata": {},
          "execution_count": 12
        }
      ]
    },
    {
      "cell_type": "markdown",
      "source": [
        "#Hardware Info"
      ],
      "metadata": {
        "id": "LYBsOiWUcMi9"
      }
    },
    {
      "cell_type": "code",
      "source": [
        "!cat /proc/cpuinfo"
      ],
      "metadata": {
        "colab": {
          "base_uri": "https://localhost:8080/"
        },
        "id": "RCSYpkHxRiDl",
        "outputId": "1c2dbc75-e4c8-4f38-a8f8-333bbfc290ee"
      },
      "execution_count": 13,
      "outputs": [
        {
          "output_type": "stream",
          "name": "stdout",
          "text": [
            "processor\t: 0\n",
            "vendor_id\t: GenuineIntel\n",
            "cpu family\t: 6\n",
            "model\t\t: 79\n",
            "model name\t: Intel(R) Xeon(R) CPU @ 2.20GHz\n",
            "stepping\t: 0\n",
            "microcode\t: 0xffffffff\n",
            "cpu MHz\t\t: 2199.998\n",
            "cache size\t: 56320 KB\n",
            "physical id\t: 0\n",
            "siblings\t: 2\n",
            "core id\t\t: 0\n",
            "cpu cores\t: 1\n",
            "apicid\t\t: 0\n",
            "initial apicid\t: 0\n",
            "fpu\t\t: yes\n",
            "fpu_exception\t: yes\n",
            "cpuid level\t: 13\n",
            "wp\t\t: yes\n",
            "flags\t\t: fpu vme de pse tsc msr pae mce cx8 apic sep mtrr pge mca cmov pat pse36 clflush mmx fxsr sse sse2 ss ht syscall nx pdpe1gb rdtscp lm constant_tsc rep_good nopl xtopology nonstop_tsc cpuid tsc_known_freq pni pclmulqdq ssse3 fma cx16 pcid sse4_1 sse4_2 x2apic movbe popcnt aes xsave avx f16c rdrand hypervisor lahf_lm abm 3dnowprefetch invpcid_single ssbd ibrs ibpb stibp fsgsbase tsc_adjust bmi1 hle avx2 smep bmi2 erms invpcid rtm rdseed adx smap xsaveopt arat md_clear arch_capabilities\n",
            "bugs\t\t: cpu_meltdown spectre_v1 spectre_v2 spec_store_bypass l1tf mds swapgs taa mmio_stale_data retbleed\n",
            "bogomips\t: 4399.99\n",
            "clflush size\t: 64\n",
            "cache_alignment\t: 64\n",
            "address sizes\t: 46 bits physical, 48 bits virtual\n",
            "power management:\n",
            "\n",
            "processor\t: 1\n",
            "vendor_id\t: GenuineIntel\n",
            "cpu family\t: 6\n",
            "model\t\t: 79\n",
            "model name\t: Intel(R) Xeon(R) CPU @ 2.20GHz\n",
            "stepping\t: 0\n",
            "microcode\t: 0xffffffff\n",
            "cpu MHz\t\t: 2199.998\n",
            "cache size\t: 56320 KB\n",
            "physical id\t: 0\n",
            "siblings\t: 2\n",
            "core id\t\t: 0\n",
            "cpu cores\t: 1\n",
            "apicid\t\t: 1\n",
            "initial apicid\t: 1\n",
            "fpu\t\t: yes\n",
            "fpu_exception\t: yes\n",
            "cpuid level\t: 13\n",
            "wp\t\t: yes\n",
            "flags\t\t: fpu vme de pse tsc msr pae mce cx8 apic sep mtrr pge mca cmov pat pse36 clflush mmx fxsr sse sse2 ss ht syscall nx pdpe1gb rdtscp lm constant_tsc rep_good nopl xtopology nonstop_tsc cpuid tsc_known_freq pni pclmulqdq ssse3 fma cx16 pcid sse4_1 sse4_2 x2apic movbe popcnt aes xsave avx f16c rdrand hypervisor lahf_lm abm 3dnowprefetch invpcid_single ssbd ibrs ibpb stibp fsgsbase tsc_adjust bmi1 hle avx2 smep bmi2 erms invpcid rtm rdseed adx smap xsaveopt arat md_clear arch_capabilities\n",
            "bugs\t\t: cpu_meltdown spectre_v1 spectre_v2 spec_store_bypass l1tf mds swapgs taa mmio_stale_data retbleed\n",
            "bogomips\t: 4399.99\n",
            "clflush size\t: 64\n",
            "cache_alignment\t: 64\n",
            "address sizes\t: 46 bits physical, 48 bits virtual\n",
            "power management:\n",
            "\n"
          ]
        }
      ]
    },
    {
      "cell_type": "markdown",
      "source": [
        "#Google OR : Tours, Scenarios, Comparison"
      ],
      "metadata": {
        "id": "mJRwSZZorByM"
      }
    },
    {
      "cell_type": "markdown",
      "source": [
        "## Default and Optimized"
      ],
      "metadata": {
        "id": "byrgR_fWCxtu"
      }
    },
    {
      "cell_type": "code",
      "source": [
        "# should we multiply by 100 then round?"
      ],
      "metadata": {
        "id": "GqCL9VAYVbhs"
      },
      "execution_count": 14,
      "outputs": []
    },
    {
      "cell_type": "code",
      "source": [
        "# select sample default tour\n",
        "\n",
        "default_tour = all_default_tours['Warmsen']['31600-01']"
      ],
      "metadata": {
        "id": "gMOnQSGJrOPh"
      },
      "execution_count": 15,
      "outputs": []
    },
    {
      "cell_type": "code",
      "source": [
        "warmsen_instances['Monday']['31600-01']['package_medium'].keys()"
      ],
      "metadata": {
        "colab": {
          "base_uri": "https://localhost:8080/"
        },
        "id": "o0r5aQGzCSbg",
        "outputId": "40283687-7304-47a3-86d3-8edfba9c82ae"
      },
      "execution_count": 16,
      "outputs": [
        {
          "output_type": "execute_result",
          "data": {
            "text/plain": [
              "dict_keys(['dm', 'map', 'start_end_points', 'volume'])"
            ]
          },
          "metadata": {},
          "execution_count": 16
        }
      ]
    },
    {
      "cell_type": "code",
      "source": [
        "# select instance to compare\n",
        "\n",
        "instance_selected_package = warmsen_instances['Monday']['31600-01']['package_medium']\n",
        "instance_selected_letter = warmsen_instances['Monday']['31600-01']['letter_medium']"
      ],
      "metadata": {
        "id": "1n1-P75xCMH_"
      },
      "execution_count": 17,
      "outputs": []
    },
    {
      "cell_type": "code",
      "source": [
        "print(len(warmsen_instances['Monday']['31600-01']['letter_medium']['map']))\n",
        "print(len(warmsen_instances['Monday']['31600-01']['letter_high']['map']))\n",
        "print(len(warmsen_instances['Monday']['31600-01']['letter_low']['map']))"
      ],
      "metadata": {
        "colab": {
          "base_uri": "https://localhost:8080/"
        },
        "id": "8C9ZOIBEULcI",
        "outputId": "196c3a14-326d-4471-95f4-f8094554a41d"
      },
      "execution_count": 18,
      "outputs": [
        {
          "output_type": "stream",
          "name": "stdout",
          "text": [
            "52\n",
            "64\n",
            "32\n"
          ]
        }
      ]
    },
    {
      "cell_type": "code",
      "source": [
        "default_tour.keys()"
      ],
      "metadata": {
        "colab": {
          "base_uri": "https://localhost:8080/"
        },
        "id": "s3bDV7Gq8ajk",
        "outputId": "9fff1d84-2e93-4b8c-ca6c-02bc1430d43e"
      },
      "execution_count": 19,
      "outputs": [
        {
          "output_type": "execute_result",
          "data": {
            "text/plain": [
              "dict_keys(['default_route', 'mapping', 'route_cost'])"
            ]
          },
          "metadata": {},
          "execution_count": 19
        }
      ]
    },
    {
      "cell_type": "code",
      "source": [
        "%%time\n",
        "\n",
        "# complete tour improved by solver\n",
        "\n",
        "# ori_file = '/content/drive/Shareddrives/Private Unlimited Drive #1/DDS/Analytics Project/Coding/Warmsen_original/dm_31600-01.p'\n",
        "\n",
        "tsp = TSP(all_original['Warmsen']['31600-01']['dm'])\n",
        "\n",
        "# tsp = TSP(ori_file)\n",
        "\n",
        "complete_tour_solver = {}\n",
        "\n",
        "complete_tour_solver['tour'], complete_tour_solver['cost'] = tsp.solve()\n",
        "\n",
        "complete_tour_solver['tour'] = map_actual_route(complete_tour_solver['tour'], all_original['Warmsen']['31600-01']['map'])"
      ],
      "metadata": {
        "colab": {
          "base_uri": "https://localhost:8080/"
        },
        "id": "ihNhU3Ni3kCu",
        "outputId": "5caf5144-ef22-4363-df8e-cb1e4525a0d4"
      },
      "execution_count": 20,
      "outputs": [
        {
          "output_type": "stream",
          "name": "stdout",
          "text": [
            "CPU times: user 23.6 s, sys: 2.17 ms, total: 23.6 s\n",
            "Wall time: 23.9 s\n"
          ]
        }
      ]
    },
    {
      "cell_type": "code",
      "source": [
        "len(complete_tour_solver['tour'])"
      ],
      "metadata": {
        "colab": {
          "base_uri": "https://localhost:8080/"
        },
        "id": "rgpHOiKJxhqE",
        "outputId": "233bf70e-5518-45ae-edb8-3daaf51897d5"
      },
      "execution_count": 21,
      "outputs": [
        {
          "output_type": "execute_result",
          "data": {
            "text/plain": [
              "427"
            ]
          },
          "metadata": {},
          "execution_count": 21
        }
      ]
    },
    {
      "cell_type": "code",
      "source": [
        "# \n",
        "complete_tour_solver['cost']"
      ],
      "metadata": {
        "colab": {
          "base_uri": "https://localhost:8080/"
        },
        "id": "uLJM3-XBx_KI",
        "outputId": "43cde0b4-c836-4d7d-cda1-cfab4bfe96f2"
      },
      "execution_count": 25,
      "outputs": [
        {
          "output_type": "execute_result",
          "data": {
            "text/plain": [
              "25071"
            ]
          },
          "metadata": {},
          "execution_count": 25
        }
      ]
    },
    {
      "cell_type": "code",
      "source": [
        "25071/3600"
      ],
      "metadata": {
        "colab": {
          "base_uri": "https://localhost:8080/"
        },
        "id": "bE2Phb9o8BeA",
        "outputId": "31bd6b04-1804-4564-d008-6e14e91a8cd1"
      },
      "execution_count": 26,
      "outputs": [
        {
          "output_type": "execute_result",
          "data": {
            "text/plain": [
              "6.964166666666666"
            ]
          },
          "metadata": {},
          "execution_count": 26
        }
      ]
    },
    {
      "cell_type": "code",
      "source": [
        "max(complete_tour_solver['tour'])"
      ],
      "metadata": {
        "colab": {
          "base_uri": "https://localhost:8080/"
        },
        "id": "QMg4wAddT7yn",
        "outputId": "a1d8cf3b-08e2-46fe-aa03-167548b5ffea"
      },
      "execution_count": 28,
      "outputs": [
        {
          "output_type": "execute_result",
          "data": {
            "text/plain": [
              "750"
            ]
          },
          "metadata": {},
          "execution_count": 28
        }
      ]
    },
    {
      "cell_type": "code",
      "source": [
        "# pickle.dump(complete_tour_solver, 'warmsen_31600-01_opt.p'), 'wb'))\n",
        "pickle.dump(complete_tour_solver, open('warmsen_31600-01_opt.p', 'wb'))"
      ],
      "metadata": {
        "id": "pzJXYxyJSpAV"
      },
      "execution_count": 29,
      "outputs": []
    },
    {
      "cell_type": "code",
      "source": [
        "complete_tour_solver['tour'][0:5]"
      ],
      "metadata": {
        "colab": {
          "base_uri": "https://localhost:8080/"
        },
        "id": "Z1lboB3J4mAm",
        "outputId": "079a7070-22bf-4757-db09-12bcadd9ff71"
      },
      "execution_count": 30,
      "outputs": [
        {
          "output_type": "execute_result",
          "data": {
            "text/plain": [
              "[0, 698, 699, 700, 701]"
            ]
          },
          "metadata": {},
          "execution_count": 30
        }
      ]
    },
    {
      "cell_type": "code",
      "source": [
        "complete_tour_solver['tour'][-5:]"
      ],
      "metadata": {
        "colab": {
          "base_uri": "https://localhost:8080/"
        },
        "id": "3y6cEAvo4p8_",
        "outputId": "41f4f615-442d-46ac-a8e1-47a4a9aba786"
      },
      "execution_count": 31,
      "outputs": [
        {
          "output_type": "execute_result",
          "data": {
            "text/plain": [
              "[501, 502, 498, 507, 538]"
            ]
          },
          "metadata": {},
          "execution_count": 31
        }
      ]
    },
    {
      "cell_type": "code",
      "source": [
        "all_original['Warmsen']['31600-01']['start_end_points']"
      ],
      "metadata": {
        "colab": {
          "base_uri": "https://localhost:8080/"
        },
        "id": "e88eeulK4a_j",
        "outputId": "9be515c7-abf4-4dbd-dab9-5e7e2d8579fd"
      },
      "execution_count": 32,
      "outputs": [
        {
          "output_type": "execute_result",
          "data": {
            "text/plain": [
              "[0, 0]"
            ]
          },
          "metadata": {},
          "execution_count": 32
        }
      ]
    },
    {
      "cell_type": "code",
      "source": [
        "# ensure tour has right start and end points\n",
        "# complete_tour_solver_rev = {}\n",
        "\n",
        "complete_tour_solver['tour'] = arrange_tour(solver_tour = complete_tour_solver['tour'],\n",
        "                                            start_end_points = all_original['Warmsen']['31600-01']['start_end_points'])"
      ],
      "metadata": {
        "id": "0USc9nW74SfC"
      },
      "execution_count": 33,
      "outputs": []
    },
    {
      "cell_type": "code",
      "source": [
        "# after\n",
        "print(complete_tour_solver['tour'][0:5])\n",
        "print(complete_tour_solver['tour'][-5:])"
      ],
      "metadata": {
        "colab": {
          "base_uri": "https://localhost:8080/"
        },
        "id": "H89j3xJV476u",
        "outputId": "68f4b640-84cf-4040-a587-eae44cec0bd9"
      },
      "execution_count": 34,
      "outputs": [
        {
          "output_type": "stream",
          "name": "stdout",
          "text": [
            "[0, 698, 699, 700, 701]\n",
            "[502, 498, 507, 538, 0]\n"
          ]
        }
      ]
    },
    {
      "cell_type": "markdown",
      "source": [
        "##Letter Instance"
      ],
      "metadata": {
        "id": "tEo8ptkRDBBM"
      }
    },
    {
      "cell_type": "code",
      "source": [
        "%%time\n",
        "\n",
        "# skipped from default tour\n",
        "\n",
        "letter_skip_from_default = {}\n",
        "\n",
        "letter_skip_from_default['route'], letter_skip_from_default['cost'] = new_tour_sequence_fixed(complete_tour = all_default_tours['Warmsen']['31600-01']['default_route'],\n",
        "                                            dm_instance = warmsen_instances['Monday']['31600-01']['letter_medium']['dm'],\n",
        "                                            mapping_pp_needed = warmsen_instances['Monday']['31600-01']['letter_medium']['map'])"
      ],
      "metadata": {
        "colab": {
          "base_uri": "https://localhost:8080/"
        },
        "id": "woGwMD-f_YXJ",
        "outputId": "798b9a7f-2ac4-43e5-f0a2-eb2051e3dd3d"
      },
      "execution_count": 35,
      "outputs": [
        {
          "output_type": "stream",
          "name": "stdout",
          "text": [
            "CPU times: user 9.62 ms, sys: 914 µs, total: 10.5 ms\n",
            "Wall time: 22.6 ms\n"
          ]
        }
      ]
    },
    {
      "cell_type": "code",
      "source": [
        "%%time\n",
        "\n",
        "# skipped from solver complete\n",
        "\n",
        "letter_skip_from_solver = {}\n",
        "\n",
        "letter_skip_from_solver['route'], letter_skip_from_solver['cost'] = new_tour_sequence_fixed(complete_tour = complete_tour_solver['tour'],\n",
        "                                                                                     dm_instance = warmsen_instances['Monday']['31600-01']['letter_medium']['dm'],\n",
        "                                                                                     mapping_pp_needed = warmsen_instances['Monday']['31600-01']['letter_medium']['map'])"
      ],
      "metadata": {
        "colab": {
          "base_uri": "https://localhost:8080/"
        },
        "id": "23NkwxK-BRVj",
        "outputId": "6e72ab05-08b0-405b-cada-76f0d6b4ea26"
      },
      "execution_count": 36,
      "outputs": [
        {
          "output_type": "stream",
          "name": "stdout",
          "text": [
            "CPU times: user 9.34 ms, sys: 0 ns, total: 9.34 ms\n",
            "Wall time: 15.2 ms\n"
          ]
        }
      ]
    },
    {
      "cell_type": "code",
      "source": [
        "%%time\n",
        "# optimize letter instance\n",
        "\n",
        "tsp = TSP(warmsen_instances['Monday']['31600-01']['letter_medium']['dm'])\n",
        "\n",
        "\n",
        "letter_tour_solver = {}\n",
        "\n",
        "letter_tour_solver['tour'], letter_tour_solver['cost'] = tsp.solve()\n",
        "\n",
        "letter_tour_solver['tour'] = map_actual_route(letter_tour_solver['tour'],\n",
        "                                              warmsen_instances['Monday']['31600-01']['letter_medium']['map'])\n",
        "\n",
        "letter_tour_solver['tour'] = arrange_tour(solver_tour = letter_tour_solver['tour'],\n",
        "                                            start_end_points = all_original['Warmsen']['31600-01']['start_end_points'])"
      ],
      "metadata": {
        "colab": {
          "base_uri": "https://localhost:8080/"
        },
        "id": "CI002t86D07Q",
        "outputId": "a15658ce-dde3-40a4-ef9d-6a98ab9464c5"
      },
      "execution_count": 37,
      "outputs": [
        {
          "output_type": "stream",
          "name": "stdout",
          "text": [
            "CPU times: user 59.3 ms, sys: 1.66 ms, total: 61 ms\n",
            "Wall time: 67.3 ms\n"
          ]
        }
      ]
    },
    {
      "cell_type": "code",
      "source": [
        "# similarities\n",
        "# complete\n",
        "\n",
        "# optimized complete tour vs default tour\n",
        "num_changed_predecessors_complete, percent_change_complete = find_similarity_route(all_default_tours['Warmsen']['31600-01']['default_route'],\n",
        "                                                                                   complete_tour_solver['tour'])\n",
        "print(num_changed_predecessors_complete, percent_change_complete)\n",
        "\n",
        "print(complete_tour_solver['cost'])\n",
        "print(all_default_tours['Warmsen']['31600-01']['route_cost'])\n",
        "\n",
        "print(all_default_tours['Warmsen']['31600-01']['route_cost'] - complete_tour_solver['cost'])\n",
        "print(100*(all_default_tours['Warmsen']['31600-01']['route_cost'] - complete_tour_solver['cost'])/complete_tour_solver['cost'])\n",
        "print(len(all_default_tours['Warmsen']['31600-01']['default_route']), len(complete_tour_solver['tour']))"
      ],
      "metadata": {
        "colab": {
          "base_uri": "https://localhost:8080/"
        },
        "id": "9AfjkibIEdcV",
        "outputId": "acd7a284-ebe4-4055-8a5b-256d1a8ebbfd"
      },
      "execution_count": 38,
      "outputs": [
        {
          "output_type": "stream",
          "name": "stdout",
          "text": [
            "312 26.932084309133486\n",
            "25071\n",
            "26290.29\n",
            "1219.2900000000009\n",
            "4.863348091420369\n",
            "428 428\n"
          ]
        }
      ]
    },
    {
      "cell_type": "code",
      "source": [
        "# similarities\n",
        "# instance\n",
        "\n",
        "l_1 = letter_skip_from_solver['route']\n",
        "l_2 = letter_skip_from_default['route']\n",
        "\n",
        "# skipped from complete tour vs skipped from default tour\n",
        "num_changed_predecessors_complete, percent_change_complete = find_similarity_route(l_1,\n",
        "                                                                                   l_2)\n",
        "print(num_changed_predecessors_complete, percent_change_complete)\n",
        "\n",
        "print(letter_skip_from_solver['cost'])\n",
        "print(letter_skip_from_default['cost'])\n",
        "\n",
        "print(letter_skip_from_default['cost'] - letter_skip_from_solver['cost'])\n",
        "print(100*(letter_skip_from_default['cost'] - letter_skip_from_solver['cost'])/letter_skip_from_solver['cost'])\n",
        "print(len(letter_skip_from_solver['route']), len(letter_skip_from_default['route']))"
      ],
      "metadata": {
        "colab": {
          "base_uri": "https://localhost:8080/"
        },
        "id": "sFrLqFzoMZVc",
        "outputId": "72d082e7-35e7-4f10-cff8-b963a6e1e4a2"
      },
      "execution_count": 39,
      "outputs": [
        {
          "output_type": "stream",
          "name": "stdout",
          "text": [
            "37 28.84615384615384\n",
            "7912.6\n",
            "7063.13\n",
            "-849.4700000000003\n",
            "-10.735662108535756\n",
            "53 53\n"
          ]
        }
      ]
    },
    {
      "cell_type": "code",
      "source": [
        "# similarities\n",
        "# instance\n",
        "\n",
        "l_1 = letter_tour_solver['tour']\n",
        "l_2 = letter_skip_from_default['route']\n",
        "\n",
        "# skipped from default complete tour vs optimized instance\n",
        "num_changed_predecessors_complete, percent_change_complete = find_similarity_route(l_1,\n",
        "                                                                                   l_2)\n",
        "print(num_changed_predecessors_complete, percent_change_complete)\n",
        "\n",
        "print(letter_tour_solver['cost'])\n",
        "print(letter_skip_from_default['cost'])\n",
        "\n",
        "print(letter_skip_from_default['cost'] - letter_tour_solver['cost'])\n",
        "print(100*(letter_skip_from_default['cost'] - letter_tour_solver['cost'])/letter_tour_solver['cost'])\n",
        "print(len(letter_tour_solver['tour']), len(letter_skip_from_default['route']))"
      ],
      "metadata": {
        "colab": {
          "base_uri": "https://localhost:8080/"
        },
        "id": "c3f8kTkuMORB",
        "outputId": "25e510f5-2365-4ab9-dcf1-f54c04df0acb"
      },
      "execution_count": 40,
      "outputs": [
        {
          "output_type": "stream",
          "name": "stdout",
          "text": [
            "38 26.923076923076934\n",
            "6747\n",
            "7063.13\n",
            "316.1300000000001\n",
            "4.68548984733956\n",
            "53 53\n"
          ]
        }
      ]
    },
    {
      "cell_type": "code",
      "source": [
        "# similarities\n",
        "# instance\n",
        "\n",
        "l_1 = letter_tour_solver['tour']\n",
        "l_2 = letter_skip_from_solver['route']\n",
        "\n",
        "# skipped from complete optimized tour vs optimized instance\n",
        "num_changed_predecessors_complete, percent_change_complete = find_similarity_route(l_1,\n",
        "                                                                                   l_2)\n",
        "print(num_changed_predecessors_complete, percent_change_complete)\n",
        "\n",
        "print(letter_tour_solver['cost'])\n",
        "print(letter_skip_from_solver['cost'])\n",
        "\n",
        "print(letter_skip_from_solver['cost'] - letter_tour_solver['cost'])\n",
        "print(100*(letter_skip_from_solver['cost'] - letter_tour_solver['cost'])/letter_tour_solver['cost'])\n",
        "print(len(letter_tour_solver['tour']), len(letter_skip_from_solver['route']))"
      ],
      "metadata": {
        "colab": {
          "base_uri": "https://localhost:8080/"
        },
        "id": "Hy9UQzLdM-ZB",
        "outputId": "69f5054c-e8ac-45b2-c61f-b316669aacb1"
      },
      "execution_count": 41,
      "outputs": [
        {
          "output_type": "stream",
          "name": "stdout",
          "text": [
            "38 26.923076923076934\n",
            "6747\n",
            "7912.6\n",
            "1165.6000000000004\n",
            "17.275826293167338\n",
            "53 53\n"
          ]
        }
      ]
    },
    {
      "cell_type": "markdown",
      "source": [
        "##Package Instance"
      ],
      "metadata": {
        "id": "tHHWrArV2asg"
      }
    },
    {
      "cell_type": "code",
      "source": [
        "%%time\n",
        "\n",
        "# skipped from default tour\n",
        "\n",
        "package_skip_from_default = {}\n",
        "\n",
        "package_skip_from_default['route'], package_skip_from_default['cost'] = new_tour_sequence_fixed(complete_tour = all_default_tours['Warmsen']['31600-01']['default_route'],\n",
        "                                            dm_instance = warmsen_instances['Monday']['31600-01']['package_medium']['dm'],\n",
        "                                            mapping_pp_needed = warmsen_instances['Monday']['31600-01']['package_medium']['map'])"
      ],
      "metadata": {
        "colab": {
          "base_uri": "https://localhost:8080/"
        },
        "id": "6b0ly-b_2b1z",
        "outputId": "5b34ec64-928a-4d8b-aa49-4504f47fdc75"
      },
      "execution_count": 42,
      "outputs": [
        {
          "output_type": "stream",
          "name": "stdout",
          "text": [
            "CPU times: user 12.2 ms, sys: 0 ns, total: 12.2 ms\n",
            "Wall time: 16.7 ms\n"
          ]
        }
      ]
    },
    {
      "cell_type": "code",
      "source": [
        "%%time\n",
        "\n",
        "# skipped from solver complete\n",
        "\n",
        "package_skip_from_solver = {}\n",
        "\n",
        "package_skip_from_solver['route'], package_skip_from_solver['cost'] = new_tour_sequence_fixed(complete_tour = complete_tour_solver['tour'],\n",
        "                                                                                     dm_instance = warmsen_instances['Monday']['31600-01']['package_medium']['dm'],\n",
        "                                                                                     mapping_pp_needed = warmsen_instances['Monday']['31600-01']['package_medium']['map'])"
      ],
      "metadata": {
        "colab": {
          "base_uri": "https://localhost:8080/"
        },
        "id": "kYyziOfR21b8",
        "outputId": "d97badf5-4f9c-46bf-c633-3cd7f312e91c"
      },
      "execution_count": 43,
      "outputs": [
        {
          "output_type": "stream",
          "name": "stdout",
          "text": [
            "CPU times: user 5.94 ms, sys: 974 µs, total: 6.92 ms\n",
            "Wall time: 7.07 ms\n"
          ]
        }
      ]
    },
    {
      "cell_type": "code",
      "source": [
        "%%time\n",
        "# optimize package instance\n",
        "\n",
        "tsp = TSP(warmsen_instances['Monday']['31600-01']['package_medium']['dm'])\n",
        "\n",
        "\n",
        "package_tour_solver = {}\n",
        "\n",
        "package_tour_solver['tour'], package_tour_solver['cost'] = tsp.solve()\n",
        "\n",
        "package_tour_solver['tour'] = map_actual_route(package_tour_solver['tour'],\n",
        "                                              warmsen_instances['Monday']['31600-01']['package_medium']['map'])\n",
        "\n",
        "package_tour_solver['tour'] = arrange_tour(solver_tour = package_tour_solver['tour'],\n",
        "                                            start_end_points = all_original['Warmsen']['31600-01']['start_end_points'])"
      ],
      "metadata": {
        "colab": {
          "base_uri": "https://localhost:8080/"
        },
        "id": "DHbEFsTD3BRv",
        "outputId": "6d0738bd-f082-41fe-9a1c-d8f57abff21c"
      },
      "execution_count": 44,
      "outputs": [
        {
          "output_type": "stream",
          "name": "stdout",
          "text": [
            "CPU times: user 19.3 ms, sys: 3.95 ms, total: 23.3 ms\n",
            "Wall time: 25.1 ms\n"
          ]
        }
      ]
    },
    {
      "cell_type": "code",
      "source": [
        "# similarities\n",
        "# instance\n",
        "\n",
        "p_1 = package_skip_from_solver['route']\n",
        "p_2 = package_skip_from_default['route']\n",
        "\n",
        "# skipped from complete tour vs skipped from default tour\n",
        "num_changed_predecessors_complete, percent_change_complete = find_similarity_route(p_1,\n",
        "                                                                                   p_2)\n",
        "print(num_changed_predecessors_complete, percent_change_complete)\n",
        "\n",
        "print(package_skip_from_solver['cost'])\n",
        "print(package_skip_from_default['cost'])\n",
        "\n",
        "print(package_skip_from_default['cost'] - package_skip_from_solver['cost'])\n",
        "print(100*(package_skip_from_default['cost'] - package_skip_from_solver['cost'])/package_skip_from_solver['cost'])\n",
        "print(len(package_skip_from_solver['route']), len(package_skip_from_default['route']))"
      ],
      "metadata": {
        "colab": {
          "base_uri": "https://localhost:8080/"
        },
        "id": "uTARxObI3YGW",
        "outputId": "4177aaad-27c0-462a-f1f0-522f7a13e617"
      },
      "execution_count": 45,
      "outputs": [
        {
          "output_type": "stream",
          "name": "stdout",
          "text": [
            "18 28.0\n",
            "5552.82\n",
            "4863.22\n",
            "-689.5999999999995\n",
            "-12.41891507378232\n",
            "26 26\n"
          ]
        }
      ]
    },
    {
      "cell_type": "code",
      "source": [
        "# similarities\n",
        "# instance\n",
        "\n",
        "p_1 = package_tour_solver['tour']\n",
        "p_2 = package_skip_from_default['route']\n",
        "\n",
        "# skipped from default complete tour vs optimized instance\n",
        "num_changed_predecessors_complete, percent_change_complete = find_similarity_route(p_1,\n",
        "                                                                                   p_2)\n",
        "print(num_changed_predecessors_complete, percent_change_complete)\n",
        "\n",
        "print(package_tour_solver['cost'])\n",
        "print(package_skip_from_default['cost'])\n",
        "\n",
        "print(package_skip_from_default['cost'] - package_tour_solver['cost'])\n",
        "print(100*(package_skip_from_default['cost'] - package_tour_solver['cost'])/package_tour_solver['cost'])\n",
        "print(len(package_tour_solver['tour']), len(package_skip_from_default['route']))"
      ],
      "metadata": {
        "colab": {
          "base_uri": "https://localhost:8080/"
        },
        "id": "CyxKmfxi3tjg",
        "outputId": "4cc0105d-41dc-4e0c-f503-a652f954f008"
      },
      "execution_count": 46,
      "outputs": [
        {
          "output_type": "stream",
          "name": "stdout",
          "text": [
            "8 68.0\n",
            "4688\n",
            "4863.22\n",
            "175.22000000000025\n",
            "3.7376279863481283\n",
            "26 26\n"
          ]
        }
      ]
    },
    {
      "cell_type": "code",
      "source": [
        "# similarities\n",
        "# instance\n",
        "\n",
        "p_1 = package_tour_solver['tour']\n",
        "p_2 = package_skip_from_solver['route']\n",
        "\n",
        "# skipped from complete optimized tour vs optimized instance\n",
        "num_changed_predecessors_complete, percent_change_complete = find_similarity_route(p_1,\n",
        "                                                                                   p_2)\n",
        "print(num_changed_predecessors_complete, percent_change_complete)\n",
        "\n",
        "print(package_tour_solver['cost'])\n",
        "print(package_skip_from_solver['cost'])\n",
        "\n",
        "print(package_skip_from_solver['cost'] - package_tour_solver['cost'])\n",
        "print(100*(package_skip_from_solver['cost'] - package_tour_solver['cost'])/package_tour_solver['cost'])\n",
        "print(len(package_tour_solver['tour']), len(package_skip_from_solver['route']))"
      ],
      "metadata": {
        "colab": {
          "base_uri": "https://localhost:8080/"
        },
        "id": "2cC2S8E_4GE-",
        "outputId": "3aa94837-4715-4805-c9fc-2ec487ae9409"
      },
      "execution_count": 47,
      "outputs": [
        {
          "output_type": "stream",
          "name": "stdout",
          "text": [
            "21 16.0\n",
            "4688\n",
            "5552.82\n",
            "864.8199999999997\n",
            "18.447525597269617\n",
            "26 26\n"
          ]
        }
      ]
    }
  ]
}