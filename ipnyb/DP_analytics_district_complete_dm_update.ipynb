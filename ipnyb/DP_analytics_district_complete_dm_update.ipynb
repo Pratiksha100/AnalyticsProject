{
  "nbformat": 4,
  "nbformat_minor": 0,
  "metadata": {
    "colab": {
      "provenance": []
    },
    "kernelspec": {
      "name": "python3",
      "display_name": "Python 3"
    },
    "language_info": {
      "name": "python"
    }
  },
  "cells": [
    {
      "cell_type": "code",
      "execution_count": 1,
      "metadata": {
        "colab": {
          "base_uri": "https://localhost:8080/",
          "height": 34
        },
        "id": "xcDFI3xY87Qr",
        "outputId": "6df8798a-0695-44a2-d852-fc46b6582a7a"
      },
      "outputs": [
        {
          "output_type": "display_data",
          "data": {
            "application/javascript": [
              "IPython.notebook.set_autosave_interval(0)"
            ]
          },
          "metadata": {}
        },
        {
          "output_type": "stream",
          "name": "stdout",
          "text": [
            "Autosave disabled\n"
          ]
        }
      ],
      "source": [
        "%autosave 0"
      ]
    },
    {
      "cell_type": "code",
      "source": [
        "import os\n",
        "import pandas as pd\n",
        "import numpy as np\n",
        "import re\n",
        "import collections\n",
        "import pickle\n",
        "from ast import literal_eval\n",
        "import random\n",
        "import scipy\n",
        "import math\n",
        "# from concorde_class import Concorde\n",
        "import datetime\n",
        "import subprocess"
      ],
      "metadata": {
        "id": "E68-UTdC88e-"
      },
      "execution_count": 2,
      "outputs": []
    },
    {
      "cell_type": "code",
      "source": [
        "from google.colab import drive\n",
        "drive.mount('/content/drive')"
      ],
      "metadata": {
        "colab": {
          "base_uri": "https://localhost:8080/"
        },
        "id": "9oWBz9r09I4n",
        "outputId": "09b1a030-de66-43f0-cb6b-4a666cb2fbfa"
      },
      "execution_count": 3,
      "outputs": [
        {
          "output_type": "stream",
          "name": "stdout",
          "text": [
            "Mounted at /content/drive\n"
          ]
        }
      ]
    },
    {
      "cell_type": "code",
      "source": [
        "# path for the 'Data' folder provided by DP\n",
        "dir_loc = '/content/drive/Shareddrives/Private Unlimited Drive #1/DDS/Analytics Project/AOP_DP_Analytics/Data'"
      ],
      "metadata": {
        "id": "PgN8pI19885w"
      },
      "execution_count": 4,
      "outputs": []
    },
    {
      "cell_type": "code",
      "source": [
        "region_name = 'Warmsen'\n",
        "\n",
        "distance_path = dir_loc + '/Instances/' + region_name + '/distances/'\n",
        "\n",
        "for filename in os.listdir(distance_path):\n",
        "  print(filename)"
      ],
      "metadata": {
        "colab": {
          "base_uri": "https://localhost:8080/"
        },
        "id": "tuPkWJhR9wq_",
        "outputId": "7ff8897f-c6d2-4f5c-ec9e-bacb3e480e6c"
      },
      "execution_count": 5,
      "outputs": [
        {
          "output_type": "stream",
          "name": "stdout",
          "text": [
            "distances_31606-13.dat\n",
            "distances_31606-11.dat\n",
            "distances_31600-04.dat\n",
            "distances_31600-03.dat\n",
            "distances_31600-02.dat\n",
            "distances_31603-07.dat\n",
            "distances_31603-08.dat\n",
            "distances_31604-10.dat\n",
            "distances_31603-05.dat\n",
            "distances_31603-06.dat\n",
            "distances_31606-12.dat\n",
            "distances_31606-14.dat\n",
            "distances_31604-09.dat\n",
            "distances_31600-01.dat\n"
          ]
        }
      ]
    },
    {
      "cell_type": "markdown",
      "source": [
        "#Functions"
      ],
      "metadata": {
        "id": "wcUV476ey9IP"
      }
    },
    {
      "cell_type": "code",
      "source": [
        "# get start and end node for a district\n",
        "# delete df_day input\n",
        "\n",
        "def start_end_points(region_name, district):\n",
        "    # df_day_district = df_day[df_day['district'] == district]\n",
        "\n",
        "    # get start and end node\n",
        "    district_path = dir_loc + '/Instances/' + region_name + '/Districts/' + district + '.dat'\n",
        "    rows_needed = [1]\n",
        "    file_district = pd.read_csv(district_path, sep='\\t', skiprows = lambda x : x not in rows_needed,\n",
        "                                names=('dum_0', 'start_point', 'end_point', 'dum_1', 'dum_2', 'dum_3', 'dum_4', 'dum_5', 'dum_6')\n",
        "                                )\n",
        "    start_point = file_district['start_point'][0]\n",
        "    end_point = file_district['end_point'][0]\n",
        "\n",
        "    points = [start_point, end_point]\n",
        "\n",
        "    return points"
      ],
      "metadata": {
        "id": "j0E6l39k-yWC"
      },
      "execution_count": 6,
      "outputs": []
    },
    {
      "cell_type": "code",
      "source": [
        "# generate original distance matrix and mapping for districts\n",
        "\n",
        "def ori_generate_distance_matrix_map(region_name, save_loc):\n",
        "      i = 1\n",
        "\n",
        "      dir_region = save_loc + '/' + region_name + '_original'\n",
        "      print(dir_region)\n",
        "      if not os.path.exists(dir_region):\n",
        "        os.mkdir(dir_region)\n",
        "        print('dir_region doesnt exist')\n",
        "\n",
        "      # dir_region_ori = dir_region + '/original'\n",
        "      # print(dir_region_ori)\n",
        "      # if not os.path.exists(dir_region):\n",
        "      #   os.mkdir(dir_region)\n",
        "      #   print('dir_ori doesnt exist')\n",
        "\n",
        "      ori_dm_map_dict_region = {}\n",
        "      # get distance file and dataframes\n",
        "      distance_path = dir_loc + '/Instances/' + region_name + '/distances/'\n",
        "      for filename in os.listdir(distance_path):\n",
        "        ori_dm_map_dict_district = {}\n",
        "        district_name = re.sub('.dat', '', filename)\n",
        "        district_name = re.sub('distances_', '', district_name)\n",
        "\n",
        "        district_distance = pd.read_csv(distance_path + filename,\n",
        "                                    names=['pp_1', 'pp_2', 'dist']\n",
        "                                    )\n",
        "      \n",
        "        distance_matrix_df = district_distance.pivot(index = 'pp_1', columns = 'pp_2', values = 'dist')\n",
        "\n",
        "        # generate and revise start and end nodes\n",
        "        points = start_end_points(region_name = region_name, district = district_name)\n",
        "        distance_matrix_df[points[0]][points[1]] = 0\n",
        "        distance_matrix_df[points[1]][points[0]] = 0\n",
        "        ori_dm_map_dict_district['start_end_points'] = points\n",
        "\n",
        "\n",
        "        # distance matrix\n",
        "        distance_matrix_array = distance_matrix_df.to_numpy()\n",
        "        distance_matrix_array = distance_matrix_array.tolist()\n",
        "        ori_dm_map_dict_district['dm'] = distance_matrix_array\n",
        "        pickle.dump(distance_matrix_array, open(dir_region + '/dm_' + \"%s.p\"%district_name, \"wb\"))\n",
        "\n",
        "        # node mapping\n",
        "        map_val = list(range(0, len(distance_matrix_df)))\n",
        "        nodes = distance_matrix_df.index.values.tolist()\n",
        "        mapping = dict(zip(map_val, nodes))\n",
        "        ori_dm_map_dict_district['map'] = mapping\n",
        "        pickle.dump(mapping, open(dir_region + '/map_' + \"%s.p\"%(district_name), \"wb\"))\n",
        "\n",
        "        ori_dm_map_dict_region[district_name] = ori_dm_map_dict_district\n",
        "        print(i, ':', district_name, ':', len(distance_matrix_array))\n",
        "        i = i+1\n",
        "\n",
        "      return ori_dm_map_dict_region"
      ],
      "metadata": {
        "id": "kM7sZlu3889W"
      },
      "execution_count": 17,
      "outputs": []
    },
    {
      "cell_type": "markdown",
      "source": [
        "#Generate complete distance matrices"
      ],
      "metadata": {
        "id": "eAwydf0XzBCx"
      }
    },
    {
      "cell_type": "code",
      "source": [
        "%%time\n",
        "\n",
        "regions = ['Warmsen', 'Uerze', 'Hannover 92']\n",
        "\n",
        "all_original = {}\n",
        "\n",
        "for region in regions:\n",
        "  ori_dm_map_dict_region = ori_generate_distance_matrix_map(region_name = region, save_loc = '/content/drive/Shareddrives/Private Unlimited Drive #1/DDS/Analytics Project/Coding/')\n",
        "  all_original[region] = ori_dm_map_dict_region "
      ],
      "metadata": {
        "colab": {
          "base_uri": "https://localhost:8080/"
        },
        "id": "VrcRpamdCRpP",
        "outputId": "5713667b-09a6-4c00-bdf3-b4dea2043f02"
      },
      "execution_count": 18,
      "outputs": [
        {
          "output_type": "stream",
          "name": "stdout",
          "text": [
            "/content/drive/Shareddrives/Private Unlimited Drive #1/DDS/Analytics Project/Coding//Warmsen_original\n",
            "1 : 31606-13 : 306\n",
            "2 : 31606-11 : 349\n",
            "3 : 31600-04 : 293\n",
            "4 : 31600-03 : 372\n",
            "5 : 31600-02 : 417\n",
            "6 : 31603-07 : 397\n",
            "7 : 31603-08 : 360\n",
            "8 : 31604-10 : 380\n",
            "9 : 31603-05 : 376\n",
            "10 : 31603-06 : 424\n",
            "11 : 31606-12 : 420\n",
            "12 : 31606-14 : 311\n",
            "13 : 31604-09 : 405\n",
            "14 : 31600-01 : 427\n",
            "/content/drive/Shareddrives/Private Unlimited Drive #1/DDS/Analytics Project/Coding//Uerze_original\n",
            "dir_region doesnt exist\n",
            "1 : 31311-31 : 375\n",
            "2 : 31311-07 : 288\n",
            "3 : 31311-04 : 397\n",
            "4 : 31311-01 : 400\n",
            "5 : 31311-25 : 398\n",
            "6 : 31311-22 : 479\n",
            "7 : 31311-03 : 512\n",
            "8 : 31311-02 : 416\n",
            "9 : 31311-24 : 424\n",
            "10 : 31311-42 : 482\n",
            "11 : 31311-61 : 513\n",
            "12 : 31311-51 : 444\n",
            "13 : 31311-21 : 422\n",
            "14 : 31311-05 : 421\n",
            "15 : 31311-62 : 505\n",
            "16 : 31311-08 : 451\n",
            "17 : 31311-81 : 490\n",
            "/content/drive/Shareddrives/Private Unlimited Drive #1/DDS/Analytics Project/Coding//Hannover 92_original\n",
            "dir_region doesnt exist\n",
            "1 : 30457-02 : 227\n",
            "2 : 30459-35 : 254\n",
            "3 : 30459-36 : 325\n",
            "4 : 30459-32 : 256\n",
            "5 : 30459-33 : 302\n",
            "6 : 30457-15 : 461\n",
            "7 : 30457-01 : 327\n",
            "8 : 30457-16 : 416\n",
            "9 : 30457-12 : 555\n",
            "10 : 30457-11 : 562\n",
            "11 : 30459-25 : 709\n",
            "12 : 30457-14 : 606\n",
            "13 : 30459-24 : 628\n",
            "14 : 30459-31 : 554\n",
            "15 : 30459-37 : 559\n",
            "CPU times: user 3.79 s, sys: 660 ms, total: 4.45 s\n",
            "Wall time: 6.08 s\n"
          ]
        }
      ]
    },
    {
      "cell_type": "code",
      "source": [
        "name = 'all_original_complete'\n",
        "\n",
        "pickle.dump(all_original, open('/content/drive/Shareddrives/Private Unlimited Drive #1/DDS/Analytics Project/Coding/Results' + '/' + \"%s.p\"%name, \"wb\"))"
      ],
      "metadata": {
        "id": "GYFb8A0E6WHw"
      },
      "execution_count": 29,
      "outputs": []
    },
    {
      "cell_type": "markdown",
      "source": [
        "#Check"
      ],
      "metadata": {
        "id": "nBFGiSMFzblr"
      }
    },
    {
      "cell_type": "code",
      "source": [
        "ori_dm_map_dict_region['30459-32']['start_end_points']"
      ],
      "metadata": {
        "colab": {
          "base_uri": "https://localhost:8080/"
        },
        "id": "Z96jScVH88xU",
        "outputId": "5a52f088-c0ed-47fd-c58a-86af3b3a5bf6"
      },
      "execution_count": 20,
      "outputs": [
        {
          "output_type": "execute_result",
          "data": {
            "text/plain": [
              "[0, 0]"
            ]
          },
          "metadata": {},
          "execution_count": 20
        }
      ]
    },
    {
      "cell_type": "code",
      "source": [
        "all_original['Hannover 92']['30459-32'].keys()"
      ],
      "metadata": {
        "colab": {
          "base_uri": "https://localhost:8080/"
        },
        "id": "UiqyWHPq9nHV",
        "outputId": "b7c309ab-6258-42bb-f078-efdc90bff989"
      },
      "execution_count": 21,
      "outputs": [
        {
          "output_type": "execute_result",
          "data": {
            "text/plain": [
              "dict_keys(['start_end_points', 'dm', 'map'])"
            ]
          },
          "metadata": {},
          "execution_count": 21
        }
      ]
    },
    {
      "cell_type": "code",
      "source": [
        "ex_dm = pickle.load(open(\"/content/drive/Shareddrives/Private Unlimited Drive #1/DDS/Analytics Project/Coding/Uerze_original/dm_31311-81.p\", \"rb\"))\n",
        "ex_map = pickle.load(open(\"/content/drive/Shareddrives/Private Unlimited Drive #1/DDS/Analytics Project/Coding/Uerze_original/map_31311-81.p\", \"rb\"))"
      ],
      "metadata": {
        "id": "MO3hwTS_DMfz"
      },
      "execution_count": 22,
      "outputs": []
    },
    {
      "cell_type": "code",
      "source": [
        "print(ex_map[0])\n",
        "print(ex_map[1])"
      ],
      "metadata": {
        "colab": {
          "base_uri": "https://localhost:8080/"
        },
        "id": "7CHSm115DnEU",
        "outputId": "ccd64400-4f93-41f4-d6bc-26a878944f24"
      },
      "execution_count": 23,
      "outputs": [
        {
          "output_type": "stream",
          "name": "stdout",
          "text": [
            "0\n",
            "4\n"
          ]
        }
      ]
    },
    {
      "cell_type": "code",
      "source": [
        "# swap key and value in dict\n",
        "d_swap = {v: k for k, v in ex_map.items()}"
      ],
      "metadata": {
        "id": "MEbBlEIYEZ5W"
      },
      "execution_count": 24,
      "outputs": []
    },
    {
      "cell_type": "code",
      "source": [
        "start_point = d_swap[0]\n",
        "end_point = d_swap[4]"
      ],
      "metadata": {
        "id": "yvY8bG6LEgoA"
      },
      "execution_count": 25,
      "outputs": []
    },
    {
      "cell_type": "code",
      "source": [
        "print(ex_dm[start_point][end_point])\n",
        "print(ex_dm[end_point][start_point])"
      ],
      "metadata": {
        "colab": {
          "base_uri": "https://localhost:8080/"
        },
        "id": "I-v7d-z5E5zw",
        "outputId": "9a4a1726-f929-4a4e-8f02-e5f674b7b00f"
      },
      "execution_count": 26,
      "outputs": [
        {
          "output_type": "stream",
          "name": "stdout",
          "text": [
            "0.0\n",
            "0.0\n"
          ]
        }
      ]
    },
    {
      "cell_type": "code",
      "source": [
        "ex_dm_df = pd.DataFrame(ex_dm)\n",
        "ex_dm_df.head()"
      ],
      "metadata": {
        "colab": {
          "base_uri": "https://localhost:8080/",
          "height": 299
        },
        "id": "vlmyMc5_Dchp",
        "outputId": "9e6660f2-ebe1-46c1-8813-d48b255df8e8"
      },
      "execution_count": 27,
      "outputs": [
        {
          "output_type": "execute_result",
          "data": {
            "text/plain": [
              "      0       1       2       3       4       5       6       7       8    \\\n",
              "0    0.00    0.00  387.54  388.33  390.68  404.81  397.62  389.43  397.22   \n",
              "1    0.00    0.00  531.20  531.99  534.34  548.47  541.28  533.09  540.88   \n",
              "2  396.44  520.60    0.00   45.85   48.20   62.33   55.14   46.95   54.74   \n",
              "3  398.64  522.80   47.10    0.00   40.11   54.24   47.05   38.86   46.65   \n",
              "4  400.99  525.15   49.45   41.35    0.00   51.71   44.52   32.88   44.12   \n",
              "\n",
              "      9    ...     480     481     482     483     484     485     486  \\\n",
              "0  401.46  ...  369.31  359.44  359.84  378.27  380.78  355.45  304.11   \n",
              "1  545.12  ...  512.97  503.10  503.50  521.93  524.44  499.11  447.77   \n",
              "2   58.98  ...  100.13   90.26   90.66  109.09  111.60   86.27  149.19   \n",
              "3   50.89  ...  102.33   92.46   92.86  111.29  113.80   88.47  151.39   \n",
              "4   48.36  ...  104.68   94.81   95.21  113.64  116.15   90.82  153.74   \n",
              "\n",
              "      487     488     489  \n",
              "0  313.20  306.89  854.62  \n",
              "1  456.86  450.55  998.28  \n",
              "2  173.81  162.48  728.64  \n",
              "3  176.01  164.68  730.84  \n",
              "4  178.36  167.03  733.19  \n",
              "\n",
              "[5 rows x 490 columns]"
            ],
            "text/html": [
              "\n",
              "  <div id=\"df-130d57d2-b940-4770-a24a-b9935d8248ca\">\n",
              "    <div class=\"colab-df-container\">\n",
              "      <div>\n",
              "<style scoped>\n",
              "    .dataframe tbody tr th:only-of-type {\n",
              "        vertical-align: middle;\n",
              "    }\n",
              "\n",
              "    .dataframe tbody tr th {\n",
              "        vertical-align: top;\n",
              "    }\n",
              "\n",
              "    .dataframe thead th {\n",
              "        text-align: right;\n",
              "    }\n",
              "</style>\n",
              "<table border=\"1\" class=\"dataframe\">\n",
              "  <thead>\n",
              "    <tr style=\"text-align: right;\">\n",
              "      <th></th>\n",
              "      <th>0</th>\n",
              "      <th>1</th>\n",
              "      <th>2</th>\n",
              "      <th>3</th>\n",
              "      <th>4</th>\n",
              "      <th>5</th>\n",
              "      <th>6</th>\n",
              "      <th>7</th>\n",
              "      <th>8</th>\n",
              "      <th>9</th>\n",
              "      <th>...</th>\n",
              "      <th>480</th>\n",
              "      <th>481</th>\n",
              "      <th>482</th>\n",
              "      <th>483</th>\n",
              "      <th>484</th>\n",
              "      <th>485</th>\n",
              "      <th>486</th>\n",
              "      <th>487</th>\n",
              "      <th>488</th>\n",
              "      <th>489</th>\n",
              "    </tr>\n",
              "  </thead>\n",
              "  <tbody>\n",
              "    <tr>\n",
              "      <th>0</th>\n",
              "      <td>0.00</td>\n",
              "      <td>0.00</td>\n",
              "      <td>387.54</td>\n",
              "      <td>388.33</td>\n",
              "      <td>390.68</td>\n",
              "      <td>404.81</td>\n",
              "      <td>397.62</td>\n",
              "      <td>389.43</td>\n",
              "      <td>397.22</td>\n",
              "      <td>401.46</td>\n",
              "      <td>...</td>\n",
              "      <td>369.31</td>\n",
              "      <td>359.44</td>\n",
              "      <td>359.84</td>\n",
              "      <td>378.27</td>\n",
              "      <td>380.78</td>\n",
              "      <td>355.45</td>\n",
              "      <td>304.11</td>\n",
              "      <td>313.20</td>\n",
              "      <td>306.89</td>\n",
              "      <td>854.62</td>\n",
              "    </tr>\n",
              "    <tr>\n",
              "      <th>1</th>\n",
              "      <td>0.00</td>\n",
              "      <td>0.00</td>\n",
              "      <td>531.20</td>\n",
              "      <td>531.99</td>\n",
              "      <td>534.34</td>\n",
              "      <td>548.47</td>\n",
              "      <td>541.28</td>\n",
              "      <td>533.09</td>\n",
              "      <td>540.88</td>\n",
              "      <td>545.12</td>\n",
              "      <td>...</td>\n",
              "      <td>512.97</td>\n",
              "      <td>503.10</td>\n",
              "      <td>503.50</td>\n",
              "      <td>521.93</td>\n",
              "      <td>524.44</td>\n",
              "      <td>499.11</td>\n",
              "      <td>447.77</td>\n",
              "      <td>456.86</td>\n",
              "      <td>450.55</td>\n",
              "      <td>998.28</td>\n",
              "    </tr>\n",
              "    <tr>\n",
              "      <th>2</th>\n",
              "      <td>396.44</td>\n",
              "      <td>520.60</td>\n",
              "      <td>0.00</td>\n",
              "      <td>45.85</td>\n",
              "      <td>48.20</td>\n",
              "      <td>62.33</td>\n",
              "      <td>55.14</td>\n",
              "      <td>46.95</td>\n",
              "      <td>54.74</td>\n",
              "      <td>58.98</td>\n",
              "      <td>...</td>\n",
              "      <td>100.13</td>\n",
              "      <td>90.26</td>\n",
              "      <td>90.66</td>\n",
              "      <td>109.09</td>\n",
              "      <td>111.60</td>\n",
              "      <td>86.27</td>\n",
              "      <td>149.19</td>\n",
              "      <td>173.81</td>\n",
              "      <td>162.48</td>\n",
              "      <td>728.64</td>\n",
              "    </tr>\n",
              "    <tr>\n",
              "      <th>3</th>\n",
              "      <td>398.64</td>\n",
              "      <td>522.80</td>\n",
              "      <td>47.10</td>\n",
              "      <td>0.00</td>\n",
              "      <td>40.11</td>\n",
              "      <td>54.24</td>\n",
              "      <td>47.05</td>\n",
              "      <td>38.86</td>\n",
              "      <td>46.65</td>\n",
              "      <td>50.89</td>\n",
              "      <td>...</td>\n",
              "      <td>102.33</td>\n",
              "      <td>92.46</td>\n",
              "      <td>92.86</td>\n",
              "      <td>111.29</td>\n",
              "      <td>113.80</td>\n",
              "      <td>88.47</td>\n",
              "      <td>151.39</td>\n",
              "      <td>176.01</td>\n",
              "      <td>164.68</td>\n",
              "      <td>730.84</td>\n",
              "    </tr>\n",
              "    <tr>\n",
              "      <th>4</th>\n",
              "      <td>400.99</td>\n",
              "      <td>525.15</td>\n",
              "      <td>49.45</td>\n",
              "      <td>41.35</td>\n",
              "      <td>0.00</td>\n",
              "      <td>51.71</td>\n",
              "      <td>44.52</td>\n",
              "      <td>32.88</td>\n",
              "      <td>44.12</td>\n",
              "      <td>48.36</td>\n",
              "      <td>...</td>\n",
              "      <td>104.68</td>\n",
              "      <td>94.81</td>\n",
              "      <td>95.21</td>\n",
              "      <td>113.64</td>\n",
              "      <td>116.15</td>\n",
              "      <td>90.82</td>\n",
              "      <td>153.74</td>\n",
              "      <td>178.36</td>\n",
              "      <td>167.03</td>\n",
              "      <td>733.19</td>\n",
              "    </tr>\n",
              "  </tbody>\n",
              "</table>\n",
              "<p>5 rows × 490 columns</p>\n",
              "</div>\n",
              "      <button class=\"colab-df-convert\" onclick=\"convertToInteractive('df-130d57d2-b940-4770-a24a-b9935d8248ca')\"\n",
              "              title=\"Convert this dataframe to an interactive table.\"\n",
              "              style=\"display:none;\">\n",
              "        \n",
              "  <svg xmlns=\"http://www.w3.org/2000/svg\" height=\"24px\"viewBox=\"0 0 24 24\"\n",
              "       width=\"24px\">\n",
              "    <path d=\"M0 0h24v24H0V0z\" fill=\"none\"/>\n",
              "    <path d=\"M18.56 5.44l.94 2.06.94-2.06 2.06-.94-2.06-.94-.94-2.06-.94 2.06-2.06.94zm-11 1L8.5 8.5l.94-2.06 2.06-.94-2.06-.94L8.5 2.5l-.94 2.06-2.06.94zm10 10l.94 2.06.94-2.06 2.06-.94-2.06-.94-.94-2.06-.94 2.06-2.06.94z\"/><path d=\"M17.41 7.96l-1.37-1.37c-.4-.4-.92-.59-1.43-.59-.52 0-1.04.2-1.43.59L10.3 9.45l-7.72 7.72c-.78.78-.78 2.05 0 2.83L4 21.41c.39.39.9.59 1.41.59.51 0 1.02-.2 1.41-.59l7.78-7.78 2.81-2.81c.8-.78.8-2.07 0-2.86zM5.41 20L4 18.59l7.72-7.72 1.47 1.35L5.41 20z\"/>\n",
              "  </svg>\n",
              "      </button>\n",
              "      \n",
              "  <style>\n",
              "    .colab-df-container {\n",
              "      display:flex;\n",
              "      flex-wrap:wrap;\n",
              "      gap: 12px;\n",
              "    }\n",
              "\n",
              "    .colab-df-convert {\n",
              "      background-color: #E8F0FE;\n",
              "      border: none;\n",
              "      border-radius: 50%;\n",
              "      cursor: pointer;\n",
              "      display: none;\n",
              "      fill: #1967D2;\n",
              "      height: 32px;\n",
              "      padding: 0 0 0 0;\n",
              "      width: 32px;\n",
              "    }\n",
              "\n",
              "    .colab-df-convert:hover {\n",
              "      background-color: #E2EBFA;\n",
              "      box-shadow: 0px 1px 2px rgba(60, 64, 67, 0.3), 0px 1px 3px 1px rgba(60, 64, 67, 0.15);\n",
              "      fill: #174EA6;\n",
              "    }\n",
              "\n",
              "    [theme=dark] .colab-df-convert {\n",
              "      background-color: #3B4455;\n",
              "      fill: #D2E3FC;\n",
              "    }\n",
              "\n",
              "    [theme=dark] .colab-df-convert:hover {\n",
              "      background-color: #434B5C;\n",
              "      box-shadow: 0px 1px 3px 1px rgba(0, 0, 0, 0.15);\n",
              "      filter: drop-shadow(0px 1px 2px rgba(0, 0, 0, 0.3));\n",
              "      fill: #FFFFFF;\n",
              "    }\n",
              "  </style>\n",
              "\n",
              "      <script>\n",
              "        const buttonEl =\n",
              "          document.querySelector('#df-130d57d2-b940-4770-a24a-b9935d8248ca button.colab-df-convert');\n",
              "        buttonEl.style.display =\n",
              "          google.colab.kernel.accessAllowed ? 'block' : 'none';\n",
              "\n",
              "        async function convertToInteractive(key) {\n",
              "          const element = document.querySelector('#df-130d57d2-b940-4770-a24a-b9935d8248ca');\n",
              "          const dataTable =\n",
              "            await google.colab.kernel.invokeFunction('convertToInteractive',\n",
              "                                                     [key], {});\n",
              "          if (!dataTable) return;\n",
              "\n",
              "          const docLinkHtml = 'Like what you see? Visit the ' +\n",
              "            '<a target=\"_blank\" href=https://colab.research.google.com/notebooks/data_table.ipynb>data table notebook</a>'\n",
              "            + ' to learn more about interactive tables.';\n",
              "          element.innerHTML = '';\n",
              "          dataTable['output_type'] = 'display_data';\n",
              "          await google.colab.output.renderOutput(dataTable, element);\n",
              "          const docLink = document.createElement('div');\n",
              "          docLink.innerHTML = docLinkHtml;\n",
              "          element.appendChild(docLink);\n",
              "        }\n",
              "      </script>\n",
              "    </div>\n",
              "  </div>\n",
              "  "
            ]
          },
          "metadata": {},
          "execution_count": 27
        }
      ]
    },
    {
      "cell_type": "code",
      "source": [
        "len(all_original['Warmsen']['31600-01']['dm'][0])"
      ],
      "metadata": {
        "colab": {
          "base_uri": "https://localhost:8080/"
        },
        "id": "mq2c4GQDYedf",
        "outputId": "b7d8a4d8-36b8-40af-e012-06901f860b0e"
      },
      "execution_count": 28,
      "outputs": [
        {
          "output_type": "execute_result",
          "data": {
            "text/plain": [
              "427"
            ]
          },
          "metadata": {},
          "execution_count": 28
        }
      ]
    }
  ]
}