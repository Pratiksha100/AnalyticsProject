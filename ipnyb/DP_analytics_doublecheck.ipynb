{
  "nbformat": 4,
  "nbformat_minor": 0,
  "metadata": {
    "colab": {
      "provenance": []
    },
    "kernelspec": {
      "name": "python3",
      "display_name": "Python 3"
    },
    "language_info": {
      "name": "python"
    }
  },
  "cells": [
    {
      "cell_type": "code",
      "execution_count": null,
      "metadata": {
        "colab": {
          "base_uri": "https://localhost:8080/",
          "height": 34
        },
        "id": "ySraRD2dGS0c",
        "outputId": "a272d339-596d-4f65-977e-877a8097def5"
      },
      "outputs": [
        {
          "output_type": "display_data",
          "data": {
            "application/javascript": [
              "IPython.notebook.set_autosave_interval(0)"
            ]
          },
          "metadata": {}
        },
        {
          "output_type": "stream",
          "name": "stdout",
          "text": [
            "Autosave disabled\n"
          ]
        }
      ],
      "source": [
        "%autosave 0"
      ]
    },
    {
      "cell_type": "code",
      "source": [
        "from google.colab import drive\n",
        "drive.mount('/content/drive')"
      ],
      "metadata": {
        "colab": {
          "base_uri": "https://localhost:8080/"
        },
        "id": "bYepd2LmGiMZ",
        "outputId": "88210edf-126c-4f83-f7ee-5dcc4c9386ae"
      },
      "execution_count": null,
      "outputs": [
        {
          "output_type": "stream",
          "name": "stdout",
          "text": [
            "Mounted at /content/drive\n"
          ]
        }
      ]
    },
    {
      "cell_type": "code",
      "source": [
        "\n",
        "import os\n",
        "import pandas as pd\n",
        "import numpy as np\n",
        "import re\n",
        "import collections\n",
        "import pickle\n",
        "from ast import literal_eval\n",
        "import random\n",
        "import scipy\n",
        "import math\n",
        "import datetime\n",
        "import subprocess"
      ],
      "metadata": {
        "id": "_lpxi4juGqcb"
      },
      "execution_count": null,
      "outputs": []
    },
    {
      "cell_type": "code",
      "source": [
        "# upload files\n",
        "all_original = pickle.load(open(\"/content/drive/Shareddrives/Private Unlimited Drive #1/DDS/Analytics Project/Coding/Results/all_original_complete.p\", \"rb\"))\n",
        "warmsen_instances = pickle.load(open(\"/content/drive/Shareddrives/Private Unlimited Drive #1/DDS/Analytics Project/Coding/Results/warmsen_instances.p\", \"rb\"))\n",
        "all_default_tours = pickle.load(open(\"/content/drive/Shareddrives/Private Unlimited Drive #1/DDS/Analytics Project/Coding/Results/all_default_tours.p\", \"rb\"))"
      ],
      "metadata": {
        "id": "Uz_GPAxQGxBf"
      },
      "execution_count": null,
      "outputs": []
    },
    {
      "cell_type": "markdown",
      "source": [
        "#Tour Cost"
      ],
      "metadata": {
        "id": "DVFYzysfRog-"
      }
    },
    {
      "cell_type": "code",
      "source": [
        "dum = all_original['Warmsen']['31600-01']\n",
        "dum.keys()"
      ],
      "metadata": {
        "colab": {
          "base_uri": "https://localhost:8080/"
        },
        "id": "AExj24PpG0IP",
        "outputId": "225f1e3a-9cea-46c1-8711-1fa1232c68cb"
      },
      "execution_count": null,
      "outputs": [
        {
          "output_type": "execute_result",
          "data": {
            "text/plain": [
              "dict_keys(['start_end_points', 'dm', 'map'])"
            ]
          },
          "metadata": {},
          "execution_count": 63
        }
      ]
    },
    {
      "cell_type": "code",
      "source": [
        "all_default_tours['Warmsen']['31606-14'].keys()"
      ],
      "metadata": {
        "colab": {
          "base_uri": "https://localhost:8080/"
        },
        "id": "-LU36hxIHTCd",
        "outputId": "b6079816-cb78-4b4f-d553-99e9dff1f1da"
      },
      "execution_count": null,
      "outputs": [
        {
          "output_type": "execute_result",
          "data": {
            "text/plain": [
              "dict_keys(['default_route', 'mapping', 'route_cost'])"
            ]
          },
          "metadata": {},
          "execution_count": 64
        }
      ]
    },
    {
      "cell_type": "code",
      "source": [
        "cost = all_default_tours['Warmsen']['31600-01']['route_cost']\n",
        "cost"
      ],
      "metadata": {
        "colab": {
          "base_uri": "https://localhost:8080/"
        },
        "id": "jTFVMggpIKeW",
        "outputId": "54446b54-e603-46ab-e8e1-3e001a8de8ec"
      },
      "execution_count": null,
      "outputs": [
        {
          "output_type": "execute_result",
          "data": {
            "text/plain": [
              "775810.97"
            ]
          },
          "metadata": {},
          "execution_count": 65
        }
      ]
    },
    {
      "cell_type": "code",
      "source": [
        "tour = all_default_tours['Warmsen']['31600-01']['default_route']\n",
        "\n",
        "dm = all_original['Warmsen']['31600-01']['dm']\n",
        "dm_df = pd.DataFrame(all_original['Warmsen']['31600-01']['dm'])"
      ],
      "metadata": {
        "id": "PROWQ_95Ih-U"
      },
      "execution_count": null,
      "outputs": []
    },
    {
      "cell_type": "code",
      "source": [
        "dm_df.head()"
      ],
      "metadata": {
        "colab": {
          "base_uri": "https://localhost:8080/",
          "height": 299
        },
        "id": "Z6qYmijNJxPU",
        "outputId": "2f30b3b6-f438-4d9e-bfd8-423cb1d42c6d"
      },
      "execution_count": null,
      "outputs": [
        {
          "output_type": "execute_result",
          "data": {
            "text/plain": [
              "       0        1        2        3        4        5        6        7    \\\n",
              "0     0.00  4839.06  8242.40  8268.54  4830.32  1823.78  1876.20  4848.11   \n",
              "1  4832.99     0.00  5654.72  5680.86     8.74  5677.86  5730.28     9.05   \n",
              "2  8259.38  5622.04     0.00    26.14  5613.30  6959.68  7012.10  5631.09   \n",
              "3  8285.52  5648.18    26.14     0.00  5639.44  6985.82  7038.24  5657.23   \n",
              "4  4824.25     8.74  5645.98  5672.12     0.00  5669.12  5721.54    17.79   \n",
              "\n",
              "       8        9    ...      417      418      419      420      421  \\\n",
              "0  4863.24  4874.20  ...  6805.72  6852.34  7121.32  7132.45  7123.06   \n",
              "1    24.18    35.14  ...  3632.41  3679.03  3905.95  3917.10  3907.69   \n",
              "2  5646.22  5657.18  ...  5279.49  5326.11  5414.42  5405.76  5412.68   \n",
              "3  5672.36  5683.32  ...  5305.63  5352.25  5440.56  5431.90  5438.82   \n",
              "4    32.92    43.88  ...  3623.67  3670.29  3897.21  3908.36  3898.95   \n",
              "\n",
              "       422      423      424      425      426  \n",
              "0  7131.60  7124.80  7142.69  7179.32  7184.96  \n",
              "1  3916.23  3909.43  3927.32  3963.95  3969.59  \n",
              "2  5410.12  5410.94  5428.83  5465.46  5471.10  \n",
              "3  5436.26  5437.08  5454.97  5491.60  5497.24  \n",
              "4  3907.49  3900.69  3918.58  3955.21  3960.85  \n",
              "\n",
              "[5 rows x 427 columns]"
            ],
            "text/html": [
              "\n",
              "  <div id=\"df-33ed74a2-e9d6-4566-a58a-d9735a291bd8\">\n",
              "    <div class=\"colab-df-container\">\n",
              "      <div>\n",
              "<style scoped>\n",
              "    .dataframe tbody tr th:only-of-type {\n",
              "        vertical-align: middle;\n",
              "    }\n",
              "\n",
              "    .dataframe tbody tr th {\n",
              "        vertical-align: top;\n",
              "    }\n",
              "\n",
              "    .dataframe thead th {\n",
              "        text-align: right;\n",
              "    }\n",
              "</style>\n",
              "<table border=\"1\" class=\"dataframe\">\n",
              "  <thead>\n",
              "    <tr style=\"text-align: right;\">\n",
              "      <th></th>\n",
              "      <th>0</th>\n",
              "      <th>1</th>\n",
              "      <th>2</th>\n",
              "      <th>3</th>\n",
              "      <th>4</th>\n",
              "      <th>5</th>\n",
              "      <th>6</th>\n",
              "      <th>7</th>\n",
              "      <th>8</th>\n",
              "      <th>9</th>\n",
              "      <th>...</th>\n",
              "      <th>417</th>\n",
              "      <th>418</th>\n",
              "      <th>419</th>\n",
              "      <th>420</th>\n",
              "      <th>421</th>\n",
              "      <th>422</th>\n",
              "      <th>423</th>\n",
              "      <th>424</th>\n",
              "      <th>425</th>\n",
              "      <th>426</th>\n",
              "    </tr>\n",
              "  </thead>\n",
              "  <tbody>\n",
              "    <tr>\n",
              "      <th>0</th>\n",
              "      <td>0.00</td>\n",
              "      <td>4839.06</td>\n",
              "      <td>8242.40</td>\n",
              "      <td>8268.54</td>\n",
              "      <td>4830.32</td>\n",
              "      <td>1823.78</td>\n",
              "      <td>1876.20</td>\n",
              "      <td>4848.11</td>\n",
              "      <td>4863.24</td>\n",
              "      <td>4874.20</td>\n",
              "      <td>...</td>\n",
              "      <td>6805.72</td>\n",
              "      <td>6852.34</td>\n",
              "      <td>7121.32</td>\n",
              "      <td>7132.45</td>\n",
              "      <td>7123.06</td>\n",
              "      <td>7131.60</td>\n",
              "      <td>7124.80</td>\n",
              "      <td>7142.69</td>\n",
              "      <td>7179.32</td>\n",
              "      <td>7184.96</td>\n",
              "    </tr>\n",
              "    <tr>\n",
              "      <th>1</th>\n",
              "      <td>4832.99</td>\n",
              "      <td>0.00</td>\n",
              "      <td>5654.72</td>\n",
              "      <td>5680.86</td>\n",
              "      <td>8.74</td>\n",
              "      <td>5677.86</td>\n",
              "      <td>5730.28</td>\n",
              "      <td>9.05</td>\n",
              "      <td>24.18</td>\n",
              "      <td>35.14</td>\n",
              "      <td>...</td>\n",
              "      <td>3632.41</td>\n",
              "      <td>3679.03</td>\n",
              "      <td>3905.95</td>\n",
              "      <td>3917.10</td>\n",
              "      <td>3907.69</td>\n",
              "      <td>3916.23</td>\n",
              "      <td>3909.43</td>\n",
              "      <td>3927.32</td>\n",
              "      <td>3963.95</td>\n",
              "      <td>3969.59</td>\n",
              "    </tr>\n",
              "    <tr>\n",
              "      <th>2</th>\n",
              "      <td>8259.38</td>\n",
              "      <td>5622.04</td>\n",
              "      <td>0.00</td>\n",
              "      <td>26.14</td>\n",
              "      <td>5613.30</td>\n",
              "      <td>6959.68</td>\n",
              "      <td>7012.10</td>\n",
              "      <td>5631.09</td>\n",
              "      <td>5646.22</td>\n",
              "      <td>5657.18</td>\n",
              "      <td>...</td>\n",
              "      <td>5279.49</td>\n",
              "      <td>5326.11</td>\n",
              "      <td>5414.42</td>\n",
              "      <td>5405.76</td>\n",
              "      <td>5412.68</td>\n",
              "      <td>5410.12</td>\n",
              "      <td>5410.94</td>\n",
              "      <td>5428.83</td>\n",
              "      <td>5465.46</td>\n",
              "      <td>5471.10</td>\n",
              "    </tr>\n",
              "    <tr>\n",
              "      <th>3</th>\n",
              "      <td>8285.52</td>\n",
              "      <td>5648.18</td>\n",
              "      <td>26.14</td>\n",
              "      <td>0.00</td>\n",
              "      <td>5639.44</td>\n",
              "      <td>6985.82</td>\n",
              "      <td>7038.24</td>\n",
              "      <td>5657.23</td>\n",
              "      <td>5672.36</td>\n",
              "      <td>5683.32</td>\n",
              "      <td>...</td>\n",
              "      <td>5305.63</td>\n",
              "      <td>5352.25</td>\n",
              "      <td>5440.56</td>\n",
              "      <td>5431.90</td>\n",
              "      <td>5438.82</td>\n",
              "      <td>5436.26</td>\n",
              "      <td>5437.08</td>\n",
              "      <td>5454.97</td>\n",
              "      <td>5491.60</td>\n",
              "      <td>5497.24</td>\n",
              "    </tr>\n",
              "    <tr>\n",
              "      <th>4</th>\n",
              "      <td>4824.25</td>\n",
              "      <td>8.74</td>\n",
              "      <td>5645.98</td>\n",
              "      <td>5672.12</td>\n",
              "      <td>0.00</td>\n",
              "      <td>5669.12</td>\n",
              "      <td>5721.54</td>\n",
              "      <td>17.79</td>\n",
              "      <td>32.92</td>\n",
              "      <td>43.88</td>\n",
              "      <td>...</td>\n",
              "      <td>3623.67</td>\n",
              "      <td>3670.29</td>\n",
              "      <td>3897.21</td>\n",
              "      <td>3908.36</td>\n",
              "      <td>3898.95</td>\n",
              "      <td>3907.49</td>\n",
              "      <td>3900.69</td>\n",
              "      <td>3918.58</td>\n",
              "      <td>3955.21</td>\n",
              "      <td>3960.85</td>\n",
              "    </tr>\n",
              "  </tbody>\n",
              "</table>\n",
              "<p>5 rows × 427 columns</p>\n",
              "</div>\n",
              "      <button class=\"colab-df-convert\" onclick=\"convertToInteractive('df-33ed74a2-e9d6-4566-a58a-d9735a291bd8')\"\n",
              "              title=\"Convert this dataframe to an interactive table.\"\n",
              "              style=\"display:none;\">\n",
              "        \n",
              "  <svg xmlns=\"http://www.w3.org/2000/svg\" height=\"24px\"viewBox=\"0 0 24 24\"\n",
              "       width=\"24px\">\n",
              "    <path d=\"M0 0h24v24H0V0z\" fill=\"none\"/>\n",
              "    <path d=\"M18.56 5.44l.94 2.06.94-2.06 2.06-.94-2.06-.94-.94-2.06-.94 2.06-2.06.94zm-11 1L8.5 8.5l.94-2.06 2.06-.94-2.06-.94L8.5 2.5l-.94 2.06-2.06.94zm10 10l.94 2.06.94-2.06 2.06-.94-2.06-.94-.94-2.06-.94 2.06-2.06.94z\"/><path d=\"M17.41 7.96l-1.37-1.37c-.4-.4-.92-.59-1.43-.59-.52 0-1.04.2-1.43.59L10.3 9.45l-7.72 7.72c-.78.78-.78 2.05 0 2.83L4 21.41c.39.39.9.59 1.41.59.51 0 1.02-.2 1.41-.59l7.78-7.78 2.81-2.81c.8-.78.8-2.07 0-2.86zM5.41 20L4 18.59l7.72-7.72 1.47 1.35L5.41 20z\"/>\n",
              "  </svg>\n",
              "      </button>\n",
              "      \n",
              "  <style>\n",
              "    .colab-df-container {\n",
              "      display:flex;\n",
              "      flex-wrap:wrap;\n",
              "      gap: 12px;\n",
              "    }\n",
              "\n",
              "    .colab-df-convert {\n",
              "      background-color: #E8F0FE;\n",
              "      border: none;\n",
              "      border-radius: 50%;\n",
              "      cursor: pointer;\n",
              "      display: none;\n",
              "      fill: #1967D2;\n",
              "      height: 32px;\n",
              "      padding: 0 0 0 0;\n",
              "      width: 32px;\n",
              "    }\n",
              "\n",
              "    .colab-df-convert:hover {\n",
              "      background-color: #E2EBFA;\n",
              "      box-shadow: 0px 1px 2px rgba(60, 64, 67, 0.3), 0px 1px 3px 1px rgba(60, 64, 67, 0.15);\n",
              "      fill: #174EA6;\n",
              "    }\n",
              "\n",
              "    [theme=dark] .colab-df-convert {\n",
              "      background-color: #3B4455;\n",
              "      fill: #D2E3FC;\n",
              "    }\n",
              "\n",
              "    [theme=dark] .colab-df-convert:hover {\n",
              "      background-color: #434B5C;\n",
              "      box-shadow: 0px 1px 3px 1px rgba(0, 0, 0, 0.15);\n",
              "      filter: drop-shadow(0px 1px 2px rgba(0, 0, 0, 0.3));\n",
              "      fill: #FFFFFF;\n",
              "    }\n",
              "  </style>\n",
              "\n",
              "      <script>\n",
              "        const buttonEl =\n",
              "          document.querySelector('#df-33ed74a2-e9d6-4566-a58a-d9735a291bd8 button.colab-df-convert');\n",
              "        buttonEl.style.display =\n",
              "          google.colab.kernel.accessAllowed ? 'block' : 'none';\n",
              "\n",
              "        async function convertToInteractive(key) {\n",
              "          const element = document.querySelector('#df-33ed74a2-e9d6-4566-a58a-d9735a291bd8');\n",
              "          const dataTable =\n",
              "            await google.colab.kernel.invokeFunction('convertToInteractive',\n",
              "                                                     [key], {});\n",
              "          if (!dataTable) return;\n",
              "\n",
              "          const docLinkHtml = 'Like what you see? Visit the ' +\n",
              "            '<a target=\"_blank\" href=https://colab.research.google.com/notebooks/data_table.ipynb>data table notebook</a>'\n",
              "            + ' to learn more about interactive tables.';\n",
              "          element.innerHTML = '';\n",
              "          dataTable['output_type'] = 'display_data';\n",
              "          await google.colab.output.renderOutput(dataTable, element);\n",
              "          const docLink = document.createElement('div');\n",
              "          docLink.innerHTML = docLinkHtml;\n",
              "          element.appendChild(docLink);\n",
              "        }\n",
              "      </script>\n",
              "    </div>\n",
              "  </div>\n",
              "  "
            ]
          },
          "metadata": {},
          "execution_count": 67
        }
      ]
    },
    {
      "cell_type": "code",
      "source": [
        "dm_df.rename(columns = lambda x : all_original['Warmsen']['31600-01']['map'][x], inplace = True)\n",
        "dm_df.head()"
      ],
      "metadata": {
        "colab": {
          "base_uri": "https://localhost:8080/",
          "height": 299
        },
        "id": "cG3aloMoJy25",
        "outputId": "1b2b48e2-c40b-4486-84e8-430738be6c16"
      },
      "execution_count": null,
      "outputs": [
        {
          "output_type": "execute_result",
          "data": {
            "text/plain": [
              "       0        325      326      327      328      329      330      331  \\\n",
              "0     0.00  4839.06  8242.40  8268.54  4830.32  1823.78  1876.20  4848.11   \n",
              "1  4832.99     0.00  5654.72  5680.86     8.74  5677.86  5730.28     9.05   \n",
              "2  8259.38  5622.04     0.00    26.14  5613.30  6959.68  7012.10  5631.09   \n",
              "3  8285.52  5648.18    26.14     0.00  5639.44  6985.82  7038.24  5657.23   \n",
              "4  4824.25     8.74  5645.98  5672.12     0.00  5669.12  5721.54    17.79   \n",
              "\n",
              "       332      333  ...      741      742      743      744      745  \\\n",
              "0  4863.24  4874.20  ...  6805.72  6852.34  7121.32  7132.45  7123.06   \n",
              "1    24.18    35.14  ...  3632.41  3679.03  3905.95  3917.10  3907.69   \n",
              "2  5646.22  5657.18  ...  5279.49  5326.11  5414.42  5405.76  5412.68   \n",
              "3  5672.36  5683.32  ...  5305.63  5352.25  5440.56  5431.90  5438.82   \n",
              "4    32.92    43.88  ...  3623.67  3670.29  3897.21  3908.36  3898.95   \n",
              "\n",
              "       746      747      748      749      750  \n",
              "0  7131.60  7124.80  7142.69  7179.32  7184.96  \n",
              "1  3916.23  3909.43  3927.32  3963.95  3969.59  \n",
              "2  5410.12  5410.94  5428.83  5465.46  5471.10  \n",
              "3  5436.26  5437.08  5454.97  5491.60  5497.24  \n",
              "4  3907.49  3900.69  3918.58  3955.21  3960.85  \n",
              "\n",
              "[5 rows x 427 columns]"
            ],
            "text/html": [
              "\n",
              "  <div id=\"df-6151dbbc-ad03-4704-8161-14aee2fad0b8\">\n",
              "    <div class=\"colab-df-container\">\n",
              "      <div>\n",
              "<style scoped>\n",
              "    .dataframe tbody tr th:only-of-type {\n",
              "        vertical-align: middle;\n",
              "    }\n",
              "\n",
              "    .dataframe tbody tr th {\n",
              "        vertical-align: top;\n",
              "    }\n",
              "\n",
              "    .dataframe thead th {\n",
              "        text-align: right;\n",
              "    }\n",
              "</style>\n",
              "<table border=\"1\" class=\"dataframe\">\n",
              "  <thead>\n",
              "    <tr style=\"text-align: right;\">\n",
              "      <th></th>\n",
              "      <th>0</th>\n",
              "      <th>325</th>\n",
              "      <th>326</th>\n",
              "      <th>327</th>\n",
              "      <th>328</th>\n",
              "      <th>329</th>\n",
              "      <th>330</th>\n",
              "      <th>331</th>\n",
              "      <th>332</th>\n",
              "      <th>333</th>\n",
              "      <th>...</th>\n",
              "      <th>741</th>\n",
              "      <th>742</th>\n",
              "      <th>743</th>\n",
              "      <th>744</th>\n",
              "      <th>745</th>\n",
              "      <th>746</th>\n",
              "      <th>747</th>\n",
              "      <th>748</th>\n",
              "      <th>749</th>\n",
              "      <th>750</th>\n",
              "    </tr>\n",
              "  </thead>\n",
              "  <tbody>\n",
              "    <tr>\n",
              "      <th>0</th>\n",
              "      <td>0.00</td>\n",
              "      <td>4839.06</td>\n",
              "      <td>8242.40</td>\n",
              "      <td>8268.54</td>\n",
              "      <td>4830.32</td>\n",
              "      <td>1823.78</td>\n",
              "      <td>1876.20</td>\n",
              "      <td>4848.11</td>\n",
              "      <td>4863.24</td>\n",
              "      <td>4874.20</td>\n",
              "      <td>...</td>\n",
              "      <td>6805.72</td>\n",
              "      <td>6852.34</td>\n",
              "      <td>7121.32</td>\n",
              "      <td>7132.45</td>\n",
              "      <td>7123.06</td>\n",
              "      <td>7131.60</td>\n",
              "      <td>7124.80</td>\n",
              "      <td>7142.69</td>\n",
              "      <td>7179.32</td>\n",
              "      <td>7184.96</td>\n",
              "    </tr>\n",
              "    <tr>\n",
              "      <th>1</th>\n",
              "      <td>4832.99</td>\n",
              "      <td>0.00</td>\n",
              "      <td>5654.72</td>\n",
              "      <td>5680.86</td>\n",
              "      <td>8.74</td>\n",
              "      <td>5677.86</td>\n",
              "      <td>5730.28</td>\n",
              "      <td>9.05</td>\n",
              "      <td>24.18</td>\n",
              "      <td>35.14</td>\n",
              "      <td>...</td>\n",
              "      <td>3632.41</td>\n",
              "      <td>3679.03</td>\n",
              "      <td>3905.95</td>\n",
              "      <td>3917.10</td>\n",
              "      <td>3907.69</td>\n",
              "      <td>3916.23</td>\n",
              "      <td>3909.43</td>\n",
              "      <td>3927.32</td>\n",
              "      <td>3963.95</td>\n",
              "      <td>3969.59</td>\n",
              "    </tr>\n",
              "    <tr>\n",
              "      <th>2</th>\n",
              "      <td>8259.38</td>\n",
              "      <td>5622.04</td>\n",
              "      <td>0.00</td>\n",
              "      <td>26.14</td>\n",
              "      <td>5613.30</td>\n",
              "      <td>6959.68</td>\n",
              "      <td>7012.10</td>\n",
              "      <td>5631.09</td>\n",
              "      <td>5646.22</td>\n",
              "      <td>5657.18</td>\n",
              "      <td>...</td>\n",
              "      <td>5279.49</td>\n",
              "      <td>5326.11</td>\n",
              "      <td>5414.42</td>\n",
              "      <td>5405.76</td>\n",
              "      <td>5412.68</td>\n",
              "      <td>5410.12</td>\n",
              "      <td>5410.94</td>\n",
              "      <td>5428.83</td>\n",
              "      <td>5465.46</td>\n",
              "      <td>5471.10</td>\n",
              "    </tr>\n",
              "    <tr>\n",
              "      <th>3</th>\n",
              "      <td>8285.52</td>\n",
              "      <td>5648.18</td>\n",
              "      <td>26.14</td>\n",
              "      <td>0.00</td>\n",
              "      <td>5639.44</td>\n",
              "      <td>6985.82</td>\n",
              "      <td>7038.24</td>\n",
              "      <td>5657.23</td>\n",
              "      <td>5672.36</td>\n",
              "      <td>5683.32</td>\n",
              "      <td>...</td>\n",
              "      <td>5305.63</td>\n",
              "      <td>5352.25</td>\n",
              "      <td>5440.56</td>\n",
              "      <td>5431.90</td>\n",
              "      <td>5438.82</td>\n",
              "      <td>5436.26</td>\n",
              "      <td>5437.08</td>\n",
              "      <td>5454.97</td>\n",
              "      <td>5491.60</td>\n",
              "      <td>5497.24</td>\n",
              "    </tr>\n",
              "    <tr>\n",
              "      <th>4</th>\n",
              "      <td>4824.25</td>\n",
              "      <td>8.74</td>\n",
              "      <td>5645.98</td>\n",
              "      <td>5672.12</td>\n",
              "      <td>0.00</td>\n",
              "      <td>5669.12</td>\n",
              "      <td>5721.54</td>\n",
              "      <td>17.79</td>\n",
              "      <td>32.92</td>\n",
              "      <td>43.88</td>\n",
              "      <td>...</td>\n",
              "      <td>3623.67</td>\n",
              "      <td>3670.29</td>\n",
              "      <td>3897.21</td>\n",
              "      <td>3908.36</td>\n",
              "      <td>3898.95</td>\n",
              "      <td>3907.49</td>\n",
              "      <td>3900.69</td>\n",
              "      <td>3918.58</td>\n",
              "      <td>3955.21</td>\n",
              "      <td>3960.85</td>\n",
              "    </tr>\n",
              "  </tbody>\n",
              "</table>\n",
              "<p>5 rows × 427 columns</p>\n",
              "</div>\n",
              "      <button class=\"colab-df-convert\" onclick=\"convertToInteractive('df-6151dbbc-ad03-4704-8161-14aee2fad0b8')\"\n",
              "              title=\"Convert this dataframe to an interactive table.\"\n",
              "              style=\"display:none;\">\n",
              "        \n",
              "  <svg xmlns=\"http://www.w3.org/2000/svg\" height=\"24px\"viewBox=\"0 0 24 24\"\n",
              "       width=\"24px\">\n",
              "    <path d=\"M0 0h24v24H0V0z\" fill=\"none\"/>\n",
              "    <path d=\"M18.56 5.44l.94 2.06.94-2.06 2.06-.94-2.06-.94-.94-2.06-.94 2.06-2.06.94zm-11 1L8.5 8.5l.94-2.06 2.06-.94-2.06-.94L8.5 2.5l-.94 2.06-2.06.94zm10 10l.94 2.06.94-2.06 2.06-.94-2.06-.94-.94-2.06-.94 2.06-2.06.94z\"/><path d=\"M17.41 7.96l-1.37-1.37c-.4-.4-.92-.59-1.43-.59-.52 0-1.04.2-1.43.59L10.3 9.45l-7.72 7.72c-.78.78-.78 2.05 0 2.83L4 21.41c.39.39.9.59 1.41.59.51 0 1.02-.2 1.41-.59l7.78-7.78 2.81-2.81c.8-.78.8-2.07 0-2.86zM5.41 20L4 18.59l7.72-7.72 1.47 1.35L5.41 20z\"/>\n",
              "  </svg>\n",
              "      </button>\n",
              "      \n",
              "  <style>\n",
              "    .colab-df-container {\n",
              "      display:flex;\n",
              "      flex-wrap:wrap;\n",
              "      gap: 12px;\n",
              "    }\n",
              "\n",
              "    .colab-df-convert {\n",
              "      background-color: #E8F0FE;\n",
              "      border: none;\n",
              "      border-radius: 50%;\n",
              "      cursor: pointer;\n",
              "      display: none;\n",
              "      fill: #1967D2;\n",
              "      height: 32px;\n",
              "      padding: 0 0 0 0;\n",
              "      width: 32px;\n",
              "    }\n",
              "\n",
              "    .colab-df-convert:hover {\n",
              "      background-color: #E2EBFA;\n",
              "      box-shadow: 0px 1px 2px rgba(60, 64, 67, 0.3), 0px 1px 3px 1px rgba(60, 64, 67, 0.15);\n",
              "      fill: #174EA6;\n",
              "    }\n",
              "\n",
              "    [theme=dark] .colab-df-convert {\n",
              "      background-color: #3B4455;\n",
              "      fill: #D2E3FC;\n",
              "    }\n",
              "\n",
              "    [theme=dark] .colab-df-convert:hover {\n",
              "      background-color: #434B5C;\n",
              "      box-shadow: 0px 1px 3px 1px rgba(0, 0, 0, 0.15);\n",
              "      filter: drop-shadow(0px 1px 2px rgba(0, 0, 0, 0.3));\n",
              "      fill: #FFFFFF;\n",
              "    }\n",
              "  </style>\n",
              "\n",
              "      <script>\n",
              "        const buttonEl =\n",
              "          document.querySelector('#df-6151dbbc-ad03-4704-8161-14aee2fad0b8 button.colab-df-convert');\n",
              "        buttonEl.style.display =\n",
              "          google.colab.kernel.accessAllowed ? 'block' : 'none';\n",
              "\n",
              "        async function convertToInteractive(key) {\n",
              "          const element = document.querySelector('#df-6151dbbc-ad03-4704-8161-14aee2fad0b8');\n",
              "          const dataTable =\n",
              "            await google.colab.kernel.invokeFunction('convertToInteractive',\n",
              "                                                     [key], {});\n",
              "          if (!dataTable) return;\n",
              "\n",
              "          const docLinkHtml = 'Like what you see? Visit the ' +\n",
              "            '<a target=\"_blank\" href=https://colab.research.google.com/notebooks/data_table.ipynb>data table notebook</a>'\n",
              "            + ' to learn more about interactive tables.';\n",
              "          element.innerHTML = '';\n",
              "          dataTable['output_type'] = 'display_data';\n",
              "          await google.colab.output.renderOutput(dataTable, element);\n",
              "          const docLink = document.createElement('div');\n",
              "          docLink.innerHTML = docLinkHtml;\n",
              "          element.appendChild(docLink);\n",
              "        }\n",
              "      </script>\n",
              "    </div>\n",
              "  </div>\n",
              "  "
            ]
          },
          "metadata": {},
          "execution_count": 68
        }
      ]
    },
    {
      "cell_type": "code",
      "source": [
        "dm_df.rename(index = lambda x : all_original['Warmsen']['31600-01']['map'][x], inplace = True)\n",
        "dm_df.head()"
      ],
      "metadata": {
        "colab": {
          "base_uri": "https://localhost:8080/",
          "height": 299
        },
        "id": "mD63pIWhKk_1",
        "outputId": "f75e0712-7bb1-4ccb-dd68-63632ec9181d"
      },
      "execution_count": null,
      "outputs": [
        {
          "output_type": "execute_result",
          "data": {
            "text/plain": [
              "         0        325      326      327      328      329      330      331  \\\n",
              "0       0.00  4839.06  8242.40  8268.54  4830.32  1823.78  1876.20  4848.11   \n",
              "325  4832.99     0.00  5654.72  5680.86     8.74  5677.86  5730.28     9.05   \n",
              "326  8259.38  5622.04     0.00    26.14  5613.30  6959.68  7012.10  5631.09   \n",
              "327  8285.52  5648.18    26.14     0.00  5639.44  6985.82  7038.24  5657.23   \n",
              "328  4824.25     8.74  5645.98  5672.12     0.00  5669.12  5721.54    17.79   \n",
              "\n",
              "         332      333  ...      741      742      743      744      745  \\\n",
              "0    4863.24  4874.20  ...  6805.72  6852.34  7121.32  7132.45  7123.06   \n",
              "325    24.18    35.14  ...  3632.41  3679.03  3905.95  3917.10  3907.69   \n",
              "326  5646.22  5657.18  ...  5279.49  5326.11  5414.42  5405.76  5412.68   \n",
              "327  5672.36  5683.32  ...  5305.63  5352.25  5440.56  5431.90  5438.82   \n",
              "328    32.92    43.88  ...  3623.67  3670.29  3897.21  3908.36  3898.95   \n",
              "\n",
              "         746      747      748      749      750  \n",
              "0    7131.60  7124.80  7142.69  7179.32  7184.96  \n",
              "325  3916.23  3909.43  3927.32  3963.95  3969.59  \n",
              "326  5410.12  5410.94  5428.83  5465.46  5471.10  \n",
              "327  5436.26  5437.08  5454.97  5491.60  5497.24  \n",
              "328  3907.49  3900.69  3918.58  3955.21  3960.85  \n",
              "\n",
              "[5 rows x 427 columns]"
            ],
            "text/html": [
              "\n",
              "  <div id=\"df-36d511c4-e3aa-4cda-aaec-c759d97120d0\">\n",
              "    <div class=\"colab-df-container\">\n",
              "      <div>\n",
              "<style scoped>\n",
              "    .dataframe tbody tr th:only-of-type {\n",
              "        vertical-align: middle;\n",
              "    }\n",
              "\n",
              "    .dataframe tbody tr th {\n",
              "        vertical-align: top;\n",
              "    }\n",
              "\n",
              "    .dataframe thead th {\n",
              "        text-align: right;\n",
              "    }\n",
              "</style>\n",
              "<table border=\"1\" class=\"dataframe\">\n",
              "  <thead>\n",
              "    <tr style=\"text-align: right;\">\n",
              "      <th></th>\n",
              "      <th>0</th>\n",
              "      <th>325</th>\n",
              "      <th>326</th>\n",
              "      <th>327</th>\n",
              "      <th>328</th>\n",
              "      <th>329</th>\n",
              "      <th>330</th>\n",
              "      <th>331</th>\n",
              "      <th>332</th>\n",
              "      <th>333</th>\n",
              "      <th>...</th>\n",
              "      <th>741</th>\n",
              "      <th>742</th>\n",
              "      <th>743</th>\n",
              "      <th>744</th>\n",
              "      <th>745</th>\n",
              "      <th>746</th>\n",
              "      <th>747</th>\n",
              "      <th>748</th>\n",
              "      <th>749</th>\n",
              "      <th>750</th>\n",
              "    </tr>\n",
              "  </thead>\n",
              "  <tbody>\n",
              "    <tr>\n",
              "      <th>0</th>\n",
              "      <td>0.00</td>\n",
              "      <td>4839.06</td>\n",
              "      <td>8242.40</td>\n",
              "      <td>8268.54</td>\n",
              "      <td>4830.32</td>\n",
              "      <td>1823.78</td>\n",
              "      <td>1876.20</td>\n",
              "      <td>4848.11</td>\n",
              "      <td>4863.24</td>\n",
              "      <td>4874.20</td>\n",
              "      <td>...</td>\n",
              "      <td>6805.72</td>\n",
              "      <td>6852.34</td>\n",
              "      <td>7121.32</td>\n",
              "      <td>7132.45</td>\n",
              "      <td>7123.06</td>\n",
              "      <td>7131.60</td>\n",
              "      <td>7124.80</td>\n",
              "      <td>7142.69</td>\n",
              "      <td>7179.32</td>\n",
              "      <td>7184.96</td>\n",
              "    </tr>\n",
              "    <tr>\n",
              "      <th>325</th>\n",
              "      <td>4832.99</td>\n",
              "      <td>0.00</td>\n",
              "      <td>5654.72</td>\n",
              "      <td>5680.86</td>\n",
              "      <td>8.74</td>\n",
              "      <td>5677.86</td>\n",
              "      <td>5730.28</td>\n",
              "      <td>9.05</td>\n",
              "      <td>24.18</td>\n",
              "      <td>35.14</td>\n",
              "      <td>...</td>\n",
              "      <td>3632.41</td>\n",
              "      <td>3679.03</td>\n",
              "      <td>3905.95</td>\n",
              "      <td>3917.10</td>\n",
              "      <td>3907.69</td>\n",
              "      <td>3916.23</td>\n",
              "      <td>3909.43</td>\n",
              "      <td>3927.32</td>\n",
              "      <td>3963.95</td>\n",
              "      <td>3969.59</td>\n",
              "    </tr>\n",
              "    <tr>\n",
              "      <th>326</th>\n",
              "      <td>8259.38</td>\n",
              "      <td>5622.04</td>\n",
              "      <td>0.00</td>\n",
              "      <td>26.14</td>\n",
              "      <td>5613.30</td>\n",
              "      <td>6959.68</td>\n",
              "      <td>7012.10</td>\n",
              "      <td>5631.09</td>\n",
              "      <td>5646.22</td>\n",
              "      <td>5657.18</td>\n",
              "      <td>...</td>\n",
              "      <td>5279.49</td>\n",
              "      <td>5326.11</td>\n",
              "      <td>5414.42</td>\n",
              "      <td>5405.76</td>\n",
              "      <td>5412.68</td>\n",
              "      <td>5410.12</td>\n",
              "      <td>5410.94</td>\n",
              "      <td>5428.83</td>\n",
              "      <td>5465.46</td>\n",
              "      <td>5471.10</td>\n",
              "    </tr>\n",
              "    <tr>\n",
              "      <th>327</th>\n",
              "      <td>8285.52</td>\n",
              "      <td>5648.18</td>\n",
              "      <td>26.14</td>\n",
              "      <td>0.00</td>\n",
              "      <td>5639.44</td>\n",
              "      <td>6985.82</td>\n",
              "      <td>7038.24</td>\n",
              "      <td>5657.23</td>\n",
              "      <td>5672.36</td>\n",
              "      <td>5683.32</td>\n",
              "      <td>...</td>\n",
              "      <td>5305.63</td>\n",
              "      <td>5352.25</td>\n",
              "      <td>5440.56</td>\n",
              "      <td>5431.90</td>\n",
              "      <td>5438.82</td>\n",
              "      <td>5436.26</td>\n",
              "      <td>5437.08</td>\n",
              "      <td>5454.97</td>\n",
              "      <td>5491.60</td>\n",
              "      <td>5497.24</td>\n",
              "    </tr>\n",
              "    <tr>\n",
              "      <th>328</th>\n",
              "      <td>4824.25</td>\n",
              "      <td>8.74</td>\n",
              "      <td>5645.98</td>\n",
              "      <td>5672.12</td>\n",
              "      <td>0.00</td>\n",
              "      <td>5669.12</td>\n",
              "      <td>5721.54</td>\n",
              "      <td>17.79</td>\n",
              "      <td>32.92</td>\n",
              "      <td>43.88</td>\n",
              "      <td>...</td>\n",
              "      <td>3623.67</td>\n",
              "      <td>3670.29</td>\n",
              "      <td>3897.21</td>\n",
              "      <td>3908.36</td>\n",
              "      <td>3898.95</td>\n",
              "      <td>3907.49</td>\n",
              "      <td>3900.69</td>\n",
              "      <td>3918.58</td>\n",
              "      <td>3955.21</td>\n",
              "      <td>3960.85</td>\n",
              "    </tr>\n",
              "  </tbody>\n",
              "</table>\n",
              "<p>5 rows × 427 columns</p>\n",
              "</div>\n",
              "      <button class=\"colab-df-convert\" onclick=\"convertToInteractive('df-36d511c4-e3aa-4cda-aaec-c759d97120d0')\"\n",
              "              title=\"Convert this dataframe to an interactive table.\"\n",
              "              style=\"display:none;\">\n",
              "        \n",
              "  <svg xmlns=\"http://www.w3.org/2000/svg\" height=\"24px\"viewBox=\"0 0 24 24\"\n",
              "       width=\"24px\">\n",
              "    <path d=\"M0 0h24v24H0V0z\" fill=\"none\"/>\n",
              "    <path d=\"M18.56 5.44l.94 2.06.94-2.06 2.06-.94-2.06-.94-.94-2.06-.94 2.06-2.06.94zm-11 1L8.5 8.5l.94-2.06 2.06-.94-2.06-.94L8.5 2.5l-.94 2.06-2.06.94zm10 10l.94 2.06.94-2.06 2.06-.94-2.06-.94-.94-2.06-.94 2.06-2.06.94z\"/><path d=\"M17.41 7.96l-1.37-1.37c-.4-.4-.92-.59-1.43-.59-.52 0-1.04.2-1.43.59L10.3 9.45l-7.72 7.72c-.78.78-.78 2.05 0 2.83L4 21.41c.39.39.9.59 1.41.59.51 0 1.02-.2 1.41-.59l7.78-7.78 2.81-2.81c.8-.78.8-2.07 0-2.86zM5.41 20L4 18.59l7.72-7.72 1.47 1.35L5.41 20z\"/>\n",
              "  </svg>\n",
              "      </button>\n",
              "      \n",
              "  <style>\n",
              "    .colab-df-container {\n",
              "      display:flex;\n",
              "      flex-wrap:wrap;\n",
              "      gap: 12px;\n",
              "    }\n",
              "\n",
              "    .colab-df-convert {\n",
              "      background-color: #E8F0FE;\n",
              "      border: none;\n",
              "      border-radius: 50%;\n",
              "      cursor: pointer;\n",
              "      display: none;\n",
              "      fill: #1967D2;\n",
              "      height: 32px;\n",
              "      padding: 0 0 0 0;\n",
              "      width: 32px;\n",
              "    }\n",
              "\n",
              "    .colab-df-convert:hover {\n",
              "      background-color: #E2EBFA;\n",
              "      box-shadow: 0px 1px 2px rgba(60, 64, 67, 0.3), 0px 1px 3px 1px rgba(60, 64, 67, 0.15);\n",
              "      fill: #174EA6;\n",
              "    }\n",
              "\n",
              "    [theme=dark] .colab-df-convert {\n",
              "      background-color: #3B4455;\n",
              "      fill: #D2E3FC;\n",
              "    }\n",
              "\n",
              "    [theme=dark] .colab-df-convert:hover {\n",
              "      background-color: #434B5C;\n",
              "      box-shadow: 0px 1px 3px 1px rgba(0, 0, 0, 0.15);\n",
              "      filter: drop-shadow(0px 1px 2px rgba(0, 0, 0, 0.3));\n",
              "      fill: #FFFFFF;\n",
              "    }\n",
              "  </style>\n",
              "\n",
              "      <script>\n",
              "        const buttonEl =\n",
              "          document.querySelector('#df-36d511c4-e3aa-4cda-aaec-c759d97120d0 button.colab-df-convert');\n",
              "        buttonEl.style.display =\n",
              "          google.colab.kernel.accessAllowed ? 'block' : 'none';\n",
              "\n",
              "        async function convertToInteractive(key) {\n",
              "          const element = document.querySelector('#df-36d511c4-e3aa-4cda-aaec-c759d97120d0');\n",
              "          const dataTable =\n",
              "            await google.colab.kernel.invokeFunction('convertToInteractive',\n",
              "                                                     [key], {});\n",
              "          if (!dataTable) return;\n",
              "\n",
              "          const docLinkHtml = 'Like what you see? Visit the ' +\n",
              "            '<a target=\"_blank\" href=https://colab.research.google.com/notebooks/data_table.ipynb>data table notebook</a>'\n",
              "            + ' to learn more about interactive tables.';\n",
              "          element.innerHTML = '';\n",
              "          dataTable['output_type'] = 'display_data';\n",
              "          await google.colab.output.renderOutput(dataTable, element);\n",
              "          const docLink = document.createElement('div');\n",
              "          docLink.innerHTML = docLinkHtml;\n",
              "          element.appendChild(docLink);\n",
              "        }\n",
              "      </script>\n",
              "    </div>\n",
              "  </div>\n",
              "  "
            ]
          },
          "metadata": {},
          "execution_count": 69
        }
      ]
    },
    {
      "cell_type": "code",
      "source": [
        "print(dm_df.loc[0].sum())\n",
        "print(dm_df.loc[333].sum())"
      ],
      "metadata": {
        "colab": {
          "base_uri": "https://localhost:8080/"
        },
        "id": "AfaLltesKtTA",
        "outputId": "48b765c1-f5f8-43ca-cc3f-55d076dbf58f"
      },
      "execution_count": null,
      "outputs": [
        {
          "output_type": "stream",
          "name": "stdout",
          "text": [
            "2533948.110000007\n",
            "1900023.419999999\n"
          ]
        }
      ]
    },
    {
      "cell_type": "code",
      "source": [
        "dm_df.iloc[0][698]"
      ],
      "metadata": {
        "colab": {
          "base_uri": "https://localhost:8080/"
        },
        "id": "GkAdXXrPMMaU",
        "outputId": "bc9fa872-a3b3-492a-8f03-d2fee293d3c9"
      },
      "execution_count": null,
      "outputs": [
        {
          "output_type": "execute_result",
          "data": {
            "text/plain": [
              "7370.220000000022"
            ]
          },
          "metadata": {},
          "execution_count": 44
        }
      ]
    },
    {
      "cell_type": "code",
      "source": [
        "tour[1]"
      ],
      "metadata": {
        "colab": {
          "base_uri": "https://localhost:8080/"
        },
        "id": "OX87QqLJMiBn",
        "outputId": "a501e699-cc77-424a-cdb8-e94d1509c1d1"
      },
      "execution_count": null,
      "outputs": [
        {
          "output_type": "execute_result",
          "data": {
            "text/plain": [
              "698"
            ]
          },
          "metadata": {},
          "execution_count": 35
        }
      ]
    },
    {
      "cell_type": "code",
      "source": [
        "all_original['Warmsen']['31600-01']['map'][1]"
      ],
      "metadata": {
        "colab": {
          "base_uri": "https://localhost:8080/"
        },
        "id": "mqHgNBW6NSGW",
        "outputId": "7c771c97-136b-4ce6-dbce-245f4cfd09c9"
      },
      "execution_count": null,
      "outputs": [
        {
          "output_type": "execute_result",
          "data": {
            "text/plain": [
              "325"
            ]
          },
          "metadata": {},
          "execution_count": 40
        }
      ]
    },
    {
      "cell_type": "code",
      "source": [
        "tour[0:5]"
      ],
      "metadata": {
        "colab": {
          "base_uri": "https://localhost:8080/"
        },
        "id": "6efUkY6BNT1D",
        "outputId": "d6950d46-e3df-49b3-cfb7-38b41a037cd7"
      },
      "execution_count": null,
      "outputs": [
        {
          "output_type": "execute_result",
          "data": {
            "text/plain": [
              "[0, 698, 699, 700, 701]"
            ]
          },
          "metadata": {},
          "execution_count": 49
        }
      ]
    },
    {
      "cell_type": "code",
      "source": [
        "698 in all_original['Warmsen']['31600-01']['map'].values()"
      ],
      "metadata": {
        "colab": {
          "base_uri": "https://localhost:8080/"
        },
        "id": "G7gB9UIPPP1w",
        "outputId": "ebacb04b-cc94-4c05-ccf2-c3cc1e78df00"
      },
      "execution_count": null,
      "outputs": [
        {
          "output_type": "execute_result",
          "data": {
            "text/plain": [
              "True"
            ]
          },
          "metadata": {},
          "execution_count": 59
        }
      ]
    },
    {
      "cell_type": "code",
      "source": [
        "698 in dm_df.columns.tolist()"
      ],
      "metadata": {
        "colab": {
          "base_uri": "https://localhost:8080/"
        },
        "id": "yHvl53pxPf_k",
        "outputId": "fd344815-0b9b-4c83-9bce-bc8273172043"
      },
      "execution_count": null,
      "outputs": [
        {
          "output_type": "execute_result",
          "data": {
            "text/plain": [
              "True"
            ]
          },
          "metadata": {},
          "execution_count": 60
        }
      ]
    },
    {
      "cell_type": "code",
      "source": [
        "dm_df.loc[698]"
      ],
      "metadata": {
        "colab": {
          "base_uri": "https://localhost:8080/"
        },
        "id": "TY7LuZQCPmsh",
        "outputId": "ce4499d4-2298-49f2-b9ce-4129ebafe906"
      },
      "execution_count": null,
      "outputs": [
        {
          "output_type": "execute_result",
          "data": {
            "text/plain": [
              "0      7402.73\n",
              "325    4736.56\n",
              "326    1285.17\n",
              "327    1311.31\n",
              "328    4727.82\n",
              "        ...   \n",
              "746    4725.10\n",
              "747    4718.84\n",
              "748    4736.73\n",
              "749    4773.36\n",
              "750    4779.00\n",
              "Name: 698, Length: 427, dtype: float64"
            ]
          },
          "metadata": {},
          "execution_count": 71
        }
      ]
    },
    {
      "cell_type": "code",
      "source": [
        "dm_df.loc[698][699]"
      ],
      "metadata": {
        "colab": {
          "base_uri": "https://localhost:8080/"
        },
        "id": "A02kB2pvP8Hu",
        "outputId": "cd4863f5-9e43-412e-acd2-900b5423f566"
      },
      "execution_count": null,
      "outputs": [
        {
          "output_type": "execute_result",
          "data": {
            "text/plain": [
              "5038.87"
            ]
          },
          "metadata": {},
          "execution_count": 77
        }
      ]
    },
    {
      "cell_type": "code",
      "source": [
        "%%time\n",
        "\n",
        "sum_arcs = 0\n",
        "\n",
        "for s in range(len(tour)-1):\n",
        "  node_1 = tour[s]\n",
        "  # print('1')\n",
        "  node_2 = tour[s+1] \n",
        "  # print('2')\n",
        "  sum_arcs = sum_arcs + dm_df.loc[node_1][node_2]\n",
        "  # print('3')\n",
        "  print('idx :', s, s+1, '; nodes:', node_1, node_2, '; arc cost:', dm_df.loc[node_1][node_2], '; cumulative cost :', sum_arcs)\n",
        "  # print('4')\n"
      ],
      "metadata": {
        "colab": {
          "base_uri": "https://localhost:8080/"
        },
        "id": "vru5qickLYPO",
        "outputId": "6b8c7035-a639-4893-f781-1e7fef1ecb2d"
      },
      "execution_count": null,
      "outputs": [
        {
          "output_type": "stream",
          "name": "stdout",
          "text": [
            "idx : 0 1 ; nodes: 0 698 ; arc cost: 7370.220000000022 ; cumulative cost : 7370.220000000022\n",
            "idx : 1 2 ; nodes: 698 699 ; arc cost: 5038.87 ; cumulative cost : 12409.090000000022\n",
            "idx : 2 3 ; nodes: 699 700 ; arc cost: 5045.459999999999 ; cumulative cost : 17454.55000000002\n",
            "idx : 3 4 ; nodes: 700 701 ; arc cost: 14.53 ; cumulative cost : 17469.08000000002\n",
            "idx : 4 5 ; nodes: 701 696 ; arc cost: 828.3500000000001 ; cumulative cost : 18297.43000000002\n",
            "idx : 5 6 ; nodes: 696 697 ; arc cost: 42.57 ; cumulative cost : 18340.00000000002\n",
            "idx : 6 7 ; nodes: 697 695 ; arc cost: 5033.8 ; cumulative cost : 23373.800000000017\n",
            "idx : 7 8 ; nodes: 695 620 ; arc cost: 4557.16 ; cumulative cost : 27930.960000000017\n",
            "idx : 8 9 ; nodes: 620 621 ; arc cost: 16.18 ; cumulative cost : 27947.140000000018\n",
            "idx : 9 10 ; nodes: 621 622 ; arc cost: 5187.259999999998 ; cumulative cost : 33134.400000000016\n",
            "idx : 10 11 ; nodes: 622 623 ; arc cost: 48.67 ; cumulative cost : 33183.070000000014\n",
            "idx : 11 12 ; nodes: 623 619 ; arc cost: 5237.44 ; cumulative cost : 38420.51000000002\n",
            "idx : 12 13 ; nodes: 619 618 ; arc cost: 24.01 ; cumulative cost : 38444.52000000002\n",
            "idx : 13 14 ; nodes: 618 453 ; arc cost: 1352.9600000000005 ; cumulative cost : 39797.48000000002\n",
            "idx : 14 15 ; nodes: 453 452 ; arc cost: 4.52 ; cumulative cost : 39802.000000000015\n",
            "idx : 15 16 ; nodes: 452 454 ; arc cost: 9475.100000000026 ; cumulative cost : 49277.10000000004\n",
            "idx : 16 17 ; nodes: 454 455 ; arc cost: 4.44 ; cumulative cost : 49281.540000000045\n",
            "idx : 17 18 ; nodes: 455 456 ; arc cost: 4.67 ; cumulative cost : 49286.21000000004\n",
            "idx : 18 19 ; nodes: 456 457 ; arc cost: 4.85 ; cumulative cost : 49291.06000000004\n",
            "idx : 19 20 ; nodes: 457 458 ; arc cost: 4.88 ; cumulative cost : 49295.94000000004\n",
            "idx : 20 21 ; nodes: 458 459 ; arc cost: 6.28 ; cumulative cost : 49302.22000000004\n",
            "idx : 21 22 ; nodes: 459 460 ; arc cost: 5.17 ; cumulative cost : 49307.390000000036\n",
            "idx : 22 23 ; nodes: 460 461 ; arc cost: 9.12 ; cumulative cost : 49316.51000000004\n",
            "idx : 23 24 ; nodes: 461 348 ; arc cost: 4468.020000000005 ; cumulative cost : 53784.53000000004\n",
            "idx : 24 25 ; nodes: 348 364 ; arc cost: 302.62000000000006 ; cumulative cost : 54087.150000000045\n",
            "idx : 25 26 ; nodes: 364 365 ; arc cost: 1133.4599999999991 ; cumulative cost : 55220.610000000044\n",
            "idx : 26 27 ; nodes: 365 363 ; arc cost: 1101.6999999999994 ; cumulative cost : 56322.31000000004\n",
            "idx : 27 28 ; nodes: 363 370 ; arc cost: 780.0299999999988 ; cumulative cost : 57102.34000000004\n",
            "idx : 28 29 ; nodes: 370 367 ; arc cost: 117.81 ; cumulative cost : 57220.15000000004\n",
            "idx : 29 30 ; nodes: 367 369 ; arc cost: 106.96 ; cumulative cost : 57327.11000000004\n",
            "idx : 30 31 ; nodes: 369 368 ; arc cost: 93.82 ; cumulative cost : 57420.93000000004\n",
            "idx : 31 32 ; nodes: 368 366 ; arc cost: 583.7899999999998 ; cumulative cost : 58004.72000000004\n",
            "idx : 32 33 ; nodes: 366 371 ; arc cost: 486.9499999999997 ; cumulative cost : 58491.670000000035\n",
            "idx : 33 34 ; nodes: 371 372 ; arc cost: 284.01 ; cumulative cost : 58775.68000000004\n",
            "idx : 34 35 ; nodes: 372 374 ; arc cost: 221.47 ; cumulative cost : 58997.15000000004\n",
            "idx : 35 36 ; nodes: 374 373 ; arc cost: 208.1 ; cumulative cost : 59205.25000000004\n",
            "idx : 36 37 ; nodes: 373 574 ; arc cost: 2736.269999999999 ; cumulative cost : 61941.52000000003\n",
            "idx : 37 38 ; nodes: 574 575 ; arc cost: 11.85 ; cumulative cost : 61953.37000000003\n",
            "idx : 38 39 ; nodes: 575 576 ; arc cost: 8062.120000000013 ; cumulative cost : 70015.49000000005\n",
            "idx : 39 40 ; nodes: 576 569 ; arc cost: 5186.680000000016 ; cumulative cost : 75202.17000000007\n",
            "idx : 40 41 ; nodes: 569 570 ; arc cost: 149.38999999999996 ; cumulative cost : 75351.56000000007\n",
            "idx : 41 42 ; nodes: 570 571 ; arc cost: 110.48 ; cumulative cost : 75462.04000000007\n",
            "idx : 42 43 ; nodes: 571 572 ; arc cost: 60.86 ; cumulative cost : 75522.90000000007\n",
            "idx : 43 44 ; nodes: 572 573 ; arc cost: 4011.529999999997 ; cumulative cost : 79534.43000000007\n",
            "idx : 44 45 ; nodes: 573 568 ; arc cost: 3957.190000000014 ; cumulative cost : 83491.62000000008\n",
            "idx : 45 46 ; nodes: 568 495 ; arc cost: 6289.189999999998 ; cumulative cost : 89780.81000000008\n",
            "idx : 46 47 ; nodes: 495 494 ; arc cost: 14.2 ; cumulative cost : 89795.01000000008\n",
            "idx : 47 48 ; nodes: 494 497 ; arc cost: 30.14 ; cumulative cost : 89825.15000000008\n",
            "idx : 48 49 ; nodes: 497 492 ; arc cost: 56.6 ; cumulative cost : 89881.75000000009\n",
            "idx : 49 50 ; nodes: 492 496 ; arc cost: 48.34 ; cumulative cost : 89930.09000000008\n",
            "idx : 50 51 ; nodes: 496 493 ; arc cost: 35.6 ; cumulative cost : 89965.69000000009\n",
            "idx : 51 52 ; nodes: 493 395 ; arc cost: 1512.31 ; cumulative cost : 91478.00000000009\n",
            "idx : 52 53 ; nodes: 395 412 ; arc cost: 1667.4400000000005 ; cumulative cost : 93145.44000000009\n",
            "idx : 53 54 ; nodes: 412 411 ; arc cost: 22.06 ; cumulative cost : 93167.50000000009\n",
            "idx : 54 55 ; nodes: 411 410 ; arc cost: 15.58 ; cumulative cost : 93183.08000000009\n",
            "idx : 55 56 ; nodes: 410 409 ; arc cost: 9.38 ; cumulative cost : 93192.4600000001\n",
            "idx : 56 57 ; nodes: 409 408 ; arc cost: 7.84 ; cumulative cost : 93200.30000000009\n",
            "idx : 57 58 ; nodes: 408 400 ; arc cost: 9133.040000000032 ; cumulative cost : 102333.34000000013\n",
            "idx : 58 59 ; nodes: 400 401 ; arc cost: 9046.64000000002 ; cumulative cost : 111379.98000000014\n",
            "idx : 59 60 ; nodes: 401 403 ; arc cost: 5.85 ; cumulative cost : 111385.83000000015\n",
            "idx : 60 61 ; nodes: 403 402 ; arc cost: 4.17 ; cumulative cost : 111390.00000000015\n",
            "idx : 61 62 ; nodes: 402 405 ; arc cost: 10.45 ; cumulative cost : 111400.45000000014\n",
            "idx : 62 63 ; nodes: 405 404 ; arc cost: 3.27 ; cumulative cost : 111403.72000000015\n",
            "idx : 63 64 ; nodes: 404 406 ; arc cost: 8.29 ; cumulative cost : 111412.01000000014\n",
            "idx : 64 65 ; nodes: 406 407 ; arc cost: 14.53 ; cumulative cost : 111426.54000000014\n",
            "idx : 65 66 ; nodes: 407 399 ; arc cost: 9092.590000000033 ; cumulative cost : 120519.13000000018\n",
            "idx : 66 67 ; nodes: 399 398 ; arc cost: 33.8 ; cumulative cost : 120552.93000000018\n",
            "idx : 67 68 ; nodes: 398 397 ; arc cost: 8902.100000000024 ; cumulative cost : 129455.0300000002\n",
            "idx : 68 69 ; nodes: 397 396 ; arc cost: 5683.260000000028 ; cumulative cost : 135138.29000000024\n",
            "idx : 69 70 ; nodes: 396 563 ; arc cost: 1752.3899999999965 ; cumulative cost : 136890.68000000023\n",
            "idx : 70 71 ; nodes: 563 564 ; arc cost: 21.48 ; cumulative cost : 136912.16000000024\n",
            "idx : 71 72 ; nodes: 564 565 ; arc cost: 10.45 ; cumulative cost : 136922.61000000025\n",
            "idx : 72 73 ; nodes: 565 566 ; arc cost: 112.7 ; cumulative cost : 137035.31000000026\n",
            "idx : 73 74 ; nodes: 566 567 ; arc cost: 17.03 ; cumulative cost : 137052.34000000026\n",
            "idx : 74 75 ; nodes: 567 377 ; arc cost: 1924.8599999999976 ; cumulative cost : 138977.20000000024\n",
            "idx : 75 76 ; nodes: 377 379 ; arc cost: 7197.409999999996 ; cumulative cost : 146174.61000000025\n",
            "idx : 76 77 ; nodes: 379 380 ; arc cost: 31.2 ; cumulative cost : 146205.81000000026\n",
            "idx : 77 78 ; nodes: 380 381 ; arc cost: 40.95 ; cumulative cost : 146246.76000000027\n",
            "idx : 78 79 ; nodes: 381 382 ; arc cost: 55.11 ; cumulative cost : 146301.87000000026\n",
            "idx : 79 80 ; nodes: 382 383 ; arc cost: 13.65 ; cumulative cost : 146315.52000000025\n",
            "idx : 80 81 ; nodes: 383 384 ; arc cost: 7.33 ; cumulative cost : 146322.85000000024\n",
            "idx : 81 82 ; nodes: 384 385 ; arc cost: 64.09 ; cumulative cost : 146386.94000000024\n",
            "idx : 82 83 ; nodes: 385 386 ; arc cost: 73.09 ; cumulative cost : 146460.03000000023\n",
            "idx : 83 84 ; nodes: 386 387 ; arc cost: 6.34 ; cumulative cost : 146466.37000000023\n",
            "idx : 84 85 ; nodes: 387 388 ; arc cost: 3.34 ; cumulative cost : 146469.71000000022\n",
            "idx : 85 86 ; nodes: 388 389 ; arc cost: 33.7 ; cumulative cost : 146503.41000000024\n",
            "idx : 86 87 ; nodes: 389 378 ; arc cost: 6755.670000000021 ; cumulative cost : 153259.08000000025\n",
            "idx : 87 88 ; nodes: 378 391 ; arc cost: 4206.779999999998 ; cumulative cost : 157465.86000000025\n",
            "idx : 88 89 ; nodes: 391 390 ; arc cost: 8958.210000000028 ; cumulative cost : 166424.07000000027\n",
            "idx : 89 90 ; nodes: 390 375 ; arc cost: 7054.99000000002 ; cumulative cost : 173479.0600000003\n",
            "idx : 90 91 ; nodes: 375 376 ; arc cost: 164.4 ; cumulative cost : 173643.46000000028\n",
            "idx : 91 92 ; nodes: 376 392 ; arc cost: 4373.079999999998 ; cumulative cost : 178016.54000000027\n",
            "idx : 92 93 ; nodes: 392 514 ; arc cost: 8944.130000000012 ; cumulative cost : 186960.67000000027\n",
            "idx : 93 94 ; nodes: 514 516 ; arc cost: 22.07 ; cumulative cost : 186982.74000000028\n",
            "idx : 94 95 ; nodes: 516 521 ; arc cost: 469.28 ; cumulative cost : 187452.02000000028\n",
            "idx : 95 96 ; nodes: 521 518 ; arc cost: 432.3200000000001 ; cumulative cost : 187884.3400000003\n",
            "idx : 96 97 ; nodes: 518 517 ; arc cost: 7.99 ; cumulative cost : 187892.33000000028\n",
            "idx : 97 98 ; nodes: 517 519 ; arc cost: 20.93 ; cumulative cost : 187913.26000000027\n",
            "idx : 98 99 ; nodes: 519 520 ; arc cost: 413.83 ; cumulative cost : 188327.09000000026\n",
            "idx : 99 100 ; nodes: 520 515 ; arc cost: 475.3700000000001 ; cumulative cost : 188802.46000000025\n",
            "idx : 100 101 ; nodes: 515 522 ; arc cost: 488.35 ; cumulative cost : 189290.81000000026\n",
            "idx : 101 102 ; nodes: 522 523 ; arc cost: 8.05 ; cumulative cost : 189298.86000000025\n",
            "idx : 102 103 ; nodes: 523 524 ; arc cost: 12.53 ; cumulative cost : 189311.39000000025\n",
            "idx : 103 104 ; nodes: 524 525 ; arc cost: 12.99 ; cumulative cost : 189324.38000000024\n",
            "idx : 104 105 ; nodes: 525 580 ; arc cost: 9449.860000000028 ; cumulative cost : 198774.24000000025\n",
            "idx : 105 106 ; nodes: 580 581 ; arc cost: 6.54 ; cumulative cost : 198780.78000000026\n",
            "idx : 106 107 ; nodes: 581 582 ; arc cost: 28.92 ; cumulative cost : 198809.70000000027\n",
            "idx : 107 108 ; nodes: 582 583 ; arc cost: 2.87 ; cumulative cost : 198812.57000000027\n",
            "idx : 108 109 ; nodes: 583 584 ; arc cost: 10.46 ; cumulative cost : 198823.03000000026\n",
            "idx : 109 110 ; nodes: 584 585 ; arc cost: 11.08 ; cumulative cost : 198834.11000000025\n",
            "idx : 110 111 ; nodes: 585 586 ; arc cost: 3.7 ; cumulative cost : 198837.81000000026\n",
            "idx : 111 112 ; nodes: 586 587 ; arc cost: 16.419999999999998 ; cumulative cost : 198854.23000000027\n",
            "idx : 112 113 ; nodes: 587 588 ; arc cost: 8.44 ; cumulative cost : 198862.67000000027\n",
            "idx : 113 114 ; nodes: 588 589 ; arc cost: 9290.63000000002 ; cumulative cost : 208153.30000000028\n",
            "idx : 114 115 ; nodes: 589 590 ; arc cost: 7.83 ; cumulative cost : 208161.13000000027\n",
            "idx : 115 116 ; nodes: 590 591 ; arc cost: 121.78 ; cumulative cost : 208282.91000000027\n",
            "idx : 116 117 ; nodes: 591 592 ; arc cost: 87.96 ; cumulative cost : 208370.87000000026\n",
            "idx : 117 118 ; nodes: 592 593 ; arc cost: 5734.489999999997 ; cumulative cost : 214105.36000000025\n",
            "idx : 118 119 ; nodes: 593 594 ; arc cost: 44.34 ; cumulative cost : 214149.70000000024\n",
            "idx : 119 120 ; nodes: 594 595 ; arc cost: 25.29 ; cumulative cost : 214174.99000000025\n",
            "idx : 120 121 ; nodes: 595 596 ; arc cost: 17.58 ; cumulative cost : 214192.57000000024\n",
            "idx : 121 122 ; nodes: 596 597 ; arc cost: 347.72 ; cumulative cost : 214540.29000000024\n",
            "idx : 122 123 ; nodes: 597 598 ; arc cost: 1.42 ; cumulative cost : 214541.71000000025\n",
            "idx : 123 124 ; nodes: 598 578 ; arc cost: 4733.859999999998 ; cumulative cost : 219275.57000000024\n",
            "idx : 124 125 ; nodes: 578 577 ; arc cost: 2.63 ; cumulative cost : 219278.20000000024\n",
            "idx : 125 126 ; nodes: 577 579 ; arc cost: 23.6 ; cumulative cost : 219301.80000000025\n",
            "idx : 126 127 ; nodes: 579 603 ; arc cost: 4514.9800000000105 ; cumulative cost : 223816.78000000026\n",
            "idx : 127 128 ; nodes: 603 604 ; arc cost: 8.27 ; cumulative cost : 223825.05000000025\n",
            "idx : 128 129 ; nodes: 604 605 ; arc cost: 9.83 ; cumulative cost : 223834.88000000024\n",
            "idx : 129 130 ; nodes: 605 606 ; arc cost: 5809.849999999998 ; cumulative cost : 229644.73000000024\n",
            "idx : 130 131 ; nodes: 606 601 ; arc cost: 5845.370000000029 ; cumulative cost : 235490.10000000027\n",
            "idx : 131 132 ; nodes: 601 607 ; arc cost: 5863.259999999997 ; cumulative cost : 241353.36000000028\n",
            "idx : 132 133 ; nodes: 607 608 ; arc cost: 21.49 ; cumulative cost : 241374.85000000027\n",
            "idx : 133 134 ; nodes: 608 609 ; arc cost: 10304.790000000015 ; cumulative cost : 251679.64000000028\n",
            "idx : 134 135 ; nodes: 609 610 ; arc cost: 14.42 ; cumulative cost : 251694.0600000003\n",
            "idx : 135 136 ; nodes: 610 611 ; arc cost: 197.34 ; cumulative cost : 251891.40000000029\n",
            "idx : 136 137 ; nodes: 611 612 ; arc cost: 53.86 ; cumulative cost : 251945.26000000027\n",
            "idx : 137 138 ; nodes: 612 599 ; arc cost: 7652.350000000013 ; cumulative cost : 259597.61000000028\n",
            "idx : 138 139 ; nodes: 599 613 ; arc cost: 7739.97 ; cumulative cost : 267337.58000000025\n",
            "idx : 139 140 ; nodes: 613 600 ; arc cost: 7644.880000000013 ; cumulative cost : 274982.46000000025\n",
            "idx : 140 141 ; nodes: 600 614 ; arc cost: 7694.829999999999 ; cumulative cost : 282677.29000000027\n",
            "idx : 141 142 ; nodes: 614 602 ; arc cost: 7614.820000000013 ; cumulative cost : 290292.1100000003\n",
            "idx : 142 143 ; nodes: 602 615 ; arc cost: 7665.699999999999 ; cumulative cost : 297957.8100000003\n",
            "idx : 143 144 ; nodes: 615 616 ; arc cost: 73.66 ; cumulative cost : 298031.47000000026\n",
            "idx : 144 145 ; nodes: 616 617 ; arc cost: 40.41 ; cumulative cost : 298071.88000000024\n",
            "idx : 145 146 ; nodes: 617 339 ; arc cost: 6863.620000000013 ; cumulative cost : 304935.50000000023\n",
            "idx : 146 147 ; nodes: 339 340 ; arc cost: 312.0 ; cumulative cost : 305247.50000000023\n",
            "idx : 147 148 ; nodes: 340 341 ; arc cost: 50.56 ; cumulative cost : 305298.06000000023\n",
            "idx : 148 149 ; nodes: 341 342 ; arc cost: 25.96 ; cumulative cost : 305324.02000000025\n",
            "idx : 149 150 ; nodes: 342 343 ; arc cost: 10.93 ; cumulative cost : 305334.95000000024\n",
            "idx : 150 151 ; nodes: 343 344 ; arc cost: 31.3 ; cumulative cost : 305366.25000000023\n",
            "idx : 151 152 ; nodes: 344 337 ; arc cost: 1707.419999999997 ; cumulative cost : 307073.6700000002\n",
            "idx : 152 153 ; nodes: 337 345 ; arc cost: 1684.5799999999983 ; cumulative cost : 308758.25000000023\n",
            "idx : 153 154 ; nodes: 345 346 ; arc cost: 6.18 ; cumulative cost : 308764.4300000002\n",
            "idx : 154 155 ; nodes: 346 338 ; arc cost: 1695.839999999997 ; cumulative cost : 310460.27000000025\n",
            "idx : 155 156 ; nodes: 338 347 ; arc cost: 1670.3699999999983 ; cumulative cost : 312130.64000000025\n",
            "idx : 156 157 ; nodes: 347 434 ; arc cost: 1676.0599999999986 ; cumulative cost : 313806.70000000024\n",
            "idx : 157 158 ; nodes: 434 435 ; arc cost: 15.45 ; cumulative cost : 313822.15000000026\n",
            "idx : 158 159 ; nodes: 435 436 ; arc cost: 38.61 ; cumulative cost : 313860.76000000024\n",
            "idx : 159 160 ; nodes: 436 433 ; arc cost: 63.940000000000005 ; cumulative cost : 313924.70000000024\n",
            "idx : 160 161 ; nodes: 433 437 ; arc cost: 5749.760000000003 ; cumulative cost : 319674.46000000025\n",
            "idx : 161 162 ; nodes: 437 438 ; arc cost: 9.12 ; cumulative cost : 319683.58000000025\n",
            "idx : 162 163 ; nodes: 438 439 ; arc cost: 96.78 ; cumulative cost : 319780.3600000003\n",
            "idx : 163 164 ; nodes: 439 440 ; arc cost: 2.81 ; cumulative cost : 319783.1700000003\n",
            "idx : 164 165 ; nodes: 440 441 ; arc cost: 4.24 ; cumulative cost : 319787.41000000027\n",
            "idx : 165 166 ; nodes: 441 442 ; arc cost: 3.9 ; cumulative cost : 319791.3100000003\n",
            "idx : 166 167 ; nodes: 442 447 ; arc cost: 10854.84000000002 ; cumulative cost : 330646.1500000003\n",
            "idx : 167 168 ; nodes: 447 448 ; arc cost: 44.7 ; cumulative cost : 330690.8500000003\n",
            "idx : 168 169 ; nodes: 448 449 ; arc cost: 10928.56000000003 ; cumulative cost : 341619.4100000004\n",
            "idx : 169 170 ; nodes: 449 443 ; arc cost: 16.86 ; cumulative cost : 341636.27000000037\n",
            "idx : 170 171 ; nodes: 443 450 ; arc cost: 25.37 ; cumulative cost : 341661.64000000036\n",
            "idx : 171 172 ; nodes: 450 451 ; arc cost: 9469.870000000015 ; cumulative cost : 351131.51000000036\n",
            "idx : 172 173 ; nodes: 451 446 ; arc cost: 5965.620000000011 ; cumulative cost : 357097.13000000035\n",
            "idx : 173 174 ; nodes: 446 445 ; arc cost: 19.25 ; cumulative cost : 357116.38000000035\n",
            "idx : 174 175 ; nodes: 445 444 ; arc cost: 4481.55 ; cumulative cost : 361597.93000000034\n",
            "idx : 175 176 ; nodes: 444 646 ; arc cost: 7989.190000000011 ; cumulative cost : 369587.12000000034\n",
            "idx : 176 177 ; nodes: 646 647 ; arc cost: 9.29 ; cumulative cost : 369596.4100000003\n",
            "idx : 177 178 ; nodes: 647 648 ; arc cost: 7.3 ; cumulative cost : 369603.7100000003\n",
            "idx : 178 179 ; nodes: 648 649 ; arc cost: 10.15 ; cumulative cost : 369613.86000000034\n",
            "idx : 179 180 ; nodes: 649 650 ; arc cost: 100.31 ; cumulative cost : 369714.17000000033\n",
            "idx : 180 181 ; nodes: 650 651 ; arc cost: 66.71 ; cumulative cost : 369780.88000000035\n",
            "idx : 181 182 ; nodes: 651 652 ; arc cost: 7.11 ; cumulative cost : 369787.99000000034\n",
            "idx : 182 183 ; nodes: 652 653 ; arc cost: 7.16 ; cumulative cost : 369795.1500000003\n",
            "idx : 183 184 ; nodes: 653 654 ; arc cost: 4.83 ; cumulative cost : 369799.98000000033\n",
            "idx : 184 185 ; nodes: 654 655 ; arc cost: 13.57 ; cumulative cost : 369813.55000000034\n",
            "idx : 185 186 ; nodes: 655 656 ; arc cost: 18.27 ; cumulative cost : 369831.82000000036\n",
            "idx : 186 187 ; nodes: 656 657 ; arc cost: 24.38 ; cumulative cost : 369856.20000000036\n",
            "idx : 187 188 ; nodes: 657 658 ; arc cost: 29.63 ; cumulative cost : 369885.83000000037\n",
            "idx : 188 189 ; nodes: 658 659 ; arc cost: 5.94 ; cumulative cost : 369891.77000000037\n",
            "idx : 189 190 ; nodes: 659 660 ; arc cost: 7.24 ; cumulative cost : 369899.01000000036\n",
            "idx : 190 191 ; nodes: 660 645 ; arc cost: 316.55 ; cumulative cost : 370215.56000000035\n",
            "idx : 191 192 ; nodes: 645 661 ; arc cost: 330.7900000000001 ; cumulative cost : 370546.3500000003\n",
            "idx : 192 193 ; nodes: 661 662 ; arc cost: 5.76 ; cumulative cost : 370552.11000000034\n",
            "idx : 193 194 ; nodes: 662 663 ; arc cost: 10.71 ; cumulative cost : 370562.82000000036\n",
            "idx : 194 195 ; nodes: 663 664 ; arc cost: 6.25 ; cumulative cost : 370569.07000000036\n",
            "idx : 195 196 ; nodes: 664 665 ; arc cost: 5.71 ; cumulative cost : 370574.7800000004\n",
            "idx : 196 197 ; nodes: 665 666 ; arc cost: 5.27 ; cumulative cost : 370580.0500000004\n",
            "idx : 197 198 ; nodes: 666 667 ; arc cost: 4.12 ; cumulative cost : 370584.1700000004\n",
            "idx : 198 199 ; nodes: 667 668 ; arc cost: 80.49 ; cumulative cost : 370664.6600000004\n",
            "idx : 199 200 ; nodes: 668 669 ; arc cost: 6.4 ; cumulative cost : 370671.0600000004\n",
            "idx : 200 201 ; nodes: 669 670 ; arc cost: 12.53 ; cumulative cost : 370683.59000000043\n",
            "idx : 201 202 ; nodes: 670 671 ; arc cost: 5.32 ; cumulative cost : 370688.91000000044\n",
            "idx : 202 203 ; nodes: 671 673 ; arc cost: 396.12000000000006 ; cumulative cost : 371085.03000000044\n",
            "idx : 203 204 ; nodes: 673 674 ; arc cost: 18.5 ; cumulative cost : 371103.53000000044\n",
            "idx : 204 205 ; nodes: 674 675 ; arc cost: 29.11 ; cumulative cost : 371132.6400000004\n",
            "idx : 205 206 ; nodes: 675 676 ; arc cost: 41.13 ; cumulative cost : 371173.7700000004\n",
            "idx : 206 207 ; nodes: 676 677 ; arc cost: 5.07 ; cumulative cost : 371178.84000000043\n",
            "idx : 207 208 ; nodes: 677 678 ; arc cost: 5667.500000000003 ; cumulative cost : 376846.34000000043\n",
            "idx : 208 209 ; nodes: 678 679 ; arc cost: 13.83 ; cumulative cost : 376860.17000000045\n",
            "idx : 209 210 ; nodes: 679 680 ; arc cost: 25.31 ; cumulative cost : 376885.48000000045\n",
            "idx : 210 211 ; nodes: 680 672 ; arc cost: 5609.729999999999 ; cumulative cost : 382495.2100000004\n",
            "idx : 211 212 ; nodes: 672 483 ; arc cost: 8419.550000000014 ; cumulative cost : 390914.7600000004\n",
            "idx : 212 213 ; nodes: 483 481 ; arc cost: 10583.790000000015 ; cumulative cost : 401498.55000000045\n",
            "idx : 213 214 ; nodes: 481 475 ; arc cost: 51.94 ; cumulative cost : 401550.49000000046\n",
            "idx : 214 215 ; nodes: 475 477 ; arc cost: 30.16 ; cumulative cost : 401580.65000000043\n",
            "idx : 215 216 ; nodes: 477 482 ; arc cost: 25.12 ; cumulative cost : 401605.7700000004\n",
            "idx : 216 217 ; nodes: 482 476 ; arc cost: 40.62 ; cumulative cost : 401646.3900000004\n",
            "idx : 217 218 ; nodes: 476 478 ; arc cost: 21.74 ; cumulative cost : 401668.1300000004\n",
            "idx : 218 219 ; nodes: 478 479 ; arc cost: 5.92 ; cumulative cost : 401674.0500000004\n",
            "idx : 219 220 ; nodes: 479 480 ; arc cost: 4.67 ; cumulative cost : 401678.7200000004\n",
            "idx : 220 221 ; nodes: 480 526 ; arc cost: 10175.55000000002 ; cumulative cost : 411854.2700000004\n",
            "idx : 221 222 ; nodes: 526 527 ; arc cost: 12.31 ; cumulative cost : 411866.5800000004\n",
            "idx : 222 223 ; nodes: 527 528 ; arc cost: 18.74 ; cumulative cost : 411885.3200000004\n",
            "idx : 223 224 ; nodes: 528 529 ; arc cost: 13.74 ; cumulative cost : 411899.0600000004\n",
            "idx : 224 225 ; nodes: 529 530 ; arc cost: 854.3500000000001 ; cumulative cost : 412753.4100000004\n",
            "idx : 225 226 ; nodes: 530 531 ; arc cost: 4.36 ; cumulative cost : 412757.77000000037\n",
            "idx : 226 227 ; nodes: 531 532 ; arc cost: 10.05 ; cumulative cost : 412767.82000000036\n",
            "idx : 227 228 ; nodes: 532 533 ; arc cost: 5.94 ; cumulative cost : 412773.76000000036\n",
            "idx : 228 229 ; nodes: 533 534 ; arc cost: 3.77 ; cumulative cost : 412777.5300000004\n",
            "idx : 229 230 ; nodes: 534 535 ; arc cost: 3.29 ; cumulative cost : 412780.82000000036\n",
            "idx : 230 231 ; nodes: 535 536 ; arc cost: 33.9 ; cumulative cost : 412814.7200000004\n",
            "idx : 231 232 ; nodes: 536 694 ; arc cost: 8929.47000000002 ; cumulative cost : 421744.1900000004\n",
            "idx : 232 233 ; nodes: 694 682 ; arc cost: 4686.600000000001 ; cumulative cost : 426430.7900000004\n",
            "idx : 233 234 ; nodes: 682 686 ; arc cost: 5174.459999999999 ; cumulative cost : 431605.2500000004\n",
            "idx : 234 235 ; nodes: 686 687 ; arc cost: 41.03 ; cumulative cost : 431646.28000000044\n",
            "idx : 235 236 ; nodes: 687 688 ; arc cost: 586.13 ; cumulative cost : 432232.41000000044\n",
            "idx : 236 237 ; nodes: 688 689 ; arc cost: 37.26 ; cumulative cost : 432269.67000000045\n",
            "idx : 237 238 ; nodes: 689 683 ; arc cost: 5205.830000000002 ; cumulative cost : 437475.50000000047\n",
            "idx : 238 239 ; nodes: 683 681 ; arc cost: 53.85 ; cumulative cost : 437529.35000000044\n",
            "idx : 239 240 ; nodes: 681 693 ; arc cost: 4739.239999999999 ; cumulative cost : 442268.59000000043\n",
            "idx : 240 241 ; nodes: 693 690 ; arc cost: 58.63 ; cumulative cost : 442327.22000000044\n",
            "idx : 241 242 ; nodes: 690 685 ; arc cost: 399.95 ; cumulative cost : 442727.17000000045\n",
            "idx : 242 243 ; nodes: 685 684 ; arc cost: 65.83 ; cumulative cost : 442793.00000000047\n",
            "idx : 243 244 ; nodes: 684 692 ; arc cost: 308.86 ; cumulative cost : 443101.86000000045\n",
            "idx : 244 245 ; nodes: 692 691 ; arc cost: 46.88 ; cumulative cost : 443148.74000000046\n",
            "idx : 245 246 ; nodes: 691 352 ; arc cost: 3516.4000000000065 ; cumulative cost : 446665.1400000005\n",
            "idx : 246 247 ; nodes: 352 353 ; arc cost: 1.35 ; cumulative cost : 446666.49000000046\n",
            "idx : 247 248 ; nodes: 353 354 ; arc cost: 3503.519999999999 ; cumulative cost : 450170.0100000005\n",
            "idx : 248 249 ; nodes: 354 350 ; arc cost: 3527.4500000000053 ; cumulative cost : 453697.4600000005\n",
            "idx : 249 250 ; nodes: 350 349 ; arc cost: 18.15 ; cumulative cost : 453715.6100000005\n",
            "idx : 250 251 ; nodes: 349 351 ; arc cost: 32.53 ; cumulative cost : 453748.14000000054\n",
            "idx : 251 252 ; nodes: 351 702 ; arc cost: 2410.3 ; cumulative cost : 456158.4400000005\n",
            "idx : 252 253 ; nodes: 702 706 ; arc cost: 2397.5900000000047 ; cumulative cost : 458556.03000000055\n",
            "idx : 253 254 ; nodes: 706 705 ; arc cost: 6.19 ; cumulative cost : 458562.22000000055\n",
            "idx : 254 255 ; nodes: 705 703 ; arc cost: 2432.0400000000004 ; cumulative cost : 460994.26000000053\n",
            "idx : 255 256 ; nodes: 703 704 ; arc cost: 2398.240000000005 ; cumulative cost : 463392.5000000005\n",
            "idx : 256 257 ; nodes: 704 709 ; arc cost: 41.35 ; cumulative cost : 463433.8500000005\n",
            "idx : 257 258 ; nodes: 709 707 ; arc cost: 17.62 ; cumulative cost : 463451.4700000005\n",
            "idx : 258 259 ; nodes: 707 710 ; arc cost: 22.0 ; cumulative cost : 463473.4700000005\n",
            "idx : 259 260 ; nodes: 710 711 ; arc cost: 8.0 ; cumulative cost : 463481.4700000005\n",
            "idx : 260 261 ; nodes: 711 708 ; arc cost: 25.95 ; cumulative cost : 463507.4200000005\n",
            "idx : 261 262 ; nodes: 708 712 ; arc cost: 34.32 ; cumulative cost : 463541.7400000005\n",
            "idx : 262 263 ; nodes: 712 713 ; arc cost: 6.1 ; cumulative cost : 463547.8400000005\n",
            "idx : 263 264 ; nodes: 713 714 ; arc cost: 14.05 ; cumulative cost : 463561.8900000005\n",
            "idx : 264 265 ; nodes: 714 719 ; arc cost: 1713.4599999999996 ; cumulative cost : 465275.3500000005\n",
            "idx : 265 266 ; nodes: 719 720 ; arc cost: 3514.87 ; cumulative cost : 468790.2200000005\n",
            "idx : 266 267 ; nodes: 720 716 ; arc cost: 4213.4000000000015 ; cumulative cost : 473003.6200000005\n",
            "idx : 267 268 ; nodes: 716 723 ; arc cost: 1236.4499999999998 ; cumulative cost : 474240.07000000053\n",
            "idx : 268 269 ; nodes: 723 722 ; arc cost: 4.1 ; cumulative cost : 474244.1700000005\n",
            "idx : 269 270 ; nodes: 722 715 ; arc cost: 1223.28 ; cumulative cost : 475467.45000000054\n",
            "idx : 270 271 ; nodes: 715 717 ; arc cost: 0.0 ; cumulative cost : 475467.45000000054\n",
            "idx : 271 272 ; nodes: 717 721 ; arc cost: 4246.139999999999 ; cumulative cost : 479713.59000000055\n",
            "idx : 272 273 ; nodes: 721 718 ; arc cost: 3467.150000000001 ; cumulative cost : 483180.7400000006\n",
            "idx : 273 274 ; nodes: 718 726 ; arc cost: 4371.419999999999 ; cumulative cost : 487552.16000000056\n",
            "idx : 274 275 ; nodes: 726 724 ; arc cost: 19.56 ; cumulative cost : 487571.72000000055\n",
            "idx : 275 276 ; nodes: 724 727 ; arc cost: 3853.2200000000144 ; cumulative cost : 491424.9400000006\n",
            "idx : 276 277 ; nodes: 727 729 ; arc cost: 3806.46 ; cumulative cost : 495231.4000000006\n",
            "idx : 277 278 ; nodes: 729 725 ; arc cost: 7.890000000000001 ; cumulative cost : 495239.2900000006\n",
            "idx : 278 279 ; nodes: 725 728 ; arc cost: 3868.680000000015 ; cumulative cost : 499107.9700000006\n",
            "idx : 279 280 ; nodes: 728 732 ; arc cost: 191.69 ; cumulative cost : 499299.6600000006\n",
            "idx : 280 281 ; nodes: 732 731 ; arc cost: 3696.0 ; cumulative cost : 502995.6600000006\n",
            "idx : 281 282 ; nodes: 731 733 ; arc cost: 3736.110000000015 ; cumulative cost : 506731.7700000006\n",
            "idx : 282 283 ; nodes: 733 734 ; arc cost: 36.29 ; cumulative cost : 506768.0600000006\n",
            "idx : 283 284 ; nodes: 734 730 ; arc cost: 3752.11 ; cumulative cost : 510520.17000000057\n",
            "idx : 284 285 ; nodes: 730 735 ; arc cost: 5153.380000000015 ; cumulative cost : 515673.55000000057\n",
            "idx : 285 286 ; nodes: 735 738 ; arc cost: 4576.6400000000185 ; cumulative cost : 520250.1900000006\n",
            "idx : 286 287 ; nodes: 738 739 ; arc cost: 4549.710000000008 ; cumulative cost : 524799.9000000006\n",
            "idx : 287 288 ; nodes: 739 740 ; arc cost: 158.55 ; cumulative cost : 524958.4500000007\n",
            "idx : 288 289 ; nodes: 740 736 ; arc cost: 158.55 ; cumulative cost : 525117.0000000007\n",
            "idx : 289 290 ; nodes: 736 737 ; arc cost: 4481.100000000018 ; cumulative cost : 529598.1000000007\n",
            "idx : 290 291 ; nodes: 737 741 ; arc cost: 4555.250000000009 ; cumulative cost : 534153.3500000007\n",
            "idx : 291 292 ; nodes: 741 742 ; arc cost: 46.62 ; cumulative cost : 534199.9700000007\n",
            "idx : 292 293 ; nodes: 742 511 ; arc cost: 7712.300000000007 ; cumulative cost : 541912.2700000007\n",
            "idx : 293 294 ; nodes: 511 512 ; arc cost: 16.87 ; cumulative cost : 541929.1400000007\n",
            "idx : 294 295 ; nodes: 512 513 ; arc cost: 20.09 ; cumulative cost : 541949.2300000007\n",
            "idx : 295 296 ; nodes: 513 510 ; arc cost: 132.19 ; cumulative cost : 542081.4200000006\n",
            "idx : 296 297 ; nodes: 510 508 ; arc cost: 21.3 ; cumulative cost : 542102.7200000007\n",
            "idx : 297 298 ; nodes: 508 509 ; arc cost: 16.03 ; cumulative cost : 542118.7500000007\n",
            "idx : 298 299 ; nodes: 509 393 ; arc cost: 8944.060000000023 ; cumulative cost : 551062.8100000008\n",
            "idx : 299 300 ; nodes: 393 394 ; arc cost: 9263.61000000003 ; cumulative cost : 560326.4200000007\n",
            "idx : 300 301 ; nodes: 394 465 ; arc cost: 10529.72000000002 ; cumulative cost : 570856.1400000007\n",
            "idx : 301 302 ; nodes: 465 466 ; arc cost: 4.09 ; cumulative cost : 570860.2300000007\n",
            "idx : 302 303 ; nodes: 466 463 ; arc cost: 15.12 ; cumulative cost : 570875.3500000007\n",
            "idx : 303 304 ; nodes: 463 467 ; arc cost: 20.89 ; cumulative cost : 570896.2400000007\n",
            "idx : 304 305 ; nodes: 467 464 ; arc cost: 14.52 ; cumulative cost : 570910.7600000007\n",
            "idx : 305 306 ; nodes: 464 468 ; arc cost: 20.56 ; cumulative cost : 570931.3200000008\n",
            "idx : 306 307 ; nodes: 468 462 ; arc cost: 33.94 ; cumulative cost : 570965.2600000007\n",
            "idx : 307 308 ; nodes: 462 469 ; arc cost: 40.93 ; cumulative cost : 571006.1900000008\n",
            "idx : 308 309 ; nodes: 469 543 ; arc cost: 7241.70000000001 ; cumulative cost : 578247.8900000007\n",
            "idx : 309 310 ; nodes: 543 542 ; arc cost: 31.33 ; cumulative cost : 578279.2200000007\n",
            "idx : 310 311 ; nodes: 542 541 ; arc cost: 8414.610000000011 ; cumulative cost : 586693.8300000007\n",
            "idx : 311 312 ; nodes: 541 544 ; arc cost: 291.75999999999993 ; cumulative cost : 586985.5900000007\n",
            "idx : 312 313 ; nodes: 544 545 ; arc cost: 118.65 ; cumulative cost : 587104.2400000007\n",
            "idx : 313 314 ; nodes: 545 546 ; arc cost: 6.4 ; cumulative cost : 587110.6400000007\n",
            "idx : 314 315 ; nodes: 546 547 ; arc cost: 39.96 ; cumulative cost : 587150.6000000007\n",
            "idx : 315 316 ; nodes: 547 326 ; arc cost: 7119.479999999999 ; cumulative cost : 594270.0800000007\n",
            "idx : 316 317 ; nodes: 326 328 ; arc cost: 5613.300000000018 ; cumulative cost : 599883.3800000007\n",
            "idx : 317 318 ; nodes: 328 329 ; arc cost: 5669.119999999999 ; cumulative cost : 605552.5000000007\n",
            "idx : 318 319 ; nodes: 329 330 ; arc cost: 52.42 ; cumulative cost : 605604.9200000007\n",
            "idx : 319 320 ; nodes: 330 331 ; arc cost: 5745.400000000006 ; cumulative cost : 611350.3200000008\n",
            "idx : 320 321 ; nodes: 331 332 ; arc cost: 15.13 ; cumulative cost : 611365.4500000008\n",
            "idx : 321 322 ; nodes: 332 333 ; arc cost: 10.96 ; cumulative cost : 611376.4100000007\n",
            "idx : 322 323 ; nodes: 333 327 ; arc cost: 5715.999999999994 ; cumulative cost : 617092.4100000007\n",
            "idx : 323 324 ; nodes: 327 334 ; arc cost: 5694.480000000019 ; cumulative cost : 622786.8900000007\n",
            "idx : 324 325 ; nodes: 334 335 ; arc cost: 5.47 ; cumulative cost : 622792.3600000007\n",
            "idx : 325 326 ; nodes: 335 336 ; arc cost: 3.99 ; cumulative cost : 622796.3500000007\n",
            "idx : 326 327 ; nodes: 336 325 ; arc cost: 55.760000000000005 ; cumulative cost : 622852.1100000007\n",
            "idx : 327 328 ; nodes: 325 556 ; arc cost: 7323.959999999998 ; cumulative cost : 630176.0700000006\n",
            "idx : 328 329 ; nodes: 556 552 ; arc cost: 6387.649999999997 ; cumulative cost : 636563.7200000007\n",
            "idx : 329 330 ; nodes: 552 551 ; arc cost: 25.48 ; cumulative cost : 636589.2000000007\n",
            "idx : 330 331 ; nodes: 551 553 ; arc cost: 43.04 ; cumulative cost : 636632.2400000007\n",
            "idx : 331 332 ; nodes: 553 550 ; arc cost: 9052.190000000011 ; cumulative cost : 645684.4300000007\n",
            "idx : 332 333 ; nodes: 550 549 ; arc cost: 34.03 ; cumulative cost : 645718.4600000008\n",
            "idx : 333 334 ; nodes: 549 548 ; arc cost: 11.84 ; cumulative cost : 645730.3000000007\n",
            "idx : 334 335 ; nodes: 548 554 ; arc cost: 8647.76 ; cumulative cost : 654378.0600000008\n",
            "idx : 335 336 ; nodes: 554 557 ; arc cost: 7186.960000000025 ; cumulative cost : 661565.0200000008\n",
            "idx : 336 337 ; nodes: 557 555 ; arc cost: 7228.34999999999 ; cumulative cost : 668793.3700000008\n",
            "idx : 337 338 ; nodes: 555 560 ; arc cost: 7266.850000000024 ; cumulative cost : 676060.2200000008\n",
            "idx : 338 339 ; nodes: 560 561 ; arc cost: 7.67 ; cumulative cost : 676067.8900000008\n",
            "idx : 339 340 ; nodes: 561 562 ; arc cost: 12.8 ; cumulative cost : 676080.6900000009\n",
            "idx : 340 341 ; nodes: 562 745 ; arc cost: 3717.269999999996 ; cumulative cost : 679797.9600000009\n",
            "idx : 341 342 ; nodes: 745 746 ; arc cost: 8.54 ; cumulative cost : 679806.5000000009\n",
            "idx : 342 343 ; nodes: 746 747 ; arc cost: 10.28 ; cumulative cost : 679816.780000001\n",
            "idx : 343 344 ; nodes: 747 748 ; arc cost: 17.89 ; cumulative cost : 679834.670000001\n",
            "idx : 344 345 ; nodes: 748 743 ; arc cost: 21.37 ; cumulative cost : 679856.040000001\n",
            "idx : 345 346 ; nodes: 743 749 ; arc cost: 58.0 ; cumulative cost : 679914.040000001\n",
            "idx : 346 347 ; nodes: 749 750 ; arc cost: 5.64 ; cumulative cost : 679919.680000001\n",
            "idx : 347 348 ; nodes: 750 744 ; arc cost: 74.79 ; cumulative cost : 679994.470000001\n",
            "idx : 348 349 ; nodes: 744 473 ; arc cost: 6710.7200000000175 ; cumulative cost : 686705.190000001\n",
            "idx : 349 350 ; nodes: 473 472 ; arc cost: 5.51 ; cumulative cost : 686710.700000001\n",
            "idx : 350 351 ; nodes: 472 474 ; arc cost: 9.71 ; cumulative cost : 686720.410000001\n",
            "idx : 351 352 ; nodes: 474 471 ; arc cost: 13.56 ; cumulative cost : 686733.970000001\n",
            "idx : 352 353 ; nodes: 471 470 ; arc cost: 4.42 ; cumulative cost : 686738.3900000011\n",
            "idx : 353 354 ; nodes: 470 484 ; arc cost: 10633.260000000007 ; cumulative cost : 697371.6500000011\n",
            "idx : 354 355 ; nodes: 484 485 ; arc cost: 11.71 ; cumulative cost : 697383.360000001\n",
            "idx : 355 356 ; nodes: 485 491 ; arc cost: 121.43 ; cumulative cost : 697504.7900000011\n",
            "idx : 356 357 ; nodes: 491 486 ; arc cost: 112.13 ; cumulative cost : 697616.9200000011\n",
            "idx : 357 358 ; nodes: 486 487 ; arc cost: 5.08 ; cumulative cost : 697622.000000001\n",
            "idx : 358 359 ; nodes: 487 490 ; arc cost: 117.47 ; cumulative cost : 697739.470000001\n",
            "idx : 359 360 ; nodes: 490 489 ; arc cost: 8.15 ; cumulative cost : 697747.620000001\n",
            "idx : 360 361 ; nodes: 489 488 ; arc cost: 4.37 ; cumulative cost : 697751.990000001\n",
            "idx : 361 362 ; nodes: 488 539 ; arc cost: 252.10000000000008 ; cumulative cost : 698004.090000001\n",
            "idx : 362 363 ; nodes: 539 540 ; arc cost: 7.0 ; cumulative cost : 698011.090000001\n",
            "idx : 363 364 ; nodes: 540 538 ; arc cost: 16.71 ; cumulative cost : 698027.800000001\n",
            "idx : 364 365 ; nodes: 538 537 ; arc cost: 4.56 ; cumulative cost : 698032.360000001\n",
            "idx : 365 366 ; nodes: 537 559 ; arc cost: 6491.390000000014 ; cumulative cost : 704523.750000001\n",
            "idx : 366 367 ; nodes: 559 558 ; arc cost: 20.08 ; cumulative cost : 704543.830000001\n",
            "idx : 367 368 ; nodes: 558 507 ; arc cost: 6210.049999999999 ; cumulative cost : 710753.880000001\n",
            "idx : 368 369 ; nodes: 507 498 ; arc cost: 92.41 ; cumulative cost : 710846.2900000011\n",
            "idx : 369 370 ; nodes: 498 502 ; arc cost: 24.8 ; cumulative cost : 710871.0900000011\n",
            "idx : 370 371 ; nodes: 502 501 ; arc cost: 6.69 ; cumulative cost : 710877.7800000011\n",
            "idx : 371 372 ; nodes: 501 503 ; arc cost: 36.44 ; cumulative cost : 710914.220000001\n",
            "idx : 372 373 ; nodes: 503 504 ; arc cost: 125.59 ; cumulative cost : 711039.810000001\n",
            "idx : 373 374 ; nodes: 504 499 ; arc cost: 75.60999999999999 ; cumulative cost : 711115.420000001\n",
            "idx : 374 375 ; nodes: 499 500 ; arc cost: 9.37 ; cumulative cost : 711124.790000001\n",
            "idx : 375 376 ; nodes: 500 505 ; arc cost: 93.51999999999998 ; cumulative cost : 711218.310000001\n",
            "idx : 376 377 ; nodes: 505 506 ; arc cost: 8.19 ; cumulative cost : 711226.5000000009\n",
            "idx : 377 378 ; nodes: 506 416 ; arc cost: 254.36 ; cumulative cost : 711480.8600000009\n",
            "idx : 378 379 ; nodes: 416 417 ; arc cost: 7.12 ; cumulative cost : 711487.9800000009\n",
            "idx : 379 380 ; nodes: 417 418 ; arc cost: 26.33 ; cumulative cost : 711514.3100000009\n",
            "idx : 380 381 ; nodes: 418 413 ; arc cost: 63.08999999999999 ; cumulative cost : 711577.4000000008\n",
            "idx : 381 382 ; nodes: 413 419 ; arc cost: 73.35 ; cumulative cost : 711650.7500000008\n",
            "idx : 382 383 ; nodes: 419 420 ; arc cost: 11.39 ; cumulative cost : 711662.1400000008\n",
            "idx : 383 384 ; nodes: 420 414 ; arc cost: 72.88 ; cumulative cost : 711735.0200000008\n",
            "idx : 384 385 ; nodes: 414 421 ; arc cost: 2006.8800000000008 ; cumulative cost : 713741.9000000008\n",
            "idx : 385 386 ; nodes: 421 415 ; arc cost: 2017.04 ; cumulative cost : 715758.9400000009\n",
            "idx : 386 387 ; nodes: 415 422 ; arc cost: 2021.6600000000003 ; cumulative cost : 717780.6000000009\n",
            "idx : 387 388 ; nodes: 422 423 ; arc cost: 11.85 ; cumulative cost : 717792.4500000009\n",
            "idx : 388 389 ; nodes: 423 425 ; arc cost: 23.22 ; cumulative cost : 717815.6700000009\n",
            "idx : 389 390 ; nodes: 425 426 ; arc cost: 3.18 ; cumulative cost : 717818.8500000009\n",
            "idx : 390 391 ; nodes: 426 427 ; arc cost: 5220.470000000014 ; cumulative cost : 723039.3200000009\n",
            "idx : 391 392 ; nodes: 427 428 ; arc cost: 31.79 ; cumulative cost : 723071.1100000009\n",
            "idx : 392 393 ; nodes: 428 429 ; arc cost: 15.32 ; cumulative cost : 723086.4300000009\n",
            "idx : 393 394 ; nodes: 429 424 ; arc cost: 5228.849999999999 ; cumulative cost : 728315.2800000008\n",
            "idx : 394 395 ; nodes: 424 430 ; arc cost: 5214.840000000011 ; cumulative cost : 733530.1200000008\n",
            "idx : 395 396 ; nodes: 430 431 ; arc cost: 6.89 ; cumulative cost : 733537.0100000008\n",
            "idx : 396 397 ; nodes: 431 432 ; arc cost: 11.37 ; cumulative cost : 733548.3800000008\n",
            "idx : 397 398 ; nodes: 432 356 ; arc cost: 3250.4099999999994 ; cumulative cost : 736798.7900000009\n",
            "idx : 398 399 ; nodes: 356 357 ; arc cost: 16.49 ; cumulative cost : 736815.2800000008\n",
            "idx : 399 400 ; nodes: 357 358 ; arc cost: 17.11 ; cumulative cost : 736832.3900000008\n",
            "idx : 400 401 ; nodes: 358 359 ; arc cost: 15.39 ; cumulative cost : 736847.7800000008\n",
            "idx : 401 402 ; nodes: 359 360 ; arc cost: 12.04 ; cumulative cost : 736859.8200000009\n",
            "idx : 402 403 ; nodes: 360 361 ; arc cost: 12.53 ; cumulative cost : 736872.3500000009\n",
            "idx : 403 404 ; nodes: 361 362 ; arc cost: 3113.880000000004 ; cumulative cost : 739986.2300000009\n",
            "idx : 404 405 ; nodes: 362 355 ; arc cost: 3355.97 ; cumulative cost : 743342.2000000009\n",
            "idx : 405 406 ; nodes: 355 624 ; arc cost: 2061.0200000000004 ; cumulative cost : 745403.2200000009\n",
            "idx : 406 407 ; nodes: 624 626 ; arc cost: 97.66 ; cumulative cost : 745500.8800000009\n",
            "idx : 407 408 ; nodes: 626 625 ; arc cost: 25.43 ; cumulative cost : 745526.310000001\n",
            "idx : 408 409 ; nodes: 625 627 ; arc cost: 26.81 ; cumulative cost : 745553.120000001\n",
            "idx : 409 410 ; nodes: 627 630 ; arc cost: 2608.610000000004 ; cumulative cost : 748161.730000001\n",
            "idx : 410 411 ; nodes: 630 631 ; arc cost: 3693.75 ; cumulative cost : 751855.480000001\n",
            "idx : 411 412 ; nodes: 631 632 ; arc cost: 4.78 ; cumulative cost : 751860.260000001\n",
            "idx : 412 413 ; nodes: 632 639 ; arc cost: 141.03 ; cumulative cost : 752001.2900000011\n",
            "idx : 413 414 ; nodes: 639 628 ; arc cost: 3836.140000000005 ; cumulative cost : 755837.4300000011\n",
            "idx : 414 415 ; nodes: 628 638 ; arc cost: 3801.400000000001 ; cumulative cost : 759638.8300000011\n",
            "idx : 415 416 ; nodes: 638 637 ; arc cost: 4.2 ; cumulative cost : 759643.0300000011\n",
            "idx : 416 417 ; nodes: 637 629 ; arc cost: 3830.960000000005 ; cumulative cost : 763473.990000001\n",
            "idx : 417 418 ; nodes: 629 636 ; arc cost: 3730.650000000001 ; cumulative cost : 767204.6400000011\n",
            "idx : 418 419 ; nodes: 636 635 ; arc cost: 8.36 ; cumulative cost : 767213.000000001\n",
            "idx : 419 420 ; nodes: 635 633 ; arc cost: 14.08 ; cumulative cost : 767227.080000001\n",
            "idx : 420 421 ; nodes: 633 634 ; arc cost: 4.98 ; cumulative cost : 767232.060000001\n",
            "idx : 421 422 ; nodes: 634 642 ; arc cost: 139.78 ; cumulative cost : 767371.840000001\n",
            "idx : 422 423 ; nodes: 642 641 ; arc cost: 6.5 ; cumulative cost : 767378.340000001\n",
            "idx : 423 424 ; nodes: 641 643 ; arc cost: 10.71 ; cumulative cost : 767389.050000001\n",
            "idx : 424 425 ; nodes: 643 644 ; arc cost: 2.18 ; cumulative cost : 767391.230000001\n",
            "idx : 425 426 ; nodes: 644 640 ; arc cost: 18.380000000000003 ; cumulative cost : 767409.610000001\n",
            "idx : 426 427 ; nodes: 640 0 ; arc cost: 8401.36000000003 ; cumulative cost : 775810.970000001\n",
            "CPU times: user 1.13 s, sys: 121 ms, total: 1.25 s\n",
            "Wall time: 1.23 s\n"
          ]
        }
      ]
    },
    {
      "cell_type": "code",
      "source": [
        "opt_thing = pickle.load(open(\"warmsen_31600-01_opt.p\", \"rb\"))"
      ],
      "metadata": {
        "id": "rDi6GGrxUoAI"
      },
      "execution_count": null,
      "outputs": []
    },
    {
      "cell_type": "code",
      "source": [
        "opt_thing.keys()"
      ],
      "metadata": {
        "colab": {
          "base_uri": "https://localhost:8080/"
        },
        "id": "Djn4AnbMUyg6",
        "outputId": "00089acc-75f4-41b6-e870-cc0354ce6d7e"
      },
      "execution_count": null,
      "outputs": [
        {
          "output_type": "execute_result",
          "data": {
            "text/plain": [
              "dict_keys(['tour', 'cost'])"
            ]
          },
          "metadata": {},
          "execution_count": 81
        }
      ]
    },
    {
      "cell_type": "code",
      "source": [
        "print(len(opt_thing['tour']))\n",
        "print(len(tour))"
      ],
      "metadata": {
        "colab": {
          "base_uri": "https://localhost:8080/"
        },
        "id": "G-UlrWxkVSfK",
        "outputId": "c92550fa-4add-44b4-9fad-335df259d2d7"
      },
      "execution_count": null,
      "outputs": [
        {
          "output_type": "stream",
          "name": "stdout",
          "text": [
            "427\n",
            "428\n"
          ]
        }
      ]
    },
    {
      "cell_type": "code",
      "source": [
        "print(tour[0])\n",
        "print(tour[-1])"
      ],
      "metadata": {
        "colab": {
          "base_uri": "https://localhost:8080/"
        },
        "id": "L_5q87ljVtt5",
        "outputId": "ed584824-6cdb-4844-e549-d1a2994b62a9"
      },
      "execution_count": null,
      "outputs": [
        {
          "output_type": "stream",
          "name": "stdout",
          "text": [
            "0\n",
            "0\n"
          ]
        }
      ]
    },
    {
      "cell_type": "code",
      "source": [
        "print(opt_thing['tour'][0])\n",
        "print(opt_thing['tour'][-1])"
      ],
      "metadata": {
        "colab": {
          "base_uri": "https://localhost:8080/"
        },
        "id": "66ssaDrAVyPt",
        "outputId": "1331e72b-3f26-4451-cfcd-0d3b300fd8c9"
      },
      "execution_count": null,
      "outputs": [
        {
          "output_type": "stream",
          "name": "stdout",
          "text": [
            "0\n",
            "426\n"
          ]
        }
      ]
    },
    {
      "cell_type": "code",
      "source": [
        "dm_df.loc[426][0]"
      ],
      "metadata": {
        "colab": {
          "base_uri": "https://localhost:8080/"
        },
        "id": "o-g3Ag2mV7EV",
        "outputId": "00eef968-f60c-46a6-edc1-dd3c0d9273a6"
      },
      "execution_count": null,
      "outputs": [
        {
          "output_type": "execute_result",
          "data": {
            "text/plain": [
              "179.34"
            ]
          },
          "metadata": {},
          "execution_count": 89
        }
      ]
    },
    {
      "cell_type": "code",
      "source": [
        "%%time\n",
        "\n",
        "sum_arcs = 0\n",
        "\n",
        "for s in range(len(opt_thing['tour'])-1):\n",
        "  node_1 = opt_thing['tour'][s]\n",
        "  # print('1')\n",
        "  node_2 = opt_thing['tour'][s+1] \n",
        "  # print('2')\n",
        "  sum_arcs = sum_arcs + dm_df.loc[node_1][node_2]\n",
        "  # print('3')\n",
        "  print('idx :', s, s+1, '; nodes:', node_1, node_2, '; arc cost:', dm_df.loc[node_1][node_2], '; cumulative cost :', sum_arcs)\n",
        "  # print('4')\n"
      ],
      "metadata": {
        "colab": {
          "base_uri": "https://localhost:8080/"
        },
        "id": "yyRcNqLAUhIQ",
        "outputId": "ca45323a-43ca-4683-d73d-c9e04589c2c5"
      },
      "execution_count": null,
      "outputs": [
        {
          "output_type": "stream",
          "name": "stdout",
          "text": [
            "idx : 0 1 ; nodes: 0 578 ; arc cost: 86.22999999999999 ; cumulative cost : 86.22999999999999\n",
            "idx : 1 2 ; nodes: 578 577 ; arc cost: 2.63 ; cumulative cost : 88.85999999999999\n",
            "idx : 2 3 ; nodes: 577 576 ; arc cost: 15.68 ; cumulative cost : 104.53999999999999\n",
            "idx : 3 4 ; nodes: 576 579 ; arc cost: 7.92 ; cumulative cost : 112.46\n",
            "idx : 4 5 ; nodes: 579 387 ; arc cost: 1446.6899999999994 ; cumulative cost : 1559.1499999999994\n",
            "idx : 5 6 ; nodes: 387 386 ; arc cost: 6.34 ; cumulative cost : 1565.4899999999993\n",
            "idx : 6 7 ; nodes: 386 385 ; arc cost: 73.09 ; cumulative cost : 1638.5799999999992\n",
            "idx : 7 8 ; nodes: 385 383 ; arc cost: 71.42 ; cumulative cost : 1709.9999999999993\n",
            "idx : 8 9 ; nodes: 383 381 ; arc cost: 68.76 ; cumulative cost : 1778.7599999999993\n",
            "idx : 9 10 ; nodes: 381 380 ; arc cost: 40.95 ; cumulative cost : 1819.7099999999994\n",
            "idx : 10 11 ; nodes: 380 379 ; arc cost: 31.2 ; cumulative cost : 1850.9099999999994\n",
            "idx : 11 12 ; nodes: 379 394 ; arc cost: 86.56 ; cumulative cost : 1937.4699999999993\n",
            "idx : 12 13 ; nodes: 394 395 ; arc cost: 9.87 ; cumulative cost : 1947.3399999999992\n",
            "idx : 13 14 ; nodes: 395 382 ; arc cost: 50.94 ; cumulative cost : 1998.2799999999993\n",
            "idx : 14 15 ; nodes: 382 384 ; arc cost: 20.98 ; cumulative cost : 2019.2599999999993\n",
            "idx : 15 16 ; nodes: 384 388 ; arc cost: 146.86 ; cumulative cost : 2166.1199999999994\n",
            "idx : 16 17 ; nodes: 388 389 ; arc cost: 33.7 ; cumulative cost : 2199.8199999999993\n",
            "idx : 17 18 ; nodes: 389 390 ; arc cost: 5.06 ; cumulative cost : 2204.879999999999\n",
            "idx : 18 19 ; nodes: 390 330 ; arc cost: 1098.43 ; cumulative cost : 3303.3099999999995\n",
            "idx : 19 20 ; nodes: 330 519 ; arc cost: 54.36 ; cumulative cost : 3357.6699999999996\n",
            "idx : 20 21 ; nodes: 519 518 ; arc cost: 12.94 ; cumulative cost : 3370.6099999999997\n",
            "idx : 21 22 ; nodes: 518 517 ; arc cost: 7.99 ; cumulative cost : 3378.5999999999995\n",
            "idx : 22 23 ; nodes: 517 516 ; arc cost: 28.97 ; cumulative cost : 3407.5699999999993\n",
            "idx : 23 24 ; nodes: 516 515 ; arc cost: 11.64 ; cumulative cost : 3419.209999999999\n",
            "idx : 24 25 ; nodes: 515 514 ; arc cost: 10.43 ; cumulative cost : 3429.639999999999\n",
            "idx : 25 26 ; nodes: 514 513 ; arc cost: 11.37 ; cumulative cost : 3441.009999999999\n",
            "idx : 26 27 ; nodes: 513 512 ; arc cost: 20.09 ; cumulative cost : 3461.099999999999\n",
            "idx : 27 28 ; nodes: 512 511 ; arc cost: 16.87 ; cumulative cost : 3477.969999999999\n",
            "idx : 28 29 ; nodes: 511 550 ; arc cost: 2.96 ; cumulative cost : 3480.929999999999\n",
            "idx : 29 30 ; nodes: 550 544 ; arc cost: 6.05 ; cumulative cost : 3486.979999999999\n",
            "idx : 30 31 ; nodes: 544 401 ; arc cost: 12.08 ; cumulative cost : 3499.059999999999\n",
            "idx : 31 32 ; nodes: 401 402 ; arc cost: 1.68 ; cumulative cost : 3500.739999999999\n",
            "idx : 32 33 ; nodes: 402 403 ; arc cost: 4.17 ; cumulative cost : 3504.909999999999\n",
            "idx : 33 34 ; nodes: 403 404 ; arc cost: 3.01 ; cumulative cost : 3507.919999999999\n",
            "idx : 34 35 ; nodes: 404 405 ; arc cost: 3.27 ; cumulative cost : 3511.189999999999\n",
            "idx : 35 36 ; nodes: 405 406 ; arc cost: 5.02 ; cumulative cost : 3516.209999999999\n",
            "idx : 36 37 ; nodes: 406 407 ; arc cost: 14.53 ; cumulative cost : 3530.7399999999993\n",
            "idx : 37 38 ; nodes: 407 408 ; arc cost: 35.1 ; cumulative cost : 3565.8399999999992\n",
            "idx : 38 39 ; nodes: 408 409 ; arc cost: 7.84 ; cumulative cost : 3573.6799999999994\n",
            "idx : 39 40 ; nodes: 409 410 ; arc cost: 9.38 ; cumulative cost : 3583.0599999999995\n",
            "idx : 40 41 ; nodes: 410 411 ; arc cost: 15.58 ; cumulative cost : 3598.6399999999994\n",
            "idx : 41 42 ; nodes: 411 412 ; arc cost: 22.06 ; cumulative cost : 3620.6999999999994\n",
            "idx : 42 43 ; nodes: 412 413 ; arc cost: 13.73 ; cumulative cost : 3634.4299999999994\n",
            "idx : 43 44 ; nodes: 413 414 ; arc cost: 11.86 ; cumulative cost : 3646.2899999999995\n",
            "idx : 44 45 ; nodes: 414 415 ; arc cost: 10.16 ; cumulative cost : 3656.4499999999994\n",
            "idx : 45 46 ; nodes: 415 416 ; arc cost: 7.62 ; cumulative cost : 3664.0699999999993\n",
            "idx : 46 47 ; nodes: 416 417 ; arc cost: 7.12 ; cumulative cost : 3671.189999999999\n",
            "idx : 47 48 ; nodes: 417 418 ; arc cost: 26.33 ; cumulative cost : 3697.519999999999\n",
            "idx : 48 49 ; nodes: 418 419 ; arc cost: 10.26 ; cumulative cost : 3707.7799999999993\n",
            "idx : 49 50 ; nodes: 419 420 ; arc cost: 11.39 ; cumulative cost : 3719.169999999999\n",
            "idx : 50 51 ; nodes: 420 536 ; arc cost: 15.71 ; cumulative cost : 3734.879999999999\n",
            "idx : 51 52 ; nodes: 536 531 ; arc cost: 10.85 ; cumulative cost : 3745.729999999999\n",
            "idx : 52 53 ; nodes: 531 532 ; arc cost: 10.05 ; cumulative cost : 3755.7799999999993\n",
            "idx : 53 54 ; nodes: 532 533 ; arc cost: 5.94 ; cumulative cost : 3761.7199999999993\n",
            "idx : 54 55 ; nodes: 533 534 ; arc cost: 3.77 ; cumulative cost : 3765.4899999999993\n",
            "idx : 55 56 ; nodes: 534 535 ; arc cost: 3.29 ; cumulative cost : 3768.7799999999993\n",
            "idx : 56 57 ; nodes: 535 541 ; arc cost: 9.96 ; cumulative cost : 3778.7399999999993\n",
            "idx : 57 58 ; nodes: 541 540 ; arc cost: 12.8 ; cumulative cost : 3791.5399999999995\n",
            "idx : 58 59 ; nodes: 540 539 ; arc cost: 7.0 ; cumulative cost : 3798.5399999999995\n",
            "idx : 59 60 ; nodes: 539 538 ; arc cost: 9.71 ; cumulative cost : 3808.2499999999995\n",
            "idx : 60 61 ; nodes: 538 537 ; arc cost: 4.56 ; cumulative cost : 3812.8099999999995\n",
            "idx : 61 62 ; nodes: 537 530 ; arc cost: 11.52 ; cumulative cost : 3824.3299999999995\n",
            "idx : 62 63 ; nodes: 530 483 ; arc cost: 31.950000000000003 ; cumulative cost : 3856.2799999999993\n",
            "idx : 63 64 ; nodes: 483 484 ; arc cost: 38.28 ; cumulative cost : 3894.5599999999995\n",
            "idx : 64 65 ; nodes: 484 485 ; arc cost: 11.71 ; cumulative cost : 3906.2699999999995\n",
            "idx : 65 66 ; nodes: 485 486 ; arc cost: 9.3 ; cumulative cost : 3915.5699999999997\n",
            "idx : 66 67 ; nodes: 486 503 ; arc cost: 22.26 ; cumulative cost : 3937.83\n",
            "idx : 67 68 ; nodes: 503 487 ; arc cost: 17.18 ; cumulative cost : 3955.0099999999998\n",
            "idx : 68 69 ; nodes: 487 502 ; arc cost: 12.57 ; cumulative cost : 3967.58\n",
            "idx : 69 70 ; nodes: 502 501 ; arc cost: 6.69 ; cumulative cost : 3974.27\n",
            "idx : 70 71 ; nodes: 501 500 ; arc cost: 4.17 ; cumulative cost : 3978.44\n",
            "idx : 71 72 ; nodes: 500 499 ; arc cost: 9.37 ; cumulative cost : 3987.81\n",
            "idx : 72 73 ; nodes: 499 498 ; arc cost: 4.57 ; cumulative cost : 3992.38\n",
            "idx : 73 74 ; nodes: 498 497 ; arc cost: 5.82 ; cumulative cost : 3998.2000000000003\n",
            "idx : 74 75 ; nodes: 497 496 ; arc cost: 8.26 ; cumulative cost : 4006.4600000000005\n",
            "idx : 75 76 ; nodes: 496 495 ; arc cost: 7.68 ; cumulative cost : 4014.1400000000003\n",
            "idx : 76 77 ; nodes: 495 494 ; arc cost: 14.2 ; cumulative cost : 4028.34\n",
            "idx : 77 78 ; nodes: 494 493 ; arc cost: 13.72 ; cumulative cost : 4042.06\n",
            "idx : 78 79 ; nodes: 493 492 ; arc cost: 12.74 ; cumulative cost : 4054.7999999999997\n",
            "idx : 79 80 ; nodes: 492 490 ; arc cost: 17.68 ; cumulative cost : 4072.4799999999996\n",
            "idx : 80 81 ; nodes: 490 489 ; arc cost: 8.15 ; cumulative cost : 4080.6299999999997\n",
            "idx : 81 82 ; nodes: 489 548 ; arc cost: 17.92 ; cumulative cost : 4098.549999999999\n",
            "idx : 82 83 ; nodes: 548 549 ; arc cost: 11.84 ; cumulative cost : 4110.389999999999\n",
            "idx : 83 84 ; nodes: 549 488 ; arc cost: 25.39 ; cumulative cost : 4135.78\n",
            "idx : 84 85 ; nodes: 488 547 ; arc cost: 6.82 ; cumulative cost : 4142.599999999999\n",
            "idx : 85 86 ; nodes: 547 491 ; arc cost: 29.760000000000005 ; cumulative cost : 4172.36\n",
            "idx : 86 87 ; nodes: 491 504 ; arc cost: 15.88 ; cumulative cost : 4188.24\n",
            "idx : 87 88 ; nodes: 504 505 ; arc cost: 8.54 ; cumulative cost : 4196.78\n",
            "idx : 88 89 ; nodes: 505 506 ; arc cost: 8.19 ; cumulative cost : 4204.969999999999\n",
            "idx : 89 90 ; nodes: 506 507 ; arc cost: 4.64 ; cumulative cost : 4209.61\n",
            "idx : 90 91 ; nodes: 507 508 ; arc cost: 10.96 ; cumulative cost : 4220.57\n",
            "idx : 91 92 ; nodes: 508 509 ; arc cost: 16.03 ; cumulative cost : 4236.599999999999\n",
            "idx : 92 93 ; nodes: 509 510 ; arc cost: 5.27 ; cumulative cost : 4241.87\n",
            "idx : 93 94 ; nodes: 510 546 ; arc cost: 13.93 ; cumulative cost : 4255.8\n",
            "idx : 94 95 ; nodes: 546 545 ; arc cost: 6.4 ; cumulative cost : 4262.2\n",
            "idx : 95 96 ; nodes: 545 329 ; arc cost: 113.44 ; cumulative cost : 4375.639999999999\n",
            "idx : 96 97 ; nodes: 329 521 ; arc cost: 312.6 ; cumulative cost : 4688.24\n",
            "idx : 97 98 ; nodes: 521 523 ; arc cost: 15.48 ; cumulative cost : 4703.719999999999\n",
            "idx : 98 99 ; nodes: 523 527 ; arc cost: 101.66 ; cumulative cost : 4805.379999999999\n",
            "idx : 99 100 ; nodes: 527 528 ; arc cost: 18.74 ; cumulative cost : 4824.119999999999\n",
            "idx : 100 101 ; nodes: 528 529 ; arc cost: 13.74 ; cumulative cost : 4837.859999999999\n",
            "idx : 101 102 ; nodes: 529 526 ; arc cost: 44.79 ; cumulative cost : 4882.649999999999\n",
            "idx : 102 103 ; nodes: 526 525 ; arc cost: 63.83 ; cumulative cost : 4946.479999999999\n",
            "idx : 103 104 ; nodes: 525 524 ; arc cost: 12.99 ; cumulative cost : 4959.469999999998\n",
            "idx : 104 105 ; nodes: 524 522 ; arc cost: 20.58 ; cumulative cost : 4980.049999999998\n",
            "idx : 105 106 ; nodes: 522 520 ; arc cost: 12.98 ; cumulative cost : 4993.029999999998\n",
            "idx : 106 107 ; nodes: 520 434 ; arc cost: 5051.540000000008 ; cumulative cost : 10044.570000000007\n",
            "idx : 107 108 ; nodes: 434 435 ; arc cost: 15.45 ; cumulative cost : 10060.020000000008\n",
            "idx : 108 109 ; nodes: 435 436 ; arc cost: 38.61 ; cumulative cost : 10098.630000000008\n",
            "idx : 109 110 ; nodes: 436 433 ; arc cost: 63.940000000000005 ; cumulative cost : 10162.570000000009\n",
            "idx : 110 111 ; nodes: 433 681 ; arc cost: 2659.72 ; cumulative cost : 12822.290000000008\n",
            "idx : 111 112 ; nodes: 681 683 ; arc cost: 53.85 ; cumulative cost : 12876.140000000009\n",
            "idx : 112 113 ; nodes: 683 682 ; arc cost: 20.1 ; cumulative cost : 12896.240000000009\n",
            "idx : 113 114 ; nodes: 682 696 ; arc cost: 1258.22 ; cumulative cost : 14154.460000000008\n",
            "idx : 114 115 ; nodes: 696 698 ; arc cost: 53.95 ; cumulative cost : 14208.410000000009\n",
            "idx : 115 116 ; nodes: 698 697 ; arc cost: 11.51 ; cumulative cost : 14219.92000000001\n",
            "idx : 116 117 ; nodes: 697 720 ; arc cost: 241.61 ; cumulative cost : 14461.53000000001\n",
            "idx : 117 118 ; nodes: 720 721 ; arc cost: 27.33 ; cumulative cost : 14488.86000000001\n",
            "idx : 118 119 ; nodes: 721 700 ; arc cost: 886.6699999999998 ; cumulative cost : 15375.53000000001\n",
            "idx : 119 120 ; nodes: 700 701 ; arc cost: 14.53 ; cumulative cost : 15390.06000000001\n",
            "idx : 120 121 ; nodes: 701 326 ; arc cost: 435.8700000000001 ; cumulative cost : 15825.930000000011\n",
            "idx : 121 122 ; nodes: 326 327 ; arc cost: 26.14 ; cumulative cost : 15852.07000000001\n",
            "idx : 122 123 ; nodes: 327 556 ; arc cost: 1887.91 ; cumulative cost : 17739.98000000001\n",
            "idx : 123 124 ; nodes: 556 555 ; arc cost: 8.09 ; cumulative cost : 17748.07000000001\n",
            "idx : 124 125 ; nodes: 555 554 ; arc cost: 10.73 ; cumulative cost : 17758.80000000001\n",
            "idx : 125 126 ; nodes: 554 609 ; arc cost: 176.36 ; cumulative cost : 17935.16000000001\n",
            "idx : 126 127 ; nodes: 609 610 ; arc cost: 14.42 ; cumulative cost : 17949.58000000001\n",
            "idx : 127 128 ; nodes: 610 611 ; arc cost: 197.34 ; cumulative cost : 18146.92000000001\n",
            "idx : 128 129 ; nodes: 611 612 ; arc cost: 53.86 ; cumulative cost : 18200.78000000001\n",
            "idx : 129 130 ; nodes: 612 613 ; arc cost: 78.55 ; cumulative cost : 18279.33000000001\n",
            "idx : 130 131 ; nodes: 613 614 ; arc cost: 40.88 ; cumulative cost : 18320.21000000001\n",
            "idx : 131 132 ; nodes: 614 615 ; arc cost: 26.7 ; cumulative cost : 18346.91000000001\n",
            "idx : 132 133 ; nodes: 615 616 ; arc cost: 73.66 ; cumulative cost : 18420.57000000001\n",
            "idx : 133 134 ; nodes: 616 617 ; arc cost: 40.41 ; cumulative cost : 18460.98000000001\n",
            "idx : 134 135 ; nodes: 617 618 ; arc cost: 18.6 ; cumulative cost : 18479.58000000001\n",
            "idx : 135 136 ; nodes: 618 619 ; arc cost: 24.01 ; cumulative cost : 18503.590000000007\n",
            "idx : 136 137 ; nodes: 619 620 ; arc cost: 82.67 ; cumulative cost : 18586.260000000006\n",
            "idx : 137 138 ; nodes: 620 621 ; arc cost: 16.18 ; cumulative cost : 18602.440000000006\n",
            "idx : 138 139 ; nodes: 621 451 ; arc cost: 1219.29 ; cumulative cost : 19821.730000000007\n",
            "idx : 139 140 ; nodes: 451 453 ; arc cost: 10.81 ; cumulative cost : 19832.540000000008\n",
            "idx : 140 141 ; nodes: 453 452 ; arc cost: 4.52 ; cumulative cost : 19837.06000000001\n",
            "idx : 141 142 ; nodes: 452 680 ; arc cost: 315.68 ; cumulative cost : 20152.74000000001\n",
            "idx : 142 143 ; nodes: 680 679 ; arc cost: 25.31 ; cumulative cost : 20178.05000000001\n",
            "idx : 143 144 ; nodes: 679 678 ; arc cost: 13.83 ; cumulative cost : 20191.880000000012\n",
            "idx : 144 145 ; nodes: 678 392 ; arc cost: 3512.7000000000007 ; cumulative cost : 23704.580000000013\n",
            "idx : 145 146 ; nodes: 392 393 ; arc cost: 31.41 ; cumulative cost : 23735.990000000013\n",
            "idx : 146 147 ; nodes: 393 391 ; arc cost: 57.73 ; cumulative cost : 23793.720000000012\n",
            "idx : 147 148 ; nodes: 391 692 ; arc cost: 164.34 ; cumulative cost : 23958.060000000012\n",
            "idx : 148 149 ; nodes: 692 693 ; arc cost: 15.05 ; cumulative cost : 23973.11000000001\n",
            "idx : 149 150 ; nodes: 693 685 ; arc cost: 389.74000000000007 ; cumulative cost : 24362.850000000013\n",
            "idx : 150 151 ; nodes: 685 687 ; arc cost: 82.86 ; cumulative cost : 24445.710000000014\n",
            "idx : 151 152 ; nodes: 687 686 ; arc cost: 41.03 ; cumulative cost : 24486.740000000013\n",
            "idx : 152 153 ; nodes: 686 684 ; arc cost: 107.66 ; cumulative cost : 24594.400000000012\n",
            "idx : 153 154 ; nodes: 684 689 ; arc cost: 474.7000000000001 ; cumulative cost : 25069.100000000013\n",
            "idx : 154 155 ; nodes: 689 688 ; arc cost: 37.26 ; cumulative cost : 25106.36000000001\n",
            "idx : 155 156 ; nodes: 688 690 ; arc cost: 365.95 ; cumulative cost : 25472.310000000012\n",
            "idx : 156 157 ; nodes: 690 691 ; arc cost: 3.3 ; cumulative cost : 25475.61000000001\n",
            "idx : 157 158 ; nodes: 691 695 ; arc cost: 165.45000000000002 ; cumulative cost : 25641.060000000012\n",
            "idx : 158 159 ; nodes: 695 694 ; arc cost: 6.31 ; cumulative cost : 25647.370000000014\n",
            "idx : 159 160 ; nodes: 694 699 ; arc cost: 0.0 ; cumulative cost : 25647.370000000014\n",
            "idx : 160 161 ; nodes: 699 552 ; arc cost: 1271.86 ; cumulative cost : 26919.230000000014\n",
            "idx : 161 162 ; nodes: 552 553 ; arc cost: 17.56 ; cumulative cost : 26936.790000000015\n",
            "idx : 162 163 ; nodes: 553 551 ; arc cost: 43.04 ; cumulative cost : 26979.830000000016\n",
            "idx : 163 164 ; nodes: 551 400 ; arc cost: 619.0899999999998 ; cumulative cost : 27598.920000000016\n",
            "idx : 164 165 ; nodes: 400 399 ; arc cost: 5.35 ; cumulative cost : 27604.270000000015\n",
            "idx : 165 166 ; nodes: 399 398 ; arc cost: 33.8 ; cumulative cost : 27638.070000000014\n",
            "idx : 166 167 ; nodes: 398 542 ; arc cost: 867.7200000000001 ; cumulative cost : 28505.790000000015\n",
            "idx : 167 168 ; nodes: 542 543 ; arc cost: 31.33 ; cumulative cost : 28537.120000000017\n",
            "idx : 168 169 ; nodes: 543 677 ; arc cost: 66.95 ; cumulative cost : 28604.070000000018\n",
            "idx : 169 170 ; nodes: 677 676 ; arc cost: 5.07 ; cumulative cost : 28609.140000000018\n",
            "idx : 170 171 ; nodes: 676 675 ; arc cost: 41.13 ; cumulative cost : 28650.27000000002\n",
            "idx : 171 172 ; nodes: 675 674 ; arc cost: 29.11 ; cumulative cost : 28679.38000000002\n",
            "idx : 172 173 ; nodes: 674 673 ; arc cost: 18.5 ; cumulative cost : 28697.88000000002\n",
            "idx : 173 174 ; nodes: 673 672 ; arc cost: 3.1 ; cumulative cost : 28700.980000000018\n",
            "idx : 174 175 ; nodes: 672 361 ; arc cost: 12.21 ; cumulative cost : 28713.190000000017\n",
            "idx : 175 176 ; nodes: 361 360 ; arc cost: 12.53 ; cumulative cost : 28725.720000000016\n",
            "idx : 176 177 ; nodes: 360 359 ; arc cost: 12.04 ; cumulative cost : 28737.760000000017\n",
            "idx : 177 178 ; nodes: 359 358 ; arc cost: 15.39 ; cumulative cost : 28753.150000000016\n",
            "idx : 178 179 ; nodes: 358 357 ; arc cost: 17.11 ; cumulative cost : 28770.260000000017\n",
            "idx : 179 180 ; nodes: 357 356 ; arc cost: 16.49 ; cumulative cost : 28786.75000000002\n",
            "idx : 180 181 ; nodes: 356 355 ; arc cost: 161.52 ; cumulative cost : 28948.27000000002\n",
            "idx : 181 182 ; nodes: 355 354 ; arc cost: 133.4 ; cumulative cost : 29081.67000000002\n",
            "idx : 182 183 ; nodes: 354 671 ; arc cost: 12.329999999999998 ; cumulative cost : 29094.000000000022\n",
            "idx : 183 184 ; nodes: 671 670 ; arc cost: 5.32 ; cumulative cost : 29099.32000000002\n",
            "idx : 184 185 ; nodes: 670 669 ; arc cost: 12.53 ; cumulative cost : 29111.85000000002\n",
            "idx : 185 186 ; nodes: 669 668 ; arc cost: 6.4 ; cumulative cost : 29118.250000000022\n",
            "idx : 186 187 ; nodes: 668 667 ; arc cost: 80.49 ; cumulative cost : 29198.740000000023\n",
            "idx : 187 188 ; nodes: 667 666 ; arc cost: 4.12 ; cumulative cost : 29202.860000000022\n",
            "idx : 188 189 ; nodes: 666 665 ; arc cost: 5.27 ; cumulative cost : 29208.130000000023\n",
            "idx : 189 190 ; nodes: 665 664 ; arc cost: 5.71 ; cumulative cost : 29213.840000000022\n",
            "idx : 190 191 ; nodes: 664 663 ; arc cost: 6.25 ; cumulative cost : 29220.090000000022\n",
            "idx : 191 192 ; nodes: 663 662 ; arc cost: 10.71 ; cumulative cost : 29230.80000000002\n",
            "idx : 192 193 ; nodes: 662 661 ; arc cost: 5.76 ; cumulative cost : 29236.56000000002\n",
            "idx : 193 194 ; nodes: 661 660 ; arc cost: 14.24 ; cumulative cost : 29250.80000000002\n",
            "idx : 194 195 ; nodes: 660 659 ; arc cost: 7.24 ; cumulative cost : 29258.040000000023\n",
            "idx : 195 196 ; nodes: 659 658 ; arc cost: 5.94 ; cumulative cost : 29263.98000000002\n",
            "idx : 196 197 ; nodes: 658 657 ; arc cost: 29.63 ; cumulative cost : 29293.610000000022\n",
            "idx : 197 198 ; nodes: 657 656 ; arc cost: 24.38 ; cumulative cost : 29317.990000000023\n",
            "idx : 198 199 ; nodes: 656 655 ; arc cost: 18.27 ; cumulative cost : 29336.260000000024\n",
            "idx : 199 200 ; nodes: 655 654 ; arc cost: 13.57 ; cumulative cost : 29349.830000000024\n",
            "idx : 200 201 ; nodes: 654 653 ; arc cost: 4.83 ; cumulative cost : 29354.660000000025\n",
            "idx : 201 202 ; nodes: 653 652 ; arc cost: 7.16 ; cumulative cost : 29361.820000000025\n",
            "idx : 202 203 ; nodes: 652 651 ; arc cost: 7.11 ; cumulative cost : 29368.930000000026\n",
            "idx : 203 204 ; nodes: 651 650 ; arc cost: 66.71 ; cumulative cost : 29435.640000000025\n",
            "idx : 204 205 ; nodes: 650 649 ; arc cost: 100.31 ; cumulative cost : 29535.950000000026\n",
            "idx : 205 206 ; nodes: 649 648 ; arc cost: 10.15 ; cumulative cost : 29546.100000000028\n",
            "idx : 206 207 ; nodes: 648 647 ; arc cost: 7.3 ; cumulative cost : 29553.400000000027\n",
            "idx : 207 208 ; nodes: 647 646 ; arc cost: 9.29 ; cumulative cost : 29562.690000000028\n",
            "idx : 208 209 ; nodes: 646 645 ; arc cost: 4.66 ; cumulative cost : 29567.350000000028\n",
            "idx : 209 210 ; nodes: 645 644 ; arc cost: 58.47 ; cumulative cost : 29625.82000000003\n",
            "idx : 210 211 ; nodes: 644 643 ; arc cost: 2.18 ; cumulative cost : 29628.00000000003\n",
            "idx : 211 212 ; nodes: 643 642 ; arc cost: 4.21 ; cumulative cost : 29632.21000000003\n",
            "idx : 212 213 ; nodes: 642 641 ; arc cost: 6.5 ; cumulative cost : 29638.71000000003\n",
            "idx : 213 214 ; nodes: 641 640 ; arc cost: 5.49 ; cumulative cost : 29644.20000000003\n",
            "idx : 214 215 ; nodes: 640 639 ; arc cost: 18.02 ; cumulative cost : 29662.22000000003\n",
            "idx : 215 216 ; nodes: 639 638 ; arc cost: 11.27 ; cumulative cost : 29673.49000000003\n",
            "idx : 216 217 ; nodes: 638 637 ; arc cost: 4.2 ; cumulative cost : 29677.69000000003\n",
            "idx : 217 218 ; nodes: 637 636 ; arc cost: 76.84 ; cumulative cost : 29754.53000000003\n",
            "idx : 218 219 ; nodes: 636 635 ; arc cost: 8.36 ; cumulative cost : 29762.890000000032\n",
            "idx : 219 220 ; nodes: 635 634 ; arc cost: 9.1 ; cumulative cost : 29771.99000000003\n",
            "idx : 220 221 ; nodes: 634 633 ; arc cost: 4.98 ; cumulative cost : 29776.97000000003\n",
            "idx : 221 222 ; nodes: 633 632 ; arc cost: 26.28 ; cumulative cost : 29803.25000000003\n",
            "idx : 222 223 ; nodes: 632 631 ; arc cost: 4.78 ; cumulative cost : 29808.030000000028\n",
            "idx : 223 224 ; nodes: 631 626 ; arc cost: 1109.9900000000002 ; cumulative cost : 30918.02000000003\n",
            "idx : 224 225 ; nodes: 626 624 ; arc cost: 97.66 ; cumulative cost : 31015.68000000003\n",
            "idx : 225 226 ; nodes: 624 622 ; arc cost: 150.85000000000002 ; cumulative cost : 31166.530000000028\n",
            "idx : 226 227 ; nodes: 622 623 ; arc cost: 48.67 ; cumulative cost : 31215.200000000026\n",
            "idx : 227 228 ; nodes: 623 625 ; arc cost: 174.41000000000005 ; cumulative cost : 31389.610000000026\n",
            "idx : 228 229 ; nodes: 625 627 ; arc cost: 26.81 ; cumulative cost : 31416.420000000027\n",
            "idx : 229 230 ; nodes: 627 747 ; arc cost: 7.67 ; cumulative cost : 31424.090000000026\n",
            "idx : 230 231 ; nodes: 747 748 ; arc cost: 17.89 ; cumulative cost : 31441.980000000025\n",
            "idx : 231 232 ; nodes: 748 749 ; arc cost: 36.63 ; cumulative cost : 31478.610000000026\n",
            "idx : 232 233 ; nodes: 749 750 ; arc cost: 5.64 ; cumulative cost : 31484.250000000025\n",
            "idx : 233 234 ; nodes: 750 743 ; arc cost: 63.64000000000001 ; cumulative cost : 31547.890000000025\n",
            "idx : 234 235 ; nodes: 743 745 ; arc cost: 1.74 ; cumulative cost : 31549.630000000026\n",
            "idx : 235 236 ; nodes: 745 746 ; arc cost: 8.54 ; cumulative cost : 31558.170000000027\n",
            "idx : 236 237 ; nodes: 746 744 ; arc cost: 4.36 ; cumulative cost : 31562.530000000028\n",
            "idx : 237 238 ; nodes: 744 702 ; arc cost: 210.76 ; cumulative cost : 31773.290000000026\n",
            "idx : 238 239 ; nodes: 702 703 ; arc cost: 14.94 ; cumulative cost : 31788.230000000025\n",
            "idx : 239 240 ; nodes: 703 740 ; arc cost: 149.55 ; cumulative cost : 31937.780000000024\n",
            "idx : 240 241 ; nodes: 740 715 ; arc cost: 14.75 ; cumulative cost : 31952.530000000024\n",
            "idx : 241 242 ; nodes: 715 716 ; arc cost: 9.07 ; cumulative cost : 31961.600000000024\n",
            "idx : 242 243 ; nodes: 716 717 ; arc cost: 9.07 ; cumulative cost : 31970.670000000024\n",
            "idx : 243 244 ; nodes: 717 741 ; arc cost: 23.71 ; cumulative cost : 31994.380000000023\n",
            "idx : 244 245 ; nodes: 741 742 ; arc cost: 46.62 ; cumulative cost : 32041.000000000022\n",
            "idx : 245 246 ; nodes: 742 735 ; arc cost: 26.72 ; cumulative cost : 32067.720000000023\n",
            "idx : 246 247 ; nodes: 735 736 ; arc cost: 76.25 ; cumulative cost : 32143.970000000023\n",
            "idx : 247 248 ; nodes: 736 739 ; arc cost: 0.0 ; cumulative cost : 32143.970000000023\n",
            "idx : 248 249 ; nodes: 739 719 ; arc cost: 817.86 ; cumulative cost : 32961.83000000002\n",
            "idx : 249 250 ; nodes: 719 718 ; arc cost: 60.57 ; cumulative cost : 33022.40000000002\n",
            "idx : 250 251 ; nodes: 718 723 ; arc cost: 783.48 ; cumulative cost : 33805.88000000003\n",
            "idx : 251 252 ; nodes: 723 722 ; arc cost: 4.1 ; cumulative cost : 33809.980000000025\n",
            "idx : 252 253 ; nodes: 722 727 ; arc cost: 396.41 ; cumulative cost : 34206.39000000003\n",
            "idx : 253 254 ; nodes: 727 728 ; arc cost: 12.05 ; cumulative cost : 34218.44000000003\n",
            "idx : 254 255 ; nodes: 728 732 ; arc cost: 191.69 ; cumulative cost : 34410.130000000034\n",
            "idx : 255 256 ; nodes: 732 733 ; arc cost: 37.43 ; cumulative cost : 34447.560000000034\n",
            "idx : 256 257 ; nodes: 733 734 ; arc cost: 36.29 ; cumulative cost : 34483.850000000035\n",
            "idx : 257 258 ; nodes: 734 447 ; arc cost: 7034.950000000002 ; cumulative cost : 41518.80000000004\n",
            "idx : 258 259 ; nodes: 447 448 ; arc cost: 44.7 ; cumulative cost : 41563.50000000004\n",
            "idx : 259 260 ; nodes: 448 608 ; arc cost: 3663.6900000000014 ; cumulative cost : 45227.19000000004\n",
            "idx : 260 261 ; nodes: 608 607 ; arc cost: 21.49 ; cumulative cost : 45248.68000000004\n",
            "idx : 261 262 ; nodes: 607 606 ; arc cost: 3.15 ; cumulative cost : 45251.83000000004\n",
            "idx : 262 263 ; nodes: 606 364 ; arc cost: 4703.710000000014 ; cumulative cost : 49955.54000000005\n",
            "idx : 263 264 ; nodes: 364 339 ; arc cost: 291.47 ; cumulative cost : 50247.01000000005\n",
            "idx : 264 265 ; nodes: 339 340 ; arc cost: 312.0 ; cumulative cost : 50559.01000000005\n",
            "idx : 265 266 ; nodes: 340 341 ; arc cost: 50.56 ; cumulative cost : 50609.57000000005\n",
            "idx : 266 267 ; nodes: 341 342 ; arc cost: 25.96 ; cumulative cost : 50635.53000000005\n",
            "idx : 267 268 ; nodes: 342 343 ; arc cost: 10.93 ; cumulative cost : 50646.46000000005\n",
            "idx : 268 269 ; nodes: 343 344 ; arc cost: 31.3 ; cumulative cost : 50677.76000000005\n",
            "idx : 269 270 ; nodes: 344 345 ; arc cost: 8.48 ; cumulative cost : 50686.240000000056\n",
            "idx : 270 271 ; nodes: 345 346 ; arc cost: 6.18 ; cumulative cost : 50692.42000000006\n",
            "idx : 271 272 ; nodes: 346 347 ; arc cost: 11.11 ; cumulative cost : 50703.53000000006\n",
            "idx : 272 273 ; nodes: 347 348 ; arc cost: 11.62 ; cumulative cost : 50715.15000000006\n",
            "idx : 273 274 ; nodes: 348 349 ; arc cost: 17.33 ; cumulative cost : 50732.48000000006\n",
            "idx : 274 275 ; nodes: 349 350 ; arc cost: 18.15 ; cumulative cost : 50750.63000000006\n",
            "idx : 275 276 ; nodes: 350 351 ; arc cost: 14.38 ; cumulative cost : 50765.01000000006\n",
            "idx : 276 277 ; nodes: 351 352 ; arc cost: 9.27 ; cumulative cost : 50774.28000000006\n",
            "idx : 277 278 ; nodes: 352 353 ; arc cost: 1.35 ; cumulative cost : 50775.630000000056\n",
            "idx : 278 279 ; nodes: 353 363 ; arc cost: 41.85000000000001 ; cumulative cost : 50817.480000000054\n",
            "idx : 279 280 ; nodes: 363 362 ; arc cost: 1.95 ; cumulative cost : 50819.43000000005\n",
            "idx : 280 281 ; nodes: 362 432 ; arc cost: 174.82999999999998 ; cumulative cost : 50994.26000000005\n",
            "idx : 281 282 ; nodes: 432 431 ; arc cost: 11.37 ; cumulative cost : 51005.630000000056\n",
            "idx : 282 283 ; nodes: 431 430 ; arc cost: 6.89 ; cumulative cost : 51012.520000000055\n",
            "idx : 283 284 ; nodes: 430 429 ; arc cost: 14.18 ; cumulative cost : 51026.700000000055\n",
            "idx : 284 285 ; nodes: 429 428 ; arc cost: 15.32 ; cumulative cost : 51042.020000000055\n",
            "idx : 285 286 ; nodes: 428 427 ; arc cost: 31.79 ; cumulative cost : 51073.810000000056\n",
            "idx : 286 287 ; nodes: 427 628 ; arc cost: 280.2499999999999 ; cumulative cost : 51354.060000000056\n",
            "idx : 287 288 ; nodes: 628 629 ; arc cost: 10.29 ; cumulative cost : 51364.35000000006\n",
            "idx : 288 289 ; nodes: 629 630 ; arc cost: 16.6 ; cumulative cost : 51380.950000000055\n",
            "idx : 289 290 ; nodes: 630 704 ; arc cost: 363.9699999999999 ; cumulative cost : 51744.92000000006\n",
            "idx : 290 291 ; nodes: 704 705 ; arc cost: 8.1 ; cumulative cost : 51753.020000000055\n",
            "idx : 291 292 ; nodes: 705 707 ; arc cost: 15.63 ; cumulative cost : 51768.65000000005\n",
            "idx : 292 293 ; nodes: 707 709 ; arc cost: 17.62 ; cumulative cost : 51786.270000000055\n",
            "idx : 293 294 ; nodes: 709 714 ; arc cost: 40.900000000000006 ; cumulative cost : 51827.17000000006\n",
            "idx : 294 295 ; nodes: 714 713 ; arc cost: 14.05 ; cumulative cost : 51841.22000000006\n",
            "idx : 295 296 ; nodes: 713 712 ; arc cost: 6.1 ; cumulative cost : 51847.32000000006\n",
            "idx : 296 297 ; nodes: 712 711 ; arc cost: 8.37 ; cumulative cost : 51855.69000000006\n",
            "idx : 297 298 ; nodes: 711 710 ; arc cost: 8.0 ; cumulative cost : 51863.69000000006\n",
            "idx : 298 299 ; nodes: 710 708 ; arc cost: 17.95 ; cumulative cost : 51881.64000000006\n",
            "idx : 299 300 ; nodes: 708 706 ; arc cost: 13.489999999999998 ; cumulative cost : 51895.130000000056\n",
            "idx : 300 301 ; nodes: 706 445 ; arc cost: 630.3199999999999 ; cumulative cost : 52525.450000000055\n",
            "idx : 301 302 ; nodes: 445 446 ; arc cost: 19.25 ; cumulative cost : 52544.700000000055\n",
            "idx : 302 303 ; nodes: 446 372 ; arc cost: 855.4799999999998 ; cumulative cost : 53400.18000000006\n",
            "idx : 303 304 ; nodes: 372 373 ; arc cost: 13.37 ; cumulative cost : 53413.55000000006\n",
            "idx : 304 305 ; nodes: 373 374 ; arc cost: 208.1 ; cumulative cost : 53621.65000000006\n",
            "idx : 305 306 ; nodes: 374 375 ; arc cost: 171.79 ; cumulative cost : 53793.44000000006\n",
            "idx : 306 307 ; nodes: 375 376 ; arc cost: 164.4 ; cumulative cost : 53957.84000000006\n",
            "idx : 307 308 ; nodes: 376 377 ; arc cost: 27.99 ; cumulative cost : 53985.83000000006\n",
            "idx : 308 309 ; nodes: 377 378 ; arc cost: 111.99 ; cumulative cost : 54097.82000000006\n",
            "idx : 309 310 ; nodes: 378 367 ; arc cost: 17.12 ; cumulative cost : 54114.94000000006\n",
            "idx : 310 311 ; nodes: 367 368 ; arc cost: 13.14 ; cumulative cost : 54128.08000000006\n",
            "idx : 311 312 ; nodes: 368 369 ; arc cost: 93.82 ; cumulative cost : 54221.90000000006\n",
            "idx : 312 313 ; nodes: 369 370 ; arc cost: 10.85 ; cumulative cost : 54232.75000000006\n",
            "idx : 313 314 ; nodes: 370 371 ; arc cost: 5.65 ; cumulative cost : 54238.40000000006\n",
            "idx : 314 315 ; nodes: 371 396 ; arc cost: 230.93 ; cumulative cost : 54469.33000000006\n",
            "idx : 315 316 ; nodes: 396 366 ; arc cost: 242.54 ; cumulative cost : 54711.87000000006\n",
            "idx : 316 317 ; nodes: 366 365 ; arc cost: 94.62 ; cumulative cost : 54806.49000000006\n",
            "idx : 317 318 ; nodes: 365 731 ; arc cost: 2612.4800000000005 ; cumulative cost : 57418.97000000007\n",
            "idx : 318 319 ; nodes: 731 730 ; arc cost: 17.61 ; cumulative cost : 57436.58000000007\n",
            "idx : 319 320 ; nodes: 730 729 ; arc cost: 3.54 ; cumulative cost : 57440.12000000007\n",
            "idx : 320 321 ; nodes: 729 725 ; arc cost: 7.890000000000001 ; cumulative cost : 57448.01000000007\n",
            "idx : 321 322 ; nodes: 725 726 ; arc cost: 16.15 ; cumulative cost : 57464.16000000007\n",
            "idx : 322 323 ; nodes: 726 724 ; arc cost: 19.56 ; cumulative cost : 57483.72000000007\n",
            "idx : 323 324 ; nodes: 724 573 ; arc cost: 7.31 ; cumulative cost : 57491.030000000064\n",
            "idx : 324 325 ; nodes: 573 574 ; arc cost: 3.88 ; cumulative cost : 57494.91000000006\n",
            "idx : 325 326 ; nodes: 574 575 ; arc cost: 11.85 ; cumulative cost : 57506.76000000006\n",
            "idx : 326 327 ; nodes: 575 587 ; arc cost: 2470.65 ; cumulative cost : 59977.41000000006\n",
            "idx : 327 328 ; nodes: 587 588 ; arc cost: 8.44 ; cumulative cost : 59985.850000000064\n",
            "idx : 328 329 ; nodes: 588 586 ; arc cost: 24.86 ; cumulative cost : 60010.710000000065\n",
            "idx : 329 330 ; nodes: 586 585 ; arc cost: 3.7 ; cumulative cost : 60014.41000000006\n",
            "idx : 330 331 ; nodes: 585 584 ; arc cost: 11.08 ; cumulative cost : 60025.49000000006\n",
            "idx : 331 332 ; nodes: 584 583 ; arc cost: 10.46 ; cumulative cost : 60035.95000000006\n",
            "idx : 332 333 ; nodes: 583 582 ; arc cost: 2.87 ; cumulative cost : 60038.820000000065\n",
            "idx : 333 334 ; nodes: 582 441 ; arc cost: 692.7999999999997 ; cumulative cost : 60731.62000000007\n",
            "idx : 334 335 ; nodes: 441 442 ; arc cost: 3.9 ; cumulative cost : 60735.52000000007\n",
            "idx : 335 336 ; nodes: 442 443 ; arc cost: 7.37 ; cumulative cost : 60742.89000000007\n",
            "idx : 336 337 ; nodes: 443 449 ; arc cost: 16.86 ; cumulative cost : 60759.75000000007\n",
            "idx : 337 338 ; nodes: 449 450 ; arc cost: 8.51 ; cumulative cost : 60768.260000000075\n",
            "idx : 338 339 ; nodes: 450 454 ; arc cost: 7.03 ; cumulative cost : 60775.29000000007\n",
            "idx : 339 340 ; nodes: 454 455 ; arc cost: 4.44 ; cumulative cost : 60779.730000000076\n",
            "idx : 340 341 ; nodes: 455 456 ; arc cost: 4.67 ; cumulative cost : 60784.400000000074\n",
            "idx : 341 342 ; nodes: 456 457 ; arc cost: 4.85 ; cumulative cost : 60789.25000000007\n",
            "idx : 342 343 ; nodes: 457 458 ; arc cost: 4.88 ; cumulative cost : 60794.13000000007\n",
            "idx : 343 344 ; nodes: 458 459 ; arc cost: 6.28 ; cumulative cost : 60800.41000000007\n",
            "idx : 344 345 ; nodes: 459 460 ; arc cost: 5.17 ; cumulative cost : 60805.58000000007\n",
            "idx : 345 346 ; nodes: 460 461 ; arc cost: 9.12 ; cumulative cost : 60814.70000000007\n",
            "idx : 346 347 ; nodes: 461 462 ; arc cost: 7.12 ; cumulative cost : 60821.82000000007\n",
            "idx : 347 348 ; nodes: 462 463 ; arc cost: 7.01 ; cumulative cost : 60828.830000000075\n",
            "idx : 348 349 ; nodes: 463 464 ; arc cost: 6.37 ; cumulative cost : 60835.20000000008\n",
            "idx : 349 350 ; nodes: 464 465 ; arc cost: 4.66 ; cumulative cost : 60839.86000000008\n",
            "idx : 350 351 ; nodes: 465 466 ; arc cost: 4.09 ; cumulative cost : 60843.95000000008\n",
            "idx : 351 352 ; nodes: 466 467 ; arc cost: 5.77 ; cumulative cost : 60849.720000000074\n",
            "idx : 352 353 ; nodes: 467 468 ; arc cost: 6.04 ; cumulative cost : 60855.760000000075\n",
            "idx : 353 354 ; nodes: 468 469 ; arc cost: 6.99 ; cumulative cost : 60862.75000000007\n",
            "idx : 354 355 ; nodes: 469 470 ; arc cost: 5.75 ; cumulative cost : 60868.50000000007\n",
            "idx : 355 356 ; nodes: 470 471 ; arc cost: 4.42 ; cumulative cost : 60872.92000000007\n",
            "idx : 356 357 ; nodes: 471 472 ; arc cost: 3.85 ; cumulative cost : 60876.77000000007\n",
            "idx : 357 358 ; nodes: 472 473 ; arc cost: 5.51 ; cumulative cost : 60882.28000000007\n",
            "idx : 358 359 ; nodes: 473 474 ; arc cost: 4.2 ; cumulative cost : 60886.48000000007\n",
            "idx : 359 360 ; nodes: 474 438 ; arc cost: 11.95 ; cumulative cost : 60898.430000000066\n",
            "idx : 360 361 ; nodes: 438 437 ; arc cost: 9.12 ; cumulative cost : 60907.55000000007\n",
            "idx : 361 362 ; nodes: 437 475 ; arc cost: 15.38 ; cumulative cost : 60922.930000000066\n",
            "idx : 362 363 ; nodes: 475 476 ; arc cost: 14.66 ; cumulative cost : 60937.59000000007\n",
            "idx : 363 364 ; nodes: 476 477 ; arc cost: 15.5 ; cumulative cost : 60953.09000000007\n",
            "idx : 364 365 ; nodes: 477 478 ; arc cost: 6.24 ; cumulative cost : 60959.33000000007\n",
            "idx : 365 366 ; nodes: 478 479 ; arc cost: 5.92 ; cumulative cost : 60965.250000000065\n",
            "idx : 366 367 ; nodes: 479 480 ; arc cost: 4.67 ; cumulative cost : 60969.920000000064\n",
            "idx : 367 368 ; nodes: 480 481 ; arc cost: 4.95 ; cumulative cost : 60974.87000000006\n",
            "idx : 368 369 ; nodes: 481 482 ; arc cost: 3.34 ; cumulative cost : 60978.21000000006\n",
            "idx : 369 370 ; nodes: 482 444 ; arc cost: 4.89 ; cumulative cost : 60983.10000000006\n",
            "idx : 370 371 ; nodes: 444 440 ; arc cost: 20.89 ; cumulative cost : 61003.990000000056\n",
            "idx : 371 372 ; nodes: 440 439 ; arc cost: 2.81 ; cumulative cost : 61006.800000000054\n",
            "idx : 372 373 ; nodes: 439 580 ; arc cost: 676.1499999999999 ; cumulative cost : 61682.950000000055\n",
            "idx : 373 374 ; nodes: 580 581 ; arc cost: 6.54 ; cumulative cost : 61689.490000000056\n",
            "idx : 374 375 ; nodes: 581 737 ; arc cost: 3931.810000000001 ; cumulative cost : 65621.30000000006\n",
            "idx : 375 376 ; nodes: 737 738 ; arc cost: 19.29 ; cumulative cost : 65640.59000000005\n",
            "idx : 376 377 ; nodes: 738 557 ; arc cost: 2848.900000000002 ; cumulative cost : 68489.49000000006\n",
            "idx : 377 378 ; nodes: 557 568 ; arc cost: 25.96 ; cumulative cost : 68515.45000000007\n",
            "idx : 378 379 ; nodes: 568 569 ; arc cost: 20.17 ; cumulative cost : 68535.62000000007\n",
            "idx : 379 380 ; nodes: 569 567 ; arc cost: 54.2 ; cumulative cost : 68589.82000000007\n",
            "idx : 380 381 ; nodes: 567 566 ; arc cost: 17.03 ; cumulative cost : 68606.85000000006\n",
            "idx : 381 382 ; nodes: 566 565 ; arc cost: 112.7 ; cumulative cost : 68719.55000000006\n",
            "idx : 382 383 ; nodes: 565 570 ; arc cost: 9.45 ; cumulative cost : 68729.00000000006\n",
            "idx : 383 384 ; nodes: 570 564 ; arc cost: 19.9 ; cumulative cost : 68748.90000000005\n",
            "idx : 384 385 ; nodes: 564 563 ; arc cost: 21.48 ; cumulative cost : 68770.38000000005\n",
            "idx : 385 386 ; nodes: 563 562 ; arc cost: 7.19 ; cumulative cost : 68777.57000000005\n",
            "idx : 386 387 ; nodes: 562 572 ; arc cost: 24.55 ; cumulative cost : 68802.12000000005\n",
            "idx : 387 388 ; nodes: 572 561 ; arc cost: 11.75 ; cumulative cost : 68813.87000000005\n",
            "idx : 388 389 ; nodes: 561 560 ; arc cost: 7.67 ; cumulative cost : 68821.54000000005\n",
            "idx : 389 390 ; nodes: 560 559 ; arc cost: 31.61 ; cumulative cost : 68853.15000000005\n",
            "idx : 390 391 ; nodes: 559 571 ; arc cost: 9.83 ; cumulative cost : 68862.98000000005\n",
            "idx : 391 392 ; nodes: 571 558 ; arc cost: 29.91 ; cumulative cost : 68892.89000000006\n",
            "idx : 392 393 ; nodes: 558 397 ; arc cost: 4702.96 ; cumulative cost : 73595.85000000006\n",
            "idx : 393 394 ; nodes: 397 589 ; arc cost: 1051.95 ; cumulative cost : 74647.80000000006\n",
            "idx : 394 395 ; nodes: 589 590 ; arc cost: 7.83 ; cumulative cost : 74655.63000000006\n",
            "idx : 395 396 ; nodes: 590 591 ; arc cost: 121.78 ; cumulative cost : 74777.41000000006\n",
            "idx : 396 397 ; nodes: 591 592 ; arc cost: 87.96 ; cumulative cost : 74865.37000000007\n",
            "idx : 397 398 ; nodes: 592 600 ; arc cost: 5695.71 ; cumulative cost : 80561.08000000007\n",
            "idx : 398 399 ; nodes: 600 597 ; arc cost: 118.48 ; cumulative cost : 80679.56000000007\n",
            "idx : 399 400 ; nodes: 597 598 ; arc cost: 1.42 ; cumulative cost : 80680.98000000007\n",
            "idx : 400 401 ; nodes: 598 599 ; arc cost: 31.04 ; cumulative cost : 80712.02000000006\n",
            "idx : 401 402 ; nodes: 599 325 ; arc cost: 410.93000000000006 ; cumulative cost : 81122.95000000006\n",
            "idx : 402 403 ; nodes: 325 331 ; arc cost: 9.05 ; cumulative cost : 81132.00000000006\n",
            "idx : 403 404 ; nodes: 331 334 ; arc cost: 37.25 ; cumulative cost : 81169.25000000006\n",
            "idx : 404 405 ; nodes: 334 335 ; arc cost: 5.47 ; cumulative cost : 81174.72000000006\n",
            "idx : 405 406 ; nodes: 335 336 ; arc cost: 3.99 ; cumulative cost : 81178.71000000006\n",
            "idx : 406 407 ; nodes: 336 338 ; arc cost: 9.28 ; cumulative cost : 81187.99000000006\n",
            "idx : 407 408 ; nodes: 338 337 ; arc cost: 3.08 ; cumulative cost : 81191.07000000007\n",
            "idx : 408 409 ; nodes: 337 333 ; arc cost: 26.82 ; cumulative cost : 81217.89000000007\n",
            "idx : 409 410 ; nodes: 333 332 ; arc cost: 10.96 ; cumulative cost : 81228.85000000008\n",
            "idx : 410 411 ; nodes: 332 328 ; arc cost: 32.92 ; cumulative cost : 81261.77000000008\n",
            "idx : 411 412 ; nodes: 328 593 ; arc cost: 231.1399999999999 ; cumulative cost : 81492.91000000008\n",
            "idx : 412 413 ; nodes: 593 594 ; arc cost: 44.34 ; cumulative cost : 81537.25000000007\n",
            "idx : 413 414 ; nodes: 594 595 ; arc cost: 25.29 ; cumulative cost : 81562.54000000007\n",
            "idx : 414 415 ; nodes: 595 596 ; arc cost: 17.58 ; cumulative cost : 81580.12000000007\n",
            "idx : 415 416 ; nodes: 596 605 ; arc cost: 171.87999999999997 ; cumulative cost : 81752.00000000007\n",
            "idx : 416 417 ; nodes: 605 604 ; arc cost: 9.83 ; cumulative cost : 81761.83000000007\n",
            "idx : 417 418 ; nodes: 604 601 ; arc cost: 40.43 ; cumulative cost : 81802.26000000007\n",
            "idx : 418 419 ; nodes: 601 602 ; arc cost: 17.71 ; cumulative cost : 81819.97000000007\n",
            "idx : 419 420 ; nodes: 602 603 ; arc cost: 14.45 ; cumulative cost : 81834.42000000007\n",
            "idx : 420 421 ; nodes: 603 421 ; arc cost: 4383.859999999999 ; cumulative cost : 86218.28000000007\n",
            "idx : 421 422 ; nodes: 421 422 ; arc cost: 4.62 ; cumulative cost : 86222.90000000007\n",
            "idx : 422 423 ; nodes: 422 423 ; arc cost: 11.85 ; cumulative cost : 86234.75000000007\n",
            "idx : 423 424 ; nodes: 423 424 ; arc cost: 12.58 ; cumulative cost : 86247.33000000007\n",
            "idx : 424 425 ; nodes: 424 425 ; arc cost: 10.64 ; cumulative cost : 86257.97000000007\n",
            "idx : 425 426 ; nodes: 425 426 ; arc cost: 3.18 ; cumulative cost : 86261.15000000007\n",
            "CPU times: user 1.47 s, sys: 227 ms, total: 1.7 s\n",
            "Wall time: 1.66 s\n"
          ]
        }
      ]
    },
    {
      "cell_type": "code",
      "source": [
        "sum_arcs + dm_df.loc[426][0]"
      ],
      "metadata": {
        "colab": {
          "base_uri": "https://localhost:8080/"
        },
        "id": "xNlSUUR3ZOKd",
        "outputId": "baa8f4fc-9a2a-4985-9fb8-b5a5620241f7"
      },
      "execution_count": null,
      "outputs": [
        {
          "output_type": "execute_result",
          "data": {
            "text/plain": [
              "86440.49000000006"
            ]
          },
          "metadata": {},
          "execution_count": 90
        }
      ]
    },
    {
      "cell_type": "markdown",
      "source": [
        "#Similarity Arc Difference"
      ],
      "metadata": {
        "id": "x-lYna_aRsf-"
      }
    },
    {
      "cell_type": "code",
      "source": [
        "# route similarity\n",
        "\n",
        "def find_similarity_route(Tour1, Tour2):\n",
        "    predecessors1 = {Tour1[i]: Tour1[i-1] for i in range(1, len(Tour1))}\n",
        "    predecessors2 = {Tour2[i]: Tour2[i-1] for i in range(1, len(Tour2))}\n",
        "    num_changed_predecessors = 0\n",
        "\n",
        "    for node, pred2 in predecessors2.items():\n",
        "        pred1 = predecessors1[node]\n",
        "        if pred1 != pred2:\n",
        "            num_changed_predecessors += 1\n",
        "    percent_change = num_changed_predecessors / (len(Tour1)-1) * 100\n",
        "    sim_pct = 100 - percent_change\n",
        "\n",
        "    print(predecessors1)\n",
        "    print(predecessors2)\n",
        "\n",
        "    # return predecessors1, predecessors2\n",
        "\n",
        "    return num_changed_predecessors, sim_pct"
      ],
      "metadata": {
        "id": "ZB8VgLN8OPSu"
      },
      "execution_count": null,
      "outputs": []
    },
    {
      "cell_type": "code",
      "source": [
        "a = [1,2,3]\n",
        "b = [2,1,3]\n",
        "\n",
        "find_similarity_route(a,b)"
      ],
      "metadata": {
        "colab": {
          "base_uri": "https://localhost:8080/"
        },
        "id": "l7QiyVE2Z-fU",
        "outputId": "6997a164-d114-42a4-e44d-05292e1a6305"
      },
      "execution_count": null,
      "outputs": [
        {
          "output_type": "execute_result",
          "data": {
            "text/plain": [
              "({2: 1, 3: 2}, {1: 2, 3: 1})"
            ]
          },
          "metadata": {},
          "execution_count": 98
        }
      ]
    },
    {
      "cell_type": "code",
      "source": [
        "a = [1,2,3,4,1]\n",
        "b = [1,3,4,2,1]\n",
        "\n",
        "find_similarity_route(a,b)"
      ],
      "metadata": {
        "colab": {
          "base_uri": "https://localhost:8080/"
        },
        "id": "u04wF8cva6RV",
        "outputId": "2ab6b71b-7aa3-44d3-ebd8-c91f91f761a6"
      },
      "execution_count": null,
      "outputs": [
        {
          "output_type": "stream",
          "name": "stdout",
          "text": [
            "{2: 1, 3: 2, 4: 3, 1: 4}\n",
            "{3: 1, 4: 3, 2: 4, 1: 2}\n"
          ]
        },
        {
          "output_type": "execute_result",
          "data": {
            "text/plain": [
              "(3, 25.0)"
            ]
          },
          "metadata": {},
          "execution_count": 109
        }
      ]
    },
    {
      "cell_type": "code",
      "source": [
        "# similarity for different lengths of tour"
      ],
      "metadata": {
        "id": "JZgIKGsOdnWA"
      },
      "execution_count": null,
      "outputs": []
    },
    {
      "cell_type": "code",
      "source": [
        "a = [1,2,3,4,1,5]\n",
        "b = [1,3,4,2,1]"
      ],
      "metadata": {
        "id": "5_IlKqo9gqIX"
      },
      "execution_count": null,
      "outputs": []
    },
    {
      "cell_type": "markdown",
      "source": [
        "#Negative Big M value"
      ],
      "metadata": {
        "id": "XXlijIwSiDRK"
      }
    },
    {
      "cell_type": "code",
      "source": [
        "# get start and end node for a district\n",
        "# delete df_day input\n",
        "\n",
        "def start_end_points(region_name, district):\n",
        "    # df_day_district = df_day[df_day['district'] == district]\n",
        "\n",
        "    # get start and end node\n",
        "    district_path = dir_loc + '/Instances/' + region_name + '/Districts/' + district + '.dat'\n",
        "    rows_needed = [1]\n",
        "    file_district = pd.read_csv(district_path, sep='\\t', skiprows = lambda x : x not in rows_needed,\n",
        "                                names=('dum_0', 'start_point', 'end_point', 'dum_1', 'dum_2', 'dum_3', 'dum_4', 'dum_5', 'dum_6')\n",
        "                                )\n",
        "    start_point = file_district['start_point'][0]\n",
        "    end_point = file_district['end_point'][0]\n",
        "\n",
        "    points = [start_point, end_point]\n",
        "\n",
        "    return points"
      ],
      "metadata": {
        "id": "GBuYiWEkj1ad"
      },
      "execution_count": null,
      "outputs": []
    },
    {
      "cell_type": "code",
      "source": [
        "# generate original distance matrix and mapping for districts\n",
        "\n",
        "def ori_generate_distance_matrix_map(region_name, save_loc):\n",
        "      i = 1\n",
        "\n",
        "      dir_region = save_loc + '/' + region_name + '_original'\n",
        "      print(dir_region)\n",
        "      if not os.path.exists(dir_region):\n",
        "        os.mkdir(dir_region)\n",
        "        print('dir_region doesnt exist')\n",
        "\n",
        "      # dir_region_ori = dir_region + '/original'\n",
        "      # print(dir_region_ori)\n",
        "      # if not os.path.exists(dir_region):\n",
        "      #   os.mkdir(dir_region)\n",
        "      #   print('dir_ori doesnt exist')\n",
        "\n",
        "      ori_dm_map_dict_region = {}\n",
        "      # get distance file and dataframes\n",
        "      distance_path = dir_loc + '/Instances/' + region_name + '/distances/'\n",
        "      for filename in os.listdir(distance_path):\n",
        "        ori_dm_map_dict_district = {}\n",
        "        district_name = re.sub('.dat', '', filename)\n",
        "        district_name = re.sub('distances_', '', district_name)\n",
        "\n",
        "        district_distance = pd.read_csv(distance_path + filename,\n",
        "                                    names=['pp_1', 'pp_2', 'dist']\n",
        "                                    )\n",
        "      \n",
        "        distance_matrix_df = district_distance.pivot(index = 'pp_1', columns = 'pp_2', values = 'dist')\n",
        "\n",
        "        # generate and revise start and end nodes\n",
        "        points = start_end_points(region_name = region_name, district = district_name)\n",
        "        distance_matrix_df[points[0]][points[1]] = 0\n",
        "        distance_matrix_df[points[1]][points[0]] = 0\n",
        "        ori_dm_map_dict_district['start_end_points'] = points\n",
        "\n",
        "\n",
        "        # distance matrix\n",
        "        distance_matrix_array = distance_matrix_df.to_numpy()\n",
        "        distance_matrix_array = distance_matrix_array.tolist()\n",
        "        ori_dm_map_dict_district['dm'] = distance_matrix_array\n",
        "        pickle.dump(distance_matrix_array, open(dir_region + '/dm_' + \"%s.p\"%district_name, \"wb\"))\n",
        "\n",
        "        # node mapping\n",
        "        map_val = list(range(0, len(distance_matrix_df)))\n",
        "        nodes = distance_matrix_df.index.values.tolist()\n",
        "        mapping = dict(zip(map_val, nodes))\n",
        "        ori_dm_map_dict_district['map'] = mapping\n",
        "        pickle.dump(mapping, open(dir_region + '/map_' + \"%s_%s.p\"%(region_name, district_name), \"wb\"))\n",
        "\n",
        "        ori_dm_map_dict_region[district_name] = ori_dm_map_dict_district\n",
        "        print(i, ':', district_name, ':', len(distance_matrix_array))\n",
        "        i = i+1\n",
        "\n",
        "      return ori_dm_map_dict_region"
      ],
      "metadata": {
        "id": "m7oTyEieiGWv"
      },
      "execution_count": null,
      "outputs": []
    },
    {
      "cell_type": "code",
      "source": [
        "# path for the 'Data' folder provided by DP\n",
        "dir_loc = '/content/drive/Shareddrives/Private Unlimited Drive #1/DDS/Analytics Project/AOP_DP_Analytics/Data'"
      ],
      "metadata": {
        "id": "yUfvwFirj14k"
      },
      "execution_count": null,
      "outputs": []
    },
    {
      "cell_type": "code",
      "source": [
        "regions = ['Warmsen', 'Uerze', 'Hannover 92']\n",
        "\n",
        "all_original = {}\n",
        "\n",
        "for region in regions:\n",
        "  ori_dm_map_dict_region = ori_generate_distance_matrix_map(region_name = region, save_loc = '/content/drive/Shareddrives/Private Unlimited Drive #1/DDS/Analytics Project/Coding/')\n",
        "  all_original[region] = ori_dm_map_dict_region "
      ],
      "metadata": {
        "colab": {
          "base_uri": "https://localhost:8080/"
        },
        "id": "fiOxzia7kGI_",
        "outputId": "75e6be51-0a8f-40d4-f0a1-bf1c34b24753"
      },
      "execution_count": null,
      "outputs": [
        {
          "output_type": "stream",
          "name": "stdout",
          "text": [
            "/content/drive/Shareddrives/Private Unlimited Drive #1/DDS/Analytics Project/Coding//Warmsen_original\n",
            "dir_region doesnt exist\n",
            "1 : 31606-14 : 311\n",
            "2 : 31600-01 : 427\n",
            "3 : 31606-13 : 306\n",
            "4 : 31600-04 : 293\n",
            "5 : 31600-02 : 417\n",
            "6 : 31606-11 : 349\n",
            "7 : 31603-08 : 360\n",
            "8 : 31603-05 : 376\n",
            "9 : 31603-06 : 424\n",
            "10 : 31604-09 : 405\n",
            "11 : 31604-10 : 380\n",
            "12 : 31606-12 : 420\n",
            "13 : 31600-03 : 372\n",
            "14 : 31603-07 : 397\n",
            "/content/drive/Shareddrives/Private Unlimited Drive #1/DDS/Analytics Project/Coding//Uerze_original\n",
            "dir_region doesnt exist\n",
            "1 : 31311-24 : 424\n",
            "2 : 31311-22 : 479\n",
            "3 : 31311-61 : 513\n",
            "4 : 31311-51 : 444\n",
            "5 : 31311-81 : 490\n",
            "6 : 31311-21 : 422\n",
            "7 : 31311-62 : 505\n",
            "8 : 31311-42 : 482\n",
            "9 : 31311-25 : 398\n",
            "10 : 31311-02 : 416\n",
            "11 : 31311-07 : 288\n",
            "12 : 31311-04 : 397\n",
            "13 : 31311-01 : 400\n",
            "14 : 31311-31 : 375\n",
            "15 : 31311-05 : 421\n",
            "16 : 31311-08 : 451\n",
            "17 : 31311-03 : 512\n",
            "/content/drive/Shareddrives/Private Unlimited Drive #1/DDS/Analytics Project/Coding//Hannover 92_original\n",
            "dir_region doesnt exist\n",
            "1 : 30459-32 : 256\n",
            "2 : 30457-02 : 227\n",
            "3 : 30457-01 : 327\n",
            "4 : 30459-36 : 325\n",
            "5 : 30459-37 : 559\n",
            "6 : 30457-16 : 416\n",
            "7 : 30459-31 : 554\n",
            "8 : 30459-25 : 709\n",
            "9 : 30459-35 : 254\n",
            "10 : 30459-33 : 302\n",
            "11 : 30457-12 : 555\n",
            "12 : 30457-11 : 562\n",
            "13 : 30457-15 : 461\n",
            "14 : 30459-24 : 628\n",
            "15 : 30457-14 : 606\n"
          ]
        }
      ]
    },
    {
      "cell_type": "code",
      "source": [
        "all_original['Warmsen']['31606-14'].keys()"
      ],
      "metadata": {
        "colab": {
          "base_uri": "https://localhost:8080/"
        },
        "id": "xipj7kKzlFwX",
        "outputId": "c57878b4-19cc-4aaa-d79f-adf06809ed09"
      },
      "execution_count": null,
      "outputs": [
        {
          "output_type": "execute_result",
          "data": {
            "text/plain": [
              "dict_keys(['start_end_points', 'dm', 'map'])"
            ]
          },
          "metadata": {},
          "execution_count": 158
        }
      ]
    },
    {
      "cell_type": "code",
      "source": [
        "all_original['Warmsen']['31606-14']['start_end_points']"
      ],
      "metadata": {
        "colab": {
          "base_uri": "https://localhost:8080/"
        },
        "id": "IWgjxLy0lF_h",
        "outputId": "8a3762cb-11a4-48cf-a2e8-30f49435c20b"
      },
      "execution_count": null,
      "outputs": [
        {
          "output_type": "execute_result",
          "data": {
            "text/plain": [
              "[0, 4409]"
            ]
          },
          "metadata": {},
          "execution_count": 159
        }
      ]
    },
    {
      "cell_type": "code",
      "source": [
        "%pip install git+https://github.com/jvkersch/pyconcorde"
      ],
      "metadata": {
        "colab": {
          "base_uri": "https://localhost:8080/"
        },
        "id": "lrKR9frflRHD",
        "outputId": "db88d4a2-1ccb-4cf3-acdc-25eb38bbd048"
      },
      "execution_count": null,
      "outputs": [
        {
          "output_type": "stream",
          "name": "stdout",
          "text": [
            "Looking in indexes: https://pypi.org/simple, https://us-python.pkg.dev/colab-wheels/public/simple/\n",
            "Collecting git+https://github.com/jvkersch/pyconcorde\n",
            "  Cloning https://github.com/jvkersch/pyconcorde to /tmp/pip-req-build-69cnbfve\n",
            "  Running command git clone --filter=blob:none --quiet https://github.com/jvkersch/pyconcorde /tmp/pip-req-build-69cnbfve\n",
            "  Resolved https://github.com/jvkersch/pyconcorde to commit 71232a8043a3ca79a7a6da2f48e9d89d81d37163\n",
            "  Installing build dependencies ... \u001b[?25l\u001b[?25hdone\n",
            "  Getting requirements to build wheel ... \u001b[?25l\u001b[?25hdone\n",
            "  Installing backend dependencies ... \u001b[?25l\u001b[?25hdone\n",
            "  Preparing metadata (pyproject.toml) ... \u001b[?25l\u001b[?25hdone\n",
            "Requirement already satisfied: cython>=0.22.0 in /usr/local/lib/python3.10/dist-packages (from pyconcorde==0.1.0) (0.29.34)\n",
            "Requirement already satisfied: numpy>=1.10.0 in /usr/local/lib/python3.10/dist-packages (from pyconcorde==0.1.0) (1.22.4)\n",
            "Building wheels for collected packages: pyconcorde\n",
            "  Building wheel for pyconcorde (pyproject.toml) ... \u001b[?25l\u001b[?25hdone\n",
            "  Created wheel for pyconcorde: filename=pyconcorde-0.1.0-cp310-cp310-linux_x86_64.whl size=2494590 sha256=c99717cffc2b1f9b0eebdd7089a0bca8451072df5bdb71ece1a33f6ebb2e9e71\n",
            "  Stored in directory: /tmp/pip-ephem-wheel-cache-77urzhhk/wheels/be/9f/eb/e4f95e06e62f057a045679e4940e536d1b251d1ab4859c6dcc\n",
            "Successfully built pyconcorde\n",
            "Installing collected packages: pyconcorde\n",
            "Successfully installed pyconcorde-0.1.0\n"
          ]
        }
      ]
    },
    {
      "cell_type": "code",
      "source": [
        "# install tweak file\n",
        "%cp '/content/drive/Shareddrives/Private Unlimited Drive #1/DDS/Analytics Project/Concorde/concorde_class.py' '/content'\n",
        "%cp '/content/drive/Shareddrives/Private Unlimited Drive #1/DDS/Analytics Project/Concorde/test.py' '/content'\n",
        "%cp '/content/drive/Shareddrives/Private Unlimited Drive #1/DDS/Analytics Project/Concorde/concorde_to_replace/tsp.py' '/usr/local/lib/python3.10/dist-packages/concorde'\n",
        "%cp '/content/drive/Shareddrives/Private Unlimited Drive #1/DDS/Analytics Project/Concorde/concorde_to_replace/util.py' '/usr/local/lib/python3.10/dist-packages/concorde'"
      ],
      "metadata": {
        "id": "efhCiZsnlUKA"
      },
      "execution_count": null,
      "outputs": []
    },
    {
      "cell_type": "code",
      "source": [
        "from concorde_class import Concorde"
      ],
      "metadata": {
        "id": "9lvKVwtJmHUV"
      },
      "execution_count": null,
      "outputs": []
    },
    {
      "cell_type": "code",
      "source": [
        "# exact solution with concord\n",
        "\n",
        "def concord_solver(distance_matrix, mapping):\n",
        "  concorde = Concorde()\n",
        "  concorde_sol = concorde.run_ProbATSP(distance_matrix)\n",
        "  tour_mapped = [mapping[a] for a in concorde.route]\n",
        "\n",
        "  return tour_mapped, concorde.optimal_value"
      ],
      "metadata": {
        "id": "e6rxH5mQmXrb"
      },
      "execution_count": null,
      "outputs": []
    },
    {
      "cell_type": "code",
      "source": [
        "%%time\n",
        "\n",
        "# complete tour improved by solver\n",
        "\n",
        "complete_tour_solver = {}\n",
        "\n",
        "complete_tour_solver['tour'], complete_tour_solver['cost'] = concord_solver(distance_matrix = all_original['Warmsen']['31606-14']['dm'],\n",
        "                                                                            mapping = all_original['Warmsen']['31606-14']['map'])"
      ],
      "metadata": {
        "colab": {
          "base_uri": "https://localhost:8080/"
        },
        "id": "O9aLDHi9mI16",
        "outputId": "ab7968ce-7868-4e5c-ed3b-4d84f758ef3b"
      },
      "execution_count": null,
      "outputs": [
        {
          "output_type": "stream",
          "name": "stdout",
          "text": [
            "CPU times: user 5.37 s, sys: 186 ms, total: 5.56 s\n",
            "Wall time: 5.83 s\n"
          ]
        }
      ]
    },
    {
      "cell_type": "code",
      "source": [
        "# big M = -50000\n",
        "\n",
        "print(complete_tour_solver['tour'][0:5])\n",
        "print(complete_tour_solver['tour'][-5:])"
      ],
      "metadata": {
        "colab": {
          "base_uri": "https://localhost:8080/"
        },
        "id": "67bXm97Gmi4p",
        "outputId": "cbdd9730-ff3d-44a0-e5e4-9fa0f18ae3a8"
      },
      "execution_count": null,
      "outputs": [
        {
          "output_type": "stream",
          "name": "stdout",
          "text": [
            "[0, 93, 92, 293, 4409]\n",
            "[96, 98, 100, 99, 97]\n"
          ]
        }
      ]
    },
    {
      "cell_type": "code",
      "source": [
        "# big M = 0\n",
        "print(complete_tour_solver['tour'][0:5])\n",
        "print(complete_tour_solver['tour'][-5:])"
      ],
      "metadata": {
        "colab": {
          "base_uri": "https://localhost:8080/"
        },
        "id": "fXVGLkwjqmGa",
        "outputId": "d1253d65-4707-4d6b-a38e-17aad143577a"
      },
      "execution_count": null,
      "outputs": [
        {
          "output_type": "stream",
          "name": "stdout",
          "text": [
            "[0, 96, 99, 100, 98]\n",
            "[130, 4409, 293, 92, 93]\n"
          ]
        }
      ]
    },
    {
      "cell_type": "code",
      "source": [
        "93 in all_original['Warmsen']['31606-14']['map'].values()"
      ],
      "metadata": {
        "colab": {
          "base_uri": "https://localhost:8080/"
        },
        "id": "mj-9Zm3Qo2NZ",
        "outputId": "ba71238a-e965-4921-e19e-fc777d3dabd1"
      },
      "execution_count": null,
      "outputs": [
        {
          "output_type": "execute_result",
          "data": {
            "text/plain": [
              "True"
            ]
          },
          "metadata": {},
          "execution_count": 152
        }
      ]
    },
    {
      "cell_type": "code",
      "source": [
        "complete_tour_solver['cost']"
      ],
      "metadata": {
        "colab": {
          "base_uri": "https://localhost:8080/"
        },
        "id": "BUC-Zi0onluo",
        "outputId": "323fcf2e-d95e-4421-b892-97001fd5a81d"
      },
      "execution_count": null,
      "outputs": [
        {
          "output_type": "execute_result",
          "data": {
            "text/plain": [
              "-24832.0"
            ]
          },
          "metadata": {},
          "execution_count": 136
        }
      ]
    },
    {
      "cell_type": "code",
      "source": [
        "complete_tour_solver['cost']"
      ],
      "metadata": {
        "colab": {
          "base_uri": "https://localhost:8080/"
        },
        "id": "Df5JF67BrRvw",
        "outputId": "ff7618b6-e22e-4bab-92b4-552c5e238552"
      },
      "execution_count": null,
      "outputs": [
        {
          "output_type": "execute_result",
          "data": {
            "text/plain": [
              "75168.0"
            ]
          },
          "metadata": {},
          "execution_count": 164
        }
      ]
    },
    {
      "cell_type": "code",
      "source": [
        "d_swap = {v: k for k, v in all_original['Warmsen']['31606-14']['map'].items()}"
      ],
      "metadata": {
        "id": "X-DEBKBim843"
      },
      "execution_count": null,
      "outputs": []
    },
    {
      "cell_type": "code",
      "source": [
        "start_point = d_swap[0]\n",
        "end_point = d_swap[4409]"
      ],
      "metadata": {
        "id": "84TaI7WWnA70"
      },
      "execution_count": null,
      "outputs": []
    },
    {
      "cell_type": "code",
      "source": [
        "all_original['Warmsen']['31606-14']['dm'][start_point][end_point]"
      ],
      "metadata": {
        "colab": {
          "base_uri": "https://localhost:8080/"
        },
        "id": "_hPNj6qUnLC9",
        "outputId": "e0ffa6a5-85e3-4868-96f2-5df8399a2957"
      },
      "execution_count": null,
      "outputs": [
        {
          "output_type": "execute_result",
          "data": {
            "text/plain": [
              "-50000.0"
            ]
          },
          "metadata": {},
          "execution_count": 141
        }
      ]
    },
    {
      "cell_type": "code",
      "source": [
        "all_original['Warmsen']['31606-14']['dm'][end_point][start_point]"
      ],
      "metadata": {
        "colab": {
          "base_uri": "https://localhost:8080/"
        },
        "id": "CJfkc_nCnd2x",
        "outputId": "6667fb48-eb1c-42db-c311-079358b6a9f8"
      },
      "execution_count": null,
      "outputs": [
        {
          "output_type": "execute_result",
          "data": {
            "text/plain": [
              "-50000.0"
            ]
          },
          "metadata": {},
          "execution_count": 142
        }
      ]
    },
    {
      "cell_type": "code",
      "source": [
        "%%time\n",
        "\n",
        "dm_df = pd.DataFrame(all_original['Warmsen']['31606-14']['dm'])\n",
        "dm_df.rename(index = lambda x : all_original['Warmsen']['31606-14']['map'][x], inplace = True)\n",
        "dm_df.rename(columns = lambda x : all_original['Warmsen']['31606-14']['map'][x], inplace = True)\n",
        "\n",
        "sum_arcs = 0\n",
        "\n",
        "for s in range(len(complete_tour_solver['tour'])-1):\n",
        "  node_1 = complete_tour_solver['tour'][s]\n",
        "  # print('1')\n",
        "  node_2 = complete_tour_solver['tour'][s+1] \n",
        "  # print('2')\n",
        "  sum_arcs = sum_arcs + dm_df.loc[node_1][node_2]\n",
        "  # print('3')\n",
        "  print('idx :', s, s+1, '; nodes:', node_1, node_2, '; arc cost:', dm_df.loc[node_1][node_2], '; cumulative cost :', sum_arcs)\n",
        "  # print('4')\n"
      ],
      "metadata": {
        "colab": {
          "base_uri": "https://localhost:8080/"
        },
        "id": "zvvXRCvDnvhX",
        "outputId": "8daa9817-16c4-41e1-b9ce-87d7a8094405"
      },
      "execution_count": null,
      "outputs": [
        {
          "output_type": "stream",
          "name": "stdout",
          "text": [
            "idx : 0 1 ; nodes: 0 96 ; arc cost: 5556.850000000015 ; cumulative cost : 5556.850000000015\n",
            "idx : 1 2 ; nodes: 96 99 ; arc cost: 66.85000000000001 ; cumulative cost : 5623.700000000015\n",
            "idx : 2 3 ; nodes: 99 100 ; arc cost: 5.45 ; cumulative cost : 5629.150000000015\n",
            "idx : 3 4 ; nodes: 100 98 ; arc cost: 24.51 ; cumulative cost : 5653.660000000015\n",
            "idx : 4 5 ; nodes: 98 97 ; arc cost: 18.62 ; cumulative cost : 5672.280000000015\n",
            "idx : 5 6 ; nodes: 97 309 ; arc cost: 52.62 ; cumulative cost : 5724.900000000015\n",
            "idx : 6 7 ; nodes: 309 308 ; arc cost: 8.96 ; cumulative cost : 5733.860000000015\n",
            "idx : 7 8 ; nodes: 308 307 ; arc cost: 3.9 ; cumulative cost : 5737.760000000015\n",
            "idx : 8 9 ; nodes: 307 306 ; arc cost: 6.61 ; cumulative cost : 5744.370000000014\n",
            "idx : 9 10 ; nodes: 306 305 ; arc cost: 10.61 ; cumulative cost : 5754.980000000014\n",
            "idx : 10 11 ; nodes: 305 304 ; arc cost: 6.2 ; cumulative cost : 5761.180000000014\n",
            "idx : 11 12 ; nodes: 304 303 ; arc cost: 14.99 ; cumulative cost : 5776.170000000014\n",
            "idx : 12 13 ; nodes: 303 302 ; arc cost: 12.84 ; cumulative cost : 5789.010000000014\n",
            "idx : 13 14 ; nodes: 302 301 ; arc cost: 13.41 ; cumulative cost : 5802.420000000014\n",
            "idx : 14 15 ; nodes: 301 300 ; arc cost: 29.44 ; cumulative cost : 5831.860000000013\n",
            "idx : 15 16 ; nodes: 300 299 ; arc cost: 12.42 ; cumulative cost : 5844.280000000013\n",
            "idx : 16 17 ; nodes: 299 298 ; arc cost: 9.99 ; cumulative cost : 5854.270000000013\n",
            "idx : 17 18 ; nodes: 298 297 ; arc cost: 14.95 ; cumulative cost : 5869.220000000013\n",
            "idx : 18 19 ; nodes: 297 76 ; arc cost: 4566.78 ; cumulative cost : 10436.000000000013\n",
            "idx : 19 20 ; nodes: 76 75 ; arc cost: 3.0 ; cumulative cost : 10439.000000000013\n",
            "idx : 20 21 ; nodes: 75 74 ; arc cost: 10.96 ; cumulative cost : 10449.960000000012\n",
            "idx : 21 22 ; nodes: 74 73 ; arc cost: 15.54 ; cumulative cost : 10465.500000000013\n",
            "idx : 22 23 ; nodes: 73 72 ; arc cost: 13.24 ; cumulative cost : 10478.740000000013\n",
            "idx : 23 24 ; nodes: 72 71 ; arc cost: 5.4 ; cumulative cost : 10484.140000000012\n",
            "idx : 24 25 ; nodes: 71 70 ; arc cost: 9.24 ; cumulative cost : 10493.380000000012\n",
            "idx : 25 26 ; nodes: 70 69 ; arc cost: 7.33 ; cumulative cost : 10500.710000000012\n",
            "idx : 26 27 ; nodes: 69 269 ; arc cost: 5794.719999999997 ; cumulative cost : 16295.430000000008\n",
            "idx : 27 28 ; nodes: 269 268 ; arc cost: 10.31 ; cumulative cost : 16305.740000000007\n",
            "idx : 28 29 ; nodes: 268 267 ; arc cost: 18.08 ; cumulative cost : 16323.820000000007\n",
            "idx : 29 30 ; nodes: 267 266 ; arc cost: 34.98 ; cumulative cost : 16358.800000000007\n",
            "idx : 30 31 ; nodes: 266 265 ; arc cost: 31.96 ; cumulative cost : 16390.760000000006\n",
            "idx : 31 32 ; nodes: 265 264 ; arc cost: 21.35 ; cumulative cost : 16412.110000000004\n",
            "idx : 32 33 ; nodes: 264 263 ; arc cost: 20.87 ; cumulative cost : 16432.980000000003\n",
            "idx : 33 34 ; nodes: 263 262 ; arc cost: 20.53 ; cumulative cost : 16453.510000000002\n",
            "idx : 34 35 ; nodes: 262 261 ; arc cost: 24.43 ; cumulative cost : 16477.940000000002\n",
            "idx : 35 36 ; nodes: 261 260 ; arc cost: 13.14 ; cumulative cost : 16491.08\n",
            "idx : 36 37 ; nodes: 260 127 ; arc cost: 979.09 ; cumulative cost : 17470.170000000002\n",
            "idx : 37 38 ; nodes: 127 126 ; arc cost: 3.51 ; cumulative cost : 17473.68\n",
            "idx : 38 39 ; nodes: 126 125 ; arc cost: 7.93 ; cumulative cost : 17481.61\n",
            "idx : 39 40 ; nodes: 125 124 ; arc cost: 8.16 ; cumulative cost : 17489.77\n",
            "idx : 40 41 ; nodes: 124 123 ; arc cost: 13.74 ; cumulative cost : 17503.510000000002\n",
            "idx : 41 42 ; nodes: 123 122 ; arc cost: 11.42 ; cumulative cost : 17514.93\n",
            "idx : 42 43 ; nodes: 122 85 ; arc cost: 1705.8199999999997 ; cumulative cost : 19220.75\n",
            "idx : 43 44 ; nodes: 85 84 ; arc cost: 49.78 ; cumulative cost : 19270.53\n",
            "idx : 44 45 ; nodes: 84 104 ; arc cost: 3407.7600000000007 ; cumulative cost : 22678.29\n",
            "idx : 45 46 ; nodes: 104 282 ; arc cost: 28.840000000000003 ; cumulative cost : 22707.13\n",
            "idx : 46 47 ; nodes: 282 105 ; arc cost: 10.13 ; cumulative cost : 22717.260000000002\n",
            "idx : 47 48 ; nodes: 105 120 ; arc cost: 482.8200000000001 ; cumulative cost : 23200.08\n",
            "idx : 48 49 ; nodes: 120 121 ; arc cost: 13.2 ; cumulative cost : 23213.280000000002\n",
            "idx : 49 50 ; nodes: 121 140 ; arc cost: 112.95 ; cumulative cost : 23326.230000000003\n",
            "idx : 50 51 ; nodes: 140 141 ; arc cost: 10.29 ; cumulative cost : 23336.520000000004\n",
            "idx : 51 52 ; nodes: 141 16 ; arc cost: 599.4399999999999 ; cumulative cost : 23935.960000000003\n",
            "idx : 52 53 ; nodes: 16 17 ; arc cost: 29.78 ; cumulative cost : 23965.74\n",
            "idx : 53 54 ; nodes: 17 18 ; arc cost: 26.78 ; cumulative cost : 23992.52\n",
            "idx : 54 55 ; nodes: 18 292 ; arc cost: 575.96 ; cumulative cost : 24568.48\n",
            "idx : 55 56 ; nodes: 292 291 ; arc cost: 12.61 ; cumulative cost : 24581.09\n",
            "idx : 56 57 ; nodes: 291 143 ; arc cost: 1049.76 ; cumulative cost : 25630.85\n",
            "idx : 57 58 ; nodes: 143 144 ; arc cost: 3.36 ; cumulative cost : 25634.21\n",
            "idx : 58 59 ; nodes: 144 142 ; arc cost: 21.38 ; cumulative cost : 25655.59\n",
            "idx : 59 60 ; nodes: 142 115 ; arc cost: 2940.870000000001 ; cumulative cost : 28596.46\n",
            "idx : 60 61 ; nodes: 115 114 ; arc cost: 13.28 ; cumulative cost : 28609.739999999998\n",
            "idx : 61 62 ; nodes: 114 113 ; arc cost: 9.86 ; cumulative cost : 28619.6\n",
            "idx : 62 63 ; nodes: 113 284 ; arc cost: 1579.4799999999998 ; cumulative cost : 30199.079999999998\n",
            "idx : 63 64 ; nodes: 284 285 ; arc cost: 27.72 ; cumulative cost : 30226.8\n",
            "idx : 64 65 ; nodes: 285 63 ; arc cost: 1243.2299999999998 ; cumulative cost : 31470.03\n",
            "idx : 65 66 ; nodes: 63 61 ; arc cost: 12.28 ; cumulative cost : 31482.309999999998\n",
            "idx : 66 67 ; nodes: 61 60 ; arc cost: 6.09 ; cumulative cost : 31488.399999999998\n",
            "idx : 67 68 ; nodes: 60 62 ; arc cost: 11.25 ; cumulative cost : 31499.649999999998\n",
            "idx : 68 69 ; nodes: 62 64 ; arc cost: 40.31 ; cumulative cost : 31539.96\n",
            "idx : 69 70 ; nodes: 64 95 ; arc cost: 6103.660000000021 ; cumulative cost : 37643.62000000002\n",
            "idx : 70 71 ; nodes: 95 94 ; arc cost: 10.76 ; cumulative cost : 37654.38000000002\n",
            "idx : 71 72 ; nodes: 94 68 ; arc cost: 2808.9299999999994 ; cumulative cost : 40463.31000000002\n",
            "idx : 72 73 ; nodes: 68 67 ; arc cost: 117.69 ; cumulative cost : 40581.00000000002\n",
            "idx : 73 74 ; nodes: 67 66 ; arc cost: 166.78 ; cumulative cost : 40747.78000000002\n",
            "idx : 74 75 ; nodes: 66 65 ; arc cost: 203.0 ; cumulative cost : 40950.78000000002\n",
            "idx : 75 76 ; nodes: 65 145 ; arc cost: 571.82 ; cumulative cost : 41522.60000000002\n",
            "idx : 76 77 ; nodes: 145 147 ; arc cost: 17.34 ; cumulative cost : 41539.94000000002\n",
            "idx : 77 78 ; nodes: 147 146 ; arc cost: 18.39 ; cumulative cost : 41558.330000000016\n",
            "idx : 78 79 ; nodes: 146 249 ; arc cost: 3112.89 ; cumulative cost : 44671.220000000016\n",
            "idx : 79 80 ; nodes: 249 250 ; arc cost: 7.71 ; cumulative cost : 44678.930000000015\n",
            "idx : 80 81 ; nodes: 250 251 ; arc cost: 7.17 ; cumulative cost : 44686.10000000001\n",
            "idx : 81 82 ; nodes: 251 252 ; arc cost: 2.57 ; cumulative cost : 44688.67000000001\n",
            "idx : 82 83 ; nodes: 252 21 ; arc cost: 12.91 ; cumulative cost : 44701.580000000016\n",
            "idx : 83 84 ; nodes: 21 22 ; arc cost: 47.18 ; cumulative cost : 44748.76000000002\n",
            "idx : 84 85 ; nodes: 22 23 ; arc cost: 3.55 ; cumulative cost : 44752.31000000002\n",
            "idx : 85 86 ; nodes: 23 24 ; arc cost: 3.46 ; cumulative cost : 44755.77000000002\n",
            "idx : 86 87 ; nodes: 24 25 ; arc cost: 11.96 ; cumulative cost : 44767.73000000002\n",
            "idx : 87 88 ; nodes: 25 26 ; arc cost: 4.82 ; cumulative cost : 44772.55000000002\n",
            "idx : 88 89 ; nodes: 26 27 ; arc cost: 5.12 ; cumulative cost : 44777.67000000002\n",
            "idx : 89 90 ; nodes: 27 28 ; arc cost: 4.83 ; cumulative cost : 44782.50000000002\n",
            "idx : 90 91 ; nodes: 28 29 ; arc cost: 5.8 ; cumulative cost : 44788.300000000025\n",
            "idx : 91 92 ; nodes: 29 30 ; arc cost: 10.78 ; cumulative cost : 44799.08000000002\n",
            "idx : 92 93 ; nodes: 30 31 ; arc cost: 7.48 ; cumulative cost : 44806.56000000003\n",
            "idx : 93 94 ; nodes: 31 32 ; arc cost: 4.35 ; cumulative cost : 44810.910000000025\n",
            "idx : 94 95 ; nodes: 32 33 ; arc cost: 5.45 ; cumulative cost : 44816.36000000002\n",
            "idx : 95 96 ; nodes: 33 34 ; arc cost: 26.72 ; cumulative cost : 44843.08000000002\n",
            "idx : 96 97 ; nodes: 34 270 ; arc cost: 11.2 ; cumulative cost : 44854.28000000002\n",
            "idx : 97 98 ; nodes: 270 271 ; arc cost: 4.5 ; cumulative cost : 44858.78000000002\n",
            "idx : 98 99 ; nodes: 271 254 ; arc cost: 25.75 ; cumulative cost : 44884.53000000002\n",
            "idx : 99 100 ; nodes: 254 255 ; arc cost: 9.34 ; cumulative cost : 44893.87000000002\n",
            "idx : 100 101 ; nodes: 255 256 ; arc cost: 7.25 ; cumulative cost : 44901.12000000002\n",
            "idx : 101 102 ; nodes: 256 257 ; arc cost: 4.1 ; cumulative cost : 44905.220000000016\n",
            "idx : 102 103 ; nodes: 257 258 ; arc cost: 4.28 ; cumulative cost : 44909.500000000015\n",
            "idx : 103 104 ; nodes: 258 259 ; arc cost: 10.67 ; cumulative cost : 44920.17000000001\n",
            "idx : 104 105 ; nodes: 259 274 ; arc cost: 5.96 ; cumulative cost : 44926.13000000001\n",
            "idx : 105 106 ; nodes: 274 275 ; arc cost: 6.25 ; cumulative cost : 44932.38000000001\n",
            "idx : 106 107 ; nodes: 275 276 ; arc cost: 3.59 ; cumulative cost : 44935.97000000001\n",
            "idx : 107 108 ; nodes: 276 277 ; arc cost: 4.54 ; cumulative cost : 44940.51000000001\n",
            "idx : 108 109 ; nodes: 277 278 ; arc cost: 22.32 ; cumulative cost : 44962.83000000001\n",
            "idx : 109 110 ; nodes: 278 279 ; arc cost: 1.91 ; cumulative cost : 44964.74000000001\n",
            "idx : 110 111 ; nodes: 279 280 ; arc cost: 2.25 ; cumulative cost : 44966.99000000001\n",
            "idx : 111 112 ; nodes: 280 281 ; arc cost: 3.65 ; cumulative cost : 44970.640000000014\n",
            "idx : 112 113 ; nodes: 281 273 ; arc cost: 6.48 ; cumulative cost : 44977.12000000002\n",
            "idx : 113 114 ; nodes: 273 272 ; arc cost: 9.12 ; cumulative cost : 44986.24000000002\n",
            "idx : 114 115 ; nodes: 272 77 ; arc cost: 1667.6900000000005 ; cumulative cost : 46653.93000000002\n",
            "idx : 115 116 ; nodes: 77 78 ; arc cost: 28.3 ; cumulative cost : 46682.230000000025\n",
            "idx : 116 117 ; nodes: 78 79 ; arc cost: 92.43 ; cumulative cost : 46774.660000000025\n",
            "idx : 117 118 ; nodes: 79 80 ; arc cost: 36.91 ; cumulative cost : 46811.57000000003\n",
            "idx : 118 119 ; nodes: 80 86 ; arc cost: 13.37 ; cumulative cost : 46824.94000000003\n",
            "idx : 119 120 ; nodes: 86 87 ; arc cost: 23.89 ; cumulative cost : 46848.83000000003\n",
            "idx : 120 121 ; nodes: 87 88 ; arc cost: 449.87 ; cumulative cost : 47298.70000000003\n",
            "idx : 121 122 ; nodes: 88 90 ; arc cost: 18.08 ; cumulative cost : 47316.780000000035\n",
            "idx : 122 123 ; nodes: 90 91 ; arc cost: 288.77 ; cumulative cost : 47605.55000000003\n",
            "idx : 123 124 ; nodes: 91 36 ; arc cost: 2274.38 ; cumulative cost : 49879.93000000003\n",
            "idx : 124 125 ; nodes: 36 37 ; arc cost: 41.11 ; cumulative cost : 49921.04000000003\n",
            "idx : 125 126 ; nodes: 37 38 ; arc cost: 124.52 ; cumulative cost : 50045.56000000003\n",
            "idx : 126 127 ; nodes: 38 40 ; arc cost: 117.54 ; cumulative cost : 50163.10000000003\n",
            "idx : 127 128 ; nodes: 40 41 ; arc cost: 58.64 ; cumulative cost : 50221.74000000003\n",
            "idx : 128 129 ; nodes: 41 42 ; arc cost: 62.68 ; cumulative cost : 50284.42000000003\n",
            "idx : 129 130 ; nodes: 42 45 ; arc cost: 243.97 ; cumulative cost : 50528.39000000003\n",
            "idx : 130 131 ; nodes: 45 48 ; arc cost: 147.38 ; cumulative cost : 50675.770000000026\n",
            "idx : 131 132 ; nodes: 48 49 ; arc cost: 14.94 ; cumulative cost : 50690.71000000003\n",
            "idx : 132 133 ; nodes: 49 50 ; arc cost: 12.13 ; cumulative cost : 50702.840000000026\n",
            "idx : 133 134 ; nodes: 50 51 ; arc cost: 25.61 ; cumulative cost : 50728.450000000026\n",
            "idx : 134 135 ; nodes: 51 53 ; arc cost: 242.73 ; cumulative cost : 50971.18000000003\n",
            "idx : 135 136 ; nodes: 53 55 ; arc cost: 69.99000000000001 ; cumulative cost : 51041.17000000003\n",
            "idx : 136 137 ; nodes: 55 56 ; arc cost: 48.81 ; cumulative cost : 51089.980000000025\n",
            "idx : 137 138 ; nodes: 56 57 ; arc cost: 35.15 ; cumulative cost : 51125.13000000003\n",
            "idx : 138 139 ; nodes: 57 59 ; arc cost: 129.78 ; cumulative cost : 51254.910000000025\n",
            "idx : 139 140 ; nodes: 59 58 ; arc cost: 101.55 ; cumulative cost : 51356.46000000003\n",
            "idx : 140 141 ; nodes: 58 54 ; arc cost: 150.5 ; cumulative cost : 51506.96000000003\n",
            "idx : 141 142 ; nodes: 54 52 ; arc cost: 240.88 ; cumulative cost : 51747.840000000026\n",
            "idx : 142 143 ; nodes: 52 47 ; arc cost: 145.57999999999998 ; cumulative cost : 51893.42000000003\n",
            "idx : 143 144 ; nodes: 47 46 ; arc cost: 25.73 ; cumulative cost : 51919.15000000003\n",
            "idx : 144 145 ; nodes: 46 44 ; arc cost: 183.44 ; cumulative cost : 52102.59000000003\n",
            "idx : 145 146 ; nodes: 44 43 ; arc cost: 59.9 ; cumulative cost : 52162.490000000034\n",
            "idx : 146 147 ; nodes: 43 39 ; arc cost: 239.6 ; cumulative cost : 52402.09000000003\n",
            "idx : 147 148 ; nodes: 39 35 ; arc cost: 235.97 ; cumulative cost : 52638.060000000034\n",
            "idx : 148 149 ; nodes: 35 106 ; arc cost: 2960.400000000001 ; cumulative cost : 55598.460000000036\n",
            "idx : 149 150 ; nodes: 106 107 ; arc cost: 5.89 ; cumulative cost : 55604.350000000035\n",
            "idx : 150 151 ; nodes: 107 116 ; arc cost: 21.99 ; cumulative cost : 55626.34000000003\n",
            "idx : 151 152 ; nodes: 116 117 ; arc cost: 4.82 ; cumulative cost : 55631.16000000003\n",
            "idx : 152 153 ; nodes: 117 118 ; arc cost: 3.94 ; cumulative cost : 55635.100000000035\n",
            "idx : 153 154 ; nodes: 118 119 ; arc cost: 5.07 ; cumulative cost : 55640.170000000035\n",
            "idx : 154 155 ; nodes: 119 101 ; arc cost: 10.67 ; cumulative cost : 55650.84000000003\n",
            "idx : 155 156 ; nodes: 101 159 ; arc cost: 1405.989999999999 ; cumulative cost : 57056.83000000003\n",
            "idx : 156 157 ; nodes: 159 160 ; arc cost: 19.34 ; cumulative cost : 57076.17000000003\n",
            "idx : 157 158 ; nodes: 160 161 ; arc cost: 25.19 ; cumulative cost : 57101.36000000003\n",
            "idx : 158 159 ; nodes: 161 162 ; arc cost: 31.68 ; cumulative cost : 57133.04000000003\n",
            "idx : 159 160 ; nodes: 162 163 ; arc cost: 3.13 ; cumulative cost : 57136.17000000003\n",
            "idx : 160 161 ; nodes: 163 296 ; arc cost: 4767.709999999998 ; cumulative cost : 61903.88000000003\n",
            "idx : 161 162 ; nodes: 296 209 ; arc cost: 321.35 ; cumulative cost : 62225.230000000025\n",
            "idx : 162 163 ; nodes: 209 208 ; arc cost: 390.23 ; cumulative cost : 62615.46000000003\n",
            "idx : 163 164 ; nodes: 208 207 ; arc cost: 17.53 ; cumulative cost : 62632.99000000003\n",
            "idx : 164 165 ; nodes: 207 206 ; arc cost: 40.42 ; cumulative cost : 62673.410000000025\n",
            "idx : 165 166 ; nodes: 206 205 ; arc cost: 29.53 ; cumulative cost : 62702.940000000024\n",
            "idx : 166 167 ; nodes: 205 204 ; arc cost: 25.93 ; cumulative cost : 62728.870000000024\n",
            "idx : 167 168 ; nodes: 204 203 ; arc cost: 23.85 ; cumulative cost : 62752.72000000002\n",
            "idx : 168 169 ; nodes: 203 202 ; arc cost: 26.87 ; cumulative cost : 62779.590000000026\n",
            "idx : 169 170 ; nodes: 202 201 ; arc cost: 23.76 ; cumulative cost : 62803.35000000003\n",
            "idx : 170 171 ; nodes: 201 200 ; arc cost: 21.08 ; cumulative cost : 62824.43000000003\n",
            "idx : 171 172 ; nodes: 200 199 ; arc cost: 18.78 ; cumulative cost : 62843.21000000003\n",
            "idx : 172 173 ; nodes: 199 198 ; arc cost: 19.1 ; cumulative cost : 62862.31000000003\n",
            "idx : 173 174 ; nodes: 198 197 ; arc cost: 18.64 ; cumulative cost : 62880.950000000026\n",
            "idx : 174 175 ; nodes: 197 196 ; arc cost: 526.66 ; cumulative cost : 63407.61000000003\n",
            "idx : 175 176 ; nodes: 196 195 ; arc cost: 283.01 ; cumulative cost : 63690.62000000003\n",
            "idx : 176 177 ; nodes: 195 295 ; arc cost: 337.7 ; cumulative cost : 64028.32000000003\n",
            "idx : 177 178 ; nodes: 295 289 ; arc cost: 199.07 ; cumulative cost : 64227.39000000003\n",
            "idx : 178 179 ; nodes: 289 288 ; arc cost: 118.0 ; cumulative cost : 64345.39000000003\n",
            "idx : 179 180 ; nodes: 288 287 ; arc cost: 327.85 ; cumulative cost : 64673.24000000003\n",
            "idx : 180 181 ; nodes: 287 286 ; arc cost: 646.94 ; cumulative cost : 65320.18000000003\n",
            "idx : 181 182 ; nodes: 286 294 ; arc cost: 71.21 ; cumulative cost : 65391.39000000003\n",
            "idx : 182 183 ; nodes: 294 323 ; arc cost: 3711.5700000000033 ; cumulative cost : 69102.96000000004\n",
            "idx : 183 184 ; nodes: 323 322 ; arc cost: 3.41 ; cumulative cost : 69106.37000000004\n",
            "idx : 184 185 ; nodes: 322 324 ; arc cost: 6.630000000000001 ; cumulative cost : 69113.00000000004\n",
            "idx : 185 186 ; nodes: 324 103 ; arc cost: 1215.2399999999986 ; cumulative cost : 70328.24000000005\n",
            "idx : 186 187 ; nodes: 103 102 ; arc cost: 3.97 ; cumulative cost : 70332.21000000005\n",
            "idx : 187 188 ; nodes: 102 20 ; arc cost: 192.76 ; cumulative cost : 70524.97000000004\n",
            "idx : 188 189 ; nodes: 20 19 ; arc cost: 42.08 ; cumulative cost : 70567.05000000005\n",
            "idx : 189 190 ; nodes: 19 139 ; arc cost: 102.12999999999998 ; cumulative cost : 70669.18000000005\n",
            "idx : 190 191 ; nodes: 139 138 ; arc cost: 8.24 ; cumulative cost : 70677.42000000006\n",
            "idx : 191 192 ; nodes: 138 137 ; arc cost: 20.45 ; cumulative cost : 70697.87000000005\n",
            "idx : 192 193 ; nodes: 137 136 ; arc cost: 19.53 ; cumulative cost : 70717.40000000005\n",
            "idx : 193 194 ; nodes: 136 135 ; arc cost: 16.45 ; cumulative cost : 70733.85000000005\n",
            "idx : 194 195 ; nodes: 135 134 ; arc cost: 42.3 ; cumulative cost : 70776.15000000005\n",
            "idx : 195 196 ; nodes: 134 133 ; arc cost: 4.38 ; cumulative cost : 70780.53000000006\n",
            "idx : 196 197 ; nodes: 133 164 ; arc cost: 43.16 ; cumulative cost : 70823.69000000006\n",
            "idx : 197 198 ; nodes: 164 165 ; arc cost: 34.51 ; cumulative cost : 70858.20000000006\n",
            "idx : 198 199 ; nodes: 165 166 ; arc cost: 9.17 ; cumulative cost : 70867.37000000005\n",
            "idx : 199 200 ; nodes: 166 167 ; arc cost: 4.17 ; cumulative cost : 70871.54000000005\n",
            "idx : 200 201 ; nodes: 167 168 ; arc cost: 11.52 ; cumulative cost : 70883.06000000006\n",
            "idx : 201 202 ; nodes: 168 169 ; arc cost: 20.92 ; cumulative cost : 70903.98000000005\n",
            "idx : 202 203 ; nodes: 169 170 ; arc cost: 11.92 ; cumulative cost : 70915.90000000005\n",
            "idx : 203 204 ; nodes: 170 171 ; arc cost: 29.74 ; cumulative cost : 70945.64000000006\n",
            "idx : 204 205 ; nodes: 171 172 ; arc cost: 12.23 ; cumulative cost : 70957.87000000005\n",
            "idx : 205 206 ; nodes: 172 173 ; arc cost: 12.26 ; cumulative cost : 70970.13000000005\n",
            "idx : 206 207 ; nodes: 173 174 ; arc cost: 13.41 ; cumulative cost : 70983.54000000005\n",
            "idx : 207 208 ; nodes: 174 175 ; arc cost: 13.86 ; cumulative cost : 70997.40000000005\n",
            "idx : 208 209 ; nodes: 175 176 ; arc cost: 20.25 ; cumulative cost : 71017.65000000005\n",
            "idx : 209 210 ; nodes: 176 177 ; arc cost: 19.58 ; cumulative cost : 71037.23000000005\n",
            "idx : 210 211 ; nodes: 177 178 ; arc cost: 8.51 ; cumulative cost : 71045.74000000005\n",
            "idx : 211 212 ; nodes: 178 179 ; arc cost: 23.89 ; cumulative cost : 71069.63000000005\n",
            "idx : 212 213 ; nodes: 179 180 ; arc cost: 32.33 ; cumulative cost : 71101.96000000005\n",
            "idx : 213 214 ; nodes: 180 181 ; arc cost: 30.6 ; cumulative cost : 71132.56000000006\n",
            "idx : 214 215 ; nodes: 181 182 ; arc cost: 3.16 ; cumulative cost : 71135.72000000006\n",
            "idx : 215 216 ; nodes: 182 183 ; arc cost: 10.55 ; cumulative cost : 71146.27000000006\n",
            "idx : 216 217 ; nodes: 183 184 ; arc cost: 48.27 ; cumulative cost : 71194.54000000007\n",
            "idx : 217 218 ; nodes: 184 185 ; arc cost: 27.52 ; cumulative cost : 71222.06000000007\n",
            "idx : 218 219 ; nodes: 185 186 ; arc cost: 181.5 ; cumulative cost : 71403.56000000007\n",
            "idx : 219 220 ; nodes: 186 187 ; arc cost: 43.9 ; cumulative cost : 71447.46000000006\n",
            "idx : 220 221 ; nodes: 187 188 ; arc cost: 17.07 ; cumulative cost : 71464.53000000007\n",
            "idx : 221 222 ; nodes: 188 189 ; arc cost: 174.84 ; cumulative cost : 71639.37000000007\n",
            "idx : 222 223 ; nodes: 189 190 ; arc cost: 165.96 ; cumulative cost : 71805.33000000007\n",
            "idx : 223 224 ; nodes: 190 191 ; arc cost: 125.06 ; cumulative cost : 71930.39000000007\n",
            "idx : 224 225 ; nodes: 191 192 ; arc cost: 6.08 ; cumulative cost : 71936.47000000007\n",
            "idx : 225 226 ; nodes: 192 193 ; arc cost: 10.09 ; cumulative cost : 71946.56000000007\n",
            "idx : 226 227 ; nodes: 193 194 ; arc cost: 302.82 ; cumulative cost : 72249.38000000008\n",
            "idx : 227 228 ; nodes: 194 217 ; arc cost: 17.64 ; cumulative cost : 72267.02000000008\n",
            "idx : 228 229 ; nodes: 217 218 ; arc cost: 9.53 ; cumulative cost : 72276.55000000008\n",
            "idx : 229 230 ; nodes: 218 219 ; arc cost: 167.52 ; cumulative cost : 72444.07000000008\n",
            "idx : 230 231 ; nodes: 219 220 ; arc cost: 44.11 ; cumulative cost : 72488.18000000008\n",
            "idx : 231 232 ; nodes: 220 221 ; arc cost: 201.29 ; cumulative cost : 72689.47000000007\n",
            "idx : 232 233 ; nodes: 221 222 ; arc cost: 23.37 ; cumulative cost : 72712.84000000007\n",
            "idx : 233 234 ; nodes: 222 223 ; arc cost: 32.91 ; cumulative cost : 72745.75000000007\n",
            "idx : 234 235 ; nodes: 223 224 ; arc cost: 12.45 ; cumulative cost : 72758.20000000007\n",
            "idx : 235 236 ; nodes: 224 225 ; arc cost: 5.27 ; cumulative cost : 72763.47000000007\n",
            "idx : 236 237 ; nodes: 225 226 ; arc cost: 18.38 ; cumulative cost : 72781.85000000008\n",
            "idx : 237 238 ; nodes: 226 227 ; arc cost: 1.63 ; cumulative cost : 72783.48000000008\n",
            "idx : 238 239 ; nodes: 227 228 ; arc cost: 20.49 ; cumulative cost : 72803.97000000009\n",
            "idx : 239 240 ; nodes: 228 229 ; arc cost: 15.48 ; cumulative cost : 72819.45000000008\n",
            "idx : 240 241 ; nodes: 229 230 ; arc cost: 12.44 ; cumulative cost : 72831.89000000009\n",
            "idx : 241 242 ; nodes: 230 231 ; arc cost: 20.09 ; cumulative cost : 72851.98000000008\n",
            "idx : 242 243 ; nodes: 231 232 ; arc cost: 20.14 ; cumulative cost : 72872.12000000008\n",
            "idx : 243 244 ; nodes: 232 233 ; arc cost: 7.48 ; cumulative cost : 72879.60000000008\n",
            "idx : 244 245 ; nodes: 233 234 ; arc cost: 12.31 ; cumulative cost : 72891.91000000008\n",
            "idx : 245 246 ; nodes: 234 235 ; arc cost: 50.46 ; cumulative cost : 72942.37000000008\n",
            "idx : 246 247 ; nodes: 235 236 ; arc cost: 62.97 ; cumulative cost : 73005.34000000008\n",
            "idx : 247 248 ; nodes: 236 237 ; arc cost: 100.73 ; cumulative cost : 73106.07000000008\n",
            "idx : 248 249 ; nodes: 237 238 ; arc cost: 9.71 ; cumulative cost : 73115.78000000009\n",
            "idx : 249 250 ; nodes: 238 239 ; arc cost: 40.59 ; cumulative cost : 73156.37000000008\n",
            "idx : 250 251 ; nodes: 239 240 ; arc cost: 13.93 ; cumulative cost : 73170.30000000008\n",
            "idx : 251 252 ; nodes: 240 241 ; arc cost: 49.23 ; cumulative cost : 73219.53000000007\n",
            "idx : 252 253 ; nodes: 241 242 ; arc cost: 72.94 ; cumulative cost : 73292.47000000007\n",
            "idx : 253 254 ; nodes: 242 243 ; arc cost: 8.71 ; cumulative cost : 73301.18000000008\n",
            "idx : 254 255 ; nodes: 243 244 ; arc cost: 82.62 ; cumulative cost : 73383.80000000008\n",
            "idx : 255 256 ; nodes: 244 245 ; arc cost: 60.1 ; cumulative cost : 73443.90000000008\n",
            "idx : 256 257 ; nodes: 245 246 ; arc cost: 21.8 ; cumulative cost : 73465.70000000008\n",
            "idx : 257 258 ; nodes: 246 247 ; arc cost: 6.95 ; cumulative cost : 73472.65000000008\n",
            "idx : 258 259 ; nodes: 247 248 ; arc cost: 10.57 ; cumulative cost : 73483.22000000009\n",
            "idx : 259 260 ; nodes: 248 253 ; arc cost: 24.26 ; cumulative cost : 73507.48000000008\n",
            "idx : 260 261 ; nodes: 253 310 ; arc cost: 23.85 ; cumulative cost : 73531.33000000009\n",
            "idx : 261 262 ; nodes: 310 311 ; arc cost: 38.74 ; cumulative cost : 73570.0700000001\n",
            "idx : 262 263 ; nodes: 311 312 ; arc cost: 43.95 ; cumulative cost : 73614.02000000009\n",
            "idx : 263 264 ; nodes: 312 313 ; arc cost: 344.18 ; cumulative cost : 73958.20000000008\n",
            "idx : 264 265 ; nodes: 313 314 ; arc cost: 18.23 ; cumulative cost : 73976.43000000008\n",
            "idx : 265 266 ; nodes: 314 315 ; arc cost: 400.36 ; cumulative cost : 74376.79000000008\n",
            "idx : 266 267 ; nodes: 315 316 ; arc cost: 39.76 ; cumulative cost : 74416.55000000008\n",
            "idx : 267 268 ; nodes: 316 317 ; arc cost: 21.56 ; cumulative cost : 74438.11000000007\n",
            "idx : 268 269 ; nodes: 317 318 ; arc cost: 21.97 ; cumulative cost : 74460.08000000007\n",
            "idx : 269 270 ; nodes: 318 319 ; arc cost: 18.89 ; cumulative cost : 74478.97000000007\n",
            "idx : 270 271 ; nodes: 319 320 ; arc cost: 25.46 ; cumulative cost : 74504.43000000008\n",
            "idx : 271 272 ; nodes: 320 321 ; arc cost: 35.2 ; cumulative cost : 74539.63000000008\n",
            "idx : 272 273 ; nodes: 321 210 ; arc cost: 63.81999999999999 ; cumulative cost : 74603.45000000008\n",
            "idx : 273 274 ; nodes: 210 211 ; arc cost: 109.41 ; cumulative cost : 74712.86000000009\n",
            "idx : 274 275 ; nodes: 211 212 ; arc cost: 100.1 ; cumulative cost : 74812.9600000001\n",
            "idx : 275 276 ; nodes: 212 213 ; arc cost: 98.64 ; cumulative cost : 74911.6000000001\n",
            "idx : 276 277 ; nodes: 213 214 ; arc cost: 165.76 ; cumulative cost : 75077.36000000009\n",
            "idx : 277 278 ; nodes: 214 215 ; arc cost: 237.76 ; cumulative cost : 75315.12000000008\n",
            "idx : 278 279 ; nodes: 215 216 ; arc cost: 44.43 ; cumulative cost : 75359.55000000008\n",
            "idx : 279 280 ; nodes: 216 129 ; arc cost: 548.7300000000002 ; cumulative cost : 75908.28000000007\n",
            "idx : 280 281 ; nodes: 129 83 ; arc cost: 18.41 ; cumulative cost : 75926.69000000008\n",
            "idx : 281 282 ; nodes: 83 108 ; arc cost: 42.46 ; cumulative cost : 75969.15000000008\n",
            "idx : 282 283 ; nodes: 108 109 ; arc cost: 35.36 ; cumulative cost : 76004.51000000008\n",
            "idx : 283 284 ; nodes: 109 110 ; arc cost: 8.08 ; cumulative cost : 76012.59000000008\n",
            "idx : 284 285 ; nodes: 110 81 ; arc cost: 5.98 ; cumulative cost : 76018.57000000008\n",
            "idx : 285 286 ; nodes: 81 82 ; arc cost: 48.09 ; cumulative cost : 76066.66000000008\n",
            "idx : 286 287 ; nodes: 82 89 ; arc cost: 13.17 ; cumulative cost : 76079.83000000007\n",
            "idx : 287 288 ; nodes: 89 128 ; arc cost: 15.98 ; cumulative cost : 76095.81000000007\n",
            "idx : 288 289 ; nodes: 128 112 ; arc cost: 44.940000000000005 ; cumulative cost : 76140.75000000007\n",
            "idx : 289 290 ; nodes: 112 290 ; arc cost: 14.95 ; cumulative cost : 76155.70000000007\n",
            "idx : 290 291 ; nodes: 290 111 ; arc cost: 11.24 ; cumulative cost : 76166.94000000008\n",
            "idx : 291 292 ; nodes: 111 283 ; arc cost: 56.93 ; cumulative cost : 76223.87000000007\n",
            "idx : 292 293 ; nodes: 283 148 ; arc cost: 135.88 ; cumulative cost : 76359.75000000007\n",
            "idx : 293 294 ; nodes: 148 149 ; arc cost: 3.84 ; cumulative cost : 76363.59000000007\n",
            "idx : 294 295 ; nodes: 149 150 ; arc cost: 8.7 ; cumulative cost : 76372.29000000007\n",
            "idx : 295 296 ; nodes: 150 151 ; arc cost: 6.75 ; cumulative cost : 76379.04000000007\n",
            "idx : 296 297 ; nodes: 151 152 ; arc cost: 5.73 ; cumulative cost : 76384.77000000006\n",
            "idx : 297 298 ; nodes: 152 153 ; arc cost: 4.68 ; cumulative cost : 76389.45000000006\n",
            "idx : 298 299 ; nodes: 153 154 ; arc cost: 7.62 ; cumulative cost : 76397.07000000005\n",
            "idx : 299 300 ; nodes: 154 155 ; arc cost: 12.68 ; cumulative cost : 76409.75000000004\n",
            "idx : 300 301 ; nodes: 155 156 ; arc cost: 6.55 ; cumulative cost : 76416.30000000005\n",
            "idx : 301 302 ; nodes: 156 157 ; arc cost: 4.57 ; cumulative cost : 76420.87000000005\n",
            "idx : 302 303 ; nodes: 157 158 ; arc cost: 4.31 ; cumulative cost : 76425.18000000005\n",
            "idx : 303 304 ; nodes: 158 132 ; arc cost: 115.61 ; cumulative cost : 76540.79000000005\n",
            "idx : 304 305 ; nodes: 132 131 ; arc cost: 6.67 ; cumulative cost : 76547.46000000005\n",
            "idx : 305 306 ; nodes: 131 130 ; arc cost: 24.92 ; cumulative cost : 76572.38000000005\n",
            "idx : 306 307 ; nodes: 130 4409 ; arc cost: 37.13999999999999 ; cumulative cost : 76609.52000000005\n",
            "idx : 307 308 ; nodes: 4409 293 ; arc cost: 5398.689999999998 ; cumulative cost : 82008.21000000005\n",
            "idx : 308 309 ; nodes: 293 92 ; arc cost: 1889.1000000000004 ; cumulative cost : 83897.31000000006\n",
            "idx : 309 310 ; nodes: 92 93 ; arc cost: 9.96 ; cumulative cost : 83907.27000000006\n",
            "CPU times: user 797 ms, sys: 33.1 ms, total: 831 ms\n",
            "Wall time: 875 ms\n"
          ]
        }
      ]
    }
  ]
}