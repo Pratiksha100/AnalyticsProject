{
  "nbformat": 4,
  "nbformat_minor": 0,
  "metadata": {
    "colab": {
      "provenance": []
    },
    "kernelspec": {
      "name": "python3",
      "display_name": "Python 3"
    },
    "language_info": {
      "name": "python"
    }
  },
  "cells": [
    {
      "cell_type": "code",
      "execution_count": null,
      "metadata": {
        "id": "O_zCFBJ_EFyk"
      },
      "outputs": [],
      "source": [
        "%pip install git+https://github.com/jvkersch/pyconcorde"
      ]
    },
    {
      "cell_type": "code",
      "source": [
        "# install tweak file\n",
        "# Prom knows this\n",
        "\n",
        "%cp '/content/drive/Shareddrives/Private Unlimited Drive #1/DDS/Analytics Project/Concorde/concorde_class.py' '/content'\n",
        "%cp '/content/drive/Shareddrives/Private Unlimited Drive #1/DDS/Analytics Project/Concorde/test.py' '/content'\n",
        "%cp '/content/drive/Shareddrives/Private Unlimited Drive #1/DDS/Analytics Project/Concorde/concorde_to_replace/tsp.py' '/usr/local/lib/python3.10/dist-packages/concorde'\n",
        "%cp '/content/drive/Shareddrives/Private Unlimited Drive #1/DDS/Analytics Project/Concorde/concorde_to_replace/util.py' '/usr/local/lib/python3.10/dist-packages/concorde'"
      ],
      "metadata": {
        "id": "DpFUF85cEbCd"
      },
      "execution_count": null,
      "outputs": []
    },
    {
      "cell_type": "code",
      "source": [
        "import os\n",
        "import pandas as pd\n",
        "import numpy as np\n",
        "import re\n",
        "import collections\n",
        "import pickle\n",
        "from ast import literal_eval\n",
        "import random\n",
        "import scipy\n",
        "import math\n",
        "from concorde_class import Concorde\n",
        "import datetime\n",
        "import subprocess"
      ],
      "metadata": {
        "id": "wKGTE8PiElOj"
      },
      "execution_count": null,
      "outputs": []
    },
    {
      "cell_type": "markdown",
      "source": [
        "#Functions"
      ],
      "metadata": {
        "id": "uIrZ7H54Eog5"
      }
    },
    {
      "cell_type": "code",
      "source": [
        "# heuristic solution with LKH solver\n",
        "# no mapping yet\n",
        "\n",
        "class lkh:\n",
        "    def __init__(self , dist_mat_pic_file):\n",
        "        self.dist_mat_pic_file = dist_mat_pic_file\n",
        "        self.dist_mat_file_name = dist_mat_pic_file.split(\".\")[0]\n",
        "        print(self.dist_mat_file_name)\n",
        "\n",
        "    def solve(self):\n",
        "        '''\n",
        "        solves the TSP instance using .exe file\n",
        "        '''\n",
        "        # Generate the .par file\n",
        "        self.generate_parameter_file(self.dist_mat_file_name)\n",
        "\n",
        "        # Generate the .atsp file\n",
        "        dist_mat = self.read_pickle(self.dist_mat_pic_file)\n",
        "        self.generate_atsp_file(dist_mat , self.dist_mat_file_name)\n",
        "\n",
        "        try :    \n",
        "            # Replace \"E3k.0.par\" with the actual parameter for your .exe file\n",
        "            result = subprocess.check_output([\"LKH-2.exe\", f\"{self.dist_mat_file_name}.par\", \"-S\" , f\"{self.dist_mat_file_name}_start.txt\" ], stdin=subprocess.DEVNULL , timeout = 300)\n",
        "            #result = subprocess.check_output([\"LKH-2.exe\", f\"{self.dist_mat_file_name}.par\", \"-S\" , f\"{self.dist_mat_file_name}_start.txt\" ], stdin=subprocess.DEVNULL , timeout = 300)\n",
        "        \n",
        "        except subprocess.TimeoutExpired:\n",
        "            print(\"Execution timed out. Terminating the process.\")\n",
        "            # print(output)\n",
        "        \n",
        "        result_file_name = self.dist_mat_file_name + '.txt'\n",
        "        print(\"Result is saved in : \",result_file_name)\n",
        "        length , tour_section = self.get_obj_val_and_tour(result_file_name)\n",
        "        length_rescaled = length/100\n",
        "\n",
        "        print(\"Objective function value : \", length_rescaled)\n",
        "        print(\"The routing : \" , tour_section)\n",
        "\n",
        "        return length_rescaled, tour_section\n",
        "\n",
        "    \n",
        "    def get_obj_val_and_tour(self , tour_file):\n",
        "        \"\"\"\n",
        "        Extracts the length and tour section from a tour file.\n",
        "\n",
        "        Args:\n",
        "            tour_file (str): Path to the tour file.\n",
        "\n",
        "        Returns:\n",
        "            tuple: A tuple containing the length and tour section as a list.\n",
        "        \"\"\"\n",
        "        length = None\n",
        "        tour_section = []\n",
        "\n",
        "        with open(tour_file, \"r\") as file:\n",
        "            for line in file:\n",
        "                line = line.strip()\n",
        "\n",
        "                if line.startswith(\"COMMENT : Length\"):\n",
        "                    length = int(line.split(\"=\")[1].strip())\n",
        "                elif line == \"TOUR_SECTION\":\n",
        "                    # Start reading the tour section\n",
        "                    for tour_line in file:\n",
        "                        tour_line = tour_line.strip()\n",
        "                        if tour_line == \"-1\":\n",
        "                            # End of tour section\n",
        "                            break\n",
        "                        tour_section.append(int(tour_line))\n",
        "\n",
        "        return length, tour_section\n",
        "\n",
        "\n",
        "    def get_obj_val(self , output):\n",
        "        '''\n",
        "        returns the objective value from the  long output value\n",
        "        '''\n",
        "        # Assuming `output` contains the captured output\n",
        "        cost_min_match = re.search(r'Cost\\.min = (\\d+)', output)\n",
        "\n",
        "        if cost_min_match:\n",
        "            cost_min_value = int(cost_min_match.group(1))\n",
        "            return cost_min_value\n",
        "        else:\n",
        "            print(\"Cost.min not found in the output.\")\n",
        "            return 0    \n",
        "    \n",
        "    def get_routing(self , filename):\n",
        "        '''\n",
        "        returns the routing in a numpy array\n",
        "        '''\n",
        "        start_keyword = 'TOUR_SECTION'\n",
        "        end_keyword = '-1'\n",
        "        with open(filename, 'r') as file:\n",
        "            lines = []\n",
        "            read_flag = False\n",
        "            for line in file:\n",
        "                if start_keyword in line:\n",
        "                    read_flag = True\n",
        "                    continue  # skip this line\n",
        "                if read_flag:\n",
        "                        if end_keyword in line:\n",
        "                            read_flag = False\n",
        "                            break\n",
        "                        else:\n",
        "                            lines.append(line.strip())\n",
        "\n",
        "        lines = np.array(lines)\n",
        "        return lines\n",
        "    \n",
        "    def generate_parameter_file(self , filename):\n",
        "        runs = 1\n",
        "        filename_atsp = filename + \".atsp\"\n",
        "        filename_txt = filename + \".txt\"  \n",
        "        filename_par = filename + \".par\"\n",
        "\n",
        "        with open(filename_par, 'w') as f:\n",
        "            f.write(f\"PROBLEM_FILE = {filename_atsp}\\n\")\n",
        "            f.write(f\"OUTPUT_TOUR_FILE = {filename_txt}\\n\")\n",
        "            f.write(f\"OPTIMUM = 40634081 \\n\")\n",
        "            f.write(f\"INITIAL_PERIOD = 1000 \\n\")\n",
        "            f.write(f\"MAX_CANDIDATES = 6 \\n\")\n",
        "            f.write(f\"MAX_TRIALS = 1000 \\n\")\n",
        "            f.write(f\"MOVE_TYPE = 6 \\n\")\n",
        "            f.write(f\"PATCHING_C = 6 \\n\")\n",
        "            f.write(f\"PATCHING_A = 5 \\n\")\n",
        "            f.write(f\"RECOMBINATION = GPX2 \\n\")\n",
        "            f.write(f\"RUNS = {runs} \\n\")\n",
        "\n",
        "    \n",
        "    def multiply_round_up(self , lst):\n",
        "        '''\n",
        "        input : list of lists having non integral values\n",
        "        output : list of lists having integral values.\n",
        "        Function to multiply, round up numbers,  and return as integers\n",
        "        '''\n",
        "        rounded_lst = np.rint(np.array(lst)*100).astype(int)\n",
        "        rounded_lst = rounded_lst.tolist()\n",
        "        return rounded_lst\n",
        "\n",
        "\n",
        "    def read_pickle(self,pickle_path):\n",
        "        # Open the pickle file in read-binary mode\n",
        "        with open(pickle_path, 'rb') as f:\n",
        "            # Load the object from the pickle file\n",
        "            pic_obj = pickle.load(f)\n",
        "        pic_obj = self.multiply_round_up(pic_obj)\n",
        "        return pic_obj\n",
        "    \n",
        "    def generate_atsp_file(self , dist_mat, filename):   \n",
        "        '''\n",
        "        input : \n",
        "        a symmentric matrix  \n",
        "        directory of a .tsp file you want to generate\n",
        "        number of cities in the TSP\n",
        "\n",
        "        Output : \n",
        "        a .tsp file generated in the filename directory\n",
        "        '''\n",
        "        # Defining the number of cities\n",
        "        num_cities = len(dist_mat)\n",
        "\n",
        "        # Write the coordinates to a .atsp file\n",
        "        # fname = filename.split(\"/\")[-1].split(\".\")[0]\n",
        "        fname = filename \n",
        "        with open(filename+\".atsp\", 'w') as f:\n",
        "            f.write(f\"NAME: {fname}\\n\")\n",
        "            # f.write(\"COMMENT: Randomly generated TSP instance\\n\")\n",
        "            f.write(\"TYPE: TSP (M.~Hofmeister)\\n\")\n",
        "            f.write(f\"DIMENSION: {num_cities}\\n\") #becase the distance matrix doubles in size when converted to a symmentric instance\n",
        "            f.write(\"EDGE_WEIGHT_TYPE: EXPLICIT\\n\")\n",
        "            f.write(\"EDGE_WEIGHT_FORMAT: FULL_MATRIX\\n\")\n",
        "            # f.write(\"NODE_COORD_SECTION\\n\")\n",
        "            f.write(\"DISPLAY_DATA_TYPE: NO_DISPLAY\\n\")\n",
        "            f.write(\"EDGE_WEIGHT_SECTION\\n\")\n",
        "            for i in range(len(dist_mat)):\n",
        "                for j in range(len(dist_mat)):\n",
        "                    f.write(f'{str(dist_mat[i][j])}\\t')\n",
        "                f.write(\"\\n\")\n",
        "            f.write(\"EOF\\n\")"
      ],
      "metadata": {
        "id": "T28oBWHkEpoW"
      },
      "execution_count": null,
      "outputs": []
    },
    {
      "cell_type": "code",
      "source": [
        "# exact solution with concord\n",
        "# no mapping yet\n",
        "\n",
        "def concord_solver(distance_matrix):\n",
        "  concorde = Concorde()\n",
        "  concorde_sol = concorde.run_ProbATSP(distance_matrix)\n",
        "  return concorde.route, concorde.optimal_value"
      ],
      "metadata": {
        "id": "RzDhiWx1E8RS"
      },
      "execution_count": null,
      "outputs": []
    },
    {
      "cell_type": "markdown",
      "source": [
        "# From Instances"
      ],
      "metadata": {
        "id": "FCG1Z0oDFA9L"
      }
    },
    {
      "cell_type": "code",
      "source": [
        "# folder that contains instance distance matrix files\n",
        "# files from github : Pickle/Warmsen_Instances_50/dm\n",
        "\n",
        "instances_path = aa"
      ],
      "metadata": {
        "id": "Q7WUQ9TOFw71"
      },
      "execution_count": null,
      "outputs": []
    },
    {
      "cell_type": "markdown",
      "source": [
        "## LKH, Stopping Criteria 60 s"
      ],
      "metadata": {
        "id": "JDzJlEqXH6Gt"
      }
    },
    {
      "cell_type": "code",
      "source": [
        "i = 1\n",
        "for filename in os.listdir(instances_path):\n",
        "  start = datetime.datetime.now()\n",
        "  dum = lkh(instances_path + '/' + filename)\n",
        "  length , tour_section = dum.solve()\n",
        "  print('time needed -->', datetime.datetime.now() - start)\n",
        "  print('\\n')\n",
        "  i = i+1"
      ],
      "metadata": {
        "id": "MaaQO0GHH_b_"
      },
      "execution_count": null,
      "outputs": []
    },
    {
      "cell_type": "markdown",
      "source": [
        "## LKH, Stopping Criteria 30 s"
      ],
      "metadata": {
        "id": "G4ZUQc8MJj5j"
      }
    },
    {
      "cell_type": "code",
      "source": [
        "i = 1\n",
        "for filename in os.listdir(instances_path):\n",
        "  start = datetime.datetime.now()\n",
        "  dum = lkh(instances_path + '/' + filename)\n",
        "  length , tour_section = dum.solve()\n",
        "  print('time needed -->', datetime.datetime.now() - start)\n",
        "  print('\\n')\n",
        "  i = i+1"
      ],
      "metadata": {
        "id": "akrqWE1fJgRd"
      },
      "execution_count": null,
      "outputs": []
    },
    {
      "cell_type": "markdown",
      "source": [
        "## LKH, Stopping Criteria 15 s"
      ],
      "metadata": {
        "id": "fFBsYSHHJrkz"
      }
    },
    {
      "cell_type": "code",
      "source": [
        "i = 1\n",
        "for filename in os.listdir(instances_path):\n",
        "  start = datetime.datetime.now()\n",
        "  dum = lkh(instances_path + '/' + filename)\n",
        "  length , tour_section = dum.solve()\n",
        "  print('time needed -->', datetime.datetime.now() - start)\n",
        "  print('\\n')\n",
        "  i = i+1"
      ],
      "metadata": {
        "id": "Or0uw-PWJo80"
      },
      "execution_count": null,
      "outputs": []
    },
    {
      "cell_type": "markdown",
      "source": [
        "##Concorde"
      ],
      "metadata": {
        "id": "z4TvprakFLHP"
      }
    },
    {
      "cell_type": "code",
      "source": [
        "i = 1\n",
        "for filename in os.listdir(instances_path):\n",
        "  start = datetime.datetime.now()\n",
        "  dm_instance = pickle.load(open(instances_path + '/' + filename, \"rb\"))\n",
        "  dm_instance_scaled = np.rint(np.array(dm_instance)*100).astype(int)\n",
        "  dm_instance_scaled = dm_instance_scaled.tolist()\n",
        "  tour, opt_val = concord_solver(dm_instance_scaled)\n",
        "  print(i, ':', filename, 'total cities ', len(dm_instance), ':', 'opt value ', opt_val/100)\n",
        "  print('time needed -->', datetime.datetime.now() - start)\n",
        "  print('\\n')\n",
        "  i = i+1"
      ],
      "metadata": {
        "id": "drTnd6ouFOMJ"
      },
      "execution_count": null,
      "outputs": []
    },
    {
      "cell_type": "markdown",
      "source": [
        "# From Original Distance Matrix of Districts"
      ],
      "metadata": {
        "id": "hCfy_HUJJyi5"
      }
    },
    {
      "cell_type": "code",
      "source": [
        "# folder that contains original distance matrix files\n",
        "# files from github : Pickle/Warmsen_original/dm\n",
        "\n",
        "original_path = bb"
      ],
      "metadata": {
        "id": "b9Oooc2MFKNU"
      },
      "execution_count": null,
      "outputs": []
    },
    {
      "cell_type": "markdown",
      "source": [
        "## LKH, Stopping Criteria 60 s"
      ],
      "metadata": {
        "id": "K06cnoyjLaHu"
      }
    },
    {
      "cell_type": "code",
      "source": [
        "i = 1\n",
        "for filename in os.listdir(original_path):\n",
        "  start = datetime.datetime.now()\n",
        "  dum = lkh(original_path + '/' + filename)\n",
        "  length , tour_section = dum.solve()\n",
        "  print('time needed -->', datetime.datetime.now() - start)\n",
        "  print('\\n')\n",
        "  i = i+1"
      ],
      "metadata": {
        "id": "o0afeMh0LaHv"
      },
      "execution_count": null,
      "outputs": []
    },
    {
      "cell_type": "markdown",
      "source": [
        "## LKH, Stopping Criteria 30 s"
      ],
      "metadata": {
        "id": "u9-P29IKLaHw"
      }
    },
    {
      "cell_type": "code",
      "source": [
        "i = 1\n",
        "for filename in os.listdir(original_path):\n",
        "  start = datetime.datetime.now()\n",
        "  dum = lkh(original_path + '/' + filename)\n",
        "  length , tour_section = dum.solve()\n",
        "  print('time needed -->', datetime.datetime.now() - start)\n",
        "  print('\\n')\n",
        "  i = i+1"
      ],
      "metadata": {
        "id": "h-Sc0opvLaHx"
      },
      "execution_count": null,
      "outputs": []
    },
    {
      "cell_type": "markdown",
      "source": [
        "## LKH, Stopping Criteria 15 s"
      ],
      "metadata": {
        "id": "-0Jbfy0eLaHx"
      }
    },
    {
      "cell_type": "code",
      "source": [
        "i = 1\n",
        "for filename in os.listdir(original_path):\n",
        "  start = datetime.datetime.now()\n",
        "  dum = lkh(original_path + '/' + filename)\n",
        "  length , tour_section = dum.solve()\n",
        "  print('time needed -->', datetime.datetime.now() - start)\n",
        "  print('\\n')\n",
        "  i = i+1"
      ],
      "metadata": {
        "id": "U78bKHLxLaHy"
      },
      "execution_count": null,
      "outputs": []
    },
    {
      "cell_type": "markdown",
      "source": [
        "##Concorde"
      ],
      "metadata": {
        "id": "44KjdzdYLaHy"
      }
    },
    {
      "cell_type": "code",
      "source": [
        "i = 1\n",
        "for filename in os.listdir(original_path):\n",
        "  start = datetime.datetime.now()\n",
        "  dm_instance = pickle.load(open(original_path + '/' + filename, \"rb\"))\n",
        "  dm_instance_scaled = np.rint(np.array(dm_instance)*100).astype(int)\n",
        "  dm_instance_scaled = dm_instance_scaled.tolist()\n",
        "  tour, opt_val = concord_solver(dm_instance_scaled)\n",
        "  print(i, ':', filename, 'total cities ', len(dm_instance), ':', 'opt value ', opt_val/100)\n",
        "  print('time needed -->', datetime.datetime.now() - start)\n",
        "  print('\\n')\n",
        "  i = i+1"
      ],
      "metadata": {
        "id": "MY1LNuDvLaHz"
      },
      "execution_count": null,
      "outputs": []
    }
  ]
}