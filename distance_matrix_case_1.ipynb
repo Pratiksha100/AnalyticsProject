{
  "nbformat": 4,
  "nbformat_minor": 0,
  "metadata": {
    "colab": {
      "provenance": [],
      "authorship_tag": "ABX9TyO8DS1NH66h3pYP3XzXh0F9",
      "include_colab_link": true
    },
    "kernelspec": {
      "name": "python3",
      "display_name": "Python 3"
    },
    "language_info": {
      "name": "python"
    }
  },
  "cells": [
    {
      "cell_type": "markdown",
      "metadata": {
        "id": "view-in-github",
        "colab_type": "text"
      },
      "source": [
        "<a href=\"https://colab.research.google.com/github/Pratiksha100/AnalyticsProject/blob/cheewan/distance_matrix_case_1.ipynb\" target=\"_parent\"><img src=\"https://colab.research.google.com/assets/colab-badge.svg\" alt=\"Open In Colab\"/></a>"
      ]
    },
    {
      "cell_type": "code",
      "execution_count": 2,
      "metadata": {
        "colab": {
          "base_uri": "https://localhost:8080/"
        },
        "id": "Az8YZfHkt2ol",
        "outputId": "06b9ecb9-db2f-4728-b3b0-8cd61bdc5b3a"
      },
      "outputs": [
        {
          "output_type": "stream",
          "name": "stdout",
          "text": [
            "Drive already mounted at /content/drive; to attempt to forcibly remount, call drive.mount(\"/content/drive\", force_remount=True).\n"
          ]
        }
      ],
      "source": [
        "import pandas as pd\n",
        "import numpy as np\n",
        "import os\n",
        "from google.colab import drive\n",
        "drive.mount('/content/drive')\n",
        "os.chdir('/content/drive/MyDrive/Analytics Project/AOP_DP_Analytics/Data/Instances/Warmsen')\n",
        "Warmsen_dir = os.getcwd()"
      ]
    },
    {
      "cell_type": "code",
      "source": [
        "Warmsen_01_distance = pd.read_csv(Warmsen_dir + '/distances/distances_31600-01.dat' ,\n",
        "                                  names=['col1', 'col2', 'col3']\n",
        "                                  )\n",
        "Warmsen_01_distance = Warmsen_01_distance.set_index(['col1', 'col2'])['col3'].unstack().values\n",
        "Warmsen_01_distance"
      ],
      "metadata": {
        "colab": {
          "base_uri": "https://localhost:8080/"
        },
        "id": "fu-vPd6puDbF",
        "outputId": "e9e62a2c-263a-4469-9b6f-e32490aaf057"
      },
      "execution_count": 4,
      "outputs": [
        {
          "output_type": "execute_result",
          "data": {
            "text/plain": [
              "array([[0.00000e+00, 4.83906e+03, 8.24240e+03, ..., 7.14269e+03,\n",
              "        7.17932e+03, 7.18496e+03],\n",
              "       [4.83299e+03, 0.00000e+00, 5.65472e+03, ..., 3.92732e+03,\n",
              "        3.96395e+03, 3.96959e+03],\n",
              "       [8.25938e+03, 5.62204e+03, 0.00000e+00, ..., 5.42883e+03,\n",
              "        5.46546e+03, 5.47110e+03],\n",
              "       ...,\n",
              "       [7.13914e+03, 3.90598e+03, 5.42883e+03, ..., 0.00000e+00,\n",
              "        3.66300e+01, 4.22700e+01],\n",
              "       [7.17577e+03, 3.94261e+03, 5.46546e+03, ..., 3.66300e+01,\n",
              "        0.00000e+00, 5.64000e+00],\n",
              "       [7.18141e+03, 3.94825e+03, 5.47110e+03, ..., 4.22700e+01,\n",
              "        5.64000e+00, 0.00000e+00]])"
            ]
          },
          "metadata": {},
          "execution_count": 4
        }
      ]
    }
  ]
}