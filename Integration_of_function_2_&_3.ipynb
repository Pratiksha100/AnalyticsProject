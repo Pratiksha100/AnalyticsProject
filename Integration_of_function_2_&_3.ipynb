{
  "cells": [
    {
      "cell_type": "code",
      "source": [
        "\n",
        "import os\n",
        "import pandas as pd\n",
        "import numpy as np\n",
        "import re\n",
        "import collections\n",
        "import pickle\n",
        "from ast import literal_eval\n",
        "import random\n",
        "import scipy\n",
        "import math\n",
        "# from concorde_class import Concorde\n",
        "import datetime\n",
        "import subprocess\n",
        "from ortools.constraint_solver import pywrapcp\n",
        "from ortools.constraint_solver import routing_enums_pb2"
      ],
      "metadata": {
        "id": "ZV5bfjP006R2"
      },
      "execution_count": 135,
      "outputs": []
    },
    {
      "cell_type": "code",
      "source": [
        "from google.colab import drive\n",
        "drive.mount('/content/drive')"
      ],
      "metadata": {
        "colab": {
          "base_uri": "https://localhost:8080/"
        },
        "id": "38ZwKza1zTu_",
        "outputId": "ab6c8eee-9025-478e-d922-45d0cd63fc0c"
      },
      "execution_count": 136,
      "outputs": [
        {
          "output_type": "stream",
          "name": "stdout",
          "text": [
            "Drive already mounted at /content/drive; to attempt to forcibly remount, call drive.mount(\"/content/drive\", force_remount=True).\n"
          ]
        }
      ]
    },
    {
      "cell_type": "code",
      "execution_count": 137,
      "metadata": {
        "id": "orKeVcg7zHT-"
      },
      "outputs": [],
      "source": [
        "# path for the 'Data' folder provided by DP\n",
        "# global vars\n",
        "\n",
        "dir_loc = '/content/drive/MyDrive/Analytics Project/AOP_DP_Analytics/Data'\n",
        "\n",
        "path = '/content/drive/MyDrive/Analytics Project/AOP_DP_Analytics/'"
      ]
    },
    {
      "cell_type": "code",
      "source": [
        "# Global variables\n",
        "REGION = 'Warmsen'"
      ],
      "metadata": {
        "id": "ufNj6D09c370"
      },
      "execution_count": 138,
      "outputs": []
    },
    {
      "cell_type": "code",
      "source": [
        "def generate_region_district(region_name):\n",
        "  district_path = dir_region_instances = dir_loc + '/Instances/' + region_name + '/Districts'\n",
        "  region_districts_list = []\n",
        "\n",
        "  for filename in os.listdir(district_path):\n",
        "    file_var = re.sub('.dat', '', filename)\n",
        "    file_district = pd.read_csv(district_path + '/' + filename, sep='\\t', skiprows = [0,1],\n",
        "                                names=('PostObjectID', 'dum_1', 'dum_2', 'dum_3', 'dum_4', 'dum_5')\n",
        "                                # usecols = [0]\n",
        "                                )\n",
        "    file_district['district'] = file_var\n",
        "    region_districts_list.append(file_district)\n",
        "\n",
        "  region_districts_df = pd.concat(region_districts_list, ignore_index = True)\n",
        "  region_districts_df.drop(['dum_1', 'dum_2', 'dum_3', 'dum_4', 'dum_5'], axis = 1, inplace = True)\n",
        "  \n",
        "  return region_districts_df"
      ],
      "metadata": {
        "id": "HI3zCDlUFm6A"
      },
      "execution_count": 139,
      "outputs": []
    },
    {
      "cell_type": "code",
      "source": [
        "# create dataframes for a region everyday\n",
        "\n",
        "def generate_region_volume(region_name):\n",
        "  # path of folder\n",
        "  dir_region_instances = dir_loc + '/Instances/' + region_name\n",
        "  dir_region_volume = dir_loc + '/Volumes/'\n",
        "  # dir_region_districts = dir_region_instances + '/Districts'\n",
        "\n",
        "  # load post_object-to-route_pos_id and post_point-to-post_object files \n",
        "  po_file = pd.read_csv(dir_region_instances + '/post_order_id_mapping.dat', sep='\\t', names=('PostObjectId', 'RoutePosID'))\n",
        "  pp_file = pd.read_csv(dir_region_instances + '/post_point_information.dat', sep='\\t', names=('PostPointId', 'PostObjectId'))\n",
        "\n",
        "  # pp_file adjustment by splitting list of post object ids\n",
        "  pp_file['PostObjectId'] = pp_file['PostObjectId'].apply(literal_eval)\n",
        "  pp_file = pp_file.explode('PostObjectId', ignore_index=True)\n",
        "\n",
        "  # complete  post object list-district mapping\n",
        "  region_district_df = generate_region_district(region_name = region_name)\n",
        "  region_district_df.rename(columns = {'PostObjectID' : 'PostObjectId'}, inplace = True)\n",
        "\n",
        "  # list of volume file paths\n",
        "  day_names = []\n",
        "  vol_path_list = []\n",
        "  vol_day_map = {}\n",
        "  day_map = {'mo' : 'Monday',\n",
        "             'di' : 'Tuesday',\n",
        "             'mi' : 'Wednesday',\n",
        "             'do' : 'Thursday',\n",
        "             'fr' : 'Friday',\n",
        "             'sa' : 'Saturday'}\n",
        "\n",
        "  for filename in os.listdir(dir_region_volume):\n",
        "    vol_path_list.append(dir_region_volume + filename)\n",
        "    day = filename[-6:-4]\n",
        "    vol_day_map[filename] = day_map[day]\n",
        "\n",
        "  # store dataframes of a region, map with post object id\n",
        "  region_vol_day_dict = {}\n",
        "  for vol_path in vol_path_list:\n",
        "    vol_df = pd.read_csv(vol_path, sep = ';')\n",
        "    vol_df.rename(columns = {'BRIEFE' : 'LETTERS',\n",
        "                             'PAKETE' : 'PACKAGES',\n",
        "                             'SONSTIGE' : 'OTHERS',\n",
        "                             'ROUTEPOS_ID' : 'RoutePosID'},\n",
        "                  inplace = True)\n",
        "    \n",
        "    # combining files to a complete table for a region\n",
        "    vol_po_df = pd.merge(po_file, vol_df, on = 'RoutePosID', how = 'left')\n",
        "    vol_po_df = pd.merge(pp_file, vol_po_df, on='PostObjectId', how='right')\n",
        "    vol_po_df = pd.merge(region_district_df, vol_po_df, on='PostObjectId', how='right')\n",
        "\n",
        "    # store dataframes in dict\n",
        "    day_key = vol_day_map[vol_path[-18:]]\n",
        "    region_vol_day_dict[day_key] = vol_po_df\n",
        "    \n",
        "  return region_vol_day_dict"
      ],
      "metadata": {
        "id": "mWKteOf_E7cu"
      },
      "execution_count": 140,
      "outputs": []
    },
    {
      "cell_type": "code",
      "source": [
        "# generate instances\n",
        "\n",
        "def generate_instances(region_vol_day, scenario_type, scenario_method, scenario_number, growth_factor):\n",
        "  # df = region_vol_day.copy() #.copy() used to avoid recopying on the original dataframe\n",
        "  df = region_vol_day\n",
        "\n",
        "  sce_letters = 'scenario_' + str(scenario_number) + '_letter'\n",
        "  sce_packages = 'scenario_' + str(scenario_number) + '_package'\n",
        "  sce_others = 'scenario_' + str(scenario_number) + '_others'\n",
        "\n",
        "  df[sce_letters] = df['LETTERS'].apply(lambda x :scenario_type(pos_delivery = x, method = scenario_method, rate_pct = growth_factor ))\n",
        "  df[sce_packages] = df['PACKAGES'].apply(lambda x :scenario_type(pos_delivery = x, method = scenario_method, rate_pct = growth_factor))\n",
        "  df[sce_others] = df['OTHERS'].apply(lambda x :scenario_type(pos_delivery = x, method = scenario_method, rate_pct = growth_factor))\n",
        "\n",
        "  sce_all = 'scenario_' + str(scenario_number) + '_all'\n",
        "  df[sce_all] = df[sce_letters] + df[sce_packages] + df[sce_others]\n",
        "\n",
        "  return df"
      ],
      "metadata": {
        "id": "0w8HUdLIFvv9"
      },
      "execution_count": 141,
      "outputs": []
    },
    {
      "cell_type": "code",
      "source": [
        "# generate real instances based on poisson\n",
        "\n",
        "def random_poisson_instances(pos_delivery, method, rate_pct):\n",
        "  rate = rate_pct/100\n",
        "  rng = np.random.default_rng()\n",
        "  poisson_dist = rng.poisson(lam = pos_delivery * (1 + rate), size = 52)\n",
        "\n",
        "  if method == 'random':\n",
        "    return random.choice(poisson_dist)\n",
        "  if method == 'mode':\n",
        "    return scipy.stats.mode(poisson_dist, keepdims = True)[0][0]\n",
        "  else:\n",
        "    return 'only options : [random, mode]'"
      ],
      "metadata": {
        "id": "1on59n8vF_Ax"
      },
      "execution_count": 142,
      "outputs": []
    },
    {
      "cell_type": "code",
      "source": [
        "#Creating the complete dictionary of volumes for a region\n",
        "warmsen_instances = {}\n",
        "\n",
        "#INPUT Rate of mail change \n",
        "# rate in percentage\n",
        "rate = 50\n",
        "rate_mapping = {'low' : -rate, 'medium' : 0, 'high' : rate}\n",
        "\n",
        "# create instances for one region\n",
        "for key in generate_region_volume('Warmsen').keys():\n",
        "  # create instances per day\n",
        "  for key_rate in rate_mapping:\n",
        "    dummy = generate_instances(region_vol_day = generate_region_volume('Warmsen')[key],\n",
        "                               scenario_type = random_poisson_instances,\n",
        "                               scenario_method = 'random',\n",
        "                               scenario_number = key_rate,\n",
        "                               growth_factor = rate_mapping[key_rate])\n",
        "  warmsen_instances[key] = dummy\n",
        "  "
      ],
      "metadata": {
        "id": "rVAiDFwI7H1O"
      },
      "execution_count": 143,
      "outputs": []
    },
    {
      "cell_type": "code",
      "execution_count": 157,
      "metadata": {
        "id": "NV2uRXlgzHT_"
      },
      "outputs": [],
      "source": [
        "# get start and end node for a district\n",
        "# delete df_day input\n",
        "\n",
        "def start_end_points(region_name, district):\n",
        "    # df_day_district = df_day[df_day['district'] == district]\n",
        "\n",
        "    # get start and end node\n",
        "    district_path = dir_loc + '/Instances/' + region_name + '/Districts/' + district + '.dat'\n",
        "    # print(district_path)\n",
        "    rows_needed = [1]\n",
        "    file_district = pd.read_csv(district_path, sep='\\t', skiprows = lambda x : x not in rows_needed,\n",
        "                                names=('dum_0', 'start_point', 'end_point', 'dum_1', 'dum_2', 'dum_3', 'dum_4', 'dum_5', 'dum_6')\n",
        "                                )\n",
        "    start_point = file_district['start_point'][0]\n",
        "    end_point = file_district['end_point'][0]\n",
        "\n",
        "    points = [start_point, end_point]\n",
        "\n",
        "    return points\n"
      ]
    },
    {
      "cell_type": "code",
      "execution_count": 149,
      "metadata": {
        "id": "Ff7x0chxzHT_"
      },
      "outputs": [],
      "source": [
        "# generate distance matrix and mapping for a scenario\n",
        "\n",
        "def generate_distance_matrix_map(region_name, df_day_district, points, sce_col, district):\n",
        "      scenario = sce_col\n",
        "\n",
        "      col_use = ['PostPointId']\n",
        "      col_use.append(scenario)\n",
        "      df_day_district_scenario = df_day_district[col_use]\n",
        "      \n",
        "      # removing nodes with zero demand\n",
        "      df_day_district_scenario_filtered = df_day_district_scenario[df_day_district_scenario[scenario] != 0]\n",
        "      pp_id_day_district_scenario = df_day_district_scenario_filtered['PostPointId'].unique().tolist()\n",
        "      \n",
        "      # add start and end node if not in node list yet\n",
        "      for point in points:\n",
        "        if point not in pp_id_day_district_scenario:\n",
        "          pp_id_day_district_scenario.append(point)\n",
        "\n",
        "      # get distance file and dataframes\n",
        "      distance_path = dir_loc + '/Instances/' + region_name + '/distances'\n",
        "      district_distance = pd.read_csv(distance_path + '/distances_' + district + '.dat',\n",
        "                                  names=['pp_1', 'pp_2', 'dist']\n",
        "                                  )\n",
        "      # remove unused postpoints\n",
        "      district_distance_filtered = district_distance[(district_distance['pp_1'].isin(pp_id_day_district_scenario)) & (district_distance['pp_2'].isin(pp_id_day_district_scenario))]\n",
        "      distance_matrix_df = district_distance_filtered.pivot(index = 'pp_1', columns = 'pp_2', values = 'dist')\n",
        "\n",
        "      # generate and revise start and end nodes\n",
        "      points = start_end_points(region_name = region_name, district = district)\n",
        "      distance_matrix_df[points[0]][points[1]] = 0\n",
        "      distance_matrix_df[points[1]][points[0]] = 0\n",
        "\n",
        "      # distance matrix\n",
        "      distance_matrix_array = distance_matrix_df.to_numpy()\n",
        "      distance_matrix_array = distance_matrix_array.tolist()\n",
        "\n",
        "      # node mapping\n",
        "      map_val = list(range(0, len(distance_matrix_df)))\n",
        "      nodes = distance_matrix_df.index.values.tolist()\n",
        "      mapping = dict(zip(map_val, nodes))\n",
        "\n",
        "      return distance_matrix_array, mapping"
      ]
    },
    {
      "cell_type": "code",
      "execution_count": 150,
      "metadata": {
        "id": "Eb5lN_nczHUA"
      },
      "outputs": [],
      "source": [
        "# heuristic google OR algo\n",
        "\n",
        "class TSP:\n",
        "    def __init__(self, distance_matrix):\n",
        "        #read distance matrix --> list\n",
        "        self.dist_mat = distance_matrix\n",
        "        self.dist_mat = self.round_up(self.dist_mat)\n",
        "        # Create data model\n",
        "        self.data = self.create_data_model()\n",
        "        # Create routing index manager\n",
        "        self.manager = pywrapcp.RoutingIndexManager(len(self.data['distance_matrix']),\n",
        "                                            self.data['num_vehicles'], self.data['depot'])\n",
        "        # Create Routing Model\n",
        "        self.routing = pywrapcp.RoutingModel(self.manager)\n",
        "        # Define cost of each arc\n",
        "        self.transit_callback_index = self.routing.RegisterTransitCallback(self.distance_callback)\n",
        "        self.routing.SetArcCostEvaluatorOfAllVehicles(self.transit_callback_index)\n",
        "    \n",
        "    def round_up(self , lst):\n",
        "        '''\n",
        "        input : list of lists having non integral values\n",
        "        output : list of lists having integral values.\n",
        "        Function to round up numbers and return as integers\n",
        "        '''\n",
        "        rounded_lst = []\n",
        "        for inner_lst in lst:\n",
        "            rounded_inner_lst = []\n",
        "            for num in inner_lst:\n",
        "                rounded_num = int(round(num))\n",
        "                rounded_inner_lst.append(rounded_num)\n",
        "            rounded_lst.append(rounded_inner_lst)\n",
        "        return rounded_lst        \n",
        "\n",
        "\n",
        "    def create_data_model(self):\n",
        "        # Stores the data for the problem\n",
        "        data = {}\n",
        "        data['distance_matrix'] = self.dist_mat \n",
        "        data['num_vehicles'] = 1\n",
        "        data['depot'] = 0\n",
        "        return data\n",
        "\n",
        "    def distance_callback(self, from_index, to_index):\n",
        "        # Returns the distance between the two nodes\n",
        "        from_node = self.manager.IndexToNode(from_index)\n",
        "        to_node = self.manager.IndexToNode(to_index)\n",
        "        return self.data['distance_matrix'][from_node][to_node]\n",
        "\n",
        "    def solve(self):\n",
        "        # Setting first solution heuristic\n",
        "        search_parameters = pywrapcp.DefaultRoutingSearchParameters()\n",
        "        search_parameters.first_solution_strategy = routing_enums_pb2.FirstSolutionStrategy.PATH_CHEAPEST_ARC\n",
        "        # Solve the problem\n",
        "        solution = self.routing.SolveWithParameters(search_parameters)\n",
        "        if solution:\n",
        "            # Get the route as an array\n",
        "            route = []\n",
        "            index = self.routing.Start(0)\n",
        "            while not self.routing.IsEnd(index):\n",
        "                node = self.manager.IndexToNode(index)\n",
        "                route.append(node)\n",
        "                index = solution.Value(self.routing.NextVar(index))\n",
        "            # Get the objective value\n",
        "            obj_value = solution.ObjectiveValue()\n",
        "            # route = self.map_nodes(route)\n",
        "            return route, obj_value"
      ]
    },
    {
      "cell_type": "code",
      "execution_count": 151,
      "metadata": {
        "id": "Gs3fkMPmzHUB"
      },
      "outputs": [],
      "source": [
        "#FUNCTION TO GET SUBSET OF A COMPLETE TOUR AND ITS LENGTH KEEPING SEQUENCE BASED ON INSTANCES VOLUMES\n",
        "\n",
        "#INPUTS:    Complete Tour (DP or Concord), Complete Tour info (DP or Concord), \n",
        "#           Distance Matrix for the instance (generated from instance generation function), Mapping of PostPoints Needed (Dictionary obtained from instance generation function)\n",
        "#OUTPUTS:   Tour Sequence Fixed, Tour Length, Difference between New Tour and Complete Tour\n",
        "\n",
        "\n",
        "\n",
        "def new_tour_sequence_fixed(complete_tour, dm_instance, mapping_pp_needed):\n",
        "    #get the list of only the Postpoint needed for the specific instance\n",
        "    list_pp_needed = list(mapping_pp_needed.values())\n",
        "\n",
        "    #Keep from complete_tour only the needed PostPoints according to the list of PostPoints needed mantaining sequence\n",
        "    tour_seq_fixed = [x for x in complete_tour if x in list_pp_needed]\n",
        "\n",
        "    #Generate a dataframe from the distance matrix with the correct row-column combination based on PostPoints required\n",
        "    df_dm_instance = pd.DataFrame(dm_instance)\n",
        "    df_dm_instance = (df_dm_instance.rename(columns= mapping_pp_needed)).rename(index = mapping_pp_needed)\n",
        "\n",
        "    #FUNCTION to compute length of new tour (Adapting using logic of function already created for default_route calculation: get_tour_length())\n",
        "    \n",
        "    def get_seq_tour_length(sequence_list, distance_df):\n",
        "        tour_length = 0 \n",
        "        for i in range(len(sequence_list)-1):\n",
        "            # Specify the specific values for row and column in the dataframe\n",
        "            PostPoint_predecesor = sequence_list[i]\n",
        "            PostPoint_succesor = sequence_list[i+1]\n",
        "\n",
        "            # Get the distance value needed based on the Post Point combination or raise error\n",
        "            try:\n",
        "                distance_value = distance_df[PostPoint_predecesor][PostPoint_succesor]\n",
        "            except: \n",
        "                print('ERROR: No distance for PostPoint combination')\n",
        "\n",
        "            # Aggreate sum value until end of loop to compute total tour length\n",
        "            tour_length += distance_value\n",
        "            \n",
        "        return round(tour_length,2)\n",
        "    \n",
        "    #Calculate tour length of new tour which skips PostPoints\n",
        "    tour_seq_fixed_length = get_seq_tour_length(tour_seq_fixed, df_dm_instance)\n",
        "    \n",
        "\n",
        "    return tour_seq_fixed, tour_seq_fixed_length"
      ]
    },
    {
      "cell_type": "code",
      "execution_count": 153,
      "metadata": {
        "id": "nll5PEwlzHUD"
      },
      "outputs": [],
      "source": [
        "# upload files\n",
        "all_original = pickle.load(open(\"/content/drive/MyDrive/Analytics Project/Coding/Results/all_original_complete.p\", \"rb\"))\n",
        "all_default_tours = pickle.load(open(\"/content/drive/MyDrive/Analytics Project/Coding/Results/all_default_tours.p\", \"rb\"))\n"
      ]
    },
    {
      "cell_type": "code",
      "source": [
        "# code for running generate_distance_matrix_map and \n",
        "\n",
        "dir_region = '/content/drive/MyDrive/Analytics Project/Coding/' + REGION\n",
        "if not os.path.exists(dir_region):\n",
        "    os.mkdir(dir_region)\n",
        " # filter by day\n",
        "for day in warmsen_instances.keys():\n",
        "  df_day = warmsen_instances[day]\n",
        "  # filter by district\n",
        "  for district in df_day['district'].value_counts().index.tolist():\n",
        "      df_day_district = df_day[df_day['district'] == district]\n",
        "\n",
        "      scenario_list = df_day_district.columns.tolist()[7:]\n",
        "\n",
        "      # get start and end node\n",
        "      points = start_end_points(region_name = REGION, district = district)\n",
        "\n",
        "      # running generate_distance_matrix_map\n",
        "      for scenario in scenario_list:\n",
        "        distance_matrix, mapping = generate_distance_matrix_map(region_name = REGION, df_day_district = df_day_district, points = points, sce_col = scenario, district = district)\n",
        "        distance_matrix_name = 'dm_' + REGION + '_' + day + '_' + district + '_' + scenario + '_' + str(rate)\n",
        "        mapping_name = 'map_' + REGION + '_' + day + '_' + district + '_' + scenario + '_' + str(rate)\n",
        "        pickle.dump(distance_matrix, open(dir_region + '/' + \"%s.p\"%distance_matrix_name, \"wb\"))\n",
        "        pickle.dump(mapping, open(dir_region + '/' + \"%s.p\"%mapping_name, \"wb\"))\n",
        "\n",
        "        # running new_tour_sequence_fixed\n",
        "        if district == '31603-06':\n",
        "          tour_seq_fixed, tour_seq_fixed_length = new_tour_sequence_fixed(complete_tour = all_default_tours[REGION]['31603-06']['default_route'], dm_instance = distance_matrix, mapping_pp_needed = mapping)\n",
        "          print('Tour Length: ', tour_seq_fixed_length)\n",
        "          print('Tour: ', tour_seq_fixed)\n"
      ],
      "metadata": {
        "colab": {
          "base_uri": "https://localhost:8080/"
        },
        "id": "1KNwkFbrWgtU",
        "outputId": "4435c073-67d2-4fdb-c525-82dcf1e6bb7a"
      },
      "execution_count": 159,
      "outputs": [
        {
          "output_type": "stream",
          "name": "stdout",
          "text": [
            "Tour Length:  20929.46\n",
            "Tour:  [0, 2230, 2228, 2224, 2222, 2225, 2221, 2211, 2212, 2213, 2208, 2207, 2210, 2419, 2420, 2421, 2418, 2416, 2413, 2412, 2411, 2410, 2409, 2266, 2264, 2262, 2263, 2261, 2267, 2584, 2585, 2349, 2350, 2351, 2352, 2346, 2347, 2354, 2353, 2389, 2391, 2608, 2611, 2610, 2609, 2612, 2204, 2205, 2206, 2282, 2283, 2316, 2317, 2318, 2319, 2436, 2439, 2440, 2441, 2437, 2435, 2302, 2303, 2305, 2306, 2617, 2618, 2620, 2621, 2622, 2615, 2614, 2613, 2623, 2326, 2327, 2328, 2330, 2331, 2332, 2323, 2324, 2203, 2334, 2335, 2336, 2333, 2337, 2477, 2478, 2476, 2479, 2481, 2482, 2484, 2485, 2487, 2489, 2491, 2493, 2214, 2215, 2216, 2217, 2218, 2321, 2322, 2494, 2588, 2591, 2592, 2593, 2590, 2594, 2586, 2310, 2312, 2308, 2386, 2387, 2388, 2385, 2291, 2292, 2293, 2295, 2287, 2285, 2288, 2284, 2297, 2298, 2289, 2497, 2498, 2495, 2504, 2505, 2501, 2507, 2500, 2508, 2509, 2510, 2511, 2513, 2512, 2514, 2515, 2517, 2519, 2520, 2521, 2522, 2524, 2525, 2526, 2527, 2528, 2530, 2533, 2534, 2536, 2537, 2540, 2542, 2538, 2406, 2405, 2404, 2397, 2393, 2401, 2400, 2392, 2399, 2398, 2395, 2394, 2244, 2248, 2243, 2242, 2241, 2250, 2237, 2236, 2235, 2234, 2238, 2251, 2245, 2239, 2252, 2545, 2547, 2546, 2550, 2551, 2549, 2552, 2553, 2554, 2433, 2434, 2431, 2574, 2578, 2575, 2576, 2577, 2581, 2583, 2572, 2571, 2559, 2560, 2569, 2570, 2563, 2565, 2557, 2566, 2567, 2568, 2338, 2345, 2344, 2339, 2342, 2341, 2356, 2368, 2374, 2360, 2376, 2371, 2369, 2361, 2384, 2382, 2362, 2366, 2379, 2380, 2365, 2367, 2364, 2370, 2357, 2373, 2458, 2454, 2255, 2254, 2257, 2259, 2260, 2442, 2443, 2444, 2445, 2447, 2451, 2450, 2279, 2272, 2270, 2274, 2277, 2280, 2275, 2273, 2281, 2422, 2598, 2599, 2601, 2600, 2602, 2604, 2605, 2597, 2606, 2595, 2596, 2461, 2463, 2460, 2464, 2462, 2465, 2466, 2467, 2469, 2471, 2473, 2430, 2425, 2426, 2427, 3]\n",
            "Tour Length:  9715.86\n",
            "Tour:  [0, 2231, 2221, 2213, 2208, 2210, 2417, 2413, 2411, 2408, 2584, 2348, 2354, 2282, 2313, 2305, 2617, 2618, 2327, 2331, 2323, 2335, 2478, 2481, 2488, 2489, 2321, 2494, 2592, 2386, 2387, 2291, 2292, 2297, 2286, 2515, 2523, 2525, 2527, 2536, 2540, 2543, 2538, 2405, 2401, 2395, 2248, 2243, 2242, 2247, 2239, 2252, 2546, 2550, 2554, 2433, 2434, 2583, 2560, 2561, 2558, 2566, 2564, 2556, 2568, 2338, 2341, 2377, 2384, 2358, 2366, 2379, 2359, 2364, 2375, 2455, 2453, 2257, 2445, 2447, 2271, 2269, 2281, 2422, 2599, 2601, 2600, 2606, 2595, 2596, 2466, 2471, 2429, 3]\n",
            "Tour Length:  17156.79\n",
            "Tour:  [0, 2233, 2231, 2230, 2229, 2228, 2225, 2221, 2212, 2412, 2410, 2409, 2408, 2264, 2262, 2263, 2261, 2265, 2267, 2585, 2349, 2351, 2355, 2389, 2391, 2611, 2610, 2612, 2206, 2282, 2314, 2316, 2317, 2318, 2319, 2438, 2439, 2440, 2435, 2301, 2302, 2303, 2304, 2305, 2616, 2618, 2619, 2621, 2622, 2623, 2325, 2326, 2328, 2331, 2324, 2202, 2203, 2335, 2337, 2478, 2479, 2481, 2482, 2484, 2485, 2489, 2492, 2215, 2216, 2217, 2218, 2220, 2494, 2589, 2593, 2310, 2386, 2387, 2385, 2292, 2293, 2294, 2295, 2285, 2288, 2298, 2286, 2289, 2300, 2497, 2498, 2495, 2502, 2503, 2504, 2506, 2500, 2508, 2509, 2510, 2511, 2513, 2514, 2515, 2517, 2518, 2520, 2523, 2524, 2525, 2526, 2527, 2528, 2530, 2536, 2537, 2540, 2542, 2543, 2538, 2544, 2405, 2402, 2393, 2401, 2400, 2399, 2398, 2396, 2395, 2394, 2248, 2242, 2249, 2250, 2237, 2236, 2238, 2251, 2245, 2252, 2547, 2546, 2551, 2549, 2552, 2553, 2554, 2433, 2434, 2431, 2573, 2578, 2582, 2583, 2572, 2571, 2559, 2560, 2561, 2570, 2558, 2562, 2565, 2566, 2556, 2567, 2568, 2345, 2344, 2339, 2343, 2342, 2341, 2363, 2356, 2372, 2368, 2377, 2374, 2360, 2376, 2361, 2384, 2382, 2362, 2366, 2380, 2359, 2381, 2357, 2373, 2375, 2455, 2454, 2257, 2259, 2260, 2442, 2443, 2444, 2445, 2449, 2450, 2452, 2276, 2270, 2269, 2422, 2601, 2600, 2602, 2603, 2604, 2597, 2595, 2596, 2463, 2464, 2462, 2469, 2470, 2468, 2472, 2473, 2474, 2475, 2430, 2429, 2426, 2427, 3]\n",
            "Tour Length:  23831.02\n",
            "Tour:  [0, 2233, 2231, 2230, 2229, 2228, 2224, 2222, 2225, 2221, 2211, 2212, 2213, 2208, 2207, 2210, 2419, 2420, 2421, 2418, 2417, 2416, 2413, 2412, 2411, 2410, 2409, 2408, 2266, 2264, 2262, 2263, 2261, 2265, 2267, 2584, 2585, 2349, 2350, 2348, 2351, 2352, 2346, 2347, 2355, 2354, 2353, 2389, 2391, 2608, 2611, 2610, 2609, 2612, 2204, 2205, 2206, 2282, 2283, 2313, 2314, 2316, 2317, 2318, 2319, 2436, 2438, 2439, 2440, 2441, 2437, 2435, 2301, 2302, 2303, 2304, 2305, 2306, 2616, 2617, 2618, 2619, 2620, 2621, 2622, 2615, 2614, 2613, 2623, 2325, 2326, 2327, 2328, 2330, 2331, 2332, 2323, 2324, 2202, 2203, 2334, 2335, 2336, 2333, 2337, 2477, 2478, 2476, 2479, 2481, 2482, 2484, 2485, 2487, 2488, 2489, 2491, 2492, 2493, 2214, 2215, 2216, 2217, 2218, 2220, 2321, 2322, 2494, 2588, 2589, 2591, 2592, 2593, 2590, 2594, 2586, 2310, 2312, 2308, 2386, 2387, 2388, 2385, 2291, 2292, 2293, 2294, 2295, 2287, 2285, 2288, 2284, 2297, 2298, 2286, 2289, 2300, 2497, 2498, 2495, 2502, 2503, 2504, 2505, 2506, 2501, 2507, 2500, 2508, 2509, 2510, 2511, 2513, 2512, 2514, 2515, 2517, 2518, 2519, 2520, 2521, 2522, 2523, 2524, 2525, 2526, 2527, 2528, 2530, 2533, 2534, 2536, 2537, 2540, 2542, 2543, 2538, 2544, 2406, 2405, 2404, 2402, 2397, 2393, 2401, 2400, 2392, 2399, 2398, 2396, 2395, 2394, 2244, 2248, 2243, 2242, 2241, 2249, 2250, 2237, 2236, 2235, 2234, 2238, 2251, 2247, 2245, 2239, 2252, 2545, 2547, 2546, 2550, 2551, 2549, 2552, 2553, 2554, 2433, 2434, 2431, 2573, 2574, 2578, 2575, 2576, 2577, 2581, 2582, 2583, 2572, 2571, 2559, 2560, 2561, 2569, 2570, 2558, 2562, 2563, 2565, 2557, 2566, 2564, 2556, 2567, 2568, 2338, 2345, 2344, 2339, 2343, 2342, 2341, 2363, 2356, 2372, 2368, 2377, 2374, 2360, 2376, 2371, 2369, 2361, 2384, 2382, 2362, 2358, 2366, 2379, 2380, 2365, 2359, 2381, 2367, 2364, 2370, 2357, 2373, 2375, 2455, 2453, 2458, 2454, 2255, 2254, 2257, 2259, 2260, 2442, 2443, 2444, 2445, 2447, 2451, 2449, 2450, 2452, 2271, 2276, 2279, 2272, 2270, 2274, 2269, 2277, 2280, 2275, 2273, 2281, 2422, 2598, 2599, 2601, 2600, 2602, 2603, 2604, 2605, 2597, 2606, 2595, 2596, 2461, 2463, 2460, 2464, 2462, 2465, 2466, 2467, 2469, 2470, 2468, 2471, 2472, 2473, 2474, 2475, 2430, 2425, 2429, 2426, 2427, 3]\n",
            "Tour Length:  22723.56\n",
            "Tour:  [0, 2233, 2230, 2229, 2228, 2223, 2224, 2225, 2226, 2227, 2221, 2211, 2212, 2213, 2208, 2207, 2210, 2419, 2420, 2421, 2418, 2417, 2416, 2413, 2412, 2410, 2409, 2408, 2266, 2264, 2262, 2263, 2261, 2265, 2267, 2584, 2585, 2349, 2348, 2351, 2352, 2346, 2347, 2355, 2354, 2353, 2389, 2390, 2391, 2608, 2610, 2609, 2612, 2204, 2205, 2206, 2282, 2283, 2313, 2314, 2315, 2317, 2318, 2319, 2436, 2438, 2439, 2440, 2441, 2437, 2435, 2301, 2302, 2303, 2304, 2305, 2306, 2617, 2618, 2619, 2620, 2622, 2615, 2614, 2613, 2623, 2326, 2327, 2328, 2330, 2331, 2332, 2323, 2324, 2334, 2335, 2336, 2333, 2337, 2477, 2476, 2479, 2480, 2483, 2482, 2484, 2485, 2488, 2489, 2490, 2491, 2492, 2214, 2215, 2216, 2217, 2218, 2219, 2220, 2321, 2322, 2494, 2589, 2591, 2592, 2587, 2593, 2590, 2594, 2586, 2310, 2311, 2312, 2309, 2308, 2386, 2387, 2388, 2385, 2292, 2293, 2295, 2296, 2287, 2285, 2284, 2297, 2286, 2289, 2300, 2497, 2498, 2495, 2502, 2503, 2504, 2505, 2506, 2501, 2507, 2500, 2508, 2509, 2513, 2514, 2515, 2517, 2518, 2520, 2499, 2522, 2525, 2527, 2528, 2531, 2532, 2534, 2535, 2536, 2537, 2539, 2540, 2541, 2542, 2543, 2538, 2544, 2406, 2405, 2404, 2403, 2402, 2397, 2393, 2400, 2392, 2398, 2395, 2394, 2244, 2243, 2242, 2241, 2250, 2246, 2237, 2236, 2235, 2234, 2238, 2240, 2247, 2245, 2252, 2253, 2545, 2547, 2546, 2548, 2550, 2551, 2549, 2552, 2553, 2554, 2433, 2434, 2431, 2573, 2574, 2578, 2575, 2577, 2582, 2583, 2572, 2571, 2559, 2560, 2561, 2569, 2558, 2563, 2557, 2566, 2564, 2556, 2567, 2568, 2338, 2345, 2344, 2339, 2343, 2342, 2341, 2340, 2356, 2372, 2368, 2377, 2374, 2376, 2371, 2369, 2361, 2384, 2382, 2362, 2358, 2366, 2379, 2365, 2381, 2364, 2370, 2357, 2378, 2456, 2455, 2453, 2458, 2454, 2255, 2254, 2258, 2257, 2259, 2260, 2442, 2443, 2444, 2447, 2449, 2450, 2452, 2271, 2268, 2278, 2279, 2270, 2274, 2277, 2280, 2275, 2273, 2281, 2422, 2598, 2601, 2600, 2602, 2603, 2604, 2605, 2597, 2606, 2595, 2596, 2461, 2463, 2460, 2464, 2459, 2462, 2465, 2466, 2467, 2469, 2470, 2468, 2471, 2472, 2474, 2430, 2425, 2428, 2426, 2427, 2424, 3]\n",
            "Tour Length:  10110.43\n",
            "Tour:  [0, 2228, 2222, 2211, 2213, 2208, 2207, 2210, 2584, 2348, 2346, 2355, 2354, 2353, 2610, 2612, 2283, 2313, 2317, 2318, 2438, 2302, 2306, 2616, 2619, 2622, 2327, 2330, 2331, 2476, 2487, 2491, 2215, 2219, 2321, 2322, 2588, 2589, 2594, 2386, 2385, 2294, 2287, 2288, 2298, 2497, 2502, 2507, 2510, 2513, 2517, 2499, 2528, 2405, 2403, 2241, 2240, 2245, 2253, 2547, 2546, 2548, 2551, 2553, 2434, 2431, 2575, 2576, 2582, 2565, 2567, 2568, 2377, 2360, 2383, 2362, 2370, 2456, 2454, 2258, 2443, 2448, 2268, 2278, 2276, 2270, 2599, 2602, 2596, 2459, 2470, 2473, 2474, 2426, 3]\n",
            "Tour Length:  14775.94\n",
            "Tour:  [0, 2233, 2230, 2229, 2207, 2420, 2416, 2411, 2408, 2264, 2267, 2584, 2348, 2354, 2389, 2609, 2204, 2206, 2282, 2283, 2313, 2315, 2316, 2317, 2438, 2439, 2437, 2435, 2302, 2304, 2305, 2306, 2616, 2618, 2619, 2620, 2622, 2325, 2326, 2327, 2328, 2329, 2330, 2331, 2332, 2323, 2324, 2202, 2336, 2477, 2478, 2476, 2480, 2484, 2485, 2486, 2489, 2492, 2217, 2218, 2593, 2590, 2312, 2309, 2290, 2292, 2293, 2285, 2288, 2284, 2298, 2286, 2289, 2299, 2300, 2498, 2504, 2506, 2501, 2507, 2508, 2510, 2513, 2514, 2515, 2517, 2499, 2524, 2528, 2529, 2531, 2532, 2533, 2535, 2536, 2539, 2540, 2541, 2538, 2544, 2406, 2405, 2397, 2400, 2395, 2394, 2241, 2235, 2234, 2251, 2247, 2239, 2546, 2548, 2549, 2552, 2553, 2433, 2434, 2576, 2572, 2571, 2559, 2560, 2563, 2557, 2567, 2568, 2338, 2345, 2342, 2377, 2376, 2383, 2369, 2384, 2362, 2380, 2367, 2364, 2370, 2378, 2453, 2256, 2254, 2443, 2445, 2447, 2448, 2271, 2278, 2272, 2274, 2277, 2280, 2275, 2602, 2603, 2605, 2595, 2461, 2463, 2460, 2464, 2462, 2469, 2470, 2472, 2473, 2474, 2430, 2425, 2428, 2426, 2424, 3]\n",
            "Tour Length:  24443.09\n",
            "Tour:  [0, 2233, 2230, 2229, 2228, 2223, 2224, 2222, 2225, 2226, 2227, 2221, 2211, 2212, 2213, 2208, 2207, 2210, 2419, 2420, 2421, 2418, 2417, 2416, 2413, 2412, 2411, 2410, 2409, 2408, 2266, 2264, 2262, 2263, 2261, 2265, 2267, 2584, 2585, 2349, 2348, 2351, 2352, 2346, 2347, 2355, 2354, 2353, 2389, 2390, 2391, 2608, 2610, 2609, 2612, 2204, 2205, 2206, 2282, 2283, 2313, 2314, 2315, 2316, 2317, 2318, 2319, 2436, 2438, 2439, 2440, 2441, 2437, 2435, 2301, 2302, 2303, 2304, 2305, 2306, 2616, 2617, 2618, 2619, 2620, 2622, 2615, 2614, 2613, 2623, 2325, 2326, 2327, 2328, 2329, 2330, 2331, 2332, 2323, 2324, 2202, 2334, 2335, 2336, 2333, 2337, 2477, 2478, 2476, 2479, 2480, 2483, 2482, 2484, 2485, 2486, 2487, 2488, 2489, 2490, 2491, 2492, 2214, 2215, 2216, 2217, 2218, 2219, 2220, 2321, 2322, 2494, 2588, 2589, 2591, 2592, 2587, 2593, 2590, 2594, 2586, 2310, 2311, 2312, 2309, 2308, 2386, 2387, 2388, 2385, 2290, 2292, 2293, 2294, 2295, 2296, 2287, 2285, 2288, 2284, 2297, 2298, 2286, 2289, 2299, 2300, 2497, 2498, 2495, 2502, 2503, 2504, 2505, 2506, 2501, 2507, 2500, 2508, 2509, 2510, 2513, 2514, 2515, 2517, 2518, 2520, 2499, 2522, 2524, 2525, 2527, 2528, 2529, 2531, 2532, 2533, 2534, 2535, 2536, 2537, 2539, 2540, 2541, 2542, 2543, 2538, 2544, 2406, 2405, 2404, 2403, 2402, 2397, 2393, 2400, 2392, 2398, 2395, 2394, 2244, 2243, 2242, 2241, 2250, 2246, 2237, 2236, 2235, 2234, 2238, 2251, 2240, 2247, 2245, 2239, 2252, 2253, 2545, 2547, 2546, 2548, 2550, 2551, 2549, 2552, 2553, 2554, 2433, 2434, 2431, 2573, 2574, 2578, 2575, 2576, 2577, 2582, 2583, 2572, 2571, 2559, 2560, 2561, 2569, 2558, 2563, 2565, 2557, 2566, 2564, 2556, 2567, 2568, 2338, 2345, 2344, 2339, 2343, 2342, 2341, 2340, 2356, 2372, 2368, 2377, 2374, 2360, 2376, 2383, 2371, 2369, 2361, 2384, 2382, 2362, 2358, 2366, 2379, 2380, 2365, 2381, 2367, 2364, 2370, 2357, 2378, 2456, 2455, 2453, 2458, 2454, 2256, 2255, 2254, 2258, 2257, 2259, 2260, 2442, 2443, 2444, 2445, 2447, 2448, 2449, 2450, 2452, 2271, 2268, 2278, 2276, 2279, 2272, 2270, 2274, 2277, 2280, 2275, 2273, 2281, 2422, 2598, 2599, 2601, 2600, 2602, 2603, 2604, 2605, 2597, 2606, 2595, 2596, 2461, 2463, 2460, 2464, 2459, 2462, 2465, 2466, 2467, 2469, 2470, 2468, 2471, 2472, 2473, 2474, 2430, 2425, 2428, 2426, 2427, 2424, 3]\n",
            "Tour Length:  22236.48\n",
            "Tour:  [0, 2233, 2231, 2230, 2229, 2228, 2224, 2222, 2226, 2227, 2211, 2212, 2213, 2208, 2207, 2210, 2419, 2420, 2421, 2418, 2417, 2416, 2413, 2412, 2411, 2410, 2409, 2408, 2266, 2264, 2262, 2263, 2261, 2584, 2585, 2349, 2350, 2348, 2351, 2347, 2355, 2354, 2353, 2389, 2390, 2607, 2611, 2609, 2612, 2204, 2205, 2206, 2282, 2283, 2313, 2314, 2316, 2317, 2318, 2319, 2436, 2438, 2439, 2440, 2441, 2437, 2435, 2302, 2303, 2304, 2305, 2306, 2616, 2617, 2618, 2619, 2620, 2621, 2622, 2615, 2614, 2613, 2623, 2325, 2326, 2327, 2328, 2329, 2331, 2323, 2324, 2202, 2203, 2334, 2335, 2336, 2333, 2337, 2477, 2478, 2476, 2479, 2480, 2481, 2483, 2482, 2484, 2485, 2486, 2488, 2489, 2490, 2491, 2492, 2493, 2214, 2215, 2217, 2218, 2220, 2321, 2322, 2494, 2588, 2592, 2587, 2590, 2594, 2586, 2310, 2386, 2388, 2291, 2292, 2294, 2295, 2296, 2285, 2288, 2284, 2298, 2286, 2289, 2299, 2300, 2497, 2498, 2495, 2502, 2503, 2504, 2505, 2506, 2501, 2507, 2508, 2510, 2511, 2512, 2515, 2517, 2518, 2521, 2522, 2523, 2524, 2525, 2526, 2527, 2528, 2531, 2532, 2535, 2536, 2537, 2540, 2541, 2543, 2544, 2406, 2405, 2404, 2403, 2402, 2397, 2401, 2392, 2399, 2398, 2396, 2395, 2394, 2244, 2248, 2243, 2241, 2249, 2250, 2246, 2237, 2236, 2251, 2247, 2239, 2252, 2253, 2545, 2547, 2546, 2548, 2550, 2551, 2549, 2552, 2553, 2432, 2433, 2434, 2431, 2573, 2579, 2578, 2575, 2576, 2577, 2581, 2582, 2583, 2572, 2571, 2559, 2560, 2561, 2569, 2570, 2558, 2562, 2563, 2565, 2557, 2566, 2564, 2556, 2567, 2568, 2338, 2345, 2344, 2343, 2342, 2341, 2340, 2363, 2368, 2377, 2374, 2360, 2383, 2371, 2361, 2362, 2358, 2366, 2380, 2359, 2364, 2370, 2375, 2456, 2455, 2453, 2457, 2458, 2454, 2256, 2255, 2254, 2258, 2257, 2259, 2442, 2443, 2444, 2445, 2447, 2448, 2450, 2452, 2271, 2268, 2278, 2279, 2272, 2270, 2274, 2275, 2273, 2281, 2422, 2598, 2601, 2600, 2602, 2603, 2604, 2605, 2597, 2606, 2595, 2596, 2461, 2463, 2464, 2459, 2462, 2465, 2467, 2469, 2470, 2471, 2473, 2474, 2475, 2430, 2425, 2426, 2427, 2424, 3]\n",
            "Tour Length:  9318.89\n",
            "Tour:  [0, 2230, 2228, 2224, 2227, 2211, 2208, 2419, 2410, 2263, 2346, 2355, 2314, 2316, 2317, 2440, 2437, 2435, 2305, 2306, 2616, 2619, 2620, 2622, 2614, 2327, 2336, 2476, 2484, 2215, 2494, 2588, 2586, 2300, 2498, 2504, 2513, 2520, 2522, 2527, 2528, 2531, 2533, 2534, 2536, 2541, 2405, 2404, 2244, 2243, 2237, 2247, 2252, 2547, 2550, 2551, 2432, 2434, 2431, 2573, 2579, 2576, 2559, 2561, 2356, 2371, 2378, 2373, 2447, 2448, 2270, 2275, 2273, 2281, 2601, 2604, 2595, 2461, 2462, 2475, 3]\n",
            "Tour Length:  16519.28\n",
            "Tour:  [0, 2233, 2231, 2230, 2229, 2228, 2224, 2225, 2226, 2227, 2208, 2419, 2420, 2416, 2413, 2412, 2409, 2408, 2266, 2264, 2265, 2267, 2584, 2351, 2354, 2353, 2607, 2611, 2609, 2612, 2206, 2282, 2315, 2316, 2317, 2318, 2319, 2439, 2440, 2441, 2437, 2435, 2301, 2302, 2303, 2305, 2617, 2618, 2619, 2621, 2622, 2615, 2613, 2325, 2327, 2330, 2331, 2323, 2324, 2202, 2334, 2335, 2336, 2333, 2337, 2476, 2479, 2480, 2487, 2489, 2490, 2491, 2492, 2493, 2214, 2215, 2216, 2219, 2220, 2321, 2494, 2588, 2591, 2593, 2590, 2594, 2311, 2388, 2292, 2294, 2287, 2285, 2284, 2286, 2299, 2300, 2498, 2503, 2504, 2501, 2510, 2511, 2513, 2512, 2518, 2519, 2520, 2521, 2499, 2524, 2525, 2526, 2528, 2531, 2532, 2536, 2540, 2542, 2405, 2402, 2393, 2392, 2398, 2244, 2243, 2236, 2235, 2251, 2239, 2252, 2253, 2545, 2547, 2546, 2550, 2551, 2549, 2554, 2432, 2433, 2434, 2431, 2580, 2578, 2576, 2577, 2581, 2560, 2563, 2566, 2556, 2568, 2338, 2345, 2344, 2339, 2343, 2342, 2340, 2356, 2372, 2368, 2374, 2376, 2383, 2371, 2369, 2382, 2362, 2358, 2380, 2359, 2367, 2375, 2456, 2457, 2458, 2256, 2254, 2257, 2259, 2260, 2444, 2445, 2447, 2448, 2450, 2452, 2271, 2268, 2278, 2274, 2277, 2280, 2275, 2273, 2599, 2601, 2602, 2604, 2597, 2595, 2464, 2462, 2465, 2466, 2467, 2469, 2470, 2468, 2471, 2475, 2430, 2428, 2429, 2427, 2424, 3]\n",
            "Tour Length:  24121.0\n",
            "Tour:  [0, 2233, 2231, 2230, 2229, 2228, 2224, 2222, 2225, 2226, 2227, 2211, 2212, 2213, 2208, 2207, 2210, 2419, 2420, 2421, 2418, 2417, 2416, 2413, 2412, 2411, 2410, 2409, 2408, 2266, 2264, 2262, 2263, 2261, 2265, 2267, 2584, 2585, 2349, 2350, 2348, 2351, 2346, 2347, 2355, 2354, 2353, 2389, 2390, 2607, 2611, 2609, 2612, 2204, 2205, 2206, 2282, 2283, 2313, 2314, 2315, 2316, 2317, 2318, 2319, 2436, 2438, 2439, 2440, 2441, 2437, 2435, 2301, 2302, 2303, 2304, 2305, 2306, 2616, 2617, 2618, 2619, 2620, 2621, 2622, 2615, 2614, 2613, 2623, 2325, 2326, 2327, 2328, 2329, 2330, 2331, 2323, 2324, 2202, 2203, 2334, 2335, 2336, 2333, 2337, 2477, 2478, 2476, 2479, 2480, 2481, 2483, 2482, 2484, 2485, 2486, 2487, 2488, 2489, 2490, 2491, 2492, 2493, 2214, 2215, 2216, 2217, 2218, 2219, 2220, 2321, 2322, 2494, 2588, 2591, 2592, 2587, 2593, 2590, 2594, 2586, 2310, 2311, 2386, 2388, 2291, 2292, 2294, 2295, 2296, 2287, 2285, 2288, 2284, 2298, 2286, 2289, 2299, 2300, 2497, 2498, 2495, 2502, 2503, 2504, 2505, 2506, 2501, 2507, 2508, 2510, 2511, 2513, 2512, 2515, 2517, 2518, 2519, 2520, 2521, 2499, 2522, 2523, 2524, 2525, 2526, 2527, 2528, 2531, 2532, 2533, 2534, 2535, 2536, 2537, 2540, 2541, 2542, 2543, 2544, 2406, 2405, 2404, 2403, 2402, 2397, 2393, 2401, 2392, 2399, 2398, 2396, 2395, 2394, 2244, 2248, 2243, 2241, 2249, 2250, 2246, 2237, 2236, 2235, 2251, 2247, 2239, 2252, 2253, 2545, 2547, 2546, 2548, 2550, 2551, 2549, 2552, 2553, 2554, 2432, 2433, 2434, 2431, 2580, 2573, 2579, 2578, 2575, 2576, 2577, 2581, 2582, 2583, 2572, 2571, 2559, 2560, 2561, 2569, 2570, 2558, 2562, 2563, 2565, 2557, 2566, 2564, 2556, 2567, 2568, 2338, 2345, 2344, 2339, 2343, 2342, 2341, 2340, 2363, 2356, 2372, 2368, 2377, 2374, 2360, 2376, 2383, 2371, 2369, 2361, 2382, 2362, 2358, 2366, 2380, 2359, 2367, 2364, 2370, 2378, 2373, 2375, 2456, 2455, 2453, 2457, 2458, 2454, 2256, 2255, 2254, 2258, 2257, 2259, 2260, 2442, 2443, 2444, 2445, 2447, 2448, 2450, 2452, 2271, 2268, 2278, 2279, 2272, 2270, 2274, 2277, 2280, 2275, 2273, 2281, 2422, 2598, 2599, 2601, 2600, 2602, 2603, 2604, 2605, 2597, 2606, 2595, 2596, 2461, 2463, 2464, 2459, 2462, 2465, 2466, 2467, 2469, 2470, 2468, 2471, 2473, 2474, 2475, 2430, 2425, 2428, 2429, 2426, 2427, 2424, 3]\n",
            "Tour Length:  22144.78\n",
            "Tour:  [0, 2231, 2230, 2228, 2223, 2224, 2225, 2226, 2221, 2212, 2213, 2208, 2210, 2419, 2420, 2421, 2418, 2417, 2416, 2413, 2412, 2411, 2410, 2409, 2408, 2266, 2264, 2262, 2263, 2261, 2584, 2585, 2349, 2350, 2351, 2352, 2346, 2354, 2353, 2389, 2390, 2391, 2607, 2611, 2609, 2612, 2204, 2205, 2206, 2282, 2283, 2313, 2314, 2315, 2316, 2317, 2318, 2319, 2436, 2438, 2439, 2440, 2441, 2437, 2435, 2301, 2302, 2303, 2304, 2305, 2306, 2617, 2618, 2619, 2620, 2621, 2622, 2615, 2614, 2613, 2623, 2325, 2327, 2328, 2329, 2330, 2331, 2332, 2323, 2203, 2334, 2335, 2336, 2333, 2477, 2478, 2480, 2483, 2482, 2486, 2487, 2488, 2489, 2490, 2491, 2492, 2493, 2214, 2215, 2216, 2217, 2218, 2219, 2220, 2321, 2322, 2494, 2588, 2589, 2590, 2594, 2586, 2310, 2311, 2312, 2309, 2308, 2386, 2387, 2388, 2290, 2292, 2293, 2294, 2296, 2287, 2298, 2289, 2299, 2300, 2497, 2498, 2495, 2504, 2506, 2507, 2500, 2508, 2513, 2512, 2514, 2515, 2517, 2519, 2521, 2499, 2522, 2524, 2525, 2526, 2527, 2528, 2529, 2530, 2531, 2533, 2534, 2535, 2536, 2537, 2539, 2540, 2542, 2543, 2538, 2544, 2406, 2405, 2404, 2403, 2402, 2397, 2393, 2401, 2400, 2398, 2396, 2395, 2394, 2244, 2248, 2243, 2242, 2241, 2249, 2246, 2237, 2236, 2235, 2234, 2238, 2251, 2240, 2247, 2245, 2239, 2252, 2253, 2545, 2547, 2546, 2548, 2550, 2551, 2549, 2552, 2554, 2432, 2433, 2434, 2431, 2573, 2579, 2578, 2575, 2576, 2581, 2582, 2583, 2572, 2571, 2560, 2561, 2569, 2570, 2562, 2563, 2565, 2566, 2564, 2556, 2567, 2338, 2345, 2344, 2343, 2341, 2363, 2356, 2372, 2368, 2374, 2376, 2371, 2369, 2361, 2384, 2382, 2362, 2358, 2366, 2379, 2380, 2365, 2359, 2381, 2367, 2364, 2370, 2357, 2378, 2373, 2375, 2456, 2455, 2453, 2454, 2256, 2255, 2254, 2258, 2257, 2259, 2260, 2442, 2443, 2444, 2445, 2447, 2450, 2452, 2271, 2268, 2278, 2279, 2272, 2270, 2269, 2277, 2280, 2273, 2281, 2422, 2598, 2599, 2601, 2600, 2602, 2603, 2604, 2605, 2597, 2606, 2595, 2596, 2463, 2464, 2459, 2462, 2465, 2466, 2467, 2469, 2470, 2471, 2473, 2474, 2430, 2428, 2426, 2427, 2424, 3]\n",
            "Tour Length:  10872.3\n",
            "Tour:  [0, 2231, 2230, 2228, 2225, 2227, 2213, 2207, 2266, 2349, 2350, 2348, 2351, 2352, 2347, 2354, 2353, 2391, 2283, 2313, 2436, 2439, 2440, 2437, 2435, 2617, 2618, 2619, 2623, 2327, 2331, 2324, 2479, 2480, 2484, 2485, 2489, 2215, 2216, 2218, 2494, 2589, 2592, 2587, 2309, 2291, 2295, 2285, 2288, 2502, 2503, 2509, 2515, 2517, 2499, 2524, 2525, 2526, 2527, 2528, 2531, 2532, 2536, 2539, 2540, 2541, 2406, 2402, 2397, 2401, 2399, 2394, 2243, 2239, 2252, 2546, 2550, 2553, 2434, 2431, 2571, 2558, 2562, 2563, 2345, 2343, 2340, 2368, 2369, 2362, 2454, 2257, 2445, 2268, 2278, 2279, 2272, 2270, 2274, 2277, 2275, 2281, 2600, 2603, 2595, 2460, 2464, 2459, 2424, 3]\n",
            "Tour Length:  16910.44\n",
            "Tour:  [0, 2231, 2228, 2223, 2225, 2221, 2213, 2419, 2416, 2410, 2409, 2408, 2266, 2264, 2262, 2263, 2265, 2585, 2349, 2350, 2348, 2351, 2355, 2353, 2391, 2607, 2608, 2611, 2610, 2612, 2282, 2315, 2317, 2319, 2436, 2440, 2441, 2437, 2435, 2302, 2303, 2305, 2306, 2619, 2620, 2622, 2615, 2613, 2326, 2327, 2328, 2331, 2332, 2323, 2324, 2203, 2334, 2335, 2337, 2477, 2476, 2486, 2489, 2491, 2214, 2215, 2217, 2218, 2220, 2494, 2588, 2591, 2592, 2590, 2594, 2586, 2310, 2311, 2385, 2291, 2292, 2294, 2295, 2296, 2287, 2285, 2284, 2289, 2299, 2300, 2495, 2504, 2506, 2501, 2507, 2509, 2510, 2513, 2512, 2514, 2515, 2519, 2520, 2521, 2499, 2523, 2524, 2526, 2528, 2530, 2534, 2535, 2536, 2539, 2541, 2538, 2544, 2406, 2405, 2404, 2403, 2402, 2393, 2242, 2250, 2237, 2236, 2234, 2238, 2240, 2247, 2245, 2239, 2252, 2547, 2546, 2548, 2550, 2553, 2554, 2432, 2433, 2434, 2431, 2580, 2576, 2577, 2581, 2559, 2560, 2561, 2569, 2562, 2565, 2557, 2566, 2564, 2556, 2338, 2339, 2343, 2356, 2372, 2374, 2360, 2383, 2371, 2384, 2382, 2362, 2366, 2359, 2364, 2370, 2357, 2373, 2455, 2256, 2255, 2259, 2260, 2443, 2444, 2447, 2448, 2450, 2452, 2271, 2268, 2278, 2279, 2272, 2275, 2273, 2281, 2422, 2599, 2600, 2602, 2603, 2604, 2597, 2595, 2596, 2463, 2460, 2464, 2459, 2462, 2465, 2467, 2469, 2468, 2471, 2473, 2430, 2429, 2426, 2427, 2424, 3]\n",
            "Tour Length:  24553.82\n",
            "Tour:  [0, 2231, 2230, 2228, 2223, 2224, 2225, 2226, 2227, 2221, 2212, 2213, 2208, 2207, 2210, 2419, 2420, 2421, 2418, 2417, 2416, 2413, 2412, 2411, 2410, 2409, 2408, 2266, 2264, 2262, 2263, 2261, 2265, 2584, 2585, 2349, 2350, 2348, 2351, 2352, 2346, 2347, 2355, 2354, 2353, 2389, 2390, 2391, 2607, 2608, 2611, 2610, 2609, 2612, 2204, 2205, 2206, 2282, 2283, 2313, 2314, 2315, 2316, 2317, 2318, 2319, 2436, 2438, 2439, 2440, 2441, 2437, 2435, 2301, 2302, 2303, 2304, 2305, 2306, 2617, 2618, 2619, 2620, 2621, 2622, 2615, 2614, 2613, 2623, 2325, 2326, 2327, 2328, 2329, 2330, 2331, 2332, 2323, 2324, 2203, 2334, 2335, 2336, 2333, 2337, 2477, 2478, 2476, 2479, 2480, 2483, 2482, 2484, 2485, 2486, 2487, 2488, 2489, 2490, 2491, 2492, 2493, 2214, 2215, 2216, 2217, 2218, 2219, 2220, 2321, 2322, 2494, 2588, 2589, 2591, 2592, 2587, 2590, 2594, 2586, 2310, 2311, 2312, 2309, 2308, 2386, 2387, 2388, 2385, 2290, 2291, 2292, 2293, 2294, 2295, 2296, 2287, 2285, 2288, 2284, 2298, 2289, 2299, 2300, 2497, 2498, 2495, 2502, 2503, 2504, 2506, 2501, 2507, 2500, 2508, 2509, 2510, 2513, 2512, 2514, 2515, 2517, 2519, 2520, 2521, 2499, 2522, 2523, 2524, 2525, 2526, 2527, 2528, 2529, 2530, 2531, 2532, 2533, 2534, 2535, 2536, 2537, 2539, 2540, 2541, 2542, 2543, 2538, 2544, 2406, 2405, 2404, 2403, 2402, 2397, 2393, 2401, 2400, 2399, 2398, 2396, 2395, 2394, 2244, 2248, 2243, 2242, 2241, 2249, 2250, 2246, 2237, 2236, 2235, 2234, 2238, 2251, 2240, 2247, 2245, 2239, 2252, 2253, 2545, 2547, 2546, 2548, 2550, 2551, 2549, 2552, 2553, 2554, 2432, 2433, 2434, 2431, 2580, 2573, 2579, 2578, 2575, 2576, 2577, 2581, 2582, 2583, 2572, 2571, 2559, 2560, 2561, 2569, 2570, 2558, 2562, 2563, 2565, 2557, 2566, 2564, 2556, 2567, 2338, 2345, 2344, 2339, 2343, 2341, 2340, 2363, 2356, 2372, 2368, 2374, 2360, 2376, 2383, 2371, 2369, 2361, 2384, 2382, 2362, 2358, 2366, 2379, 2380, 2365, 2359, 2381, 2367, 2364, 2370, 2357, 2378, 2373, 2375, 2456, 2455, 2453, 2454, 2256, 2255, 2254, 2258, 2257, 2259, 2260, 2442, 2443, 2444, 2445, 2447, 2448, 2450, 2452, 2271, 2268, 2278, 2279, 2272, 2270, 2274, 2269, 2277, 2280, 2275, 2273, 2281, 2422, 2598, 2599, 2601, 2600, 2602, 2603, 2604, 2605, 2597, 2606, 2595, 2596, 2463, 2460, 2464, 2459, 2462, 2465, 2466, 2467, 2469, 2470, 2468, 2471, 2473, 2474, 2430, 2428, 2429, 2426, 2427, 2424, 3]\n",
            "Tour Length:  9346.28\n",
            "Tour:  [0, 2229, 2213, 2419, 2413, 2410, 2409, 2263, 2349, 2351, 2346, 2391, 2607, 2282, 2438, 2439, 2435, 2305, 2622, 2623, 2325, 2327, 2334, 2337, 2477, 2479, 2481, 2492, 2321, 2322, 2586, 2311, 2309, 2500, 2508, 2512, 2518, 2529, 2539, 2540, 2542, 2399, 2252, 2545, 2548, 2552, 2433, 2431, 2583, 2565, 2557, 2566, 2567, 2338, 2377, 2371, 2373, 2456, 2455, 2256, 2271, 2279, 2280, 2281, 2422, 2597, 2606, 2596, 2461, 2463, 2459, 2467, 2471, 2424, 3]\n",
            "Tour Length:  6070.95\n",
            "Tour:  [0, 2208, 2408, 2390, 2282, 2440, 2331, 2485, 2591, 2308, 2290, 2297, 2298, 2508, 2532, 2544, 2245, 2547, 2548, 2574, 2578, 2575, 2569, 2338, 2358, 2381, 2375, 2448, 2449, 2274, 2269, 2598, 2595, 2472, 3]\n",
            "Tour Length:  0.0\n",
            "Tour:  [0, 3]\n",
            "Tour Length:  10824.6\n",
            "Tour:  [0, 2229, 2213, 2208, 2419, 2413, 2410, 2409, 2408, 2263, 2349, 2351, 2346, 2390, 2391, 2607, 2282, 2438, 2439, 2440, 2435, 2305, 2622, 2623, 2325, 2327, 2331, 2334, 2337, 2477, 2479, 2481, 2485, 2492, 2321, 2322, 2591, 2586, 2311, 2309, 2308, 2290, 2297, 2298, 2500, 2508, 2512, 2518, 2529, 2532, 2539, 2540, 2542, 2544, 2399, 2245, 2252, 2545, 2547, 2548, 2552, 2433, 2431, 2574, 2578, 2575, 2583, 2569, 2565, 2557, 2566, 2567, 2338, 2377, 2371, 2358, 2381, 2373, 2375, 2456, 2455, 2256, 2448, 2449, 2271, 2279, 2274, 2269, 2280, 2281, 2422, 2598, 2597, 2606, 2595, 2596, 2461, 2463, 2459, 2467, 2471, 2472, 2424, 3]\n",
            "Tour Length:  22175.29\n",
            "Tour:  [0, 2233, 2231, 2230, 2229, 2228, 2222, 2225, 2226, 2227, 2211, 2213, 2208, 2207, 2210, 2419, 2420, 2418, 2417, 2416, 2413, 2412, 2411, 2410, 2409, 2408, 2266, 2264, 2262, 2263, 2261, 2265, 2584, 2585, 2349, 2350, 2348, 2351, 2352, 2346, 2347, 2355, 2354, 2353, 2389, 2390, 2607, 2608, 2610, 2204, 2205, 2206, 2282, 2283, 2314, 2315, 2316, 2317, 2319, 2436, 2438, 2439, 2440, 2441, 2437, 2435, 2301, 2302, 2303, 2304, 2305, 2306, 2616, 2617, 2618, 2619, 2620, 2622, 2614, 2613, 2327, 2328, 2329, 2330, 2331, 2332, 2323, 2324, 2202, 2203, 2334, 2335, 2336, 2333, 2337, 2478, 2476, 2479, 2480, 2483, 2484, 2485, 2486, 2487, 2488, 2489, 2490, 2491, 2214, 2215, 2216, 2217, 2218, 2219, 2220, 2321, 2322, 2494, 2588, 2589, 2591, 2592, 2587, 2593, 2590, 2586, 2310, 2311, 2309, 2386, 2387, 2385, 2291, 2292, 2293, 2296, 2287, 2285, 2288, 2284, 2297, 2289, 2299, 2300, 2497, 2498, 2502, 2504, 2501, 2507, 2500, 2508, 2509, 2510, 2511, 2512, 2515, 2519, 2520, 2499, 2522, 2524, 2526, 2527, 2528, 2529, 2530, 2531, 2532, 2533, 2534, 2535, 2536, 2537, 2539, 2540, 2543, 2538, 2544, 2406, 2405, 2403, 2402, 2397, 2393, 2401, 2400, 2392, 2398, 2396, 2395, 2394, 2248, 2243, 2242, 2241, 2249, 2250, 2246, 2237, 2236, 2235, 2234, 2238, 2251, 2240, 2247, 2245, 2239, 2252, 2547, 2546, 2548, 2550, 2549, 2432, 2433, 2434, 2431, 2573, 2579, 2574, 2578, 2576, 2577, 2581, 2582, 2583, 2572, 2571, 2560, 2561, 2569, 2558, 2562, 2563, 2565, 2557, 2566, 2564, 2556, 2567, 2338, 2344, 2343, 2342, 2341, 2363, 2372, 2374, 2360, 2376, 2383, 2371, 2369, 2384, 2382, 2362, 2358, 2366, 2379, 2380, 2365, 2359, 2381, 2367, 2364, 2370, 2357, 2378, 2456, 2455, 2453, 2457, 2458, 2454, 2255, 2254, 2257, 2259, 2260, 2442, 2443, 2444, 2445, 2447, 2448, 2449, 2450, 2452, 2271, 2268, 2278, 2276, 2279, 2272, 2270, 2269, 2280, 2273, 2281, 2422, 2598, 2599, 2601, 2600, 2602, 2603, 2604, 2605, 2597, 2606, 2595, 2596, 2461, 2460, 2464, 2459, 2462, 2465, 2467, 2469, 2470, 2471, 2472, 2473, 2430, 2425, 2428, 2429, 2426, 2427, 2424, 3]\n",
            "Tour Length:  9464.39\n",
            "Tour:  [0, 2231, 2230, 2227, 2221, 2211, 2213, 2207, 2210, 2418, 2351, 2352, 2347, 2354, 2608, 2282, 2440, 2441, 2305, 2618, 2623, 2327, 2328, 2331, 2477, 2486, 2487, 2214, 2215, 2321, 2322, 2494, 2589, 2591, 2593, 2385, 2293, 2295, 2296, 2284, 2286, 2300, 2503, 2504, 2507, 2500, 2511, 2522, 2523, 2524, 2527, 2530, 2532, 2536, 2537, 2540, 2538, 2406, 2402, 2392, 2398, 2395, 2243, 2249, 2246, 2235, 2239, 2545, 2547, 2434, 2580, 2579, 2576, 2560, 2566, 2338, 2344, 2372, 2373, 2456, 2453, 2256, 2443, 2450, 2268, 2278, 2273, 2598, 2599, 2602, 2595, 2462, 2469, 2468, 2471, 2424, 3]\n",
            "Tour Length:  17146.81\n",
            "Tour:  [0, 2233, 2230, 2228, 2224, 2222, 2225, 2211, 2213, 2207, 2418, 2417, 2413, 2411, 2410, 2408, 2262, 2263, 2267, 2584, 2585, 2351, 2352, 2346, 2354, 2390, 2391, 2607, 2608, 2610, 2612, 2205, 2206, 2282, 2313, 2316, 2318, 2319, 2439, 2440, 2302, 2305, 2616, 2618, 2619, 2620, 2622, 2615, 2614, 2613, 2327, 2328, 2330, 2331, 2332, 2324, 2202, 2203, 2334, 2333, 2337, 2477, 2479, 2483, 2484, 2485, 2487, 2489, 2490, 2491, 2492, 2216, 2218, 2219, 2220, 2322, 2590, 2586, 2311, 2312, 2309, 2308, 2388, 2385, 2291, 2292, 2293, 2294, 2295, 2296, 2287, 2285, 2297, 2298, 2289, 2299, 2300, 2497, 2502, 2503, 2504, 2505, 2506, 2507, 2508, 2511, 2518, 2521, 2499, 2522, 2523, 2524, 2525, 2526, 2527, 2528, 2530, 2532, 2533, 2534, 2536, 2541, 2538, 2406, 2405, 2404, 2393, 2401, 2400, 2398, 2396, 2394, 2244, 2243, 2242, 2241, 2236, 2235, 2238, 2251, 2240, 2245, 2239, 2252, 2253, 2547, 2546, 2548, 2550, 2549, 2552, 2554, 2432, 2433, 2434, 2431, 2580, 2573, 2579, 2578, 2575, 2576, 2577, 2582, 2583, 2572, 2560, 2569, 2562, 2563, 2565, 2566, 2567, 2568, 2338, 2345, 2343, 2341, 2356, 2372, 2360, 2371, 2361, 2362, 2379, 2380, 2365, 2373, 2375, 2256, 2255, 2257, 2259, 2260, 2442, 2443, 2444, 2445, 2447, 2448, 2450, 2271, 2268, 2276, 2270, 2269, 2280, 2275, 2281, 2422, 2600, 2602, 2595, 2463, 2460, 2464, 2465, 2467, 2469, 2470, 2468, 2429, 2426, 2427, 2424, 3]\n",
            "Tour Length:  24304.16\n",
            "Tour:  [0, 2233, 2231, 2230, 2229, 2228, 2224, 2222, 2225, 2226, 2227, 2221, 2211, 2213, 2208, 2207, 2210, 2419, 2420, 2418, 2417, 2416, 2413, 2412, 2411, 2410, 2409, 2408, 2266, 2264, 2262, 2263, 2261, 2265, 2267, 2584, 2585, 2349, 2350, 2348, 2351, 2352, 2346, 2347, 2355, 2354, 2353, 2389, 2390, 2391, 2607, 2608, 2610, 2612, 2204, 2205, 2206, 2282, 2283, 2313, 2314, 2315, 2316, 2317, 2318, 2319, 2436, 2438, 2439, 2440, 2441, 2437, 2435, 2301, 2302, 2303, 2304, 2305, 2306, 2616, 2617, 2618, 2619, 2620, 2622, 2615, 2614, 2613, 2623, 2327, 2328, 2329, 2330, 2331, 2332, 2323, 2324, 2202, 2203, 2334, 2335, 2336, 2333, 2337, 2477, 2478, 2476, 2479, 2480, 2483, 2484, 2485, 2486, 2487, 2488, 2489, 2490, 2491, 2492, 2214, 2215, 2216, 2217, 2218, 2219, 2220, 2321, 2322, 2494, 2588, 2589, 2591, 2592, 2587, 2593, 2590, 2586, 2310, 2311, 2312, 2309, 2308, 2386, 2387, 2388, 2385, 2291, 2292, 2293, 2294, 2295, 2296, 2287, 2285, 2288, 2284, 2297, 2298, 2286, 2289, 2299, 2300, 2497, 2498, 2502, 2503, 2504, 2505, 2506, 2501, 2507, 2500, 2508, 2509, 2510, 2511, 2512, 2515, 2518, 2519, 2520, 2521, 2499, 2522, 2523, 2524, 2525, 2526, 2527, 2528, 2529, 2530, 2531, 2532, 2533, 2534, 2535, 2536, 2537, 2539, 2540, 2541, 2543, 2538, 2544, 2406, 2405, 2404, 2403, 2402, 2397, 2393, 2401, 2400, 2392, 2398, 2396, 2395, 2394, 2244, 2248, 2243, 2242, 2241, 2249, 2250, 2246, 2237, 2236, 2235, 2234, 2238, 2251, 2240, 2247, 2245, 2239, 2252, 2253, 2545, 2547, 2546, 2548, 2550, 2549, 2552, 2554, 2432, 2433, 2434, 2431, 2580, 2573, 2579, 2574, 2578, 2575, 2576, 2577, 2581, 2582, 2583, 2572, 2571, 2560, 2561, 2569, 2558, 2562, 2563, 2565, 2557, 2566, 2564, 2556, 2567, 2568, 2338, 2345, 2344, 2343, 2342, 2341, 2363, 2356, 2372, 2374, 2360, 2376, 2383, 2371, 2369, 2361, 2384, 2382, 2362, 2358, 2366, 2379, 2380, 2365, 2359, 2381, 2367, 2364, 2370, 2357, 2378, 2373, 2375, 2456, 2455, 2453, 2457, 2458, 2454, 2256, 2255, 2254, 2257, 2259, 2260, 2442, 2443, 2444, 2445, 2447, 2448, 2449, 2450, 2452, 2271, 2268, 2278, 2276, 2279, 2272, 2270, 2269, 2280, 2275, 2273, 2281, 2422, 2598, 2599, 2601, 2600, 2602, 2603, 2604, 2605, 2597, 2606, 2595, 2596, 2461, 2463, 2460, 2464, 2459, 2462, 2465, 2467, 2469, 2470, 2468, 2471, 2472, 2473, 2430, 2425, 2428, 2429, 2426, 2427, 2424, 3]\n"
          ]
        }
      ]
    },
    {
      "cell_type": "code",
      "source": [],
      "metadata": {
        "id": "wbdWFn--jwYs"
      },
      "execution_count": null,
      "outputs": []
    }
  ],
  "metadata": {
    "kernelspec": {
      "display_name": "rwth_ml",
      "language": "python",
      "name": "python3"
    },
    "language_info": {
      "codemirror_mode": {
        "name": "ipython",
        "version": 3
      },
      "file_extension": ".py",
      "mimetype": "text/x-python",
      "name": "python",
      "nbconvert_exporter": "python",
      "pygments_lexer": "ipython3",
      "version": "3.6.9"
    },
    "orig_nbformat": 4,
    "colab": {
      "provenance": []
    }
  },
  "nbformat": 4,
  "nbformat_minor": 0
}