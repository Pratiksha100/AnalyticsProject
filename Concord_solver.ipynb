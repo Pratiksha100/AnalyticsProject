{
  "cells": [
    {
      "cell_type": "markdown",
      "metadata": {
        "id": "view-in-github",
        "colab_type": "text"
      },
      "source": [
        "<a href=\"https://colab.research.google.com/github/Pratiksha100/AnalyticsProject/blob/akshay%2F443308/Concord_solver.ipynb\" target=\"_parent\"><img src=\"https://colab.research.google.com/assets/colab-badge.svg\" alt=\"Open In Colab\"/></a>"
      ]
    },
    {
      "cell_type": "code",
      "execution_count": null,
      "metadata": {
        "colab": {
          "base_uri": "https://localhost:8080/"
        },
        "id": "14AY60nKgsWr",
        "outputId": "711b8b3f-9e76-4d6d-d4d8-9a024d59d5ff"
      },
      "outputs": [
        {
          "name": "stdout",
          "output_type": "stream",
          "text": [
            "Looking in indexes: https://pypi.org/simple, https://us-python.pkg.dev/colab-wheels/public/simple/\n",
            "Collecting git+https://github.com/jvkersch/pyconcorde\n",
            "  Cloning https://github.com/jvkersch/pyconcorde to /tmp/pip-req-build-4y2wcpua\n",
            "  Running command git clone --filter=blob:none --quiet https://github.com/jvkersch/pyconcorde /tmp/pip-req-build-4y2wcpua\n",
            "  Resolved https://github.com/jvkersch/pyconcorde to commit 71232a8043a3ca79a7a6da2f48e9d89d81d37163\n",
            "  Installing build dependencies ... \u001b[?25l\u001b[?25hdone\n",
            "  Getting requirements to build wheel ... \u001b[?25l\u001b[?25hdone\n",
            "  Installing backend dependencies ... \u001b[?25l\u001b[?25hdone\n",
            "  Preparing metadata (pyproject.toml) ... \u001b[?25l\u001b[?25hdone\n",
            "Requirement already satisfied: cython>=0.22.0 in /usr/local/lib/python3.10/dist-packages (from pyconcorde==0.1.0) (0.29.34)\n",
            "Requirement already satisfied: numpy>=1.10.0 in /usr/local/lib/python3.10/dist-packages (from pyconcorde==0.1.0) (1.22.4)\n",
            "Building wheels for collected packages: pyconcorde\n",
            "  Building wheel for pyconcorde (pyproject.toml) ... \u001b[?25l\u001b[?25hdone\n",
            "  Created wheel for pyconcorde: filename=pyconcorde-0.1.0-cp310-cp310-linux_x86_64.whl size=2494564 sha256=5a4a3797330a106822deef1d567e996452c702e5f9fb7b313704d4160d998bec\n",
            "  Stored in directory: /tmp/pip-ephem-wheel-cache-_0x9uhk4/wheels/be/9f/eb/e4f95e06e62f057a045679e4940e536d1b251d1ab4859c6dcc\n",
            "Successfully built pyconcorde\n",
            "Installing collected packages: pyconcorde\n",
            "Successfully installed pyconcorde-0.1.0\n"
          ]
        }
      ],
      "source": [
        "!pip install git+https://github.com/jvkersch/pyconcorde"
      ]
    },
    {
      "cell_type": "code",
      "execution_count": null,
      "metadata": {
        "colab": {
          "base_uri": "https://localhost:8080/"
        },
        "id": "Zwa09lBdZn0x",
        "outputId": "8383dced-fbdb-4157-e2fb-18fc07d1ea9a"
      },
      "outputs": [
        {
          "name": "stdout",
          "output_type": "stream",
          "text": [
            "Mounted at /content/drive\n"
          ]
        }
      ],
      "source": [
        "from google.colab import drive\n",
        "import numpy as np\n",
        "drive.mount('/content/drive')"
      ]
    },
    {
      "cell_type": "code",
      "execution_count": null,
      "metadata": {
        "colab": {
          "base_uri": "https://localhost:8080/"
        },
        "id": "D2nIgbekgzZh",
        "outputId": "6afbba01-273d-4f69-abf7-68e801d389d4"
      },
      "outputs": [
        {
          "name": "stdout",
          "output_type": "stream",
          "text": [
            "True\n",
            "92650.0\n",
            "[0 1 2 ... 5 4 3]\n"
          ]
        }
      ],
      "source": [
        "#Testing the concord solver on a sample file\n",
        "from concorde.tsp import TSPSolver\n",
        "from concorde.tests.data_utils import get_dataset_path\n",
        "\n",
        "fname = '/content/drive/MyDrive/analytics/si1000.tsp'\n",
        "solver = TSPSolver.from_tspfile(fname)\n",
        "solution = solver.solve()\n",
        "\n",
        "print(solution.found_tour)\n",
        "\n",
        "print(solution.optimal_value)\n",
        "\n",
        "print(solution.tour)"
      ]
    },
    {
      "cell_type": "code",
      "execution_count": null,
      "metadata": {
        "id": "nuTCDcgFvxD8"
      },
      "outputs": [],
      "source": [
        "import numpy as np\n",
        "def create_dist_mat_from_atsp(path_of_file): #input : path of the .atsp file\n",
        "    # specify the path to the .atsp file\n",
        "    file_path = path_of_file\n",
        "    print(file_path)\n",
        "\n",
        "\n",
        "    # initialize variables\n",
        "    n_nodes = None\n",
        "    dist_matrix = []\n",
        "\n",
        "    # open and read the file\n",
        "    with open(file_path) as f:\n",
        "        for line in f:\n",
        "            # extract the number of nodes\n",
        "            if \"DIMENSION\" in line:\n",
        "                n_nodes = int(line.split(\":\")[1].strip())\n",
        "            # extract the distance matrix\n",
        "            elif \"EDGE_WEIGHT_SECTION\" in line:\n",
        "                while True:\n",
        "                    line = f.readline()\n",
        "                    if \"EOF\" in line:\n",
        "                        break\n",
        "                    dist_matrix.append(list(map(int, line.split())))\n",
        "            # continue reading until end of file\n",
        "            elif \"EOF\" in line:\n",
        "                break\n",
        "\n",
        "\n",
        "    #resizing the distance matrix to a square matrix\n",
        "    list_of_lists = dist_matrix\n",
        "\n",
        "    flat_list = []\n",
        "    for sublist in list_of_lists:\n",
        "        for item in sublist:\n",
        "            flat_list.append(item)\n",
        "\n",
        "\n",
        "    # Example 1D list\n",
        "    lst = flat_list\n",
        "\n",
        "    # Calculate the size of the square matrix\n",
        "    n = len(lst)\n",
        "    size = int(np.sqrt(n))\n",
        "\n",
        "    # Reshape the 1D list into a 2D numpy array with the desired shape\n",
        "    arr = np.reshape(lst, (size, size))\n",
        "\n",
        "    # Print the resulting array\n",
        "    dist_mat = np.array(arr)\n",
        "\n",
        "    print(\"No of cities : \"  , n_nodes)\n",
        "    print(dist_mat.shape)\n",
        "    return dist_mat #returns the distance matrix"
      ]
    },
    {
      "cell_type": "code",
      "execution_count": null,
      "metadata": {
        "id": "KM07c_yhtXUm"
      },
      "outputs": [],
      "source": [
        "\n",
        "\n",
        "def create_dist_mat_from_atsp(path_of_file): #input : path of the .atsp file\n",
        "    # specify the path to the .atsp file\n",
        "    file_path = path_of_file\n",
        "    print(file_path)\n",
        "\n",
        "\n",
        "    # initialize variables\n",
        "    n_nodes = None\n",
        "    dist_matrix = []\n",
        "\n",
        "    # open and read the file\n",
        "    with open(file_path) as f:\n",
        "        for line in f:\n",
        "            # extract the number of nodes\n",
        "            if \"DIMENSION\" in line:\n",
        "                n_nodes = int(line.split(\":\")[1].strip())\n",
        "            # extract the distance matrix\n",
        "            elif \"EDGE_WEIGHT_SECTION\" in line:\n",
        "                while True:\n",
        "                    line = f.readline()\n",
        "                    if \"EOF\" in line:\n",
        "                        break\n",
        "                    dist_matrix.append(list(map(int, line.split())))\n",
        "            # continue reading until end of file\n",
        "            elif \"EOF\" in line:\n",
        "                break\n",
        "\n",
        "\n",
        "    #resizing the distance matrix to a square matrix\n",
        "    list_of_lists = dist_matrix\n",
        "\n",
        "    # return list_of_lists    \n",
        "\n",
        "    flat_list = []\n",
        "    for sublist in list_of_lists:\n",
        "        for item in sublist:\n",
        "            flat_list.append(item)\n",
        "\n",
        "\n",
        "    # Example 1D list\n",
        "    lst = flat_list\n",
        "    # return lst\n",
        "\n",
        "    # Calculate the size of the square matrix\n",
        "    n = len(lst)\n",
        "    size = int(np.sqrt(n))\n",
        "\n",
        "    #print the length of the list\n",
        "    print(n)\n",
        "    # Reshape the 1D list into a 2D numpy array with the desired shape\n",
        "    arr = np.reshape(lst, (size, size))\n",
        "\n",
        "    \n",
        "\n",
        "    # Print the resulting array\n",
        "    dist_mat = np.array(arr)\n",
        "\n",
        "    print(\"No of cities : \"  , n_nodes)\n",
        "    print(dist_mat.shape)\n",
        "    return dist_mat #returns the distance matrix as a numpy array\n",
        "\n",
        "def make_symmetric(distances): #input a assymentric distance matrix as a numpy array\n",
        "    n = len(distances)\n",
        "    distances_converted = []\n",
        "    bigM = 1000000\n",
        "\n",
        "    for cnt1 in range(0, n):\n",
        "        tmp = []\n",
        "        for cnt2 in range(0, n):\n",
        "            tmp.append(bigM)\n",
        "\n",
        "        for cnt2 in range(0, n):\n",
        "            if cnt1 == cnt2:\n",
        "                tmp.append(-bigM)    # from node to dummy node\n",
        "            else:\n",
        "                tmp.append(distances[cnt2][cnt1])\n",
        "\n",
        "        distances_converted.append(tmp)\n",
        "\n",
        "    # lower part of matrix (outgoing edges)\n",
        "    for cnt1 in range(0, n):\n",
        "        tmp = []\n",
        "        for cnt2 in range(0, n):\n",
        "            if cnt1 == cnt2:\n",
        "                tmp.append(-bigM)    # from node to dummy node\n",
        "            else:\n",
        "                tmp.append(distances[cnt1][cnt2])\n",
        "\n",
        "        for cnt2 in range(0, n):\n",
        "            tmp.append(bigM)\n",
        "        distances_converted.append(tmp)\n",
        "\n",
        "    # check that matrix is symmetric\n",
        "    for cnt1 in range(0, 2 * n):\n",
        "        for cnt2 in range(0, 2 * n):\n",
        "            assert (distances_converted[cnt1][cnt2] == distances_converted[cnt2][cnt1])\n",
        "\n",
        "    return distances_converted #return a symmentric distance matrix\n",
        "\n"
      ]
    },
    {
      "cell_type": "code",
      "execution_count": null,
      "metadata": {
        "id": "m7Ke3KiBeHf5"
      },
      "outputs": [],
      "source": [
        "\n",
        "\n",
        "def generate_tsp_file(dist_mat, filename, num_cities):    \n",
        "    # Write the coordinates to a .tsp file\n",
        "    fname = filename.split(\"/\")[-1].split(\".\")[0]\n",
        "    with open(filename, 'w') as f:\n",
        "        f.write(f\"NAME: {fname}\\n\")\n",
        "        # f.write(\"COMMENT: Randomly generated TSP instance\\n\")\n",
        "        f.write(\"TYPE: TSP (M.~Hofmeister)\\n\")\n",
        "        f.write(f\"DIMENSION: {num_cities*2}\\n\") #becase the distance matrix doubles in size when converted to a symmentric instance\n",
        "        f.write(\"EDGE_WEIGHT_TYPE: EXPLICIT\\n\")\n",
        "        f.write(\"EDGE_WEIGHT_FORMAT: FULL_MATRIX\\n\")\n",
        "        # f.write(\"NODE_COORD_SECTION\\n\")\n",
        "        f.write(\"DISPLAY_DATA_TYPE: NO_DISPLAY\\n\")\n",
        "        f.write(\"EDGE_WEIGHT_SECTION\\n\")\n",
        "        for i in range(len(dist_mat)):\n",
        "          for j in range(len(dist_mat)):\n",
        "            f.write(f'{str(dist_mat[i][j])}\\t')\n",
        "          f.write(\"\\n\")\n",
        "        f.write(\"EOF\\n\")"
      ]
    },
    {
      "cell_type": "code",
      "execution_count": null,
      "metadata": {
        "colab": {
          "base_uri": "https://localhost:8080/"
        },
        "id": "xAQ_Q0PHtrjJ",
        "outputId": "cccdac6b-5d7c-435f-9cb6-18881b373c4b"
      },
      "outputs": [
        {
          "name": "stdout",
          "output_type": "stream",
          "text": [
            "/content/drive/MyDrive/analytics/br17.atsp\n",
            "4624\n",
            "No of cities :  34\n",
            "(68, 68)\n"
          ]
        }
      ],
      "source": [
        "distances = create_dist_mat_from_atsp(\"/content/drive/MyDrive/analytics/br17.atsp\")\n",
        "\n",
        "new_dist = make_symmetric(distances)\n",
        "\n",
        "generate_tsp_file(new_dist,\"/content/drive/MyDrive/analytics/br17.tsp\",17)\n"
      ]
    },
    {
      "cell_type": "code",
      "execution_count": null,
      "metadata": {
        "colab": {
          "base_uri": "https://localhost:8080/"
        },
        "id": "nFN8roYBEuU1",
        "outputId": "9bd632d0-47b6-4988-c9c4-85d080a933ac"
      },
      "outputs": [
        {
          "name": "stdout",
          "output_type": "stream",
          "text": [
            "True\n",
            "31000032.0\n",
            "[ 0 17  3 28 27 32 31 33 14 24 23 25 26 18  7 29 22 30 11 19 21 15 20 10\n",
            "  8  5  1  4 13 16 12  9  6  2]\n"
          ]
        }
      ],
      "source": [
        "from concorde.tsp import TSPSolver\n",
        "from concorde.tests.data_utils import get_dataset_path\n",
        "\n",
        "\n",
        "\n",
        "fname = '/content/drive/MyDrive/analytics/br17.tsp'\n",
        "solver = TSPSolver.from_tspfile(fname)\n",
        "solution = solver.solve()\n",
        "\n",
        "print(solution.found_tour)\n",
        "\n",
        "print(solution.optimal_value +17*1000000)\n",
        "\n",
        "print(solution.tour)"
      ]
    },
    {
      "cell_type": "code",
      "execution_count": null,
      "metadata": {
        "colab": {
          "background_save": true,
          "base_uri": "https://localhost:8080/"
        },
        "id": "77fZoBta_b5L",
        "outputId": "379f9adf-e484-4d2d-b87e-eeed7fb7eb2c"
      },
      "outputs": [
        {
          "name": "stdout",
          "output_type": "stream",
          "text": [
            "['/content/drive/MyDrive/analytics/ft53.atsp', '/content/drive/MyDrive/analytics/ft70.atsp', '/content/drive/MyDrive/analytics/p43.atsp', '/content/drive/MyDrive/analytics/ry48p.atsp', '/content/drive/MyDrive/analytics/rbg323.atsp', '/content/drive/MyDrive/analytics/rbg358.atsp', '/content/drive/MyDrive/analytics/rbg403.atsp', '/content/drive/MyDrive/analytics/rbg443.atsp', '/content/drive/MyDrive/analytics/ftv171.atsp', '/content/drive/MyDrive/analytics/ftv34.atsp', '/content/drive/MyDrive/analytics/ftv36.atsp', '/content/drive/MyDrive/analytics/ftv39.atsp', '/content/drive/MyDrive/analytics/ftv45.atsp', '/content/drive/MyDrive/analytics/ftv48.atsp', '/content/drive/MyDrive/analytics/ftv56.atsp', '/content/drive/MyDrive/analytics/ftv65.atsp', '/content/drive/MyDrive/analytics/ftv71.atsp', '/content/drive/MyDrive/analytics/kro100p.atsp', '/content/drive/MyDrive/analytics/br17.atsp']\n",
            "ft53.atsp\n",
            "53\n",
            "/content/drive/MyDrive/analytics/ft53.atsp\n",
            "2809\n",
            "No of cities :  53\n",
            "(53, 53)\n"
          ]
        }
      ],
      "source": [
        "#automation code for checking all the instances\n",
        "import os\n",
        "import glob\n",
        "import re\n",
        "import time\n",
        "\n",
        "base_path = os.chdir('/content/drive/MyDrive/analytics')#use os.getcwd() in windows\n",
        "atsp_files =  glob.glob(\"/content/drive/MyDrive/analytics/*.atsp\", recursive=True)\n",
        "print(atsp_files)\n",
        "for f in atsp_files:\n",
        "  filename = f.split('/')[-1]\n",
        "  print(filename)\n",
        "  nu = re.findall(r'\\d+', filename)\n",
        "  cities = [int(num) for num in nu][0]\n",
        "  \n",
        "  print(cities)\n",
        "  \n",
        "  distances = create_dist_mat_from_atsp(f)\n",
        "\n",
        "  new_dist = make_symmetric(distances)\n",
        "\n",
        "  generate_tsp_file(new_dist,f,cities)\n",
        "\n",
        "  start = time.time()  \n",
        "  solver = TSPSolver.from_tspfile(f)\n",
        "  solution = solver.solve()\n",
        "  end = time.time()\n",
        "\n",
        "  print(solution.found_tour)\n",
        "\n",
        "  print(solution.optimal_value +cities*1000000)\n",
        "\n",
        "  print(solution.tour)\n",
        "\n",
        "  print(\"Total time : \" , end - start , \"secs\\n\\n\")\n",
        "\n"
      ]
    }
  ],
  "metadata": {
    "colab": {
      "provenance": [],
      "include_colab_link": true
    },
    "kernelspec": {
      "display_name": "Python 3",
      "name": "python3"
    },
    "language_info": {
      "name": "python"
    }
  },
  "nbformat": 4,
  "nbformat_minor": 0
}