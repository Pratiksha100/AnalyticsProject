{
  "cells": [
    {
      "cell_type": "markdown",
      "metadata": {
        "id": "view-in-github",
        "colab_type": "text"
      },
      "source": [
        "<a href=\"https://colab.research.google.com/github/Pratiksha100/AnalyticsProject/blob/akshay%2F443308/Concord_solver.ipynb\" target=\"_parent\"><img src=\"https://colab.research.google.com/assets/colab-badge.svg\" alt=\"Open In Colab\"/></a>"
      ]
    },
    {
      "cell_type": "code",
      "execution_count": 1,
      "metadata": {
        "colab": {
          "base_uri": "https://localhost:8080/"
        },
        "id": "14AY60nKgsWr",
        "outputId": "5370111f-5222-4d3d-c6d3-23e68bbf41c6"
      },
      "outputs": [
        {
          "output_type": "stream",
          "name": "stdout",
          "text": [
            "Looking in indexes: https://pypi.org/simple, https://us-python.pkg.dev/colab-wheels/public/simple/\n",
            "Collecting git+https://github.com/jvkersch/pyconcorde\n",
            "  Cloning https://github.com/jvkersch/pyconcorde to /tmp/pip-req-build-ufdfwkrz\n",
            "  Running command git clone --filter=blob:none --quiet https://github.com/jvkersch/pyconcorde /tmp/pip-req-build-ufdfwkrz\n",
            "  Resolved https://github.com/jvkersch/pyconcorde to commit 71232a8043a3ca79a7a6da2f48e9d89d81d37163\n",
            "  Installing build dependencies ... \u001b[?25l\u001b[?25hdone\n",
            "  Getting requirements to build wheel ... \u001b[?25l\u001b[?25hdone\n",
            "  Installing backend dependencies ... \u001b[?25l\u001b[?25hdone\n",
            "  Preparing metadata (pyproject.toml) ... \u001b[?25l\u001b[?25hdone\n",
            "Requirement already satisfied: numpy>=1.10.0 in /usr/local/lib/python3.10/dist-packages (from pyconcorde==0.1.0) (1.22.4)\n",
            "Requirement already satisfied: cython>=0.22.0 in /usr/local/lib/python3.10/dist-packages (from pyconcorde==0.1.0) (0.29.34)\n"
          ]
        }
      ],
      "source": [
        "!pip install git+https://github.com/jvkersch/pyconcorde"
      ]
    },
    {
      "cell_type": "code",
      "execution_count": 2,
      "metadata": {
        "colab": {
          "base_uri": "https://localhost:8080/"
        },
        "id": "Zwa09lBdZn0x",
        "outputId": "59effdbb-85b4-4319-e73e-85e3bd9b00bf"
      },
      "outputs": [
        {
          "output_type": "stream",
          "name": "stdout",
          "text": [
            "Drive already mounted at /content/drive; to attempt to forcibly remount, call drive.mount(\"/content/drive\", force_remount=True).\n"
          ]
        }
      ],
      "source": [
        "from google.colab import drive\n",
        "import numpy as np\n",
        "drive.mount('/content/drive')"
      ]
    },
    {
      "cell_type": "code",
      "execution_count": 3,
      "metadata": {
        "colab": {
          "base_uri": "https://localhost:8080/"
        },
        "id": "D2nIgbekgzZh",
        "outputId": "14c68dd8-687d-4476-8e90-d9f442731cd7"
      },
      "outputs": [
        {
          "output_type": "stream",
          "name": "stdout",
          "text": [
            "True\n",
            "92650.0\n",
            "[0 1 2 ... 5 4 3]\n"
          ]
        }
      ],
      "source": [
        "#Testing the concord solver on a sample file\n",
        "from concorde.tsp import TSPSolver\n",
        "from concorde.tests.data_utils import get_dataset_path\n",
        "\n",
        "fname = '/content/drive/MyDrive/analytics/si1000.tsp'\n",
        "solver = TSPSolver.from_tspfile(fname)\n",
        "solution = solver.solve()\n",
        "\n",
        "print(solution.found_tour)\n",
        "\n",
        "print(solution.optimal_value)\n",
        "\n",
        "print(solution.tour)"
      ]
    },
    {
      "cell_type": "code",
      "execution_count": 4,
      "metadata": {
        "id": "yaJPmWAY5abV"
      },
      "outputs": [],
      "source": [
        "def create_dist_mat_from_atsp(path_of_file):\n",
        "  '''\n",
        "  input : path of the .atsp file\n",
        "  output : returns  a distance matrix \n",
        "  ''' \n",
        "\n",
        "  # specify the path to the .atsp file\n",
        "  file_path = path_of_file\n",
        "  print(\"path of the input atsp file : \",file_path)\n",
        "\n",
        "\n",
        "  # initialize variables\n",
        "  n_nodes = None\n",
        "  dist_matrix = []\n",
        "\n",
        "  # open and read the file\n",
        "  with open(file_path) as f:\n",
        "      for line in f:\n",
        "          # extract the number of nodes\n",
        "          if \"DIMENSION\" in line:\n",
        "              n_nodes = int(line.split(\":\")[1].strip())\n",
        "          # extract the distance matrix\n",
        "          elif \"EDGE_WEIGHT_SECTION\" in line:\n",
        "              while True:\n",
        "                  line = f.readline()\n",
        "                  if \"EOF\" in line:\n",
        "                      break\n",
        "                  dist_matrix.append(list(map(int, line.split())))\n",
        "          # continue reading until end of file\n",
        "          elif \"EOF\" in line:\n",
        "              break\n",
        "\n",
        "\n",
        "  #resizing the distance matrix to a square matrix\n",
        "  list_of_lists = dist_matrix\n",
        "\n",
        "  # return list_of_lists    \n",
        "\n",
        "  flat_list = []\n",
        "  for sublist in list_of_lists:\n",
        "      for item in sublist:\n",
        "          flat_list.append(item)\n",
        "\n",
        "\n",
        "  # return flat_list\n",
        "  # Example 1D list\n",
        "  lst = flat_list\n",
        "  # return lst\n",
        "\n",
        "  # Calculate the size of the square matrix\n",
        "  n = len(lst)\n",
        "  size = int(np.sqrt(n))\n",
        "\n",
        "  # #print the length of the list\n",
        "  # print(n)\n",
        "  # Reshape the 1D list into a 2D numpy array with the desired shape\n",
        "  arr = np.reshape(lst, (size, size))\n",
        "\n",
        "  # Print the resulting array\n",
        "  dist_mat = np.array(arr)\n",
        "\n",
        "  print(\"No of cities : \"  , n_nodes)\n",
        "  print(\"Shape of assymentric matrix : \" ,dist_mat.shape)\n",
        "  return dist_mat #returns the distance matrix as a numpy array\n",
        "\n"
      ]
    },
    {
      "cell_type": "code",
      "execution_count": 5,
      "metadata": {
        "id": "KM07c_yhtXUm"
      },
      "outputs": [],
      "source": [
        "\n",
        "def make_symmetric(distances):\n",
        "  '''\n",
        "  input : input a assymentric distance matrix as a numpy array\n",
        "  output  : returns a symmentric distance matrix\n",
        "  '''\n",
        "  n = len(distances)\n",
        "  distances_converted = []\n",
        "  bigM = 1000000\n",
        "\n",
        "  for cnt1 in range(0, n):\n",
        "      tmp = []\n",
        "      for cnt2 in range(0, n):\n",
        "          tmp.append(bigM)\n",
        "\n",
        "      for cnt2 in range(0, n):\n",
        "          if cnt1 == cnt2:\n",
        "              tmp.append(-bigM)    # from node to dummy node\n",
        "          else:\n",
        "              tmp.append(distances[cnt2][cnt1])\n",
        "\n",
        "      distances_converted.append(tmp)\n",
        "\n",
        "  # lower part of matrix (outgoing edges)\n",
        "  for cnt1 in range(0, n):\n",
        "      tmp = []\n",
        "      for cnt2 in range(0, n):\n",
        "          if cnt1 == cnt2:\n",
        "              tmp.append(-bigM)    # from node to dummy node\n",
        "          else:\n",
        "              tmp.append(distances[cnt1][cnt2])\n",
        "\n",
        "      for cnt2 in range(0, n):\n",
        "          tmp.append(bigM)\n",
        "      distances_converted.append(tmp)\n",
        "\n",
        "  # check that matrix is symmetric\n",
        "  for cnt1 in range(0, 2 * n):\n",
        "      for cnt2 in range(0, 2 * n):\n",
        "          assert (distances_converted[cnt1][cnt2] == distances_converted[cnt2][cnt1])\n",
        "  \n",
        "  print(\"Shape of symentric matrix : \" ,len(distances_converted[0]) , len(distances_converted))\n",
        "\n",
        "  return distances_converted #return a symmentric distance matrix\n",
        "\n"
      ]
    },
    {
      "cell_type": "code",
      "execution_count": 6,
      "metadata": {
        "id": "m7Ke3KiBeHf5"
      },
      "outputs": [],
      "source": [
        "\n",
        "\n",
        "def generate_tsp_file(dist_mat, filename, num_cities):   \n",
        "\n",
        "  '''\n",
        "  input : \n",
        "  a symmentric matrix  \n",
        "  directory of a .tsp file you want to generate\n",
        "  number of cities in the TSP\n",
        "\n",
        "  Output : \n",
        "  a .tsp file generated in the filename directory\n",
        "  '''\n",
        "  # Write the coordinates to a .tsp file\n",
        "  fname = filename.split(\"/\")[-1].split(\".\")[0]\n",
        "  with open(filename, 'w') as f:\n",
        "      f.write(f\"NAME: {fname}\\n\")\n",
        "      # f.write(\"COMMENT: Randomly generated TSP instance\\n\")\n",
        "      f.write(\"TYPE: TSP (M.~Hofmeister)\\n\")\n",
        "      f.write(f\"DIMENSION: {num_cities*2}\\n\") #becase the distance matrix doubles in size when converted to a symmentric instance\n",
        "      f.write(\"EDGE_WEIGHT_TYPE: EXPLICIT\\n\")\n",
        "      f.write(\"EDGE_WEIGHT_FORMAT: FULL_MATRIX\\n\")\n",
        "      # f.write(\"NODE_COORD_SECTION\\n\")\n",
        "      f.write(\"DISPLAY_DATA_TYPE: NO_DISPLAY\\n\")\n",
        "      f.write(\"EDGE_WEIGHT_SECTION\\n\")\n",
        "      for i in range(len(dist_mat)):\n",
        "        for j in range(len(dist_mat)):\n",
        "          f.write(f'{str(dist_mat[i][j])}\\t')\n",
        "        f.write(\"\\n\")\n",
        "      f.write(\"EOF\\n\")"
      ]
    },
    {
      "cell_type": "code",
      "execution_count": 15,
      "metadata": {
        "id": "xAQ_Q0PHtrjJ",
        "colab": {
          "base_uri": "https://localhost:8080/"
        },
        "outputId": "d02edb60-f902-4f7d-eb61-d1d68594e74c"
      },
      "outputs": [
        {
          "output_type": "stream",
          "name": "stdout",
          "text": [
            "path of the input atsp file :  /content/drive/MyDrive/analytics/ft53.atsp\n",
            "No of cities :  53\n",
            "Shape of assymentric matrix :  (53, 53)\n",
            "Shape of symentric matrix :  106 106\n"
          ]
        }
      ],
      "source": [
        "\n",
        "\n",
        "distances = create_dist_mat_from_atsp(\"/content/drive/MyDrive/analytics/ft53.atsp\")\n",
        "\n",
        "new_dist = make_symmetric(distances)\n",
        "\n",
        "generate_tsp_file(new_dist,\"/content/drive/MyDrive/analytics/ft53.tsp\",53)\n",
        "\n",
        "fname = '/content/drive/MyDrive/analytics/ft53.tsp'"
      ]
    },
    {
      "cell_type": "code",
      "execution_count": null,
      "metadata": {
        "id": "nFN8roYBEuU1"
      },
      "outputs": [],
      "source": [
        "from concorde.tsp import TSPSolver\n",
        "from concorde.tests.data_utils import get_dataset_path\n",
        "import time\n",
        "\n",
        "start  = time.time()\n",
        "\n",
        "\n",
        "solver = TSPSolver.from_tspfile(fname)\n",
        "\n",
        "solution = solver.solve()\n",
        "\n",
        "print(solution.found_tour)\n",
        "\n",
        "print(solution.optimal_value +53*1000000)\n",
        "\n",
        "print(solution.tour)\n",
        "end = time.time()"
      ]
    },
    {
      "cell_type": "code",
      "execution_count": null,
      "metadata": {
        "id": "77fZoBta_b5L",
        "colab": {
          "base_uri": "https://localhost:8080/"
        },
        "outputId": "cd4cbeec-6def-4691-9ebb-1dda698f9ba5"
      },
      "outputs": [
        {
          "output_type": "stream",
          "name": "stdout",
          "text": [
            "File name :  br17.atsp\n",
            "Num of cities :  17\n",
            "path of the input atsp file :  /content/drive/MyDrive/analytics/br17.atsp\n",
            "No of cities :  17\n",
            "Shape of assymentric matrix :  (17, 17)\n",
            "Shape of symentric matrix :  34 34\n",
            "value of solution tour :  39.0\n",
            "Total time :  0.169 secs\n",
            "\n",
            "File name :  rbg403.atsp\n",
            "Num of cities :  403\n",
            "path of the input atsp file :  /content/drive/MyDrive/analytics/rbg403.atsp\n",
            "No of cities :  403\n",
            "Shape of assymentric matrix :  (403, 403)\n",
            "Shape of symentric matrix :  806 806\n"
          ]
        }
      ],
      "source": [
        "#automation code for checking all the instances\n",
        "import os\n",
        "import glob\n",
        "import re\n",
        "import time\n",
        "\n",
        "base_path = os.chdir('/content/drive/MyDrive/analytics')#use os.getcwd() in windows\n",
        "atsp_files =  glob.glob(\"/content/drive/MyDrive/analytics/*.atsp\", recursive=True)\n",
        "\n",
        "for f in atsp_files:\n",
        "  \n",
        "  # print(\"Current file : \",f)\n",
        "  filename = f.split('/')[-1]\n",
        "  print(\"File name : \",filename)\n",
        "  nu = re.findall(r'\\d+', filename)\n",
        "  cities = [int(num) for num in nu][0]\n",
        "  \n",
        "  print(\"Num of cities : \",cities)\n",
        "  \n",
        "  start = time.time() \n",
        "  distances = create_dist_mat_from_atsp(f)\n",
        "\n",
        "  new_dist = make_symmetric(distances)\n",
        "\n",
        "  tsp_dir = f[:-5] + '.tsp'\n",
        "\n",
        "  # print(\"New tsp  dir : \",tsp_dir)\n",
        "\n",
        "  generate_tsp_file(new_dist,tsp_dir,cities)\n",
        "\n",
        "   \n",
        "  solver = TSPSolver.from_tspfile(tsp_dir)\n",
        "  solution = solver.solve()\n",
        "  end = time.time()\n",
        "\n",
        "  # print(\"Solution tour found : \",solution.found_tour)\n",
        "\n",
        "  print(\"value of solution tour : \",solution.optimal_value +cities*1000000)\n",
        "\n",
        "  # print(\"Tour sequence : \",solution.tour)\n",
        "\n",
        "  print(\"Total time : \" , round(end - start , 3) , \"secs\\n\")\n",
        "\n"
      ]
    }
  ],
  "metadata": {
    "colab": {
      "provenance": [],
      "include_colab_link": true
    },
    "kernelspec": {
      "display_name": "Python 3",
      "name": "python3"
    },
    "language_info": {
      "name": "python"
    }
  },
  "nbformat": 4,
  "nbformat_minor": 0
}