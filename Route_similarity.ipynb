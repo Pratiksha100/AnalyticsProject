{
  "cells": [
    {
      "cell_type": "code",
      "execution_count": 115,
      "metadata": {
        "id": "sqZXLZuDlXni"
      },
      "outputs": [],
      "source": [
        "route_1 = [1, 2, 3, 4, 5]\n",
        "route_2 = [1, 3, 4, 2, 5]\n",
        "route_3 = [1, 3, 4, 5, 2]"
      ]
    },
    {
      "cell_type": "code",
      "execution_count": 72,
      "metadata": {
        "colab": {
          "base_uri": "https://localhost:8080/"
        },
        "id": "bh8gwTsMm1_q",
        "outputId": "adff5332-b76f-4a4e-a27a-2ae462c0e2f8"
      },
      "outputs": [
        {
          "name": "stdout",
          "output_type": "stream",
          "text": [
            "[]\n"
          ]
        }
      ],
      "source": [
        "def successor(route, e=-1):\n",
        "  successor = route[1:]\n",
        "  # successor.append(route[1])\n",
        "  if e != -1:\n",
        "    return successor[e-1:]\n",
        "  else:\n",
        "    successor\n",
        "\n",
        "def predecessor(route, e=-1):\n",
        "  predecessor = route[0:-1]\n",
        "  # predecessor = [route[-2]] + predecessor\n",
        "  if e != -1:\n",
        "    return predecessor[e-1:]\n",
        "  else:\n",
        "    predecessor\n",
        "\n",
        "print(successor(route_1, 5))"
      ]
    },
    {
      "cell_type": "code",
      "execution_count": 119,
      "metadata": {
        "colab": {
          "base_uri": "https://localhost:8080/"
        },
        "id": "m-MrtrYSl01j",
        "outputId": "408e110e-988c-4416-c4e6-708b200f85e1"
      },
      "outputs": [
        {
          "name": "stdout",
          "output_type": "stream",
          "text": [
            "i =  1 successors of i =  [2, 3, 4, 5]\n",
            "True\n",
            "True\n",
            "True\n",
            "True\n",
            "i =  2 successors of i =  [3, 4, 5]\n",
            "False\n",
            "False\n",
            "False\n",
            "i =  3 successors of i =  [4, 5]\n",
            "True\n",
            "True\n",
            "i =  4 successors of i =  [5]\n",
            "True\n",
            "i =  5 successors of i =  []\n",
            "-2.0000000000000004\n"
          ]
        }
      ],
      "source": [
        "def similarity(r1, r2):\n",
        "  similarity = 0\n",
        "\n",
        "  for i in r1:\n",
        "    print(\"i = \", i, \"successors of i = \", successor(r1, i))\n",
        "    for j in successor(r1, i):\n",
        "      count = 0\n",
        "      print(r2.index(i) < r2.index(j))\n",
        "      if r2.index(i) < r2.index(j):\n",
        "        count = count + 1\n",
        "      else:\n",
        "        count = count - 1\n",
        "        pass\n",
        "\n",
        "      for j in successor(r1, i):\n",
        "        if r2.index(i) > r2.index(j):\n",
        "          count = count + 1\n",
        "        else:\n",
        "          # count = count - 1\n",
        "          pass\n",
        "      \n",
        "      similarity = similarity + count/len(successor(r1, i))\n",
        "\n",
        "  return similarity\n",
        "\n",
        "print(similarity(route_1, route_3))"
      ]
    }
  ],
  "metadata": {
    "colab": {
      "provenance": []
    },
    "kernelspec": {
      "display_name": "Python 3",
      "name": "python3"
    },
    "language_info": {
      "name": "python"
    }
  },
  "nbformat": 4,
  "nbformat_minor": 0
}
