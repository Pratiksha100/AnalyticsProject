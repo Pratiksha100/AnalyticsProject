{
 "cells": [
  {
   "attachments": {},
   "cell_type": "markdown",
   "metadata": {},
   "source": [
    "# Levenshtein Distance"
   ]
  },
  {
   "cell_type": "code",
   "execution_count": 1,
   "metadata": {},
   "outputs": [
    {
     "name": "stdout",
     "output_type": "stream",
     "text": [
      "Similarity: 40.0%\n"
     ]
    }
   ],
   "source": [
    "def levenshtein_distance(tour1, tour2):\n",
    "    m = len(tour1)\n",
    "    n = len(tour2)\n",
    "\n",
    "    # Create a matrix with dimensions (m+1) x (n+1)\n",
    "    dp = [[0] * (n + 1) for _ in range(m + 1)]\n",
    "\n",
    "    # Initialize the matrix boundaries\n",
    "    for i in range(m + 1):\n",
    "        dp[i][0] = i\n",
    "    for j in range(n + 1):\n",
    "        dp[0][j] = j\n",
    "\n",
    "    # Calculate the edit distance\n",
    "    for i in range(1, m + 1):\n",
    "        for j in range(1, n + 1):\n",
    "            if tour1[i - 1] == tour2[j - 1]:\n",
    "                substitution_cost = 0\n",
    "            else:\n",
    "                substitution_cost = 1\n",
    "            dp[i][j] = min(\n",
    "                dp[i - 1][j] + 1,  # Deletion\n",
    "                dp[i][j - 1] + 1,  # Insertion\n",
    "                dp[i - 1][j - 1] + substitution_cost  # Substitution\n",
    "            )\n",
    "\n",
    "    # the Levenshtein distance\n",
    "    distance = dp[m][n]\n",
    "    similarity = (1 - (distance / max(len(tour1), len(tour2))))*100\n",
    "    return similarity\n",
    "\n",
    "# Examples\n",
    "tour1 = [1, 2, 3, 4, 5, 7, 8, 9, 10, 11]\n",
    "tour2 = [1, 2, 3, 8, 4, 5]\n",
    "tour4 = [5, 3, 4, 2]\n",
    "tour3 = [1, 3, 4, 5, 2]\n",
    "\n",
    "print(f\"Similarity: {levenshtein_distance(tour1, tour2)}%\")"
   ]
  },
  {
   "cell_type": "code",
   "execution_count": null,
   "metadata": {},
   "outputs": [],
   "source": []
  }
 ],
 "metadata": {
  "kernelspec": {
   "display_name": "rwth_ml",
   "language": "python",
   "name": "python3"
  },
  "language_info": {
   "codemirror_mode": {
    "name": "ipython",
    "version": 3
   },
   "file_extension": ".py",
   "mimetype": "text/x-python",
   "name": "python",
   "nbconvert_exporter": "python",
   "pygments_lexer": "ipython3",
   "version": "3.6.9"
  },
  "orig_nbformat": 4
 },
 "nbformat": 4,
 "nbformat_minor": 2
}
