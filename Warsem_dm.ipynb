{
 "cells": [
  {
   "cell_type": "code",
   "execution_count": 33,
   "metadata": {},
   "outputs": [],
   "source": [
    "import pandas as pd\n",
    "import numpy as np"
   ]
  },
  {
   "cell_type": "code",
   "execution_count": 34,
   "metadata": {},
   "outputs": [
    {
     "name": "stdout",
     "output_type": "stream",
     "text": [
      "   PostPoint1  PostPoint2     dist\n",
      "0         698         698     0.00\n",
      "1         698         699  5038.87\n",
      "2         698         700   867.73\n",
      "3         698         701   882.26\n",
      "4         698         696    53.95\n",
      "row_num:  182329\n"
     ]
    }
   ],
   "source": [
    "#Import raw data and create dataframe for distances\n",
    "colnames = ['PostPoint1','PostPoint2','dist']\n",
    "df_dist = pd.read_csv('C:/Users/julli/OneDrive/Documentos/Deutshland/RWTH Aachen University/DDS Course/Summer Semester 23/Analytics Project/Deutsche Post/DP Data/Data/Instances/Warmsen/distances/distances_31600-01.dat'\n",
    "                    , sep=',', names = colnames)\n",
    "\n",
    "print(df_dist.head())\n",
    "print('row_num: ',len(df_dist))"
   ]
  },
  {
   "cell_type": "code",
   "execution_count": 35,
   "metadata": {},
   "outputs": [
    {
     "name": "stdout",
     "output_type": "stream",
     "text": [
      "num of unique PP1:  427\n",
      "num of unique PP2:  427\n"
     ]
    }
   ],
   "source": [
    "print('num of unique PP1: ', df_dist['PostPoint1'].nunique())\n",
    "print('num of unique PP2: ', df_dist['PostPoint1'].nunique())\n",
    "\n"
   ]
  },
  {
   "cell_type": "code",
   "execution_count": 36,
   "metadata": {},
   "outputs": [
    {
     "data": {
      "text/plain": [
       "1017482150.0"
      ]
     },
     "execution_count": 36,
     "metadata": {},
     "output_type": "execute_result"
    }
   ],
   "source": [
    "#Creating BIG_M value if needed for non existing pair distances\n",
    "M = np.round(df_dist['dist'].sum())\n",
    "M"
   ]
  },
  {
   "cell_type": "code",
   "execution_count": 55,
   "metadata": {},
   "outputs": [
    {
     "data": {
      "text/plain": [
       "array([  0, 325, 326, 327, 328, 329, 330, 331, 332, 333, 334, 335, 336,\n",
       "       337, 338, 339, 340, 341, 342, 343, 344, 345, 346, 347, 348, 349,\n",
       "       350, 351, 352, 353, 354, 355, 356, 357, 358, 359, 360, 361, 362,\n",
       "       363, 364, 365, 366, 367, 368, 369, 370, 371, 372, 373, 374, 375,\n",
       "       376, 377, 378, 379, 380, 381, 382, 383, 384, 385, 386, 387, 388,\n",
       "       389, 390, 391, 392, 393, 394, 395, 396, 397, 398, 399, 400, 401,\n",
       "       402, 403, 404, 405, 406, 407, 408, 409, 410, 411, 412, 413, 414,\n",
       "       415, 416, 417, 418, 419, 420, 421, 422, 423, 424, 425, 426, 427,\n",
       "       428, 429, 430, 431, 432, 433, 434, 435, 436, 437, 438, 439, 440,\n",
       "       441, 442, 443, 444, 445, 446, 447, 448, 449, 450, 451, 452, 453,\n",
       "       454, 455, 456, 457, 458, 459, 460, 461, 462, 463, 464, 465, 466,\n",
       "       467, 468, 469, 470, 471, 472, 473, 474, 475, 476, 477, 478, 479,\n",
       "       480, 481, 482, 483, 484, 485, 486, 487, 488, 489, 490, 491, 492,\n",
       "       493, 494, 495, 496, 497, 498, 499, 500, 501, 502, 503, 504, 505,\n",
       "       506, 507, 508, 509, 510, 511, 512, 513, 514, 515, 516, 517, 518,\n",
       "       519, 520, 521, 522, 523, 524, 525, 526, 527, 528, 529, 530, 531,\n",
       "       532, 533, 534, 535, 536, 537, 538, 539, 540, 541, 542, 543, 544,\n",
       "       545, 546, 547, 548, 549, 550, 551, 552, 553, 554, 555, 556, 557,\n",
       "       558, 559, 560, 561, 562, 563, 564, 565, 566, 567, 568, 569, 570,\n",
       "       571, 572, 573, 574, 575, 576, 577, 578, 579, 580, 581, 582, 583,\n",
       "       584, 585, 586, 587, 588, 589, 590, 591, 592, 593, 594, 595, 596,\n",
       "       597, 598, 599, 600, 601, 602, 603, 604, 605, 606, 607, 608, 609,\n",
       "       610, 611, 612, 613, 614, 615, 616, 617, 618, 619, 620, 621, 622,\n",
       "       623, 624, 625, 626, 627, 628, 629, 630, 631, 632, 633, 634, 635,\n",
       "       636, 637, 638, 639, 640, 641, 642, 643, 644, 645, 646, 647, 648,\n",
       "       649, 650, 651, 652, 653, 654, 655, 656, 657, 658, 659, 660, 661,\n",
       "       662, 663, 664, 665, 666, 667, 668, 669, 670, 671, 672, 673, 674,\n",
       "       675, 676, 677, 678, 679, 680, 681, 682, 683, 684, 685, 686, 687,\n",
       "       688, 689, 690, 691, 692, 693, 694, 695, 696, 697, 698, 699, 700,\n",
       "       701, 702, 703, 704, 705, 706, 707, 708, 709, 710, 711, 712, 713,\n",
       "       714, 715, 716, 717, 718, 719, 720, 721, 722, 723, 724, 725, 726,\n",
       "       727, 728, 729, 730, 731, 732, 733, 734, 735, 736, 737, 738, 739,\n",
       "       740, 741, 742, 743, 744, 745, 746, 747, 748, 749, 750], dtype=int64)"
      ]
     },
     "execution_count": 55,
     "metadata": {},
     "output_type": "execute_result"
    }
   ],
   "source": [
    "#Check if there are missing PostPoint combinations \n",
    "\n",
    "District_PP = df_dist.PostPoint1.unique()\n",
    "np.ndarray.sort(District_PP)\n",
    "\n",
    "District_PP\n",
    "\n"
   ]
  },
  {
   "cell_type": "code",
   "execution_count": 63,
   "metadata": {},
   "outputs": [
    {
     "data": {
      "text/html": [
       "<div>\n",
       "<style scoped>\n",
       "    .dataframe tbody tr th:only-of-type {\n",
       "        vertical-align: middle;\n",
       "    }\n",
       "\n",
       "    .dataframe tbody tr th {\n",
       "        vertical-align: top;\n",
       "    }\n",
       "\n",
       "    .dataframe thead th {\n",
       "        text-align: right;\n",
       "    }\n",
       "</style>\n",
       "<table border=\"1\" class=\"dataframe\">\n",
       "  <thead>\n",
       "    <tr style=\"text-align: right;\">\n",
       "      <th></th>\n",
       "      <th>PostPoint2</th>\n",
       "      <th>dist</th>\n",
       "    </tr>\n",
       "    <tr>\n",
       "      <th>PostPoint1</th>\n",
       "      <th></th>\n",
       "      <th></th>\n",
       "    </tr>\n",
       "  </thead>\n",
       "  <tbody>\n",
       "    <tr>\n",
       "      <th>0</th>\n",
       "      <td>427</td>\n",
       "      <td>427</td>\n",
       "    </tr>\n",
       "    <tr>\n",
       "      <th>325</th>\n",
       "      <td>427</td>\n",
       "      <td>427</td>\n",
       "    </tr>\n",
       "    <tr>\n",
       "      <th>326</th>\n",
       "      <td>427</td>\n",
       "      <td>427</td>\n",
       "    </tr>\n",
       "    <tr>\n",
       "      <th>327</th>\n",
       "      <td>427</td>\n",
       "      <td>427</td>\n",
       "    </tr>\n",
       "    <tr>\n",
       "      <th>328</th>\n",
       "      <td>427</td>\n",
       "      <td>427</td>\n",
       "    </tr>\n",
       "    <tr>\n",
       "      <th>...</th>\n",
       "      <td>...</td>\n",
       "      <td>...</td>\n",
       "    </tr>\n",
       "    <tr>\n",
       "      <th>746</th>\n",
       "      <td>427</td>\n",
       "      <td>427</td>\n",
       "    </tr>\n",
       "    <tr>\n",
       "      <th>747</th>\n",
       "      <td>427</td>\n",
       "      <td>427</td>\n",
       "    </tr>\n",
       "    <tr>\n",
       "      <th>748</th>\n",
       "      <td>427</td>\n",
       "      <td>427</td>\n",
       "    </tr>\n",
       "    <tr>\n",
       "      <th>749</th>\n",
       "      <td>427</td>\n",
       "      <td>427</td>\n",
       "    </tr>\n",
       "    <tr>\n",
       "      <th>750</th>\n",
       "      <td>427</td>\n",
       "      <td>427</td>\n",
       "    </tr>\n",
       "  </tbody>\n",
       "</table>\n",
       "<p>427 rows × 2 columns</p>\n",
       "</div>"
      ],
      "text/plain": [
       "            PostPoint2  dist\n",
       "PostPoint1                  \n",
       "0                  427   427\n",
       "325                427   427\n",
       "326                427   427\n",
       "327                427   427\n",
       "328                427   427\n",
       "...                ...   ...\n",
       "746                427   427\n",
       "747                427   427\n",
       "748                427   427\n",
       "749                427   427\n",
       "750                427   427\n",
       "\n",
       "[427 rows x 2 columns]"
      ]
     },
     "execution_count": 63,
     "metadata": {},
     "output_type": "execute_result"
    }
   ],
   "source": [
    "#def check_all_pairs(table):\n",
    "    #table.groupby('PostPoint1').count()\n",
    "\n",
    "x = df_dist.groupby('PostPoint1').count()\n",
    "x"
   ]
  },
  {
   "cell_type": "code",
   "execution_count": 71,
   "metadata": {},
   "outputs": [
    {
     "name": "stdout",
     "output_type": "stream",
     "text": [
      "PostPoint2      0        325      326      327      328      329      330  \\\n",
      "PostPoint1                                                                  \n",
      "0              0.00  4839.06  8242.40  8268.54  4830.32  1823.78  1876.20   \n",
      "325         4832.99     0.00  5654.72  5680.86     8.74  5677.86  5730.28   \n",
      "326         8259.38  5622.04     0.00    26.14  5613.30  6959.68  7012.10   \n",
      "327         8285.52  5648.18    26.14     0.00  5639.44  6985.82  7038.24   \n",
      "328         4824.25     8.74  5645.98  5672.12     0.00  5669.12  5721.54   \n",
      "...             ...      ...      ...      ...      ...      ...      ...   \n",
      "746         7128.05  3894.89  5410.12  5436.26  3886.15  7728.85  7781.27   \n",
      "747         7121.25  3888.09  5410.94  5437.08  3879.35  7722.05  7774.47   \n",
      "748         7139.14  3905.98  5428.83  5454.97  3897.24  7739.94  7792.36   \n",
      "749         7175.77  3942.61  5465.46  5491.60  3933.87  7776.57  7828.99   \n",
      "750         7181.41  3948.25  5471.10  5497.24  3939.51  7782.21  7834.63   \n",
      "\n",
      "PostPoint2      331      332      333  ...      741      742      743  \\\n",
      "PostPoint1                             ...                              \n",
      "0           4848.11  4863.24  4874.20  ...  6805.72  6852.34  7121.32   \n",
      "325            9.05    24.18    35.14  ...  3632.41  3679.03  3905.95   \n",
      "326         5631.09  5646.22  5657.18  ...  5279.49  5326.11  5414.42   \n",
      "327         5657.23  5672.36  5683.32  ...  5305.63  5352.25  5440.56   \n",
      "328           17.79    32.92    43.88  ...  3623.67  3670.29  3897.21   \n",
      "...             ...      ...      ...  ...      ...      ...      ...   \n",
      "746         3903.94  3919.07  3930.03  ...   358.69   405.31    10.28   \n",
      "747         3897.14  3912.27  3923.23  ...   357.93   404.55     3.48   \n",
      "748         3915.03  3930.16  3941.12  ...   375.82   422.44    21.37   \n",
      "749         3951.66  3966.79  3977.75  ...   412.45   459.07    58.00   \n",
      "750         3957.30  3972.43  3983.39  ...   418.09   464.71    63.64   \n",
      "\n",
      "PostPoint2      744      745      746      747      748      749      750  \n",
      "PostPoint1                                                                 \n",
      "0           7132.45  7123.06  7131.60  7124.80  7142.69  7179.32  7184.96  \n",
      "325         3917.10  3907.69  3916.23  3909.43  3927.32  3963.95  3969.59  \n",
      "326         5405.76  5412.68  5410.12  5410.94  5428.83  5465.46  5471.10  \n",
      "327         5431.90  5438.82  5436.26  5437.08  5454.97  5491.60  5497.24  \n",
      "328         3908.36  3898.95  3907.49  3900.69  3918.58  3955.21  3960.85  \n",
      "...             ...      ...      ...      ...      ...      ...      ...  \n",
      "746            4.36     8.54     0.00    10.28    28.17    64.80    70.44  \n",
      "747           14.63     1.74    10.28     0.00    17.89    54.52    60.16  \n",
      "748           32.52    19.63    28.17    17.89     0.00    36.63    42.27  \n",
      "749           69.15    56.26    64.80    54.52    36.63     0.00     5.64  \n",
      "750           74.79    61.90    70.44    60.16    42.27     5.64     0.00  \n",
      "\n",
      "[427 rows x 427 columns]\n",
      "[[0.00000e+00 4.83906e+03 8.24240e+03 ... 7.14269e+03 7.17932e+03\n",
      "  7.18496e+03]\n",
      " [4.83299e+03 0.00000e+00 5.65472e+03 ... 3.92732e+03 3.96395e+03\n",
      "  3.96959e+03]\n",
      " [8.25938e+03 5.62204e+03 0.00000e+00 ... 5.42883e+03 5.46546e+03\n",
      "  5.47110e+03]\n",
      " ...\n",
      " [7.13914e+03 3.90598e+03 5.42883e+03 ... 0.00000e+00 3.66300e+01\n",
      "  4.22700e+01]\n",
      " [7.17577e+03 3.94261e+03 5.46546e+03 ... 3.66300e+01 0.00000e+00\n",
      "  5.64000e+00]\n",
      " [7.18141e+03 3.94825e+03 5.47110e+03 ... 4.22700e+01 5.64000e+00\n",
      "  0.00000e+00]]\n",
      "(427, 427)\n"
     ]
    }
   ],
   "source": [
    "# pivot dataframe to create distance matrix\n",
    "distance_matrix = df_dist.pivot(index='PostPoint1', columns='PostPoint2', values='dist')\n",
    "\n",
    "print(distance_matrix)\n",
    " \n",
    "\n",
    "# convert distance matrix to numpy array\n",
    "distance_matrix_array = distance_matrix.to_numpy()\n",
    "\n",
    "print(distance_matrix_array)\n",
    "print(distance_matrix_array.shape)\n"
   ]
  },
  {
   "cell_type": "code",
   "execution_count": 68,
   "metadata": {},
   "outputs": [
    {
     "data": {
      "text/plain": [
       "True"
      ]
     },
     "execution_count": 68,
     "metadata": {},
     "output_type": "execute_result"
    }
   ],
   "source": [
    "Prom_Matrix = np.load('C:/Users/julli/OneDrive/Escritorio/Random Folder/DummyWarsen01.npy')\n",
    "\n",
    "np.array_equal(distance_matrix_array, Prom_Matrix, equal_nan=False)"
   ]
  }
 ],
 "metadata": {
  "kernelspec": {
   "display_name": "base",
   "language": "python",
   "name": "python3"
  },
  "language_info": {
   "codemirror_mode": {
    "name": "ipython",
    "version": 3
   },
   "file_extension": ".py",
   "mimetype": "text/x-python",
   "name": "python",
   "nbconvert_exporter": "python",
   "pygments_lexer": "ipython3",
   "version": "3.9.12"
  },
  "orig_nbformat": 4
 },
 "nbformat": 4,
 "nbformat_minor": 2
}
